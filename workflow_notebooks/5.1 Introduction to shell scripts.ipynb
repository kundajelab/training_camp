{
 "cells": [
  {
   "cell_type": "markdown",
   "metadata": {
    "collapsed": true
   },
   "source": [
    "# 4.0 Introduction to shell scripts#"
   ]
  },
  {
   "cell_type": "markdown",
   "metadata": {},
   "source": [
    "### IMPORTANT: Please make sure you are using the bash kernel to run this notebook ###"
   ]
  },
  {
   "cell_type": "markdown",
   "metadata": {},
   "source": [
    "Running commands one at a time on the terminal in bash isn't particularly efficient (or reproducible). Shell scripts enable you to place multiple commands in a single executable file, leading to greater ease of programming and research reproducibility. \n",
    " \n",
    "For example, we create a shell script called myFirstShellScript.sh with the following contents:"
   ]
  },
  {
   "cell_type": "code",
   "execution_count": null,
   "metadata": {},
   "outputs": [],
   "source": [
    "#you can ignore this  line -- it checks to see if the file exists, and remove it if it does. So we don't end up writing the same information to the file multiple times. \n",
    "if [ -f myFirstShellScript.sh ] ; then rm myFirstShellScript.sh; fi\n",
    "\n",
    "touch myFirstShellScript.sh \n",
    "echo '#!/bin/sh'>> myFirstShellScript.sh\n",
    "echo '#this line is a comment; it is ignored during execution' >> myFirstShellScript.sh\n",
    "echo '#you can put any commands that you would normally type into the command line in here.' >>myFirstShellScript.sh\n",
    "echo '#for example, this shell script just creates a file' >> myFirstShellScript.sh\n",
    "echo 'touch thisFileCreatedFromShellScript.txt' >> myFirstShellScript.sh"
   ]
  },
  {
   "cell_type": "code",
   "execution_count": null,
   "metadata": {},
   "outputs": [],
   "source": [
    "cat myFirstShellScript.sh"
   ]
  },
  {
   "cell_type": "markdown",
   "metadata": {},
   "source": [
    "The **#!/bin/sh** at the beginning tells the operating system what software to use to interpret the script (in this case, it uses the program located at **/bin/sh**). Don't worry if you don't understand; just make sure your scripts begin with it.\n",
    "\n",
    "Once you have created the script, make it executable:"
   ]
  },
  {
   "cell_type": "code",
   "execution_count": null,
   "metadata": {},
   "outputs": [],
   "source": [
    "./myFirstShellScript.sh"
   ]
  },
  {
   "cell_type": "code",
   "execution_count": null,
   "metadata": {},
   "outputs": [],
   "source": [
    "#this command makes the script executable \n",
    "chmod a+x myFirstShellScript.sh"
   ]
  },
  {
   "cell_type": "markdown",
   "metadata": {},
   "source": [
    "Then, run it:"
   ]
  },
  {
   "cell_type": "code",
   "execution_count": null,
   "metadata": {},
   "outputs": [],
   "source": [
    "#this command runs the shell script\n",
    "./myFirstShellScript.sh"
   ]
  },
  {
   "cell_type": "code",
   "execution_count": null,
   "metadata": {},
   "outputs": [],
   "source": [
    "#the ls command indicates that \"thisFileCreatedFromShellScript.txt\" was created \n",
    "ls"
   ]
  },
  {
   "cell_type": "markdown",
   "metadata": {},
   "source": [
    "Shell scripts can also accept arguments (a fancy word for extra commands/options that you pass to the shell script), similar to any Unix command. `$1` `$2` `$3` ... refer to the first, second, third etc. arguments passed into the shell script. Create another shell script called myFirstShellScriptWithArguments.sh with the following contents:"
   ]
  },
  {
   "cell_type": "code",
   "execution_count": null,
   "metadata": {},
   "outputs": [],
   "source": [
    "#you can ignore this  line -- it checks to see if the file exists, and remove it if it does. So we don't end up writing the same information to the file multiple times. \n",
    "if [ -f myFirstShellScriptWithArguments.sh ] ; then rm myFirstShellScriptWithArguments.sh; fi\n",
    "\n",
    "touch myFirstShellScriptWithArguments.sh\n",
    "echo #!/bin/sh >> myFirstShellScriptWithArguments.sh\n",
    "echo touch \"$\"1 >> myFirstShellScriptWithArguments.sh\n",
    "echo mkdir \"$\"2 >> myFirstShellScriptWithArguments.sh"
   ]
  },
  {
   "cell_type": "markdown",
   "metadata": {},
   "source": [
    "Once again, make the shell script executable: "
   ]
  },
  {
   "cell_type": "code",
   "execution_count": null,
   "metadata": {},
   "outputs": [],
   "source": [
    "chmod a+x myFirstShellScriptWithArguments.sh"
   ]
  },
  {
   "cell_type": "markdown",
   "metadata": {},
   "source": [
    "Now run the following:"
   ]
  },
  {
   "cell_type": "code",
   "execution_count": null,
   "metadata": {},
   "outputs": [],
   "source": [
    "./myFirstShellScriptWithArguments.sh customFileName.txt customDirectoryName\n",
    "ls"
   ]
  },
  {
   "cell_type": "markdown",
   "metadata": {},
   "source": [
    "This was just an example, but hopefully you can see the potential power of using scripts like these to launch complicated bioinformatics processing jobs."
   ]
  },
  {
   "cell_type": "markdown",
   "metadata": {},
   "source": [
    "### The .bashrc"
   ]
  },
  {
   "cell_type": "markdown",
   "metadata": {},
   "source": [
    "Wouldn't it be nice to have everything ready to run when you log into the cluster?\n",
    "To avoid having to run module load commands every time you log in, you can add these commands to a `.bashrc` file, which is a shell script located in your home directory. The `.bashrc` file contains a set of commands that get executed every time you log into the server. In this way, every time you log in, you will be all set to run all code you wish.\n",
    "\n",
    "Note: Technically, the `~/.bashrc` file is not what's executed on login; it's `~/.bash_profile`, which in turn calls `~/.bashrc`. If your .bash_profile does not call `.bashrc`, put the line `source ~/.bashrc` in your `.bash_profile`. The difference between the two files is explained here: http://www.joshstaiger.org/archives/2005/07/bash_profile_vs.html\n",
    "\n",
    "\n",
    "Your `.bashrc` is a hidden file (shown by the `.` at the beginning of its name), so it won't show up if we use `ls` to look at our home directory contents unless we add the flag `-a`."
   ]
  },
  {
   "cell_type": "code",
   "execution_count": null,
   "metadata": {
    "scrolled": true
   },
   "outputs": [],
   "source": [
    "ls  # no .bashrc "
   ]
  },
  {
   "cell_type": "code",
   "execution_count": null,
   "metadata": {
    "scrolled": true
   },
   "outputs": [],
   "source": [
    "ls -a"
   ]
  },
  {
   "cell_type": "markdown",
   "metadata": {},
   "source": [
    "Your `~/.bashrc` script is automatically run each time you log in (ssh) to a machine from your terminal on a cluster like Sherlock. Because of this, it can be helpful to add commands to your `.bashrc` that are the kinds of things you want run by default every time you work on the cluster.\n",
    "\n",
    "As an example, your `.bashrc` is already set up in a way that is ideal for the training camp project:"
   ]
  },
  {
   "cell_type": "code",
   "execution_count": 3,
   "metadata": {},
   "outputs": [
    {
     "name": "stdout",
     "output_type": "stream",
     "text": [
      "module load bedtools/2.26.0\n",
      "#shortcuts_defined:\n",
      "export SUNETID=\"$(whoami)\"\n",
      "export WORK_DIR=\"/scratch/${SUNETID}\"\n",
      "export DATA_DIR=\"${WORK_DIR}/data\"\n",
      "[[ ! -d ${WORK_DIR}/data ]] && mkdir \"${WORK_DIR}/data\"\n",
      "export SRC_DIR=\"${WORK_DIR}/src\"\n",
      "[[ ! -d ${WORK_DIR}/src ]] && mkdir -p \"${WORK_DIR}/src\"\n",
      "export METADATA_DIR=\"/metadata\"\n",
      "export AGGREGATE_DATA_DIR=\"/data\"\n",
      "export AGGREGATE_ANALYSIS_DIR=\"/outputs\"\n",
      "export YEAST_DIR=\"/saccer3\"\n",
      "export TMP=\"${WORK_DIR}/tmp\"\n",
      "export TEMP=$TMP\n",
      "export TMPDIR=$TMP\n",
      "[[ ! -d ${TMP} ]] && mkdir -p \"${TMP}\"\n"
     ]
    }
   ],
   "source": [
    "cat ~/.bashrc"
   ]
  },
  {
   "cell_type": "markdown",
   "metadata": {},
   "source": [
    "You can see that the script contains a command to load the bedtools software, which we use often throughout this project, plus export commands for the variables that we commonly used and commands that create directories we needed to work in. On the terminal, you would need to enter all these commands every time you logged in to a cluster. In jupyter, you needed to run these commands at the top of every notebook. Instead, using a `.bashrc` to keep these common commands in one (runnable) place can make your life easier!"
   ]
  },
  {
   "cell_type": "code",
   "execution_count": null,
   "metadata": {},
   "outputs": [],
   "source": []
  }
 ],
 "metadata": {
  "kernelspec": {
   "display_name": "Bash",
   "language": "bash",
   "name": "bash"
  },
  "language_info": {
   "codemirror_mode": "shell",
   "file_extension": ".sh",
   "mimetype": "text/x-sh",
   "name": "bash"
  }
 },
 "nbformat": 4,
 "nbformat_minor": 1
}
