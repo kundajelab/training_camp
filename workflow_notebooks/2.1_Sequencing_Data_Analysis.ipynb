{
 "cells": [
  {
   "cell_type": "markdown",
   "metadata": {},
   "source": [
    "# Sequencing data analysis\n",
    "\n",
    "### IMPORTANT: Please make sure that your are using the bash kernel to run this notebook.\n",
    "#### (Do this at the beginning of every session) ###"
   ]
  },
  {
   "cell_type": "markdown",
   "metadata": {},
   "source": [
    "### This notebook covers analysis of DNA sequencing data from raw files to processed signals.\n",
    "\n",
    "Although this analysis is for ATAC-seq data, many of the steps (especially the first section) are the same for other types of DNA sequencing experiments.\n",
    "\n",
    "We'll be doing the analysis in Bash, which is the standard language for UNIX command-line scripting."
   ]
  },
  {
   "cell_type": "markdown",
   "metadata": {},
   "source": [
    "The steps in the analysis pipeline that are covered in this notebook are indicated below:\n",
    "![Sequencing Data Analysis 1](images/part1.png)"
   ]
  },
  {
   "cell_type": "markdown",
   "metadata": {},
   "source": [
    "## Part 1: Setting up the data\n",
    "\n",
    "We start with raw `.fastq.gz` files, which are provided by the sequencing instrument. For each DNA molecule (read) that was sequenced, they provide the nucleotide sequence, and information about the quality of the signal of that nucleotide."
   ]
  },
  {
   "cell_type": "code",
   "execution_count": 1,
   "metadata": {},
   "outputs": [
    {
     "ename": "",
     "evalue": "1",
     "output_type": "error",
     "traceback": []
    }
   ],
   "source": [
    "### Set up variables storing the location of our data\n",
    "### The proper way to load your variables is with the ~/.bashrc command, but this is very slow in iPython \n",
    "export SUNETID=\"$(whoami)\"\n",
    "export WORK_DIR=\"/scratch/${SUNETID}\"\n",
    "export DATA_DIR=\"${WORK_DIR}/data\"\n",
    "[[ ! -d ${WORK_DIR}/data ]] && mkdir \"${WORK_DIR}/data\"\n",
    "export SRC_DIR=\"${WORK_DIR}/src\"\n",
    "[[ ! -d ${WORK_DIR}/src ]] && mkdir -p \"${WORK_DIR}/src\"\n",
    "export METADATA_DIR=\"/metadata\"\n",
    "export AGGREGATE_DATA_DIR=\"/data\"\n",
    "export AGGREGATE_ANALYSIS_DIR=\"/outputs\"\n",
    "export YEAST_DIR=\"/saccer3\"\n",
    "export TMP=\"${WORK_DIR}/tmp\"\n",
    "export TEMP=$TMP\n",
    "export TMPDIR=$TMP\n",
    "[[ ! -d ${TMP} ]] && mkdir -p \"${TMP}\"\n",
    "\n"
   ]
  },
  {
   "cell_type": "markdown",
   "metadata": {},
   "source": [
    "Now, let's check exactly which fastqs we have (we copied these from `$AGGREGATE_DATA_DIR`to your personal `$DATA_DIR` in the last tutorial):\n",
    "\n",
    "(recall that the `ls` command lists the contents of a directory)"
   ]
  },
  {
   "cell_type": "code",
   "execution_count": 2,
   "metadata": {},
   "outputs": [
    {
     "name": "stdout",
     "output_type": "stream",
     "text": [
      "hrosenbl_WT_YPGE_1_R1_001.fastq.gz  kjngo_WT_YPGE_2_R1_001.fastq.gz\n",
      "hrosenbl_WT_YPGE_1_R2_001.fastq.gz  kjngo_WT_YPGE_2_R2_001.fastq.gz\n"
     ]
    }
   ],
   "source": [
    "ls $DATA_DIR"
   ]
  },
  {
   "cell_type": "markdown",
   "metadata": {
    "collapsed": true
   },
   "source": [
    "As a sanity check, we can also look at the size and last edited time of some of the fastqs by addind `-lrth` to the `ls` command:"
   ]
  },
  {
   "cell_type": "code",
   "execution_count": 3,
   "metadata": {},
   "outputs": [
    {
     "name": "stdout",
     "output_type": "stream",
     "text": [
      "total 205M\n",
      "-rwxr-xr-x 1 annashch users  98M Sep  9 18:44 hrosenbl_WT_YPGE_1_R1_001.fastq.gz\n",
      "-rwxr-xr-x 1 annashch users 102M Sep  9 18:44 hrosenbl_WT_YPGE_1_R2_001.fastq.gz\n",
      "-rwxr-xr-x 1 annashch users 2.6M Sep  9 18:44 kjngo_WT_YPGE_2_R1_001.fastq.gz\n",
      "-rwxr-xr-x 1 annashch users 2.6M Sep  9 18:44 kjngo_WT_YPGE_2_R2_001.fastq.gz\n"
     ]
    }
   ],
   "source": [
    "ls -lrth $DATA_DIR"
   ]
  },
  {
   "cell_type": "markdown",
   "metadata": {},
   "source": [
    "Let's also inspect the format of one of the fastqs. Notice that each read takes up 4 lines:\n",
    "1. the read name\n",
    "2. the read's nucleotide sequence\n",
    "3. a '+' to indicate the record contains another line\n",
    "4. a quality score for each base (a number encoded as a letter)"
   ]
  },
  {
   "cell_type": "code",
   "execution_count": 4,
   "metadata": {},
   "outputs": [
    {
     "name": "stdout",
     "output_type": "stream",
     "text": [
      "@NB551514:23:H5VFFBGX9:1:11101:20773:1063 1:N:0:TAAGGCGA+GCGATCTA\n",
      "GACATGGTAGTGTCCACTTGCCCCTCGAATAGTTCCT\n",
      "+\n",
      "/6AAA6EEE/AEEEEAEAEEEEEEAEEAEEEEE6AEE\n",
      "@NB551514:23:H5VFFBGX9:1:11101:21537:1065 1:N:0:TAAGGCGA+GCGATCTA\n",
      "GTATTATAGCCTGTGGGAATACTGCCAGCTGGGACTG\n",
      "+\n",
      "AAAAAEEEEEEAEEEEEEEEEEEEEEEEEEEEEEEEE\n",
      "\n",
      "gzip: stdout: Broken pipe\n"
     ]
    }
   ],
   "source": [
    "zcat $(ls $DATA_DIR/*gz | head -n 1) | head -n 8"
   ]
  },
  {
   "cell_type": "markdown",
   "metadata": {
    "collapsed": true
   },
   "source": [
    "## Part 2:ATAC-seq data processing"
   ]
  },
  {
   "cell_type": "markdown",
   "metadata": {},
   "source": [
    "The ENCODE consortium (https://www.encodeproject.org/) uses a standard ATAC-seq data processing pipeline, which can be downloaded here: https://github.com/ENCODE-DCC/atac-seq-pipeline\n",
    "\n",
    "This pipeline is pre-installed on this computer and can be executed by running the **atac.bds** script. \n",
    "\n"
   ]
  },
  {
   "cell_type": "code",
   "execution_count": 5,
   "metadata": {},
   "outputs": [
    {
     "name": "stdout",
     "output_type": "stream",
     "text": [
      "== atac pipeline settings\r\n",
      "\t-type <string>                   : Type of the pipeline. atac-seq or dnase-seq (default: atac-seq).\r\n",
      "\t-dnase_seq <bool>                : DNase-Seq (no tn5 shifting).\r\n",
      "\t-align <bool>                    : Align only (no MACS2 peak calling or IDR or ataqc analysis).\r\n",
      "\t-subsample_xcor <string>         : # reads to subsample for cross corr. analysis (default: 25M).\r\n",
      "\t-subsample <string>              : # reads to subsample exp. replicates. Subsampled tagalign will be used for steps downstream (default: 0; no subsampling).\r\n",
      "\t-true_rep <bool>                 : No pseudo-replicates.\r\n",
      "\t-no_ataqc <bool>                 : No ATAQC\r\n",
      "\t-no_xcor <bool>                  : No Cross-correlation analysis.\r\n",
      "\t-csem <bool>                     : Use CSEM for alignment.\r\n",
      "\t-smooth_win <string>             : Smoothing window size for MACS2 peak calling (default: 150).\r\n",
      "\t-idr_thresh <real>               : IDR threshold : -log_10(score) (default: 0.1).\r\n",
      "\t-ENCODE3 <bool>                  : Force to use parameter set (-smooth_win 73 -idr_thresh 0.05 -multimapping 4) for ENCODE3.\r\n",
      "\t-ENCODE <bool>                   : Force to use parameter set (-smooth_win 73 -idr_thresh 0.05 -multimapping 4) for ENCODE.\r\n",
      "\t-no_browser_tracks <bool>        : Disable generation of genome browser tracks (workaround for bzip2 shared library issue).\r\n",
      "\t-overlap_pval_thresh <real>      : p-val threshold for overlapped peaks (default: 0.01).\r\n",
      "\t-macs2_pval_thresh <real>        : MACS2 p-val threshold for calling peaks (default: 0.1).\r\n",
      "\t-macs2_pval_thresh_bw <real>     : MACS2 p-val threshold for generating BIGWIG signal tracks (default: 0.1).\r\n",
      "\t-enable_idr <bool>               : Enable IDR on called peaks.\r\n",
      "\t-auto_detect_adapter <bool>      : Automatically find and trim adapters.\r\n",
      "== configuration file settings\r\n",
      "\t-c <string>                      : Configuration file path.\r\n",
      "\t-env <string>                    : Environment file path.\r\n",
      "== parallelization settings\r\n",
      "\t-no_par <bool>                   : Serialize all tasks (individual tasks can still use multiple threads up to '-nth').\r\n",
      "\t-nth <int>                       : Maximum # threads for a pipeline. (default: 8).\r\n",
      "== cluster/system/resource settings\r\n",
      "\t-wt <string>                     : Walltime for all single-threaded tasks (example: 8:10:00, 3h, 3600, default: 5h50m, 5:50:00).\r\n",
      "\t-memory <string>                 : Maximum memory for all single-threaded tasks (equivalent to '-mem', example: 4.5G, 1024M, default: 7G).\r\n",
      "\t-use_system <string>             : Force to use a system (equivalent to 'bds -s [SYSTEM_NAME] ...', any system defined in bds.config can be used).\r\n",
      "\t-nice <int>                      : Set process priority for all tasks (default: 0; -20 (highest) ~ 19 (lowest) ).\r\n",
      "\t-retrial <int>                   : # of Retrial for failed tasks (default: 0).\r\n",
      "\t-q <string>                      : Submit tasks to a specified cluster queue.\r\n",
      "\t-q_for_slurm_account <bool>      : Use --account instead of -p (partition) for SLURM only.\r\n",
      "\t-unlimited_mem_wt <bool>         : Use unlimited max. memory and walltime.\r\n",
      "\t-java_tmp_dir <string>           : Java temporary directory. (change it when you get 'Disk quota exceeded' error in Java, default: ${TMPDIR}).\r\n",
      "== shell environment settings\r\n",
      "\t-mod <string>                    : Modules separated by ; (example: \"bowtie/2.2.4; bwa/0.7.7; picard-tools/1.92\").\r\n",
      "\t-shcmd <string>                  : Shell commands separated by ;. Shell var. must be written as ${VAR} not as $VAR (example: \"export PATH=${PATH}:/usr/test; VAR=test\").\r\n",
      "\t-addpath <string>                : Path separated by ; or : to be PREPENDED to \\$PATH (example: \"/bin/test:${HOME}/utils\").\r\n",
      "\t-conda_env <string>              : Anaconda Python (or Miniconda) environment name for all softwares including Python2.\r\n",
      "\t-conda_env_py3 <string>          : Anaconda Python (or Miniconda) environment name for Python3.\r\n",
      "\t-conda_bin_dir <string>          : Anaconda Python (or Miniconda) bin directory.\r\n",
      "\t-cluster_task_min_len <int>      : Minimum length for a cluster job in seconds (dealing with NFS delayed write, default: 60).\r\n",
      "\t-cluster_task_delay <int>        : Constant delay for every job in seconds (dealing with NFS delayed write, default: 0).\r\n",
      "== output/title settings\r\n",
      "\t-out_dir <string>                : Output directory (default: out).\r\n",
      "\t-title <string>                  : Prefix for HTML report and outputs without given prefix.\r\n",
      "== species settings\r\n",
      "\t-species <string>                : Species. need to specify '-species_file' too if you have not installed genome database with 'install_genome_data.sh'.\r\n",
      "\t-species_file <string>           : Species file path.\r\n",
      "\t-species_browser <string>        : Species name in WashU genome browser.\r\n",
      "\t-ref_fa <string>                 : Reference genome sequence fasta.\r\n",
      "\t-chrsz <string>                  : Chromosome sizes file path (use fetchChromSizes from UCSC tools).\r\n",
      "\t-blacklist <string>              : Blacklist bed.\r\n",
      "\t-seq_dir <string>                : Reference genome sequence directory path (where chr*.fa exist).\r\n",
      "== ENCODE accession settings\r\n",
      "\t-ENCODE_accession <string>       : ENCODE experiment accession ID (or dataset).\r\n",
      "\t-ENCODE_award_rfa <string>       : ENCODE award RFA (e.g. ENCODE3).\r\n",
      "\t-ENCODE_assay_category <string>  : ENCODE assay category.\r\n",
      "\t-ENCODE_assay_title <string>     : ENCODE assay title.\r\n",
      "\t-ENCODE_award <string>           : ENCODE award (e.g. /awards/U41HG007000/).\r\n",
      "\t-ENCODE_lab <string>             : Lab (e.g. /labs/anshul-kundaje/)\r\n",
      "\t-ENCODE_assembly <string>        : hg19, GRCh38, mm9, mm10.\r\n",
      "\t-ENCODE_alias_prefix <string>    : Alias prefix, Alias = alias_prefix: + filename + alias_suffix\r\n",
      "\t-ENCODE_alias_suffix <string>    : Alias suffix, Alias = alias_prefix: + filename + alias_suffix\r\n",
      "== report settings\r\n",
      "\t-url_base <string>               : URL base for output directory.\r\n",
      "\t-viz_genome_coord <string>       : WashU genome browser genome coordinate (e.g. chr7:27117661-27153380).\r\n",
      "== fastq input definition :\r\n",
      "        Single-ended : For replicate '-fastq[REP_ID]', For control '-ctl_fastq[REP_ID]'\r\n",
      "        Paired end : For replicate '-fastq[REP_ID]_[PAIR_ID]', For control '-ctl_fastq[REP_ID]_[PAIR_ID]'\r\n",
      "== bam input (raw or filtered) definition :\r\n",
      "        Raw bam : For replicate '-bam[REP_ID]', For control '-ctl_bam[REP_ID]'.\r\n",
      "        Filtered bam : For replicate '-filt_bam[REP_ID]', For control '-ctl_filt_bam[REP_ID]'.\r\n",
      "== tagalign input definition :\r\n",
      "        For replicate '-tag[REP_ID]', For control '-ctl_tag[REP_ID]'.\r\n",
      "== narrow peak input definition : \r\n",
      "        For true replicates, use '-peak1' and '-peak2',\r\n",
      "        For pooled replicates, use '-peak_pooled',\r\n",
      "        For two PR (self-pseudo-replicates), use '-peak[REP_ID]_pr1' and '-peak[REP_ID]_pr2'\r\n",
      "        For two PPR (pooled pseudo-replicates), use '-peak_ppr1' and '-peak_ppr2'\r\n",
      "== input endedness settings (SE or PE) :\r\n",
      "\t-se <bool>                       : Singled-ended data set. To specify it for each replicate, '-se[REP_ID]' for exp. reps, '-ctl_se[CTL_ID]' for control.\r\n",
      "\t-pe <bool>                       : Paired end data set. To specify it for each replicate, '-pe[REP_ID]' for exp. reps, '-ctl_pe[CTL_ID]' for controls.\r\n",
      "== adapter sequence definition :\r\n",
      "        Single-ended : For replicate '-adapter[REP_ID]'\r\n",
      "        Paired end : For replicate '-adapter[REP_ID]_[PAIR_ID]'\r\n",
      "== align multimapping settings\r\n",
      "\t-multimapping <int>              : # alignments reported for multimapping (default: 0).\r\n",
      "== align bowtie2 settings (requirements: -bwt2_idx)\r\n",
      "\t-bwt2_idx <string>               : Bowtie2 index (full path prefix of *.1.bt2 file).\r\n",
      "\t-scoremin_bwt2 <string>          : Replacement --score-min for bowtie2.\r\n",
      "\t-wt_bwt2 <string>                : Walltime for bowtie2 (default: 47h, 47:00:00).\r\n",
      "\t-mem_bwt2 <string>               : Max. memory for bowtie2 (default: 12G).\r\n",
      "\t-extra_param_bwt2 <string>       : Extra parameter for bowtie2.\r\n",
      "\t-no_idx_on_mem_bwt2 <bool>       : Disable loading index on memory by removing --mm flag for bowtie2.\r\n",
      "== adapter trimmer settings\r\n",
      "\t-adapter_err_rate <string>       : Maximum allowed adapter error rate (# errors divided by the length of the matching adapter region, default: 0.10).\r\n",
      "\t-min_trim_len <int>              : Minimum trim length for cutadapt -m, throwing away processed reads shorter than this (default: 5).\r\n",
      "\t-wt_trim <string>                : Walltime for adapter trimming (default: 23h, 23:00:00).\r\n",
      "\t-mem_trim <string>               : Max. memory for adapter trimming (default: 12G).\r\n",
      "== postalign bam settings\r\n",
      "\t-mapq_thresh <int>               : Threshold for low MAPQ reads removal (default: 30).\r\n",
      "\t-rm_chr_from_tag <string>        : Perl style reg-ex to exclude reads from tag-aligns. (example: 'other|ribo|mito|_', '_', default: blank)\r\n",
      "\t-no_dup_removal <bool>           : No dupe removal when filtering raw bam.\r\n",
      "\t-wt_dedup <string>               : Walltime for post-alignment filtering (default: 23h, 24:00:00).\r\n",
      "\t-mem_dedup <string>              : Max. memory for post-alignment filtering (default: 12G).\r\n",
      "\t-dup_marker <string>             : Dup marker for filtering mapped reaads in BAMs: picard or sambamba (default: picard).\r\n",
      "\t-use_sambamba_markdup <bool>     : Use sambamba markdup instead of Picard MarkDuplicates (default: false).\r\n",
      "== postalign bed/tagalign settings\r\n",
      "\t-mem_shuf <string>               : Max. memory for UNIX shuf (default: 12G).\r\n",
      "\t-no_random_source <bool>         : Disable --random-source for UNIX shuf. Hot fix for end of file error.\r\n",
      "\t-fraglen0 <bool>                 : (LEGACY PARAM) Set predefined fragment length as zero for cross corr. analysis (add -speak=0 to run_spp.R).\r\n",
      "\t-speak_xcor <int>                : Set user-defined cross-corr. peak strandshift (-speak= in run_spp.R). Use -1 to disable (default: -1).\r\n",
      "\t-max_ppsize_xcor <string>        : R stack size (R parameter --max-ppsize=; between 5000 and 5000000) for cross corr. analysis.\r\n",
      "\t-extra_param_xcor <string>       : Set extra parameters for run_spp.R (cross-corr. analysis only).\r\n",
      "\t-mem_xcor <string>               : Max. memory for cross-corr. analysis (default: 15G).\r\n",
      "== postalign bed/tagalign settings\r\n",
      "\t-mem_shuf <string>               : Max. memory for UNIX shuf (default: 12G).\r\n",
      "\t-no_random_source <bool>         : Disable --random-source for UNIX shuf. Hot fix for end of file error.\r\n",
      "\t-fraglen0 <bool>                 : (LEGACY PARAM) Set predefined fragment length as zero for cross corr. analysis (add -speak=0 to run_spp.R).\r\n",
      "\t-speak_xcor <int>                : Set user-defined cross-corr. peak strandshift (-speak= in run_spp.R). Use -1 to disable (default: -1).\r\n",
      "\t-max_ppsize_xcor <string>        : R stack size (R parameter --max-ppsize=; between 5000 and 5000000) for cross corr. analysis.\r\n",
      "\t-extra_param_xcor <string>       : Set extra parameters for run_spp.R (cross-corr. analysis only).\r\n",
      "\t-mem_xcor <string>               : Max. memory for cross-corr. analysis (default: 15G).\r\n",
      "== callpeak macs2 settings (requirements: -chrsz -gensz)\r\n",
      "\t-gensz <string>                  : Genome size; hs for human, mm for mouse.\r\n",
      "\t-wt_macs2 <string>               : Walltime for MACS2 (default: 23h, 23:00:00).\r\n",
      "\t-mem_macs2 <string>              : Max. memory for MACS2 (default: 15G).\r\n",
      "\t-cap_num_peak_macs2 <string>     : Cap number of peaks by taking top N peaks for MACS2 (default: 300K).\r\n",
      "\t-extra_param_macs2 <string>      : Extra parameters for macs2 callpeak.\r\n",
      "== callpeak naive overlap settings\r\n",
      "\t-nonamecheck <bool>              : bedtools intersect -nonamecheck (bedtools>=2.24.0, use this if you get bedtools intersect naming convenction warnings/errors).\r\n",
      "== IDR settings\r\n",
      "\t-idr_suffix <bool>               : Append IDR threshold to IDR output directory.\r\n",
      "== ATAQC settings\r\n",
      "\t-tss_enrich <string>             : TSS enrichment bed for ataqc.\r\n",
      "\t-dnase <string>                  : DNase bed (open chromatin region file) for ataqc.\r\n",
      "\t-prom <string>                   : Promoter bed (promoter region file) for ataqc.\r\n",
      "\t-enh <string>                    : Enhancer bed (enhancer region file) for ataqc.\r\n",
      "\t-reg2map <string>                : Reg2map (file with cell type signals) for ataqc.\r\n",
      "\t-reg2map_bed <string>            : Reg2map_bed (file of regions used to generate reg2map signals) for ataqc.\r\n",
      "\t-roadmap_meta <string>           : Roadmap metadata for ataqc.\r\n",
      "\t-mem_ataqc <string>              : Max. memory for ATAQC (default: 20G).\r\n",
      "\t-wt_ataqc <string>               : Walltime for ATAQC (default: 47h, 47:00:00).\r\n",
      "\r\n"
     ]
    }
   ],
   "source": [
    "/opt/atac_dnase_pipelines/atac.bds\n"
   ]
  },
  {
   "cell_type": "code",
   "execution_count": 5,
   "metadata": {},
   "outputs": [
    {
     "name": "stdout",
     "output_type": "stream",
     "text": [
      "hrosenbl_WT_YPGE_1_R1_001.fastq.gz  kjngo_WT_YPGE_2_R1_001.fastq.gz\n",
      "hrosenbl_WT_YPGE_1_R2_001.fastq.gz  kjngo_WT_YPGE_2_R2_001.fastq.gz\n"
     ]
    }
   ],
   "source": [
    "ls $DATA_DIR"
   ]
  },
  {
   "cell_type": "markdown",
   "metadata": {},
   "source": [
    "Though the pipeline is highly customizable and all the customizations might seem a bit confusing at first, do not worry -- for our purposes, the default settings will suffice. You will run the pipeline on your two experiments. Fill in the names of the FASTQ files corresponding to your two experiments below, as well as the name of the ouptut directory to store the processed data. "
   ]
  },
  {
   "cell_type": "code",
   "execution_count": 38,
   "metadata": {},
   "outputs": [
    {
     "name": "stdout",
     "output_type": "stream",
     "text": [
      "mkdir: cannot create directory ‘/srv/scratch/training_camp/work/ubuntu/hrosenbl_asf1_YPD_1_out’: File exists\r\n",
      "mkdir: cannot create directory ‘/srv/scratch/training_camp/work/ubuntu/pgoddard_rtt109_YPD_1_out’: File exists\r\n"
     ]
    }
   ],
   "source": [
    "#You can find the experiment names in the file $METADATA_DIR/TC2019_samples.tsv.\n",
    "#Look under the column labeled \"ID\"\n",
    "#example: \n",
    "\n",
    "export experiment1=\"hrosenbl_asf1_YPD_1\"\n",
    "export experiment2=\"pgoddard_rtt109_YPD_1\"\n",
    "\n",
    "#Create directories to store outputs from the pipeline\n",
    "\n",
    "#We will store the outputs in the $WORK_DIR\n",
    "export outdir1=$WORK_DIR/$experiment1\\_out \n",
    "export outdir2=$WORK_DIR/$experiment2\\_out\n",
    "mkdir $outdir1\n",
    "mkdir $outdir2\n"
   ]
  },
  {
   "cell_type": "code",
   "execution_count": 9,
   "metadata": {},
   "outputs": [
    {
     "name": "stdout",
     "output_type": "stream",
     "text": [
      "ambenj_asf1_YPD_2_R1_001.fastq.gz      kjhanson_WT_YPD_6_R2_001.fastq.gz\r\n",
      "ambenj_asf1_YPD_2_R2_001.fastq.gz      kjngo_rtt109_YPD_R1_001.fastq.gz\r\n",
      "ambenj_rtt109_YPGE_2_R1_001.fastq.gz   kjngo_rtt109_YPD_R2_001.fastq.gz\r\n",
      "ambenj_rtt109_YPGE_2_R2_001.fastq.gz   kjngo_WT_YPGE_2_R1_001.fastq.gz\r\n",
      "dcotter1_asf1_YPGE_3_R1_001.fastq.gz   kjngo_WT_YPGE_2_R2_001.fastq.gz\r\n",
      "dcotter1_asf1_YPGE_3_R2_001.fastq.gz   ktomins_rtt109_YPGE_5_R1_001.fastq.gz\r\n",
      "dcotter1_rtt109_YPD_3_R1_001.fastq.gz  ktomins_rtt109_YPGE_5_R2_001.fastq.gz\r\n",
      "dcotter1_rtt109_YPD_3_R2_001.fastq.gz  ktomins_WT_YPGE_5_R1_001.fastq.gz\r\n",
      "dmaghini_asf1_YPD_5_R1_001.fastq.gz    ktomins_WT_YPGE_5_R2_001.fastq.gz\r\n",
      "dmaghini_asf1_YPD_5_R2_001.fastq.gz    marinovg_WT_YPD_2_R1_001.fastq.gz\r\n",
      "dmaghini_WT_YPD_5_R1_001.fastq.gz      marinovg_WT_YPD_2_R2_001.fastq.gz\r\n",
      "dmaghini_WT_YPD_5_R2_001.fastq.gz      mkoska_asf1_YPD_3_R1_001.fastq.gz\r\n",
      "egreenwa_asf1_YPD_6_R1_001.fastq.gz    mkoska_asf1_YPD_3_R2_001.fastq.gz\r\n",
      "egreenwa_asf1_YPD_6_R2_001.fastq.gz    mkoska_WT_YPGE_3_R1_001.fastq.gz\r\n",
      "egreenwa_rtt109_YPD_5_R1_001.fastq.gz  mkoska_WT_YPGE_3_R2_001.fastq.gz\r\n",
      "egreenwa_rtt109_YPD_5_R2_001.fastq.gz  pgoddard_asf1_YPGE_1_R1_001.fastq.gz\r\n",
      "gamador_rtt109_YPGE_6_R1_001.fastq.gz  pgoddard_asf1_YPGE_1_R2_001.fastq.gz\r\n",
      "gamador_rtt109_YPGE_6_R2_001.fastq.gz  pgoddard_rtt109_YPD_1_R1_001.fastq.gz\r\n",
      "gamador_WT_YPGE_6_R1_001.fastq.gz      pgoddard_rtt109_YPD_1_R2_001.fastq.gz\r\n",
      "gamador_WT_YPGE_6_R2_001.fastq.gz      raungar_asf1_YPGE_6_R1_001.fastq.gz\r\n",
      "hrosenbl_asf1_YPD_1_R1_001.fastq.gz    raungar_asf1_YPGE_6_R2_001.fastq.gz\r\n",
      "hrosenbl_asf1_YPD_1_R2_001.fastq.gz    raungar_WT_YPD_4_R1_001.fastq.gz\r\n",
      "hrosenbl_WT_YPGE_1_R1_001.fastq.gz     raungar_WT_YPD_4_R2_001.fastq.gz\r\n",
      "hrosenbl_WT_YPGE_1_R2_001.fastq.gz     rosaxma_asf1_YPD_4_R1_001.fastq.gz\r\n",
      "jarod_asf1_YPGE_5_R1_001.fastq.gz      rosaxma_asf1_YPD_4_R2_001.fastq.gz\r\n",
      "jarod_asf1_YPGE_5_R2_001.fastq.gz      rosaxma_rtt109_YPD_4_R1_001.fastq.gz\r\n",
      "jarod_rtt109_YPGE_4_R1_001.fastq.gz    rosaxma_rtt109_YPD_4_R2_001.fastq.gz\r\n",
      "jarod_rtt109_YPGE_4_R2_001.fastq.gz    rpatel7_asf1_YPGE_4_R1_001.fastq.gz\r\n",
      "jkcheng_rtt109_YPGE_3_R1_001.fastq.gz  rpatel7_asf1_YPGE_4_R2_001.fastq.gz\r\n",
      "jkcheng_rtt109_YPGE_3_R2_001.fastq.gz  rpatel7_WT_YPGE_4_R1_001.fastq.gz\r\n",
      "jkcheng_WT_YPD_3_R1_001.fastq.gz       rpatel7_WT_YPGE_4_R2_001.fastq.gz\r\n",
      "jkcheng_WT_YPD_3_R2_001.fastq.gz       tc2017\r\n",
      "kjhanson_rtt109_YPD_6_R1_001.fastq.gz  tc2018\r\n",
      "kjhanson_rtt109_YPD_6_R2_001.fastq.gz  tc2018_pilot\r\n",
      "kjhanson_WT_YPD_6_R1_001.fastq.gz\r\n"
     ]
    }
   ],
   "source": [
    "ls $AGGREGATE_DATA_DIR"
   ]
  },
  {
   "cell_type": "markdown",
   "metadata": {},
   "source": [
    "Now, kick off the pipeline! "
   ]
  },
  {
   "cell_type": "code",
   "execution_count": null,
   "metadata": {},
   "outputs": [],
   "source": [
    "#first experiment:\n",
    "echo \"bds_scr $experiment1 $experiment1.log atac.bds -out_dir $outdir1 -species saccer3 -fastq1_1 $DATA_DIR/$experiment1\\_R1_001.fastq.gz -fastq1_2 $DATA_DIR/$experiment1\\_R2_001.fastq.gz -nth 4\"\n",
    "bds_scr $experiment1 $outdir1/log.txt /opt/atac_dnase_pipelines/atac.bds -out_dir $outdir1 -species saccer3 -fastq1_1 $DATA_DIR/$experiment1\\_R1_001.fastq.gz -fastq1_2 $DATA_DIR/$experiment1\\_R2_001.fastq.gz -nth 4 "
   ]
  },
  {
   "cell_type": "code",
   "execution_count": null,
   "metadata": {},
   "outputs": [],
   "source": [
    "#second experiment:\n",
    "echo \"bds_scr $experiment2 $experiment2.log atac.bds -out_dir $outdir2 -species saccer3 -fastq1_1 $DATA_DIR/$experiment2_R1_001.fastq.gz -fastq1_2 $DATA_DIR/$experiment2_R2_001.fastq.gz -nth 4\"\n",
    "bds_scr $experiment2 $outdir2/log.txt /opt/atac_dnase_pipelines/atac.bds -out_dir $outdir2 -species saccer3 -fastq1_1 $DATA_DIR/$experiment2\\_R1_001.fastq.gz -fastq1_2 $DATA_DIR/$experiment2\\_R2_001.fastq.gz -nth 4  "
   ]
  },
  {
   "cell_type": "markdown",
   "metadata": {},
   "source": [
    "The pipeline may run for an hour or so, so meanwhile, we will learn more about what it's doing under the hood. \n",
    "If you want to check on the progress, you can examine the latest entries in the  log file generated by the pipeline with teh *tail* command. The log files are specified by the [LOG_FILE_NAME] entry above. \n"
   ]
  },
  {
   "cell_type": "code",
   "execution_count": 15,
   "metadata": {},
   "outputs": [
    {
     "name": "stdout",
     "output_type": "stream",
     "text": [
      "YPD_asf1_rep1_R1_001.PE2SE.bam\r\n",
      "YPD_asf1_rep1_R1_001.PE2SE.bam.bai\r\n",
      "YPD_asf1_rep1_R1_001.PE2SE.nodup.bam\r\n",
      "YPD_asf1_rep1_R1_001.PE2SE.nodup.bam.bai\r\n",
      "YPD_asf1_rep1_R1_001.PE2SE.nodup.bedpe.gz\r\n",
      "YPD_asf1_rep1_R1_001.PE2SE.nodup.tagAlign.gz\r\n",
      "YPD_asf1_rep1_R1_001.PE2SE.nodup.tn5.no_chrM.25M.R1.tagAlign.gz\r\n",
      "YPD_asf1_rep1_R1_001.PE2SE.nodup.tn5.tagAlign.gz\r\n"
     ]
    }
   ],
   "source": [
    "ls $outdir1/align/rep1"
   ]
  },
  {
   "cell_type": "code",
   "execution_count": 11,
   "metadata": {},
   "outputs": [
    {
     "name": "stdout",
     "output_type": "stream",
     "text": [
      "M00653:6:000000000-C3JYV:1:1103:10730:2946\t99\tchrI\t39\t40\t76M\t=\t43\t80\tCCACACCACACCCACACACACACATCCTAACACTACCCTAACACAGCCCTAATCTAACCCTGGCCAACCTGTCTCT\tCCCCCGGGGGGGGGGGGGGGGGGGGGGGGGGGGGGGGGGGGGGGGGGGGGGGGGGGGGGGGGGGGGGGGGGGGGGG\tMD:Z:76\tPG:Z:MarkDuplicates\tXG:i:0\tNM:i:0\tXM:i:0\tXN:i:0\tXO:i:0\tMQ:i:40\tAS:i:152\tXS:i:48\tYS:i:152\tYT:Z:CP\r\n",
      "M00653:6:000000000-C3JYV:1:1103:19356:14698\t163\tchrI\t39\t40\t76M\t=\t39\t76\tCCACACCACACCCACACACACACATCCTAACACTACCCTAACACAGCCCTAATCTAACCCTGGCCAACCTGTCTCT\tCCCCCGGGGGGGGGGGGGGGGGGGGGGGGGGGGGGGGGGGGGGGGGGGGGGGGGGGGGGGGGGGGGGGGGGGGGGD\tMD:Z:76\tPG:Z:MarkDuplicates\tXG:i:0\tNM:i:0\tXM:i:0\tXN:i:0\tXO:i:0\tMQ:i:40\tAS:i:152\tXS:i:48\tYS:i:152\tYT:Z:CP\r\n",
      "M00653:6:000000000-C3JYV:1:1103:19356:14698\t83\tchrI\t39\t40\t76M\t=\t39\t-76\tCCACACCACACCCACACACACACATCCTAACACTACCCTAACACAGCCCTAATCTAACCCTGGCCAACCTGTCTCT\tGGGGGGGGGGGGGFGGGGGGGGGGGGGGGGGGGGGGGGGGGGGGGGGGGGGGGGGGGGGGGGGGGGGGGGGCCCCC\tMD:Z:76\tPG:Z:MarkDuplicates\tXG:i:0\tNM:i:0\tXM:i:0\tXN:i:0\tXO:i:0\tMQ:i:40\tAS:i:152\tXS:i:48\tYS:i:152\tYT:Z:CP\r\n",
      "M00653:6:000000000-C3JYV:1:1103:10730:2946\t147\tchrI\t43\t40\t76M\t=\t39\t-80\tACCACACCCACACACACACATCCTAACACTACCCTAACACAGCCCTAATCTAACCCTGGCCAACCTGTCTCTCAAC\tCGGGGGGGGGGDGFGGGFGGGGGGGFGGGGGGGGGGFGGGGGGGGGGFGGGGFGGGGGGGGGGGGGGGGGGCCCCC\tMD:Z:76\tPG:Z:MarkDuplicates\tXG:i:0\tNM:i:0\tXM:i:0\tXN:i:0\tXO:i:0\tMQ:i:40\tAS:i:152\tXS:i:43\tYS:i:152\tYT:Z:CP\r\n",
      "M00653:6:000000000-C3JYV:1:2102:13135:19506\t99\tchrI\t63\t41\t56M20S\t=\t63\t56\tTCCTAACACTACCCTAACACAGCCCTAATCTAACCCTGGCCAACCTGTCTCTCAACCTGTCTCTTATACACATCTC\tCCCCCGGGGGGGGGGGGFGGGGGGGGGGGGGGGGGGGGGGGGGGGGGGGGGGGGGGGGGGGGGGGGGGGGGGGGGG\tMD:Z:56\tPG:Z:MarkDuplicates\tXG:i:0\tNM:i:0\tXM:i:0\tXN:i:0\tXO:i:0\tMQ:i:41\tAS:i:112\tYS:i:112\tYT:Z:CP\r\n",
      "M00653:6:000000000-C3JYV:1:2102:13135:19506\t147\tchrI\t63\t41\t20S56M\t=\t63\t-56\tCAGATGTGTATAAGAGACAGTCCTAACACTACCCTAACACAGCCCTAATCTAACCCTGGCCAACCTGTCTCTCAAC\tGGGGGGGGGGGGGGGGGGGGGGGGGGGGGGGGGGGGGGGGGGGGGGGGGGGGGGGGGGGGGGGGGGGGGGGCCCCC\tMD:Z:56\tPG:Z:MarkDuplicates\tXG:i:0\tNM:i:0\tXM:i:0\tXN:i:0\tXO:i:0\tMQ:i:41\tAS:i:112\tYS:i:112\tYT:Z:CP\r\n",
      "M00653:6:000000000-C3JYV:1:2112:8288:18359\t99\tchrI\t73\t35\t76M\t=\t87\t90\tACCCTAACACAGCCCTAATCTAACCCTGGCCAACCTGTCTCTCAACTTACCCTCCATTACCCTGCCTCCACTCGTT\tCCCCCGGGGGGGGGGGGGGGGGGGGGGGGGGGGGGGGGGGGGGGGGGGGGGGGGGGGGGGGGGGGGGGGGGGGGGG\tMD:Z:76\tPG:Z:MarkDuplicates\tXG:i:0\tNM:i:0\tXM:i:0\tXN:i:0\tXO:i:0\tMQ:i:35\tAS:i:152\tXS:i:83\tYS:i:152\tYT:Z:CP\r\n",
      "M00653:6:000000000-C3JYV:1:2112:8288:18359\t147\tchrI\t87\t35\t76M\t=\t73\t-90\tCTAATCTAACCCTGGCCAACCTGTCTCTCAACTTACCCTCCATTACCCTGCCTCCACTCGTTACCCTGTCCCATTC\tGGGGGGGGGGGGGGGGGGGGGGGGGGGGGGGGGGGGGGGGGGGGGGGGGGGGGGGGGGGGGGGGGGGGGGGCCCCC\tMD:Z:76\tPG:Z:MarkDuplicates\tXG:i:0\tNM:i:0\tXM:i:0\tXN:i:0\tXO:i:0\tMQ:i:35\tAS:i:152\tXS:i:109\tYS:i:152\tYT:Z:CP\r\n",
      "M00653:6:000000000-C3JYV:1:1110:10455:15555\t99\tchrI\t103\t33\t76M\t=\t286\t259\tCAACCTGTCTCTCAACTTACCCTCCATTACCCTGCCTCCACTCGTTACCCTGTCCCATTCAACCATACCACTCCGA\tCCCCCGGGGGGGGGGGGGGGGGGGGGGGGGGGGGGGGGGGGGGGGGGGGGGGGGGGGGGGGGGGGGGGGGGGGGGG\tMD:Z:76\tPG:Z:MarkDuplicates\tXG:i:0\tNM:i:0\tXM:i:0\tXN:i:0\tXO:i:0\tMQ:i:33\tAS:i:152\tXS:i:106\tYS:i:152\tYT:Z:CP\r\n",
      "M00653:6:000000000-C3JYV:1:1114:20563:10178\t99\tchrI\t105\t33\t76M\t=\t126\t97\tACCTGTCTCTCAACTTACCCTCCATTACCCTGCCTCCACTCGTTACCCTGTCCCATTCAACCATACCACTCCGAAC\tCCCCCGGGGGGGGGGGGGGGGGGGGGGGGGGGGGGGGGGGGGGGGGGGGGGGGGGGGGGGGGGGGGGGGGGGGGGG\tMD:Z:76\tPG:Z:MarkDuplicates\tXG:i:0\tNM:i:0\tXM:i:0\tXN:i:0\tXO:i:0\tMQ:i:33\tAS:i:152\tXS:i:118\tYS:i:152\tYT:Z:CP\r\n",
      "M00653:6:000000000-C3JYV:1:1114:20563:10178\t147\tchrI\t126\t33\t76M\t=\t105\t-97\tCCATTACCCTGCCTCCACTCGTTACCCTGTCCCATTCAACCATACCACTCCGAACCACCATCCATCCCTCTACTTA\tGGGGGGGGGGGGGGGGGGGGGGGGGGGGGGGGGGGGGGGGGGGGGGGGGGGGGGGGGGGGGGGGGGGGGGGCCCCC\tMD:Z:76\tPG:Z:MarkDuplicates\tXG:i:0\tNM:i:0\tXM:i:0\tXN:i:0\tXO:i:0\tMQ:i:33\tAS:i:152\tXS:i:100\tYS:i:152\tYT:Z:CP\r\n",
      "M00653:6:000000000-C3JYV:1:1118:18817:10703\t163\tchrI\t145\t35\t76M\t=\t218\t149\tCGTTACCCTGTCCCATTCAACCATACCACTCCGAACCACCATCCATCCCTCTACTTACTACCACTCACCCACCGTT\tCCCCCGGGGGGGGGGGGGGGGGGGGGGGGGGGGGGGGGGGGGGGGGGGGGGGGGGGGGGGGGGGGGGGGGGGGGGG\tMD:Z:76\tPG:Z:MarkDuplicates\tXG:i:0\tNM:i:0\tXM:i:0\tXN:i:0\tXO:i:0\tMQ:i:35\tAS:i:152\tXS:i:99\tYS:i:152\tYT:Z:CP\r\n",
      "M00653:6:000000000-C3JYV:1:2102:22514:4252\t99\tchrI\t173\t38\t76M\t=\t410\t313\tCTCCGAACCACCATCCATCCCTCTACTTACTACCACTCACCCACCGTTACCCTCCAATTACCCATATCCAACCCAC\tCCCCCGGGGGGGGGGGGGGGGGGGGGGGGGGGGGGGGGGGGGGGGGGGGGGGGGGGGGGGGGGGGGGGGGGGGGGG\tMD:Z:76\tPG:Z:MarkDuplicates\tXG:i:0\tNM:i:0\tXM:i:0\tXN:i:0\tXO:i:0\tMQ:i:38\tAS:i:152\tXS:i:69\tYS:i:152\tYT:Z:CP\r\n",
      "M00653:6:000000000-C3JYV:1:2118:1973:14128\t99\tchrI\t180\t35\t76M\t=\t202\t98\tCCACCATCCATCCCTCTACTTACTACCACTCACCCACCGTTACCCTCCAATTACCCATATCCAACCCACTGCCACT\tCCCCCGGGGGGGGGGGGGGGGGGGGGGGGGGGGGGFGGGFGGFGGGGGGGGGGGGGGGGGGGGGGGGGGGGGGGGG\tMD:Z:76\tPG:Z:MarkDuplicates\tXG:i:0\tNM:i:0\tXM:i:0\tXN:i:0\tXO:i:0\tMQ:i:35\tAS:i:152\tXS:i:74\tYS:i:152\tYT:Z:CP\r\n",
      "M00653:6:000000000-C3JYV:1:1101:25335:12594\t99\tchrI\t201\t34\t76M\t=\t405\t280\tACTACCACTCACCCACCGTTACCCTCCAATTACCCATATCCAACCCACTGCCACTTACCCTACCATTACCCTACCA\tCCCCCGGGGGGGGGGGGGGGGGGGGGGGGGGGGGGGGGGGGGGGGGGGGGGGGGGGGGGGGGGGGGGGGGGGGGGG\tMD:Z:76\tPG:Z:MarkDuplicates\tXG:i:0\tNM:i:0\tXM:i:0\tXN:i:0\tXO:i:0\tMQ:i:34\tAS:i:152\tXS:i:116\tYS:i:152\tYT:Z:CP\r\n",
      "M00653:6:000000000-C3JYV:1:2118:1973:14128\t147\tchrI\t202\t35\t76M\t=\t180\t-98\tCTACCACTCACCCACCGTTACCCTCCAATTACCCATATCCAACCCACTGCCACTTACCCTACCATTACCCTACCAT\tGGGGGGGGGGGGGGGGGGGGGGGGGGFCGGGGGGFGGGGGGEGGGGGGGGFGGGGGGGGGFGGGGGGGGGGCCCCC\tMD:Z:76\tPG:Z:MarkDuplicates\tXG:i:0\tNM:i:0\tXM:i:0\tXN:i:0\tXO:i:0\tMQ:i:35\tAS:i:152\tXS:i:118\tYS:i:152\tYT:Z:CP\r\n",
      "M00653:6:000000000-C3JYV:1:1103:20578:19073\t99\tchrI\t214\t32\t76M\t=\t492\t354\tCACCGTTACCCTCCAATTACCCATATCCAACCCACTGCCACTTACCCTACCATTACCCTACCATCCACCATGACCT\tCCCCCECBCFGFEGGGGGGGFGGGFFGGGFGGGEFGGGGGGGGGGGGGGGGGGGGGGGGGGGFFGGGGGGFFGGGG\tMD:Z:76\tPG:Z:MarkDuplicates\tXG:i:0\tNM:i:0\tXM:i:0\tXN:i:0\tXO:i:0\tMQ:i:32\tAS:i:152\tXS:i:132\tYS:i:152\tYT:Z:CP\r\n",
      "M00653:6:000000000-C3JYV:1:2105:9915:9035\t163\tchrI\t215\t34\t76M\t=\t290\t151\tACCGTTACCCTCCAATTACCCATATCCAACCCACTGCCACTTACCCTACCATTACCCTACCATCCACCATGACCTA\tCCCCCGGGGGGGGGGGGGGGGGGGGGGGGGGGGGGGGGGGGGGGGGGGGGGGGGGGGGGGGGGGGGGGGGGGGGGF\tMD:Z:76\tPG:Z:MarkDuplicates\tXG:i:0\tNM:i:0\tXM:i:0\tXN:i:0\tXO:i:0\tMQ:i:34\tAS:i:152\tXS:i:132\tYS:i:152\tYT:Z:CP\r\n",
      "M00653:6:000000000-C3JYV:1:1118:18817:10703\t83\tchrI\t218\t35\t76M\t=\t145\t-149\tGTTACCCTCCAATTACCCATATCCAACCCACTGCCACTTACCCTACCATTACCCTACCATCCACCATGACCTACTC\tGGGGGGGGGGGGGGGGGGGGGGGGGGGGGFGGGGGGGGGGGGGGFGGGGGGGGGGGGGGGGGGGGGGGGGGCCCCC\tMD:Z:76\tPG:Z:MarkDuplicates\tXG:i:0\tNM:i:0\tXM:i:0\tXN:i:0\tXO:i:0\tMQ:i:35\tAS:i:152\tXS:i:130\tYS:i:152\tYT:Z:CP\r\n",
      "M00653:6:000000000-C3JYV:1:1111:24452:3742\t163\tchrI\t224\t33\t76M\t=\t317\t169\tCTCCAATTACCCATATCCAACCCACTGCCACTTACCCTACCATTACCCTACCATCCACCATGACCTACTCACCATA\tCCCCCGGGGGGGGGGGGGGGGGGGGGGGGGGGGGGGGGGGGGGGGGGGGGGGGGGGGGGGGFFGGGGGGGGGGGGG\tMD:Z:76\tPG:Z:MarkDuplicates\tXG:i:0\tNM:i:0\tXM:i:0\tXN:i:0\tXO:i:0\tMQ:i:33\tAS:i:152\tXS:i:116\tYS:i:152\tYT:Z:CP\r\n"
     ]
    }
   ],
   "source": [
    "samtools view $outdir1/align/rep1/YPD_asf1_rep1_R1_001.PE2SE.nodup.bam | head -n20"
   ]
  },
  {
   "cell_type": "code",
   "execution_count": 19,
   "metadata": {},
   "outputs": [
    {
     "name": "stdout",
     "output_type": "stream",
     "text": [
      "M00653:6:000000000-C3JYV:1:1109:20532:18321\t99\tchrI\t1\t21\t3S73M\t=\t51\t129\tCACCCACACCACACCCACACACCCACACACCACACCACACACCACACCACACCCACACACACACATCCTAACACTA\tCCCCCGFGGEGGGGGGGGGGGGFGGGGGGGCDFGGEGGGDFE@FDGGGGGGGGGGGGGGGGGGGGGFGGGGGFGFF\tAS:i:146\tXS:i:44\tXN:i:0\tXM:i:0\tXO:i:0\tXG:i:0\tNM:i:0\tMD:Z:73\tYS:i:152\tYT:Z:CP\r\n",
      "M00653:6:000000000-C3JYV:1:2108:16795:7495\t99\tchrI\t1\t9\t1S37M38S\t=\t1\t-115\tCCCACACCACACCCACACACCCACACACCACACCACACCTGTCTCTTATACACATCTCCGAGCCCACGAGACTGGA\tCCCCCGGGGGGGGGGGEGGGGGGGGGGGGGGGGGGGGGGGGFGAFGGGGFGGGGGGGGGGEEGGGEGGFEEGGGGC\tAS:i:74\tXS:i:76\tXN:i:0\tXM:i:0\tXO:i:0\tXG:i:0\tNM:i:0\tMD:Z:37\tYS:i:74\tYT:Z:CP\r\n",
      "M00653:6:000000000-C3JYV:1:2113:13087:7056\t163\tchrI\t1\t21\t2S74M\t=\t2\t79\tACCCACACCACACCCACACACCCACACACCACACCACACACCACACCACACCCACACACACACATCCTAACACTAC\tCCCCCGGGGGGGGGGGGGGGGDGGGGGEGGG@FBFGFAF7FGGF?FF,CCE@@,BBFEGDCFG76C<<<<FFGGGE\tAS:i:148\tXS:i:104\tXN:i:0\tXM:i:0\tXO:i:0\tXG:i:0\tNM:i:0\tMD:Z:74\tYS:i:152\tYT:Z:CP\r\n",
      "M00653:6:000000000-C3JYV:1:2116:15537:19642\t163\tchrI\t1\t21\t3S73M\t=\t59\t137\tCACCCACACCACACCCACACACCCACACACCACACCACACACCACACCACACCCACACACACACATCCTAACACTA\tCCCCCGGGGGGGGGGGGGGGGGGGGGGGGGGGGGGGGGGGGGGGGGGGDGFGGGGGEGEGEGFGEDFGG9CFGGG8\tAS:i:146\tXS:i:44\tXN:i:0\tXM:i:0\tXO:i:0\tXG:i:0\tNM:i:0\tMD:Z:73\tYS:i:152\tYT:Z:CP\r\n",
      "M00653:6:000000000-C3JYV:1:2108:16795:7495\t147\tchrI\t1\t9\t39S37M\t=\t1\t115\tGAGTATCGTCGGCAGCGTCAGATGTGTATAAGAGACAGCCCACACCACACCCACACACCCACACACCACACCACAC\tFFEDGGGGGGGGEGGFEEFGGGGFCCGGFGGGGFFGGGGGGGGFGGGFCGGFEFCF@GGFGGFGGGGGGFECCCCC\tAS:i:74\tXS:i:74\tXN:i:0\tXM:i:0\tXO:i:0\tXG:i:0\tNM:i:0\tMD:Z:37\tYS:i:74\tYT:Z:CP\r\n",
      "M00653:6:000000000-C3JYV:1:1111:8757:7666\t99\tchrI\t2\t14\t6S11M2D17M1I12M1I19M9S\t=\t87\t167\tCCCACACACACCACACCCACACCCACACACCACACCCACACACCACACCCACACCCACACACCCACACACCACACC\tCCCCCGGGGGGGGGGGGGGGGGGGGGGGGGGGGGGGGGGGGGGGGFFFGGGGGGGEDG@FEGGG<FGG@FGFF,CC\tAS:i:84\tXS:i:109\tXN:i:0\tXM:i:1\tXO:i:3\tXG:i:4\tNM:i:5\tMD:Z:11^CA43A4\tYS:i:152\tYT:Z:CP\r\n",
      "M00653:6:000000000-C3JYV:1:2113:13087:7056\t83\tchrI\t2\t21\t76M\t=\t1\t-79\tCACACCACACCCACACACCCACACACCACACCACACACCACACCACACCCACACACACACATCCTAACACTACCCT\tFFFECFFFFGEFCFFFEGFEECFCGGGGGECF8EEC<GGGGFGGGGFGGGFGFGFGFGFGGGGGGGGGFGFCCCCC\tAS:i:152\tXS:i:102\tXN:i:0\tXM:i:0\tXO:i:0\tXG:i:0\tNM:i:0\tMD:Z:76\tYS:i:148\tYT:Z:CP\r\n",
      "M00653:6:000000000-C3JYV:1:1104:11986:21268\t163\tchrI\t32\t12\t40M36S\t=\t32\t-112\tCCACACACCACACCACACCCACACACACACATCCTAACACCTGTCTCTTATACACATCTGACGCTGCCGACGATAC\tCCCCCGGGGGGGGGGGGGGGGGGGGGGGGGGGGGGGGGGGGGGGGGGGGGGGGGGGGGGGGGGGGGGGGGGGGGGG\tAS:i:80\tXS:i:55\tXN:i:0\tXM:i:0\tXO:i:0\tXG:i:0\tNM:i:0\tMD:Z:40\tYS:i:80\tYT:Z:CP\r\n",
      "M00653:6:000000000-C3JYV:1:1104:11986:21268\t83\tchrI\t32\t12\t36S40M\t=\t32\t112\tCAGTCTCGTGGGCTCGGAGATGTGTATAAGAGACAGCCACACACCACACCACACCCACACACACACATCCTAACAC\tGGGGGGGGGGGGGGGGGGGGGGGGGGGGGGGGGGGGGGGGGGGGGGGGGGFFCGGFEFEFFGFFFGGGGGGCCCCC\tAS:i:80\tXS:i:57\tXN:i:0\tXM:i:0\tXO:i:0\tXG:i:0\tNM:i:0\tMD:Z:40\tYS:i:80\tYT:Z:CP\r\n",
      "M00653:6:000000000-C3JYV:1:1103:10730:2946\t99\tchrI\t39\t40\t76M\t=\t43\t80\tCCACACCACACCCACACACACACATCCTAACACTACCCTAACACAGCCCTAATCTAACCCTGGCCAACCTGTCTCT\tCCCCCGGGGGGGGGGGGGGGGGGGGGGGGGGGGGGGGGGGGGGGGGGGGGGGGGGGGGGGGGGGGGGGGGGGGGGG\tAS:i:152\tXS:i:48\tXN:i:0\tXM:i:0\tXO:i:0\tXG:i:0\tNM:i:0\tMD:Z:76\tYS:i:152\tYT:Z:CP\r\n",
      "M00653:6:000000000-C3JYV:1:1103:19356:14698\t163\tchrI\t39\t40\t76M\t=\t39\t-76\tCCACACCACACCCACACACACACATCCTAACACTACCCTAACACAGCCCTAATCTAACCCTGGCCAACCTGTCTCT\tCCCCCGGGGGGGGGGGGGGGGGGGGGGGGGGGGGGGGGGGGGGGGGGGGGGGGGGGGGGGGGGGGGGGGGGGGGGD\tAS:i:152\tXS:i:48\tXN:i:0\tXM:i:0\tXO:i:0\tXG:i:0\tNM:i:0\tMD:Z:76\tYS:i:152\tYT:Z:CP\r\n",
      "M00653:6:000000000-C3JYV:1:1103:19356:14698\t83\tchrI\t39\t40\t76M\t=\t39\t-76\tCCACACCACACCCACACACACACATCCTAACACTACCCTAACACAGCCCTAATCTAACCCTGGCCAACCTGTCTCT\tGGGGGGGGGGGGGFGGGGGGGGGGGGGGGGGGGGGGGGGGGGGGGGGGGGGGGGGGGGGGGGGGGGGGGGGCCCCC\tAS:i:152\tXS:i:48\tXN:i:0\tXM:i:0\tXO:i:0\tXG:i:0\tNM:i:0\tMD:Z:76\tYS:i:152\tYT:Z:CP\r\n",
      "M00653:6:000000000-C3JYV:1:1103:10730:2946\t147\tchrI\t43\t40\t76M\t=\t39\t-80\tACCACACCCACACACACACATCCTAACACTACCCTAACACAGCCCTAATCTAACCCTGGCCAACCTGTCTCTCAAC\tCGGGGGGGGGGDGFGGGFGGGGGGGFGGGGGGGGGGFGGGGGGGGGGFGGGGFGGGGGGGGGGGGGGGGGGCCCCC\tAS:i:152\tXS:i:43\tXN:i:0\tXM:i:0\tXO:i:0\tXG:i:0\tNM:i:0\tMD:Z:76\tYS:i:152\tYT:Z:CP\r\n",
      "M00653:6:000000000-C3JYV:1:1109:20532:18321\t147\tchrI\t51\t21\t76M\t=\t1\t-129\tCACACACACACATCCTAACACTACCCTAACACAGCCCTAATCTAACCCTGGCCAACCTGTCTCTCAACTTACCCTC\tGFFEFFEFGGGFGGGGFCFGGGFGGGFDFFGGGGGGGGGFFGGGGGGGGGGGFGGGGGGGGGFFGGGGGGGCCCCC\tAS:i:152\tXN:i:0\tXM:i:0\tXO:i:0\tXG:i:0\tNM:i:0\tMD:Z:76\tYS:i:146\tYT:Z:CP\r\n",
      "M00653:6:000000000-C3JYV:1:2116:15537:19642\t83\tchrI\t59\t21\t76M\t=\t1\t-137\tCACATCCTAACACTACCCTAACACAGCCCTAATCTAACCCTGGCCAACCTGTCTCTCAACTTACCCTCCATTACCC\tGGGGGGGGGGGGGGGGGGGGGFGGGGGGGGGGGGGGGGGGGGGGGGGGGGGGGGGGGGGGGGGGGGGGGGGCCCCC\tAS:i:152\tXN:i:0\tXM:i:0\tXO:i:0\tXG:i:0\tNM:i:0\tMD:Z:76\tYS:i:146\tYT:Z:CP\r\n",
      "M00653:6:000000000-C3JYV:1:2102:13135:19506\t99\tchrI\t63\t41\t56M20S\t=\t63\t-96\tTCCTAACACTACCCTAACACAGCCCTAATCTAACCCTGGCCAACCTGTCTCTCAACCTGTCTCTTATACACATCTC\tCCCCCGGGGGGGGGGGGFGGGGGGGGGGGGGGGGGGGGGGGGGGGGGGGGGGGGGGGGGGGGGGGGGGGGGGGGGG\tAS:i:112\tXN:i:0\tXM:i:0\tXO:i:0\tXG:i:0\tNM:i:0\tMD:Z:56\tYS:i:112\tYT:Z:CP\r\n",
      "M00653:6:000000000-C3JYV:1:2102:13135:19506\t147\tchrI\t63\t41\t20S56M\t=\t63\t96\tCAGATGTGTATAAGAGACAGTCCTAACACTACCCTAACACAGCCCTAATCTAACCCTGGCCAACCTGTCTCTCAAC\tGGGGGGGGGGGGGGGGGGGGGGGGGGGGGGGGGGGGGGGGGGGGGGGGGGGGGGGGGGGGGGGGGGGGGGGCCCCC\tAS:i:112\tXN:i:0\tXM:i:0\tXO:i:0\tXG:i:0\tNM:i:0\tMD:Z:56\tYS:i:112\tYT:Z:CP\r\n",
      "M00653:6:000000000-C3JYV:1:1113:19897:2061\t163\tchrI\t73\t2\t19S26M31S\t=\t73\t-126\tCCACACCCACACACACCACACCCTAACACAGCCCTAATCTAACCCCTGTCTCTTATACACATCTGACGCTGCCGAC\tCCCCCGGGGGGGGGGGGGGGGGGGGGGGGGGGGGGGGGGGGGGGGGGGGGGGGGGGGGGGGGGGGGGGGGGGGGGG\tAS:i:52\tXS:i:46\tXN:i:0\tXM:i:0\tXO:i:0\tXG:i:0\tNM:i:0\tMD:Z:26\tYS:i:52\tYT:Z:CP\r\n",
      "M00653:6:000000000-C3JYV:1:1113:10492:18915\t163\tchrI\t73\t25\t62M14S\t=\t73\t-90\tACCCTAACACAGCCCTAATCTAACCCTGGCCAACCTGTCTCTCAACTTACCCTCCATTACCCCTGTCTCTTATACA\tCCCCCGGGGGGGGGGGGGGGGGGGGGGGGGGGGGGGGGGGGAGGGGGGGGGGGGGGGGGGGGGGGGGGGGGGGGGF\tAS:i:124\tXS:i:89\tXN:i:0\tXM:i:0\tXO:i:0\tXG:i:0\tNM:i:0\tMD:Z:62\tYS:i:124\tYT:Z:CP\r\n",
      "M00653:6:000000000-C3JYV:1:2104:10119:3907\t99\tchrI\t73\t28\t46M30S\t=\t73\t-106\tACCCTAACACAGCCCTAATCTAACCCTGGCCAACCTGTCTCTCAACCTGTCTCTTATACACATCTCCGAGCCCACG\tCCCCCGGGGGGGGGGGGGGGGGGGGGGGGGGGFGGGGGGGGGGGGGGGGGGGGGGGGGGGFFGGGGGGEGGGGGGG\tAS:i:92\tXN:i:0\tXM:i:0\tXO:i:0\tXG:i:0\tNM:i:0\tMD:Z:46\tYS:i:92\tYT:Z:CP\r\n"
     ]
    }
   ],
   "source": [
    "samtools view -F8 $outdir1/align/rep1/YPD_asf1_rep1_R1_001.PE2SE.bam | head -n20"
   ]
  },
  {
   "cell_type": "code",
   "execution_count": null,
   "metadata": {
    "collapsed": true
   },
   "outputs": [],
   "source": [
    "samtools view  -F4 $outdir1/align/rep1/YPD_asf1_rep1_R1_001.PE2SE.nodup.bam | head -n20"
   ]
  },
  {
   "cell_type": "code",
   "execution_count": 13,
   "metadata": {},
   "outputs": [
    {
     "name": "stdout",
     "output_type": "stream",
     "text": [
      "./qc/rep1/YPD_asf1_rep1_R1_001.PE2SE.nodup.tn5.no_chrM.25M.R1.cc.plot.pdf\r\n",
      "./qc/rep1/YPD_asf1_rep1_R1_001.PE2SE.nodup.flagstat.qc\r\n",
      "./qc/rep1/YPD_asf1_rep1_R1_001.PE2SE.flagstat.qc\r\n",
      "./qc/rep1/YPD_asf1_rep1_R1_001.PE2SE.nodup.tn5.no_chrM.25M.R1.cc.qc\r\n",
      "./qc/rep1/YPD_asf1_rep1_R1_001.PE2SE.align.log\r\n",
      "./qc/rep1/YPD_asf1_rep1_R1_001.PE2SE.nodup.pbc.qc\r\n",
      "./qc/rep1/YPD_asf1_rep1_R1_001.PE2SE.dup.qc\r\n",
      "./qc/YPD_asf1_rep1_peak_overlap_final.qc\r\n",
      "\r\n",
      "== Done report()\r\n"
     ]
    }
   ],
   "source": [
    "tail $outdir1/*log"
   ]
  },
  {
   "cell_type": "code",
   "execution_count": 22,
   "metadata": {},
   "outputs": [
    {
     "name": "stdout",
     "output_type": "stream",
     "text": [
      "./qc/rep1/pgoddard_rtt109_YPD_1_R1_001.PE2SE.nodup.tn5.no_chrM.25M.R1.cc.plot.pdf\r\n",
      "./qc/rep1/pgoddard_rtt109_YPD_1_R1_001.PE2SE.align.log\r\n",
      "./qc/rep1/pgoddard_rtt109_YPD_1_R1_001.PE2SE.nodup.tn5.no_chrM.25M.R1.cc.qc\r\n",
      "./qc/rep1/pgoddard_rtt109_YPD_1_R1_001.PE2SE.flagstat.qc\r\n",
      "./qc/rep1/pgoddard_rtt109_YPD_1_R1_001.PE2SE.nodup.flagstat.qc\r\n",
      "./qc/rep1/pgoddard_rtt109_YPD_1_R1_001.PE2SE.dup.qc\r\n",
      "./qc/rep1/pgoddard_rtt109_YPD_1_R1_001.PE2SE.nodup.pbc.qc\r\n",
      "./qc/pgoddard_rtt109_YPD_1_peak_overlap_final.qc\r\n",
      "\r\n",
      "== Done report()\r\n"
     ]
    }
   ],
   "source": [
    "tail  $outdir2/*log"
   ]
  },
  {
   "cell_type": "markdown",
   "metadata": {},
   "source": [
    "## Part 3: Examining the pipeline output\n",
    "\n",
    "The pipeline consists of multiple modules, with output files that include the following: \n",
    "\n",
    "```\n",
    "out                               # root dir. of outputs\n",
    "│\n",
    "├ *report.html                    #  HTML report\n",
    "├ *tracks.json                    #  Tracks datahub (JSON) for WashU browser\n",
    "├ ENCODE_summary.json             #  Metadata of all datafiles and QC results\n",
    "│\n",
    "├ align                           #  mapped alignments\n",
    "│ ├ rep1                          #   for true replicate 1 \n",
    "│ │ ├ *.trim.fastq.gz             #    adapter-trimmed fastq\n",
    "│ │ ├ *.bam                       #    raw bam\n",
    "│ │ ├ *.nodup.bam (E)             #    filtered and deduped bam\n",
    "│ │ ├ *.tagAlign.gz               #    tagAlign (bed6) generated from filtered bam\n",
    "│ │ ├ *.tn5.tagAlign.gz           #    TN5 shifted tagAlign for ATAC pipeline (not for DNase pipeline)\n",
    "│ │ └ *.*M.tagAlign.gz            #    subsampled tagAlign for cross-corr. analysis\n",
    "│ ├ rep2                          #   for true repilicate 2\n",
    "│ ...\n",
    "│ ├ pooled_rep                    #   for pooled replicate\n",
    "│ ├ pseudo_reps                   #   for self pseudo replicates\n",
    "│ │ ├ rep1                        #    for replicate 1\n",
    "│ │ │ ├ pr1                       #     for self pseudo replicate 1 of replicate 1\n",
    "│ │ │ ├ pr2                       #     for self pseudo replicate 2 of replicate 1\n",
    "│ │ ├ rep2                        #    for repilicate 2\n",
    "│ │ ...                           \n",
    "│ └ pooled_pseudo_reps            #   for pooled pseudo replicates\n",
    "│   ├ ppr1                        #    for pooled pseudo replicate 1 (rep1-pr1 + rep2-pr1 + ...)\n",
    "│   └ ppr2                        #    for pooled pseudo replicate 2 (rep1-pr2 + rep2-pr2 + ...)\n",
    "│\n",
    "├ peak                             #  peaks called\n",
    "│ └ macs2                          #   peaks generated by MACS2\n",
    "│   ├ rep1                         #    for replicate 1\n",
    "│   │ ├ *.narrowPeak.gz            #     narrowPeak (p-val threshold = 0.01)\n",
    "│   │ ├ *.filt.narrowPeak.gz (E)   #     blacklist filtered narrowPeak \n",
    "│   │ ├ *.narrowPeak.bb (E)        #     narrowPeak bigBed\n",
    "│   │ ├ *.narrowPeak.hammock.gz    #     narrowPeak track for WashU browser\n",
    "│   │ ├ *.pval0.1.narrowPeak.gz    #     narrowPeak (p-val threshold = 0.1)\n",
    "│   │ └ *.pval0.1.*K.narrowPeak.gz #     narrowPeak (p-val threshold = 0.1) with top *K peaks\n",
    "│   ├ rep2                         #    for replicate 2\n",
    "│   ...\n",
    "│   ├ pseudo_reps                          #   for self pseudo replicates\n",
    "│   ├ pooled_pseudo_reps                   #   for pooled pseudo replicates\n",
    "│   ├ overlap                              #   naive-overlapped peaks\n",
    "│   │ ├ *.naive_overlap.narrowPeak.gz      #     naive-overlapped peak\n",
    "│   │ └ *.naive_overlap.filt.narrowPeak.gz #     naive-overlapped peak after blacklist filtering\n",
    "│   └ idr                           #   IDR thresholded peaks\n",
    "│     ├ true_reps                   #    for replicate 1\n",
    "│     │ ├ *.narrowPeak.gz           #     IDR thresholded narrowPeak\n",
    "│     │ ├ *.filt.narrowPeak.gz (E)  #     IDR thresholded narrowPeak (blacklist filtered)\n",
    "│     │ └ *.12-col.bed.gz           #     IDR thresholded narrowPeak track for WashU browser\n",
    "│     ├ pseudo_reps                 #    for self pseudo replicates\n",
    "│     │ ├ rep1                      #    for replicate 1\n",
    "│     │ ...\n",
    "│     ├ optimal_set                 #    optimal IDR thresholded peaks\n",
    "│     │ └ *.filt.narrowPeak.gz (E)  #     IDR thresholded narrowPeak (blacklist filtered)\n",
    "│     ├ conservative_set            #    optimal IDR thresholded peaks\n",
    "│     │ └ *.filt.narrowPeak.gz (E)  #     IDR thresholded narrowPeak (blacklist filtered)\n",
    "│     ├ pseudo_reps                 #    for self pseudo replicates\n",
    "│     └ pooled_pseudo_reps          #    for pooled pseudo replicate\n",
    "│\n",
    "│   \n",
    "│ \n",
    "├ qc                              #  QC logs\n",
    "│ ├ *IDR_final.qc                 #   Final IDR QC\n",
    "│ ├ rep1                          #   for true replicate 1\n",
    "│ │ ├ *.align.log                 #    Bowtie2 mapping stat log\n",
    "│ │ ├ *.dup.qc                    #    Picard (or sambamba) MarkDuplicate QC log\n",
    "│ │ ├ *.pbc.qc                    #    PBC QC\n",
    "│ │ ├ *.nodup.flagstat.qc         #    Flagstat QC for filtered bam\n",
    "│ │ ├ *M.cc.qc                    #    Cross-correlation analysis score for tagAlign\n",
    "│ │ ├ *M.cc.plot.pdf/png          #    Cross-correlation analysis plot for tagAlign\n",
    "│ │ └ *_qc.html/txt               #    ATAQC report\n",
    "│ ...\n",
    "│\n",
    "├ signal                          #  signal tracks\n",
    "│ ├ macs2                         #   signal tracks generated by MACS2\n",
    "│ │ ├ rep1                        #    for true replicate 1 \n",
    "│ │ │ ├ *.pval.signal.bigwig (E)  #     signal track for p-val\n",
    "│ │ │ └ *.fc.signal.bigwig   (E)  #     signal track for fold change\n",
    "│ ...\n",
    "│ └ pooled_rep                    #   for pooled replicate\n",
    "│ \n",
    "├ report                          # files for HTML report\n",
    "└ meta                            # text files containing md5sum of output files and other metadata\n",
    "```"
   ]
  },
  {
   "cell_type": "markdown",
   "metadata": {},
   "source": [
    "Let's examine how well the reads aligned to the reference saccer3 genome. We'd like to see an overall alignment rate >=90% "
   ]
  },
  {
   "cell_type": "code",
   "execution_count": 20,
   "metadata": {},
   "outputs": [
    {
     "name": "stdout",
     "output_type": "stream",
     "text": [
      "302572 reads; of these:\r\n",
      "  302572 (100.00%) were paired; of these:\r\n",
      "    69186 (22.87%) aligned concordantly 0 times\r\n",
      "    129828 (42.91%) aligned concordantly exactly 1 time\r\n",
      "    103558 (34.23%) aligned concordantly >1 times\r\n",
      "    ----\r\n",
      "    69186 pairs aligned concordantly 0 times; of these:\r\n",
      "      22201 (32.09%) aligned discordantly 1 time\r\n",
      "    ----\r\n",
      "    46985 pairs aligned 0 times concordantly or discordantly; of these:\r\n",
      "      93970 mates make up the pairs; of these:\r\n",
      "        56485 (60.11%) aligned 0 times\r\n",
      "        510 (0.54%) aligned exactly 1 time\r\n",
      "        36975 (39.35%) aligned >1 times\r\n",
      "90.67% overall alignment rate\r\n"
     ]
    }
   ],
   "source": [
    "cat $outdir1/qc/rep1/*align.log"
   ]
  },
  {
   "cell_type": "code",
   "execution_count": 21,
   "metadata": {},
   "outputs": [
    {
     "name": "stdout",
     "output_type": "stream",
     "text": [
      "2169329 reads; of these:\r\n",
      "  2169329 (100.00%) were paired; of these:\r\n",
      "    265572 (12.24%) aligned concordantly 0 times\r\n",
      "    989355 (45.61%) aligned concordantly exactly 1 time\r\n",
      "    914402 (42.15%) aligned concordantly >1 times\r\n",
      "    ----\r\n",
      "    265572 pairs aligned concordantly 0 times; of these:\r\n",
      "      8319 (3.13%) aligned discordantly 1 time\r\n",
      "    ----\r\n",
      "    257253 pairs aligned 0 times concordantly or discordantly; of these:\r\n",
      "      514506 mates make up the pairs; of these:\r\n",
      "        491734 (95.57%) aligned 0 times\r\n",
      "        2967 (0.58%) aligned exactly 1 time\r\n",
      "        19805 (3.85%) aligned >1 times\r\n",
      "88.67% overall alignment rate\r\n"
     ]
    }
   ],
   "source": [
    "cat $outdir2/qc/rep1/*align.log"
   ]
  },
  {
   "cell_type": "markdown",
   "metadata": {},
   "source": [
    "Now, let's examine how many  peaks were called for each sample. We use the *zcat* command to examine the contents of a zipped file "
   ]
  },
  {
   "cell_type": "code",
   "execution_count": 41,
   "metadata": {},
   "outputs": [
    {
     "name": "stdout",
     "output_type": "stream",
     "text": [
      "1179\r\n"
     ]
    }
   ],
   "source": [
    "zcat $outdir1/peak/macs2/overlap/optimal_set/*narrowPeak.gz | wc -l "
   ]
  },
  {
   "cell_type": "code",
   "execution_count": 42,
   "metadata": {},
   "outputs": [
    {
     "name": "stdout",
     "output_type": "stream",
     "text": [
      "2904\r\n"
     ]
    }
   ],
   "source": [
    "zcat $outdir2/peak/macs2/overlap/optimal_set/*narrowPeak.gz | wc -l "
   ]
  },
  {
   "cell_type": "code",
   "execution_count": 43,
   "metadata": {},
   "outputs": [
    {
     "name": "stdout",
     "output_type": "stream",
     "text": [
      "chrI\t189973\t191383\tPeak_1564\t38\t.\t2.61324\t3.88988\t2.32072\t1293\r\n",
      "chrI\t189973\t191383\tPeak_1575\t38\t.\t2.58621\t3.83181\t2.26678\t1117\r\n",
      "chrI\t189973\t191383\tPeak_248\t151\t.\t5.48673\t15.17563\t12.69517\t454\r\n",
      "chrI\t189973\t191383\tPeak_276\t142\t.\t5.28169\t14.27812\t11.86040\t605\r\n",
      "chrI\t28668\t28856\tPeak_1113\t55\t.\t3.42857\t5.55696\t3.82029\t85\r\n",
      "chrI\t32938\t33365\tPeak_295\t138\t.\t4.74479\t13.87073\t11.48363\t140\r\n",
      "chrI\t34319\t35043\tPeak_1559\t39\t.\t2.49816\t3.92306\t2.35115\t291\r\n",
      "chrI\t34319\t35043\tPeak_1758\t34\t.\t2.35121\t3.44516\t1.94253\t94\r\n",
      "chrI\t34319\t35043\tPeak_511\t99\t.\t4.02085\t9.98134\t7.87844\t622\r\n",
      "chrI\t34\t638\tPeak_468\t103\t.\t5.16072\t10.39738\t8.25911\t480\r\n",
      "chrI\t34\t638\tPeak_912\t63\t.\t3.87054\t6.39987\t4.57554\t128\r\n",
      "chrI\t45144\t45634\tPeak_588\t90\t.\t4.35233\t9.05212\t7.01809\t236\r\n",
      "chrI\t62478\t62770\tPeak_789\t72\t.\t3.78486\t7.25446\t5.36251\t175\r\n",
      "chrI\t67957\t69202\tPeak_189\t172\t.\t5.05370\t17.24330\t14.61938\t616\r\n",
      "chrI\t67957\t69202\tPeak_275\t142\t.\t4.55696\t14.27955\t11.86162\t298\r\n",
      "chrI\t67957\t69202\tPeak_612\t87\t.\t3.51759\t8.79596\t6.78057\t804\r\n",
      "chrI\t67957\t69202\tPeak_892\t65\t.\t3.04375\t6.53549\t4.70368\t113\r\n",
      "chrI\t82007\t82342\tPeak_615\t87\t.\t4.64465\t8.72787\t6.71626\t100\r\n",
      "chrII\t116959\t117353\tPeak_694\t79\t.\t4.38661\t7.92711\t5.98059\t280\r\n",
      "chrII\t135734\t136450\tPeak_74\t238\t.\t6.51230\t23.86353\t20.74660\t291\r\n",
      "\r\n",
      "gzip: stdout: Broken pipe\r\n"
     ]
    }
   ],
   "source": [
    "zcat $outdir1/peak/macs2/overlap/optimal_set/*narrowPeak.gz | head -n20"
   ]
  },
  {
   "cell_type": "markdown",
   "metadata": {},
   "source": [
    "## Part 4: Visualizing signal tracks in the WashU and UCSC genome browsers ##"
   ]
  },
  {
   "cell_type": "markdown",
   "metadata": {},
   "source": [
    "The pipeline uses the MACS2 peak caller to generate two types of signal tracks across the yeast genome: \n",
    "\n",
    "* P-value Tracks \n",
    "* Fold Change Tracks "
   ]
  },
  {
   "cell_type": "code",
   "execution_count": 40,
   "metadata": {},
   "outputs": [
    {
     "name": "stdout",
     "output_type": "stream",
     "text": [
      "YPD_asf1_rep1_R1_001.PE2SE.nodup.tn5.pf.fc.signal.bigwig\r\n",
      "YPD_asf1_rep1_R1_001.PE2SE.nodup.tn5.pf.pval.signal.bigwig\r\n",
      "pgoddard_rtt109_YPD_1_R1_001.PE2SE.nodup.tn5.pf.fc.signal.bigwig\r\n",
      "pgoddard_rtt109_YPD_1_R1_001.PE2SE.nodup.tn5.pf.pval.signal.bigwig\r\n"
     ]
    }
   ],
   "source": [
    "ls $outdir1/signal/macs2/rep1/\n",
    "\n",
    "ls $outdir2/signal/macs2/rep1/"
   ]
  },
  {
   "cell_type": "markdown",
   "metadata": {},
   "source": [
    "These files are in binary format, so we cannot print their contents to the terminal, but a number of genome browser tools have been developed that allow us to visualize their contents.  Two of the most popular of these are\n",
    "\n",
    "* UCSC Genome Browser (https://genome.ucsc.edu/cgi-bin/hgGateway) \n",
    "\n",
    "* WashU Epigenome Browser (https://epigenomegateway.wustl.edu/) \n",
    "\n",
    "Both browsers enable you to upload or link your data for visualization. The most efficient way to do this, is to place your bigwig files on a publically accessible  web server, and to link to them from the browser. \n",
    "\n",
    "We have uploaded the fold change and pval bigwigs to the mitra server, here: \n",
    "\n",
    "http://mitra.stanford.edu/kundaje/tc2018\n",
    "\n",
    "In that directory, you see a folder of fc bigwig tracks (http://mitra.stanford.edu/kundaje/tc2018/fc_tracks/) as well as a folder of pval bigwig tracks (http://mitra.stanford.edu/kundaje/tc2018/pvalue_tracks/)"
   ]
  },
  {
   "cell_type": "markdown",
   "metadata": {},
   "source": [
    "You can visualize the full set of fc or pval bigwigs by following this link: http://mitra.stanford.edu/kundaje/tc2018/saccer3_tracks.html \n",
    "\n",
    "We will now go step-by-step through the process used to generate this visualization. To begin, point your browser to \n",
    "https://epigenomegateway.wustl.edu/\n"
   ]
  },
  {
   "cell_type": "markdown",
   "metadata": {},
   "source": [
    "It's quite inefficient to upload our 35 track files one by one. To visualiza files in bulk, the WashU browser allows you to upload \"datahubs\". A datahub is  a file in the json format, which use a nested syntax to specify attributes about how the files are to be visualized. If you're curious, there's more information about such json \"datahubs\" here: http://washugb.blogspot.com/2012/04/data-hub.html. \n",
    "\n",
    "\n",
    "We have generated datahubs for our fc and pval bigwig files here: \n",
    "\n",
    "http://mitra.stanford.edu/kundaje/tc2018/pval.datahub.json and\n",
    "\n",
    "http://mitra.stanford.edu/kundaje/tc2018/fc.datahub.json\n",
    "\n",
    "don't worry about the syntax of these files for now (you can generally copy the syntax of these and just replace your file names and urls). The main point is to be aware that these hubs can be used to group visualizations of multiple browser tracks. "
   ]
  },
  {
   "cell_type": "markdown",
   "metadata": {},
   "source": [
    "## Part 5: Creating a merged peak set across all samples for downstream analysis "
   ]
  },
  {
   "cell_type": "markdown",
   "metadata": {},
   "source": [
    "Finally, we merge the peaks across all conditions to create a master list of peaks for analysis. To do this, we concatenate the IDR peaks from all experiments, sort them, and merge them. \n",
    "\n",
    "We take the output of the processing pipeline from the $AGGREGATE_ANALYSIS directory. This is the same analysis you performed above, but gathered in one location for all experiments conducted. "
   ]
  },
  {
   "cell_type": "code",
   "execution_count": 44,
   "metadata": {},
   "outputs": [
    {
     "name": "stdout",
     "output_type": "stream",
     "text": []
    }
   ],
   "source": [
    "cd $WORK_DIR"
   ]
  },
  {
   "cell_type": "code",
   "execution_count": 45,
   "metadata": {},
   "outputs": [
    {
     "name": "stdout",
     "output_type": "stream",
     "text": [
      "/srv/scratch/training_camp/aggregate_analysis/yiuwong_WT_YPD_1/peak/macs2/overlap/optimal_set/yiuwong_WT_YPD_1_rep1-pr.naive_overlap.narrowPeak.gz\r\n",
      "/srv/scratch/training_camp/aggregate_analysis/yiuwong_rtt109_YPGE_1/peak/macs2/overlap/optimal_set/yiuwong_rtt109_YPGE_1_rep1-pr.naive_overlap.narrowPeak.gz\r\n",
      "/srv/scratch/training_camp/aggregate_analysis/mkoska_WT_YPGE_3/peak/macs2/overlap/optimal_set/mkoska_WT_YPGE_3_rep1-pr.naive_overlap.narrowPeak.gz\r\n",
      "/srv/scratch/training_camp/aggregate_analysis/dcotter_asf1_YPGE_3/peak/macs2/overlap/optimal_set/YPGE_asf1_rep2_rep1-pr.naive_overlap.narrowPeak.gz\r\n",
      "/srv/scratch/training_camp/aggregate_analysis/rosaxma_rtt109_YPD_4/peak/macs2/overlap/optimal_set/rosaxma_rtt109_YPD_4_rep1-pr.naive_overlap.narrowPeak.gz\r\n",
      "/srv/scratch/training_camp/aggregate_analysis/rpatel7_asf1_YPGE_4/peak/macs2/overlap/optimal_set/rpatel7_asf1_YPGE_4_rep1-pr.naive_overlap.narrowPeak.gz\r\n",
      "/srv/scratch/training_camp/aggregate_analysis/raungar_asf1_YPGE_6/peak/macs2/overlap/optimal_set/YPGE_asf1_rep1_rep1-pr.naive_overlap.narrowPeak.gz\r\n",
      "/srv/scratch/training_camp/aggregate_analysis/ktomins_WT_YPGE_5/peak/macs2/overlap/optimal_set/ktomins_WT_YPGE_5_rep1-pr.naive_overlap.narrowPeak.gz\r\n",
      "/srv/scratch/training_camp/aggregate_analysis/dmaghini_asf1_YPD_5/peak/macs2/overlap/optimal_set/dmaghini_asf1_YPD_5_rep1-pr.naive_overlap.narrowPeak.gz\r\n",
      "/srv/scratch/training_camp/aggregate_analysis/hrosenbl_WT_YPGE_1/peak/macs2/overlap/optimal_set/hrosenbl_WT_YPGE_1_rep1-pr.naive_overlap.narrowPeak.gz\r\n"
     ]
    }
   ],
   "source": [
    "\n",
    "#Use the \"find\" command to identify all IDR narrowPeak output files and write them to a file. \n",
    "find -L $AGGREGATE_ANALYSIS_DIR  -wholename \"*peak/macs2/overlap/optimal_set/*narrowPeak.gz\" > narrowPeak_files.txt\n",
    "\n",
    "#sanity check the file \n",
    "head narrowPeak_files.txt\n"
   ]
  },
  {
   "cell_type": "code",
   "execution_count": 46,
   "metadata": {},
   "outputs": [
    {
     "name": "stdout",
     "output_type": "stream",
     "text": [
      "35 narrowPeak_files.txt\r\n"
     ]
    }
   ],
   "source": [
    "wc -l narrowPeak_files.txt"
   ]
  },
  {
   "cell_type": "code",
   "execution_count": 47,
   "metadata": {},
   "outputs": [
    {
     "name": "stdout",
     "output_type": "stream",
     "text": [
      "chrI\t0\t768\tPeak_515\t3535\t.\t8.35297\t353.50931\t351.46481\t484\r\n",
      "chrI\t0\t768\tPeak_88\t9544\t.\t15.56806\t954.43042\t951.47919\t168\r\n",
      "chrI\t113337\t113580\tPeak_3252\t131\t.\t1.93954\t13.19590\t12.03852\t134\r\n",
      "chrI\t114307\t114827\tPeak_2769\t207\t.\t2.23694\t20.75704\t19.52608\t411\r\n",
      "chrI\t114307\t114827\tPeak_3937\t37\t.\t1.42233\t3.76329\t2.76032\t135\r\n",
      "chrI\t119682\t119885\tPeak_3033\t163\t.\t2.06885\t16.31106\t15.12077\t98\r\n",
      "chrI\t128874\t129274\tPeak_3147\t147\t.\t1.97935\t14.78236\t13.60782\t135\r\n",
      "chrI\t128874\t129274\tPeak_3640\t76\t.\t1.65228\t7.61521\t6.53318\t299\r\n",
      "chrI\t129841\t130841\tPeak_1518\t814\t.\t3.80832\t81.40385\t79.89246\t696\r\n",
      "chrI\t129841\t130841\tPeak_2299\t333\t.\t2.63074\t33.30013\t31.98524\t408\r\n"
     ]
    }
   ],
   "source": [
    "#Now, iterate through the list of narrowPeak files and concatenate them into a single master peak list. \n",
    "for f in `cat narrowPeak_files.txt`\n",
    "do \n",
    "    zcat $f >> all.peaks.bed\n",
    "done\n",
    "\n",
    "#sanity check the all.peaks.bed file \n",
    "head all.peaks.bed\n"
   ]
  },
  {
   "cell_type": "code",
   "execution_count": 48,
   "metadata": {},
   "outputs": [
    {
     "name": "stdout",
     "output_type": "stream",
     "text": [
      "chrI\t0\t766\tPeak_321\t2052\t.\t8.33502\t205.25972\t202.89413\t479\r\n",
      "chrI\t0\t638\tPeak_63\t3227\t.\t20.94427\t322.78024\t319.64966\t164\r\n",
      "chrI\t0\t638\tPeak_545\t769\t.\t7.35614\t76.99364\t74.98401\t476\r\n",
      "chrI\t0\t638\tPeak_113\t2100\t.\t13.71821\t210.03169\t207.20430\t154\r\n",
      "chrI\t0\t638\tPeak_300\t2198\t.\t9.27775\t219.86606\t217.47575\t482\r\n",
      "chrI\t0\t638\tPeak_58\t3931\t.\t13.36497\t393.15579\t389.91458\t155\r\n",
      "chrI\t0\t638\tPeak_507\t1012\t.\t9.74152\t101.21449\t99.17241\t466\r\n",
      "chrI\t0\t637\tPeak_21\t1879\t.\t27.93623\t187.96126\t184.36090\t156\r\n",
      "chrI\t0\t637\tPeak_484\t386\t.\t9.42228\t38.67609\t36.61895\t481\r\n",
      "chrI\t0\t857\tPeak_96\t7829\t.\t16.38464\t782.98938\t779.95404\t153\r\n"
     ]
    }
   ],
   "source": [
    "#sort the concatenated file \n",
    "bedtools sort -i all.peaks.bed > all.peaks.sorted.bed \n",
    "\n",
    "head all.peaks.sorted.bed "
   ]
  },
  {
   "cell_type": "code",
   "execution_count": 52,
   "metadata": {},
   "outputs": [
    {
     "name": "stdout",
     "output_type": "stream",
     "text": [
      "\r\n",
      "*****ERROR: Unrecognized parameter: --help *****\r\n",
      "\r\n",
      "\r\n",
      "Tool:    bedtools sort (aka sortBed)\r\n",
      "Version: v2.17.0\r\n",
      "Summary: Sorts a feature file in various and useful ways.\r\n",
      "\r\n",
      "Usage:   bedtools sort [OPTIONS] -i <bed/gff/vcf>\r\n",
      "\r\n",
      "Options: \r\n",
      "\t-sizeA\t\tSort by feature size in ascending order.\r\n",
      "\t-sizeD\t\tSort by feature size in descending order.\r\n",
      "\t-chrThenSizeA\tSort by chrom (asc), then feature size (asc).\r\n",
      "\t-chrThenSizeD\tSort by chrom (asc), then feature size (desc).\r\n",
      "\t-chrThenScoreA\tSort by chrom (asc), then score (asc).\r\n",
      "\t-chrThenScoreD\tSort by chrom (asc), then score (desc).\r\n",
      "\t-header\tPrint the header from the A file prior to results.\r\n",
      "\r\n"
     ]
    }
   ],
   "source": [
    "bedtools sort  --help "
   ]
  },
  {
   "cell_type": "code",
   "execution_count": 53,
   "metadata": {},
   "outputs": [
    {
     "name": "stdout",
     "output_type": "stream",
     "text": [
      "chrI\t0\t857\r\n",
      "chrI\t2415\t2586\r\n",
      "chrI\t6315\t6556\r\n",
      "chrI\t14706\t14936\r\n",
      "chrI\t20592\t21210\r\n",
      "chrI\t28570\t28931\r\n",
      "chrI\t29238\t29452\r\n",
      "chrI\t29729\t30050\r\n",
      "chrI\t31624\t35831\r\n",
      "chrI\t42233\t42693\r\n"
     ]
    }
   ],
   "source": [
    "#merge the sorted, concatenated fileto join overlapping peaks \n",
    "bedtools merge -i all.peaks.sorted.bed > all_merged.peaks.bed \n",
    "\n",
    "head all_merged.peaks.bed"
   ]
  },
  {
   "cell_type": "code",
   "execution_count": null,
   "metadata": {
    "collapsed": true
   },
   "outputs": [],
   "source": []
  },
  {
   "cell_type": "code",
   "execution_count": 54,
   "metadata": {},
   "outputs": [
    {
     "name": "stdout",
     "output_type": "stream",
     "text": [
      "chrI\t0\t857\t1\r\n",
      "chrI\t2415\t2586\t2\r\n",
      "chrI\t6315\t6556\t3\r\n",
      "chrI\t14706\t14936\t4\r\n",
      "chrI\t20592\t21210\t5\r\n",
      "chrI\t28570\t28931\t6\r\n",
      "chrI\t29238\t29452\t7\r\n",
      "chrI\t29729\t30050\t8\r\n",
      "chrI\t31624\t35831\t9\r\n",
      "chrI\t42233\t42693\t10\r\n"
     ]
    }
   ],
   "source": [
    "#Finally, we use the awk command to add row numbers to the merged peak file, such that each peak has a unique identifier. \n",
    "\n",
    "#We cannot do this 'in place', so we use an intermediate output file \n",
    "awk  -v OFS='\\t' '{print $0,NR}' all_merged.peaks.bed > o.tmp\n",
    "mv o.tmp all_merged.peaks.bed\n",
    "\n",
    "head all_merged.peaks.bed"
   ]
  },
  {
   "cell_type": "markdown",
   "metadata": {},
   "source": [
    "## Part 6: Creating read count and fold change matrices."
   ]
  },
  {
   "cell_type": "markdown",
   "metadata": {},
   "source": [
    "We would like to calculate the signal strength in each sample at the genomic regions in **all_merged.peaks.bed**. As we saw above, the ATAC-seq pipeline generates genome-wide fold change signal tracks for each sample that can be used for this calculation (the \\*fc.bigwig and \\*pval.bigwig files). We use the **bigWigAverageOverBed** utility to computue the mean signal from the pval tracks and the mean signal from the fold change tracks for each genomic region in each sample. "
   ]
  },
  {
   "cell_type": "code",
   "execution_count": 55,
   "metadata": {},
   "outputs": [
    {
     "name": "stdout",
     "output_type": "stream",
     "text": [
      "bigWigAverageOverBed v2 - Compute average score of big wig over each bed, which may have introns.\r\n",
      "usage:\r\n",
      "   bigWigAverageOverBed in.bw in.bed out.tab\r\n",
      "The output columns are:\r\n",
      "   name - name field from bed, which should be unique\r\n",
      "   size - size of bed (sum of exon sizes\r\n",
      "   covered - # bases within exons covered by bigWig\r\n",
      "   sum - sum of values over all bases covered\r\n",
      "   mean0 - average over bases with non-covered bases counting as zeroes\r\n",
      "   mean - average over just covered bases\r\n",
      "Options:\r\n",
      "   -stats=stats.ra - Output a collection of overall statistics to stat.ra file\r\n",
      "   -bedOut=out.bed - Make output bed that is echo of input bed but with mean column appended\r\n",
      "   -sampleAroundCenter=N - Take sample at region N bases wide centered around bed item, rather\r\n",
      "                     than the usual sample in the bed item.\r\n",
      "   -minMax - include two additional columns containing the min and max observed in the area.\r\n",
      "\r\n"
     ]
    }
   ],
   "source": [
    "bigWigAverageOverBed"
   ]
  },
  {
   "cell_type": "code",
   "execution_count": 56,
   "metadata": {},
   "outputs": [
    {
     "name": "stdout",
     "output_type": "stream",
     "text": [
      "/srv/scratch/training_camp/aggregate_analysis/yiuwong_WT_YPD_1/signal/macs2/rep1/yiuwong_WT_YPD_1_R1_001.PE2SE.nodup.tn5.pf.fc.signal.bigwig\r\n",
      "/srv/scratch/training_camp/aggregate_analysis/yiuwong_rtt109_YPGE_1/signal/macs2/rep1/yiuwong_rtt109_YPGE_1_R1_001.PE2SE.nodup.tn5.pf.fc.signal.bigwig\r\n",
      "/srv/scratch/training_camp/aggregate_analysis/mkoska_WT_YPGE_3/signal/macs2/rep1/mkoska_WT_YPGE_3_R1_001.PE2SE.nodup.tn5.pf.fc.signal.bigwig\r\n",
      "/srv/scratch/training_camp/aggregate_analysis/dcotter_asf1_YPGE_3/signal/macs2/rep1/YPGE_asf1_rep2_R1_001.PE2SE.nodup.tn5.pf.fc.signal.bigwig\r\n",
      "/srv/scratch/training_camp/aggregate_analysis/rosaxma_rtt109_YPD_4/signal/macs2/rep1/rosaxma_rtt109_YPD_4_R1_001.PE2SE.nodup.tn5.pf.fc.signal.bigwig\r\n",
      "/srv/scratch/training_camp/aggregate_analysis/rpatel7_asf1_YPGE_4/signal/macs2/rep1/rpatel7_asf1_YPGE_4_R1_001.PE2SE.nodup.tn5.pf.fc.signal.bigwig\r\n",
      "/srv/scratch/training_camp/aggregate_analysis/raungar_asf1_YPGE_6/signal/macs2/rep1/YPGE_asf1_rep1_R1_001.PE2SE.nodup.tn5.pf.fc.signal.bigwig\r\n",
      "/srv/scratch/training_camp/aggregate_analysis/ktomins_WT_YPGE_5/signal/macs2/rep1/ktomins_WT_YPGE_5_R1_001.PE2SE.nodup.tn5.pf.fc.signal.bigwig\r\n",
      "/srv/scratch/training_camp/aggregate_analysis/dmaghini_asf1_YPD_5/signal/macs2/rep1/dmaghini_asf1_YPD_5_R1_001.PE2SE.nodup.tn5.pf.fc.signal.bigwig\r\n",
      "/srv/scratch/training_camp/aggregate_analysis/hrosenbl_WT_YPGE_1/signal/macs2/rep1/hrosenbl_WT_YPGE_1_R1_001.PE2SE.nodup.tn5.pf.fc.signal.bigwig\r\n"
     ]
    }
   ],
   "source": [
    "#First, we find all the fold change bigWig files\n",
    "cd $WORK_DIR\n",
    "find -L $AGGREGATE_ANALYSIS_DIR  -name \"*fc*bigwig\" > all.fc.bigwig\n",
    "head all.fc.bigwig\n"
   ]
  },
  {
   "cell_type": "code",
   "execution_count": 57,
   "metadata": {},
   "outputs": [
    {
     "name": "stdout",
     "output_type": "stream",
     "text": [
      "35 all.fc.bigwig\r\n"
     ]
    }
   ],
   "source": [
    "wc -l all.fc.bigwig"
   ]
  },
  {
   "cell_type": "code",
   "execution_count": 58,
   "metadata": {},
   "outputs": [
    {
     "name": "stdout",
     "output_type": "stream",
     "text": [
      "yiuwong_WT_YPD_1_R1_001\r\n",
      "processing chromosomes................\r\n",
      "yiuwong_rtt109_YPGE_1_R1_001\r\n",
      "processing chromosomes................\r\n",
      "mkoska_WT_YPGE_3_R1_001\r\n",
      "processing chromosomes................\r\n",
      "YPGE_asf1_rep2_R1_001\r\n",
      "processing chromosomes................\r\n",
      "rosaxma_rtt109_YPD_4_R1_001\r\n",
      "processing chromosomes................\r\n",
      "rpatel7_asf1_YPGE_4_R1_001\r\n",
      "processing chromosomes................\r\n",
      "YPGE_asf1_rep1_R1_001\r\n",
      "processing chromosomes................\r\n",
      "ktomins_WT_YPGE_5_R1_001\r\n",
      "processing chromosomes................\r\n",
      "dmaghini_asf1_YPD_5_R1_001\r\n",
      "processing chromosomes................\r\n",
      "hrosenbl_WT_YPGE_1_R1_001\r\n",
      "processing chromosomes................\r\n",
      "gamador_rtt109_YPGE_6_R1_001\r\n",
      "processing chromosomes................\r\n",
      "ambenj_asf1_YPD_2_R1_001\r\n",
      "processing chromosomes................\r\n",
      "jarod_rtt109_YPGE_4_R1_001\r\n",
      "processing chromosomes................\r\n",
      "YPD_WT_rep2_R1_001\r\n",
      "processing chromosomes................\r\n",
      "YPD_WT_rep1_R1_001\r\n",
      "processing chromosomes................\r\n",
      "YPD_rtt109_rep1_R1_001\r\n",
      "processing chromosomes................\r\n",
      "kjhanson_rtt109_YPD_6_R1_001\r\n",
      "processing chromosomes................\r\n",
      "jkcheng_rtt109_YPGE_3_R1_001\r\n",
      "processing chromosomes................\r\n",
      "ambenj_rtt109_YPGE_2_R1_001\r\n",
      "processing chromosomes................\r\n",
      "jkcheng_WT_YPD_3_R1_001\r\n",
      "processing chromosomes................\r\n",
      "dmaghini_WT_YPD_5_R1_001\r\n",
      "processing chromosomes................\r\n",
      "YPGE_WT_rep1_R1_001\r\n",
      "processing chromosomes................\r\n",
      "YPD_rtt109_rep2_R1_001\r\n",
      "processing chromosomes................\r\n",
      "gamador_WT_YPGE_6_R1_001\r\n",
      "processing chromosomes................\r\n",
      "rosaxma_asf1_YPD_4_R1_001\r\n",
      "processing chromosomes................\r\n",
      "egreenwa_rtt109_YPD_5_R1_001\r\n",
      "processing chromosomes................\r\n",
      "pgoddard_rtt109_YPD_1_R1_001\r\n",
      "processing chromosomes................\r\n",
      "mkoska_asf1_YPD_3_R1_001\r\n",
      "processing chromosomes................\r\n",
      "kjhanson_WT_YPD_6_R1_001\r\n",
      "processing chromosomes................\r\n",
      "rpatel7_WT_YPGE_4_R1_001\r\n",
      "processing chromosomes................\r\n",
      "YPD_asf1_rep1_R1_001\r\n",
      "processing chromosomes................\r\n",
      "egreenwa_asf1_YPD_6_R1_001\r\n",
      "processing chromosomes................\r\n",
      "jarod_asf1_YPGE_5_R1_001\r\n",
      "processing chromosomes................\r\n",
      "ktomins_rtt109_YPGE_5_R1_001\r\n",
      "processing chromosomes................\r\n",
      "pgoddard_asf1_YPGE_1_R1_001\r\n",
      "processing chromosomes................\r\n",
      "ambenj_asf1_YPD_2_R1_001\tambenj_rtt109_YPGE_2_R1_001\tdmaghini_asf1_YPD_5_R1_001\tdmaghini_WT_YPD_5_R1_001\tegreenwa_asf1_YPD_6_R1_001\tegreenwa_rtt109_YPD_5_R1_001\tgamador_rtt109_YPGE_6_R1_001\tgamador_WT_YPGE_6_R1_001\throsenbl_WT_YPGE_1_R1_001\tjarod_asf1_YPGE_5_R1_001\tjarod_rtt109_YPGE_4_R1_001\tjkcheng_rtt109_YPGE_3_R1_001\tjkcheng_WT_YPD_3_R1_001\tkjhanson_rtt109_YPD_6_R1_001\tkjhanson_WT_YPD_6_R1_001\tktomins_rtt109_YPGE_5_R1_001\tktomins_WT_YPGE_5_R1_001\tmkoska_asf1_YPD_3_R1_001\tmkoska_WT_YPGE_3_R1_001\tpgoddard_asf1_YPGE_1_R1_001\tpgoddard_rtt109_YPD_1_R1_001\trosaxma_asf1_YPD_4_R1_001\trosaxma_rtt109_YPD_4_R1_001\trpatel7_asf1_YPGE_4_R1_001\trpatel7_WT_YPGE_4_R1_001\tyiuwong_rtt109_YPGE_1_R1_001\tyiuwong_WT_YPD_1_R1_001\tYPD_asf1_rep1_R1_001\tYPD_rtt109_rep1_R1_001\tYPD_rtt109_rep2_R1_001\tYPD_WT_rep1_R1_001\tYPD_WT_rep2_R1_001\tYPGE_asf1_rep1_R1_001\tYPGE_asf1_rep2_R1_001\tYPGE_WT_rep1_R1_001\r\n",
      "4.25008\t7.21524\t4.27744\t6.06117\t5.64958\t10.6068\t6.53717\t9.58935\t5.73521\t6.11552\t6.1878\t6.54996\t5.88486\t8.36391\t9.53371\t3.61219\t6.22783\t5.56345\t8.38938\t4.85431\t5.62175\t5.86927\t6.23959\t7.97977\t7.07626\t4.6925\t6.81927\t3.10887\t2.32237\t2.94599\t4.56884\t3.93238\t1.47424\t2.63765\t4.39358\r\n",
      "0.377759\t1.26268\t0.736095\t0.753564\t0.81567\t0.2346\t1.27518\t2.02629\t0.970737\t0.999169\t0.98321\t0.568442\t1.37612\t0.567562\t0.740491\t0.573329\t1.81099\t0.701358\t2.30776\t0.849584\t0.783137\t0.484494\t0.849638\t1.56737\t1.90316\t1.19843\t0.65414\t0.536914\t0.0555936\t0.752\t1.08473\t0.710649\t0.262138\t0.0835368\t1.03899\r\n",
      "1.46047\t1.97312\t0.537888\t1.01442\t0.687648\t2.49728\t1.7998\t1.88329\t1.50269\t2.19324\t1.17628\t1.60922\t1.64657\t1.17585\t1.44728\t0.761486\t3.34711\t1.42927\t4.24856\t1.58515\t0.955645\t0.760677\t0.710466\t2.2388\t1.79931\t1.5907\t1.33541\t1.60467\t0.683204\t2.29198\t0.597739\t2.1581\t2.2692\t2.17728\t2.38209\r\n",
      "0.598293\t1.11692\t0.576961\t1.01051\t0.263069\t0.455492\t0.772786\t0.944505\t0.606772\t0.684711\t0.751452\t1.08807\t0.816992\t0.548815\t1.02961\t0.423935\t1.66257\t0.564851\t1.98527\t0.73996\t0.619029\t0.378858\t0.673569\t0.531322\t1.11548\t0.743553\t0.86099\t0.193542\t0.414979\t1.26887\t0\t1.36892\t0.511058\t0.570005\t1.18885\r\n",
      "2.325\t4.03771\t1.51029\t2.36218\t2.14784\t2.13967\t2.55612\t2.82231\t2.45376\t2.89932\t2.25133\t2.88824\t2.73506\t2.77854\t3.06371\t1.69673\t3.52147\t2.84552\t5.29399\t3.20363\t2.20389\t2.17795\t2.48071\t2.37238\t2.91713\t2.02504\t3.22311\t1.72762\t1.9419\t1.72709\t3.02092\t1.80219\t1.91275\t2.07772\t2.24995\r\n",
      "1.99829\t1.32526\t0.432231\t1.16323\t1.26902\t1.72192\t1.02517\t1.37833\t1.29786\t1.31869\t1.04177\t2.34291\t1.28338\t1.57734\t2.14249\t1.09853\t1.22247\t1.46664\t1.74784\t1.61397\t1.02853\t1.34815\t0.821969\t1.10952\t1.47932\t0.918728\t2.11886\t2.50876\t1.94762\t3.48789\t2.30091\t2.7389\t1.30966\t1.67082\t1.26606\r\n",
      "0.640941\t0.907474\t0.291098\t0.701438\t0.275154\t0.0456492\t0.660749\t1.20898\t1.06569\t1.51182\t0.640156\t0.734303\t0.680448\t0.341071\t0.321041\t0.703922\t1.32974\t0.446298\t1.84041\t1.13098\t0.455274\t0.498883\t0.321632\t0.737996\t1.19179\t0.606206\t0.685321\t1.1782\t0.499333\t0.314497\t1.12183\t1.44734\t1.18826\t0.984157\t1.34533\r\n",
      "1.46266\t1.76528\t0.707686\t1.22262\t1.31234\t1.77632\t1.21747\t2.0212\t1.31278\t1.42227\t1.38662\t1.23174\t1.45503\t1.56729\t1.56033\t1.49212\t2.38006\t1.46687\t2.15954\t1.80096\t1.49276\t0.838781\t1.26469\t0.894633\t1.45741\t0.952233\t1.2568\t1.68227\t1.17259\t1.42607\t2.40622\t1.4232\t2.27091\t1.99204\t1.98337\r\n",
      "1.82125\t1.91638\t2.05236\t1.9235\t1.89141\t1.98805\t1.88781\t1.85097\t1.89729\t1.82552\t1.88233\t1.81638\t1.86308\t1.98529\t1.96413\t1.6375\t1.74682\t1.91415\t1.81447\t1.74075\t1.9603\t1.99522\t2.01251\t2.00375\t1.79353\t1.86266\t1.85963\t1.67935\t1.77978\t1.73599\t1.70551\t1.74893\t1.53992\t1.69163\t1.6679\r\n"
     ]
    }
   ],
   "source": [
    "#Iterate through all bigWig fold change tracks to compute mean signal strength at each genomic region \n",
    "for f in `cat all.fc.bigwig`\n",
    "do\n",
    "\n",
    "    #we extract the part of the filename that corresponds to the sample name and write it as the header in the fc.signal file\n",
    "    sample_name=`basename $f | awk -F'[.]' '{print $1}'`\n",
    "    echo \"$sample_name\"\n",
    "    echo $sample_name > $sample_name.fc.signal.tmp \n",
    "    \n",
    "    \n",
    "    bigWigAverageOverBed $f all_merged.peaks.bed $sample_name.fc.signal.data.tmp \n",
    "    cut -f5 $sample_name.fc.signal.data.tmp >> $sample_name.fc.signal.tmp\n",
    "\n",
    "    #cleanup the intermediate file \n",
    "    rm $sample_name.fc.signal.data.tmp \n",
    "done\n",
    "paste *fc.signal.tmp > all.fc.txt\n",
    "#cleanup intermediate files that were generated \n",
    "rm *.tmp\n",
    "\n",
    "#examine the output \n",
    "head all.fc.txt"
   ]
  },
  {
   "cell_type": "markdown",
   "metadata": {},
   "source": [
    "In addition to the fold change data matrix, we would also like to know the number of reads that pile up at each peak region. This is useful for determining differential chromatin accessibility across samples. \n",
    "To calculate the read count matrix, we will use the **bedtools coverage** command on the *tagAlign* files generated by the processing pipeline. "
   ]
  },
  {
   "cell_type": "code",
   "execution_count": 59,
   "metadata": {},
   "outputs": [
    {
     "name": "stdout",
     "output_type": "stream",
     "text": [
      "/srv/scratch/training_camp/aggregate_analysis/yiuwong_WT_YPD_1/align/rep1/yiuwong_WT_YPD_1_R1_001.PE2SE.nodup.tn5.no_chrM.25M.R1.tagAlign.gz\r\n",
      "/srv/scratch/training_camp/aggregate_analysis/yiuwong_rtt109_YPGE_1/align/rep1/yiuwong_rtt109_YPGE_1_R1_001.PE2SE.nodup.tn5.no_chrM.25M.R1.tagAlign.gz\r\n",
      "/srv/scratch/training_camp/aggregate_analysis/mkoska_WT_YPGE_3/align/rep1/mkoska_WT_YPGE_3_R1_001.PE2SE.nodup.tn5.no_chrM.25M.R1.tagAlign.gz\r\n",
      "/srv/scratch/training_camp/aggregate_analysis/dcotter_asf1_YPGE_3/align/rep1/YPGE_asf1_rep2_R1_001.PE2SE.nodup.tn5.no_chrM.25M.R1.tagAlign.gz\r\n",
      "/srv/scratch/training_camp/aggregate_analysis/rosaxma_rtt109_YPD_4/align/rep1/rosaxma_rtt109_YPD_4_R1_001.PE2SE.nodup.tn5.no_chrM.25M.R1.tagAlign.gz\r\n",
      "/srv/scratch/training_camp/aggregate_analysis/rpatel7_asf1_YPGE_4/align/rep1/rpatel7_asf1_YPGE_4_R1_001.PE2SE.nodup.tn5.no_chrM.25M.R1.tagAlign.gz\r\n",
      "/srv/scratch/training_camp/aggregate_analysis/raungar_asf1_YPGE_6/align/rep1/YPGE_asf1_rep1_R1_001.PE2SE.nodup.tn5.no_chrM.25M.R1.tagAlign.gz\r\n",
      "/srv/scratch/training_camp/aggregate_analysis/ktomins_WT_YPGE_5/align/rep1/ktomins_WT_YPGE_5_R1_001.PE2SE.nodup.tn5.no_chrM.25M.R1.tagAlign.gz\r\n",
      "/srv/scratch/training_camp/aggregate_analysis/dmaghini_asf1_YPD_5/align/rep1/dmaghini_asf1_YPD_5_R1_001.PE2SE.nodup.tn5.no_chrM.25M.R1.tagAlign.gz\r\n",
      "/srv/scratch/training_camp/aggregate_analysis/hrosenbl_WT_YPGE_1/align/rep1/hrosenbl_WT_YPGE_1_R1_001.PE2SE.nodup.tn5.no_chrM.25M.R1.tagAlign.gz\r\n"
     ]
    }
   ],
   "source": [
    "#First, we find all the tagAlign\n",
    "cd $WORK_DIR\n",
    "find -L $AGGREGATE_ANALYSIS_DIR  -name \"*nodup.tn5.no_chrM.25M.R1.tagAlign*\" > all.tagAlign.files.txt\n",
    "\n",
    "head all.tagAlign.files.txt"
   ]
  },
  {
   "cell_type": "code",
   "execution_count": 60,
   "metadata": {},
   "outputs": [
    {
     "name": "stdout",
     "output_type": "stream",
     "text": [
      "35 all.tagAlign.files.txt\r\n"
     ]
    }
   ],
   "source": [
    "wc -l all.tagAlign.files.txt"
   ]
  },
  {
   "cell_type": "code",
   "execution_count": 61,
   "metadata": {},
   "outputs": [
    {
     "name": "stdout",
     "output_type": "stream",
     "text": [
      "\r\n",
      "Tool:    bedtools coverage (aka coverageBed)\r\n",
      "Version: v2.17.0\r\n",
      "Summary: Returns the depth and breadth of coverage of features from A\r\n",
      "\t on the intervals in B.\r\n",
      "\r\n",
      "Usage:   bedtools coverage [OPTIONS] -a <bed/gff/vcf> -b <bed/gff/vcf>\r\n",
      "\r\n",
      "Options: \r\n",
      "\t-abam\tThe A input file is in BAM format.\r\n",
      "\r\n",
      "\t-s\tRequire same strandedness.  That is, only counts hits in A that\r\n",
      "\t\toverlap B on the _same_ strand.\r\n",
      "\t\t- By default, overlaps are counted without respect to strand.\r\n",
      "\r\n",
      "\t-S\tRequire different strandedness.  That is, only report hits in A\r\n",
      "\t\tthat overlap B on the _opposite_ strand.\r\n",
      "\t\t- By default, overlaps are counted without respect to strand.\r\n",
      "\r\n",
      "\t-hist\tReport a histogram of coverage for each feature in B\r\n",
      "\t\tas well as a summary histogram for _all_ features in B.\r\n",
      "\r\n",
      "\t\tOutput (tab delimited) after each feature in B:\r\n",
      "\t\t  1) depth\r\n",
      "\t\t  2) # bases at depth\r\n",
      "\t\t  3) size of B\r\n",
      "\t\t  4) % of B at depth\r\n",
      "\r\n",
      "\t-d\tReport the depth at each position in each B feature.\r\n",
      "\t\tPositions reported are one based.  Each position\r\n",
      "\t\tand depth follow the complete B feature.\r\n",
      "\r\n",
      "\t-counts\tOnly report the count of overlaps, don't compute fraction, etc.\r\n",
      "\r\n",
      "\t-split\tTreat \"split\" BAM or BED12 entries as distinct BED intervals.\r\n",
      "\t\twhen computing coverage.\r\n",
      "\t\tFor BAM files, this uses the CIGAR \"N\" and \"D\" operations \r\n",
      "\t\tto infer the blocks for computing coverage.\r\n",
      "\t\tFor BED12 files, this uses the BlockCount, BlockStarts,\r\n",
      "\t\tand BlockEnds fields (i.e., columns 10,11,12).\r\n",
      "\r\n",
      "Default Output:  \r\n",
      "\t After each entry in B, reports: \r\n",
      "\t   1) The number of features in A that overlapped the B interval.\r\n",
      "\t   2) The number of bases in B that had non-zero coverage.\r\n",
      "\t   3) The length of the entry in B.\r\n",
      "\t   4) The fraction of bases in B that had non-zero coverage.\r\n",
      "\r\n"
     ]
    }
   ],
   "source": [
    "#Let's see how the bedtools coverage command works\n",
    "bedtools coverage"
   ]
  },
  {
   "cell_type": "code",
   "execution_count": 62,
   "metadata": {},
   "outputs": [
    {
     "name": "stdout",
     "output_type": "stream",
     "text": [
      "yiuwong_WT_YPD_1_R1_001\r\n",
      "yiuwong_rtt109_YPGE_1_R1_001\r\n",
      "mkoska_WT_YPGE_3_R1_001\r\n",
      "YPGE_asf1_rep2_R1_001\r\n",
      "rosaxma_rtt109_YPD_4_R1_001\r\n",
      "rpatel7_asf1_YPGE_4_R1_001\r\n",
      "YPGE_asf1_rep1_R1_001\r\n",
      "ktomins_WT_YPGE_5_R1_001\r\n",
      "dmaghini_asf1_YPD_5_R1_001\r\n",
      "hrosenbl_WT_YPGE_1_R1_001\r\n",
      "gamador_rtt109_YPGE_6_R1_001\r\n",
      "ambenj_asf1_YPD_2_R1_001\r\n",
      "jarod_rtt109_YPGE_4_R1_001\r\n",
      "YPD_WT_rep2_R1_001\r\n",
      "YPD_WT_rep1_R1_001\r\n",
      "YPD_rtt109_rep1_R1_001\r\n",
      "kjhanson_rtt109_YPD_6_R1_001\r\n",
      "jkcheng_rtt109_YPGE_3_R1_001\r\n",
      "ambenj_rtt109_YPGE_2_R1_001\r\n",
      "jkcheng_WT_YPD_3_R1_001\r\n",
      "dmaghini_WT_YPD_5_R1_001\r\n",
      "YPGE_WT_rep1_R1_001\r\n",
      "YPD_rtt109_rep2_R1_001\r\n",
      "gamador_WT_YPGE_6_R1_001\r\n",
      "rosaxma_asf1_YPD_4_R1_001\r\n",
      "egreenwa_rtt109_YPD_5_R1_001\r\n",
      "pgoddard_rtt109_YPD_1_R1_001\r\n",
      "mkoska_asf1_YPD_3_R1_001\r\n",
      "kjhanson_WT_YPD_6_R1_001\r\n",
      "rpatel7_WT_YPGE_4_R1_001\r\n",
      "YPD_asf1_rep1_R1_001\r\n",
      "egreenwa_asf1_YPD_6_R1_001\r\n",
      "jarod_asf1_YPGE_5_R1_001\r\n",
      "ktomins_rtt109_YPGE_5_R1_001\r\n",
      "pgoddard_asf1_YPGE_1_R1_001\r\n",
      "ambenj_asf1_YPD_2_R1_001\tambenj_rtt109_YPGE_2_R1_001\tdmaghini_asf1_YPD_5_R1_001\tdmaghini_WT_YPD_5_R1_001\tegreenwa_asf1_YPD_6_R1_001\tegreenwa_rtt109_YPD_5_R1_001\tgamador_rtt109_YPGE_6_R1_001\tgamador_WT_YPGE_6_R1_001\throsenbl_WT_YPGE_1_R1_001\tjarod_asf1_YPGE_5_R1_001\tjarod_rtt109_YPGE_4_R1_001\tjkcheng_rtt109_YPGE_3_R1_001\tjkcheng_WT_YPD_3_R1_001\tkjhanson_rtt109_YPD_6_R1_001\tkjhanson_WT_YPD_6_R1_001\tktomins_rtt109_YPGE_5_R1_001\tktomins_WT_YPGE_5_R1_001\tmkoska_asf1_YPD_3_R1_001\tmkoska_WT_YPGE_3_R1_001\tpgoddard_asf1_YPGE_1_R1_001\tpgoddard_rtt109_YPD_1_R1_001\trosaxma_asf1_YPD_4_R1_001\trosaxma_rtt109_YPD_4_R1_001\trpatel7_asf1_YPGE_4_R1_001\trpatel7_WT_YPGE_4_R1_001\tyiuwong_rtt109_YPGE_1_R1_001\tyiuwong_WT_YPD_1_R1_001\tYPD_asf1_rep1_R1_001\tYPD_rtt109_rep1_R1_001\tYPD_rtt109_rep2_R1_001\tYPD_WT_rep1_R1_001\tYPD_WT_rep2_R1_001\tYPGE_asf1_rep1_R1_001\tYPGE_asf1_rep2_R1_001\tYPGE_WT_rep1_R1_001\r\n",
      "36\t25\t21\t35\t14\t11\t58\t18\t50\t33\t10\t77\t40\t31\t22\t25\t8\t131\t17\t102\t39\t30\t27\t3\t51\t57\t88\t3\t1\t7\t3\t3\t4\t3\t4\r\n",
      "1354\t2882\t1503\t2884\t560\t354\t2873\t1347\t4899\t2759\t1441\t3221\t3123\t1009\t948\t1032\t703\t4604\t6601\t6020\t1513\t1459\t1239\t285\t3889\t4071\t5241\t136\t108\t160\t111\t212\t139\t162\t220\r\n",
      "217\t222\t155\t350\t70\t48\t258\t88\t252\t209\t122\t398\t293\t163\t130\t144\t46\t692\t304\t405\t212\t222\t225\t17\t298\t307\t785\t15\t10\t19\t14\t30\t18\t26\t33\r\n",
      "329\t306\t183\t451\t142\t57\t433\t97\t504\t378\t216\t466\t493\t150\t109\t232\t99\t801\t474\t999\t164\t240\t142\t30\t520\t633\t655\t30\t26\t26\t22\t30\t41\t29\t43\r\n",
      "319\t839\t197\t660\t133\t154\t823\t392\t946\t685\t403\t1009\t952\t372\t320\t272\t204\t1114\t1400\t1189\t368\t322\t315\t72\t1095\t831\t1503\t26\t17\t28\t28\t40\t13\t25\t48\r\n",
      "4\t36\t7\t21\t5\t1\t36\t20\t38\t24\t9\t19\t45\t7\t6\t9\t16\t32\t87\t35\t12\t5\t13\t4\t63\t50\t30\t2\t0\t2\t1\t1\t0\t1\t2\r\n",
      "33\t66\t6\t31\t5\t11\t65\t22\t72\t78\t24\t76\t79\t15\t14\t16\t31\t91\t213\t114\t23\t13\t13\t6\t82\t87\t80\t4\t1\t6\t2\t6\t6\t7\t7\r\n",
      "10\t36\t7\t32\t2\t2\t31\t11\t29\t21\t11\t46\t41\t7\t11\t9\t16\t27\t100\t53\t14\t7\t9\t1\t52\t39\t49\t1\t0\t4\t0\t5\t2\t2\t4\r\n",
      "129\t336\t50\t186\t37\t23\t232\t85\t291\t238\t103\t324\t326\t91\t75\t96\t80\t406\t634\t570\t107\t88\t94\t15\t332\t260\t503\t10\t11\t12\t13\t13\t12\t14\t19\r\n"
     ]
    }
   ],
   "source": [
    "#Iterate through all tagAlign files to compute read count at each peak region.  \n",
    "for f in `cat all.tagAlign.files.txt`\n",
    "do\n",
    "    sample_name=`basename $f | awk -F'[.]' '{print $1}'`\n",
    "    echo \"$sample_name\"\n",
    "    echo $sample_name > $sample_name.readcount.tmp \n",
    "    zcat $f | bedtools coverage -counts -a stdin -b all_merged.peaks.bed  | cut -f5 >>$sample_name.readcount.tmp \n",
    "done\n",
    "paste *.readcount.tmp > all.readcount.txt\n",
    "#cleanup the temporary files\n",
    "rm *.tmp\n",
    "\n",
    "#examine the output \n",
    "head all.readcount.txt"
   ]
  },
  {
   "cell_type": "markdown",
   "metadata": {},
   "source": [
    "We observe that the counts in the first and second columns are on a different scale. This makes sense because if a particular sample had more reads to begin with, the raw counts for each peak will be higher. \n",
    "We can address this problem with sample normalization, covered in the next section.\n"
   ]
  },
  {
   "cell_type": "code",
   "execution_count": 63,
   "metadata": {},
   "outputs": [
    {
     "name": "stdout",
     "output_type": "stream",
     "text": []
    }
   ],
   "source": [
    "#Finally, we add in the peak names to our counts file and fold change file so we can keep track of which row \n",
    "#corresponds to which peak. \n",
    "\n",
    "\n",
    "#add a header to the merged peak file \n",
    "sed -i '1i\\Chrom\\tStart\\tEnd\\tID' all_merged.peaks.bed\n",
    "\n",
    "#paste the peak bed file region annotation matrix to the signal matrix\n",
    "paste all_merged.peaks.bed all.fc.txt > o.tmp \n",
    "mv o.tmp all.fc.txt \n",
    "\n",
    "paste all_merged.peaks.bed all.readcount.txt > o.tmp\n",
    "mv o.tmp all.readcount.txt"
   ]
  },
  {
   "cell_type": "code",
   "execution_count": 64,
   "metadata": {},
   "outputs": [
    {
     "name": "stdout",
     "output_type": "stream",
     "text": [
      "Chrom\tStart\tEnd\tID\tambenj_asf1_YPD_2_R1_001\tambenj_rtt109_YPGE_2_R1_001\tdmaghini_asf1_YPD_5_R1_001\tdmaghini_WT_YPD_5_R1_001\tegreenwa_asf1_YPD_6_R1_001\tegreenwa_rtt109_YPD_5_R1_001\tgamador_rtt109_YPGE_6_R1_001\tgamador_WT_YPGE_6_R1_001\throsenbl_WT_YPGE_1_R1_001\tjarod_asf1_YPGE_5_R1_001\tjarod_rtt109_YPGE_4_R1_001\tjkcheng_rtt109_YPGE_3_R1_001\tjkcheng_WT_YPD_3_R1_001\tkjhanson_rtt109_YPD_6_R1_001\tkjhanson_WT_YPD_6_R1_001\tktomins_rtt109_YPGE_5_R1_001\tktomins_WT_YPGE_5_R1_001\tmkoska_asf1_YPD_3_R1_001\tmkoska_WT_YPGE_3_R1_001\tpgoddard_asf1_YPGE_1_R1_001\tpgoddard_rtt109_YPD_1_R1_001\trosaxma_asf1_YPD_4_R1_001\trosaxma_rtt109_YPD_4_R1_001\trpatel7_asf1_YPGE_4_R1_001\trpatel7_WT_YPGE_4_R1_001\tyiuwong_rtt109_YPGE_1_R1_001\tyiuwong_WT_YPD_1_R1_001\tYPD_asf1_rep1_R1_001\tYPD_rtt109_rep1_R1_001\tYPD_rtt109_rep2_R1_001\tYPD_WT_rep1_R1_001\tYPD_WT_rep2_R1_001\tYPGE_asf1_rep1_R1_001\tYPGE_asf1_rep2_R1_001\tYPGE_WT_rep1_R1_001\r\n",
      "chrI\t0\t857\t1\t36\t25\t21\t35\t14\t11\t58\t18\t50\t33\t10\t77\t40\t31\t22\t25\t8\t131\t17\t102\t39\t30\t27\t3\t51\t57\t88\t3\t1\t7\t3\t3\t4\t3\t4\r\n",
      "chrI\t2415\t2586\t2\t1354\t2882\t1503\t2884\t560\t354\t2873\t1347\t4899\t2759\t1441\t3221\t3123\t1009\t948\t1032\t703\t4604\t6601\t6020\t1513\t1459\t1239\t285\t3889\t4071\t5241\t136\t108\t160\t111\t212\t139\t162\t220\r\n",
      "chrI\t6315\t6556\t3\t217\t222\t155\t350\t70\t48\t258\t88\t252\t209\t122\t398\t293\t163\t130\t144\t46\t692\t304\t405\t212\t222\t225\t17\t298\t307\t785\t15\t10\t19\t14\t30\t18\t26\t33\r\n",
      "chrI\t14706\t14936\t4\t329\t306\t183\t451\t142\t57\t433\t97\t504\t378\t216\t466\t493\t150\t109\t232\t99\t801\t474\t999\t164\t240\t142\t30\t520\t633\t655\t30\t26\t26\t22\t30\t41\t29\t43\r\n",
      "chrI\t20592\t21210\t5\t319\t839\t197\t660\t133\t154\t823\t392\t946\t685\t403\t1009\t952\t372\t320\t272\t204\t1114\t1400\t1189\t368\t322\t315\t72\t1095\t831\t1503\t26\t17\t28\t28\t40\t13\t25\t48\r\n",
      "chrI\t28570\t28931\t6\t4\t36\t7\t21\t5\t1\t36\t20\t38\t24\t9\t19\t45\t7\t6\t9\t16\t32\t87\t35\t12\t5\t13\t4\t63\t50\t30\t2\t0\t2\t1\t1\t0\t1\t2\r\n",
      "chrI\t29238\t29452\t7\t33\t66\t6\t31\t5\t11\t65\t22\t72\t78\t24\t76\t79\t15\t14\t16\t31\t91\t213\t114\t23\t13\t13\t6\t82\t87\t80\t4\t1\t6\t2\t6\t6\t7\t7\r\n",
      "chrI\t29729\t30050\t8\t10\t36\t7\t32\t2\t2\t31\t11\t29\t21\t11\t46\t41\t7\t11\t9\t16\t27\t100\t53\t14\t7\t9\t1\t52\t39\t49\t1\t0\t4\t0\t5\t2\t2\t4\r\n",
      "chrI\t31624\t35831\t9\t129\t336\t50\t186\t37\t23\t232\t85\t291\t238\t103\t324\t326\t91\t75\t96\t80\t406\t634\t570\t107\t88\t94\t15\t332\t260\t503\t10\t11\t12\t13\t13\t12\t14\t19\r\n"
     ]
    }
   ],
   "source": [
    "head all.readcount.txt\n"
   ]
  },
  {
   "cell_type": "code",
   "execution_count": 65,
   "metadata": {},
   "outputs": [
    {
     "name": "stdout",
     "output_type": "stream",
     "text": [
      "Chrom\tStart\tEnd\tID\tambenj_asf1_YPD_2_R1_001\tambenj_rtt109_YPGE_2_R1_001\tdmaghini_asf1_YPD_5_R1_001\tdmaghini_WT_YPD_5_R1_001\tegreenwa_asf1_YPD_6_R1_001\tegreenwa_rtt109_YPD_5_R1_001\tgamador_rtt109_YPGE_6_R1_001\tgamador_WT_YPGE_6_R1_001\throsenbl_WT_YPGE_1_R1_001\tjarod_asf1_YPGE_5_R1_001\tjarod_rtt109_YPGE_4_R1_001\tjkcheng_rtt109_YPGE_3_R1_001\tjkcheng_WT_YPD_3_R1_001\tkjhanson_rtt109_YPD_6_R1_001\tkjhanson_WT_YPD_6_R1_001\tktomins_rtt109_YPGE_5_R1_001\tktomins_WT_YPGE_5_R1_001\tmkoska_asf1_YPD_3_R1_001\tmkoska_WT_YPGE_3_R1_001\tpgoddard_asf1_YPGE_1_R1_001\tpgoddard_rtt109_YPD_1_R1_001\trosaxma_asf1_YPD_4_R1_001\trosaxma_rtt109_YPD_4_R1_001\trpatel7_asf1_YPGE_4_R1_001\trpatel7_WT_YPGE_4_R1_001\tyiuwong_rtt109_YPGE_1_R1_001\tyiuwong_WT_YPD_1_R1_001\tYPD_asf1_rep1_R1_001\tYPD_rtt109_rep1_R1_001\tYPD_rtt109_rep2_R1_001\tYPD_WT_rep1_R1_001\tYPD_WT_rep2_R1_001\tYPGE_asf1_rep1_R1_001\tYPGE_asf1_rep2_R1_001\tYPGE_WT_rep1_R1_001\r\n",
      "chrI\t0\t857\t1\t4.25008\t7.21524\t4.27744\t6.06117\t5.64958\t10.6068\t6.53717\t9.58935\t5.73521\t6.11552\t6.1878\t6.54996\t5.88486\t8.36391\t9.53371\t3.61219\t6.22783\t5.56345\t8.38938\t4.85431\t5.62175\t5.86927\t6.23959\t7.97977\t7.07626\t4.6925\t6.81927\t3.10887\t2.32237\t2.94599\t4.56884\t3.93238\t1.47424\t2.63765\t4.39358\r\n",
      "chrI\t2415\t2586\t2\t0.377759\t1.26268\t0.736095\t0.753564\t0.81567\t0.2346\t1.27518\t2.02629\t0.970737\t0.999169\t0.98321\t0.568442\t1.37612\t0.567562\t0.740491\t0.573329\t1.81099\t0.701358\t2.30776\t0.849584\t0.783137\t0.484494\t0.849638\t1.56737\t1.90316\t1.19843\t0.65414\t0.536914\t0.0555936\t0.752\t1.08473\t0.710649\t0.262138\t0.0835368\t1.03899\r\n",
      "chrI\t6315\t6556\t3\t1.46047\t1.97312\t0.537888\t1.01442\t0.687648\t2.49728\t1.7998\t1.88329\t1.50269\t2.19324\t1.17628\t1.60922\t1.64657\t1.17585\t1.44728\t0.761486\t3.34711\t1.42927\t4.24856\t1.58515\t0.955645\t0.760677\t0.710466\t2.2388\t1.79931\t1.5907\t1.33541\t1.60467\t0.683204\t2.29198\t0.597739\t2.1581\t2.2692\t2.17728\t2.38209\r\n",
      "chrI\t14706\t14936\t4\t0.598293\t1.11692\t0.576961\t1.01051\t0.263069\t0.455492\t0.772786\t0.944505\t0.606772\t0.684711\t0.751452\t1.08807\t0.816992\t0.548815\t1.02961\t0.423935\t1.66257\t0.564851\t1.98527\t0.73996\t0.619029\t0.378858\t0.673569\t0.531322\t1.11548\t0.743553\t0.86099\t0.193542\t0.414979\t1.26887\t0\t1.36892\t0.511058\t0.570005\t1.18885\r\n",
      "chrI\t20592\t21210\t5\t2.325\t4.03771\t1.51029\t2.36218\t2.14784\t2.13967\t2.55612\t2.82231\t2.45376\t2.89932\t2.25133\t2.88824\t2.73506\t2.77854\t3.06371\t1.69673\t3.52147\t2.84552\t5.29399\t3.20363\t2.20389\t2.17795\t2.48071\t2.37238\t2.91713\t2.02504\t3.22311\t1.72762\t1.9419\t1.72709\t3.02092\t1.80219\t1.91275\t2.07772\t2.24995\r\n",
      "chrI\t28570\t28931\t6\t1.99829\t1.32526\t0.432231\t1.16323\t1.26902\t1.72192\t1.02517\t1.37833\t1.29786\t1.31869\t1.04177\t2.34291\t1.28338\t1.57734\t2.14249\t1.09853\t1.22247\t1.46664\t1.74784\t1.61397\t1.02853\t1.34815\t0.821969\t1.10952\t1.47932\t0.918728\t2.11886\t2.50876\t1.94762\t3.48789\t2.30091\t2.7389\t1.30966\t1.67082\t1.26606\r\n",
      "chrI\t29238\t29452\t7\t0.640941\t0.907474\t0.291098\t0.701438\t0.275154\t0.0456492\t0.660749\t1.20898\t1.06569\t1.51182\t0.640156\t0.734303\t0.680448\t0.341071\t0.321041\t0.703922\t1.32974\t0.446298\t1.84041\t1.13098\t0.455274\t0.498883\t0.321632\t0.737996\t1.19179\t0.606206\t0.685321\t1.1782\t0.499333\t0.314497\t1.12183\t1.44734\t1.18826\t0.984157\t1.34533\r\n",
      "chrI\t29729\t30050\t8\t1.46266\t1.76528\t0.707686\t1.22262\t1.31234\t1.77632\t1.21747\t2.0212\t1.31278\t1.42227\t1.38662\t1.23174\t1.45503\t1.56729\t1.56033\t1.49212\t2.38006\t1.46687\t2.15954\t1.80096\t1.49276\t0.838781\t1.26469\t0.894633\t1.45741\t0.952233\t1.2568\t1.68227\t1.17259\t1.42607\t2.40622\t1.4232\t2.27091\t1.99204\t1.98337\r\n",
      "chrI\t31624\t35831\t9\t1.82125\t1.91638\t2.05236\t1.9235\t1.89141\t1.98805\t1.88781\t1.85097\t1.89729\t1.82552\t1.88233\t1.81638\t1.86308\t1.98529\t1.96413\t1.6375\t1.74682\t1.91415\t1.81447\t1.74075\t1.9603\t1.99522\t2.01251\t2.00375\t1.79353\t1.86266\t1.85963\t1.67935\t1.77978\t1.73599\t1.70551\t1.74893\t1.53992\t1.69163\t1.6679\r\n"
     ]
    }
   ],
   "source": [
    "head all.fc.txt"
   ]
  },
  {
   "cell_type": "markdown",
   "metadata": {},
   "source": [
    "In examining the files, we notice that all the files end with the suffix \"\\_R1_001\". This is an artifact generated by the processing pipeline. This part of the filename is not informative for our purposes, since it's shared by all samples, so we can remove it with the **sed** command. The syntax is illustrated below: "
   ]
  },
  {
   "cell_type": "code",
   "execution_count": 66,
   "metadata": {},
   "outputs": [
    {
     "name": "stdout",
     "output_type": "stream",
     "text": []
    }
   ],
   "source": [
    "sed -i 's/_R1_001//g' all.fc.txt\n",
    "sed -i 's/_R1_001//g' all.readcount.txt\n"
   ]
  },
  {
   "cell_type": "code",
   "execution_count": 67,
   "metadata": {},
   "outputs": [
    {
     "name": "stdout",
     "output_type": "stream",
     "text": [
      "Chrom\tStart\tEnd\tID\tambenj_asf1_YPD_2\tambenj_rtt109_YPGE_2\tdmaghini_asf1_YPD_5\tdmaghini_WT_YPD_5\tegreenwa_asf1_YPD_6\tegreenwa_rtt109_YPD_5\tgamador_rtt109_YPGE_6\tgamador_WT_YPGE_6\throsenbl_WT_YPGE_1\tjarod_asf1_YPGE_5\tjarod_rtt109_YPGE_4\tjkcheng_rtt109_YPGE_3\tjkcheng_WT_YPD_3\tkjhanson_rtt109_YPD_6\tkjhanson_WT_YPD_6\tktomins_rtt109_YPGE_5\tktomins_WT_YPGE_5\tmkoska_asf1_YPD_3\tmkoska_WT_YPGE_3\tpgoddard_asf1_YPGE_1\tpgoddard_rtt109_YPD_1\trosaxma_asf1_YPD_4\trosaxma_rtt109_YPD_4\trpatel7_asf1_YPGE_4\trpatel7_WT_YPGE_4\tyiuwong_rtt109_YPGE_1\tyiuwong_WT_YPD_1\tYPD_asf1_rep1\tYPD_rtt109_rep1\tYPD_rtt109_rep2\tYPD_WT_rep1\tYPD_WT_rep2\tYPGE_asf1_rep1\tYPGE_asf1_rep2\tYPGE_WT_rep1\r\n",
      "chrI\t0\t857\t1\t4.25008\t7.21524\t4.27744\t6.06117\t5.64958\t10.6068\t6.53717\t9.58935\t5.73521\t6.11552\t6.1878\t6.54996\t5.88486\t8.36391\t9.53371\t3.61219\t6.22783\t5.56345\t8.38938\t4.85431\t5.62175\t5.86927\t6.23959\t7.97977\t7.07626\t4.6925\t6.81927\t3.10887\t2.32237\t2.94599\t4.56884\t3.93238\t1.47424\t2.63765\t4.39358\r\n",
      "chrI\t2415\t2586\t2\t0.377759\t1.26268\t0.736095\t0.753564\t0.81567\t0.2346\t1.27518\t2.02629\t0.970737\t0.999169\t0.98321\t0.568442\t1.37612\t0.567562\t0.740491\t0.573329\t1.81099\t0.701358\t2.30776\t0.849584\t0.783137\t0.484494\t0.849638\t1.56737\t1.90316\t1.19843\t0.65414\t0.536914\t0.0555936\t0.752\t1.08473\t0.710649\t0.262138\t0.0835368\t1.03899\r\n",
      "chrI\t6315\t6556\t3\t1.46047\t1.97312\t0.537888\t1.01442\t0.687648\t2.49728\t1.7998\t1.88329\t1.50269\t2.19324\t1.17628\t1.60922\t1.64657\t1.17585\t1.44728\t0.761486\t3.34711\t1.42927\t4.24856\t1.58515\t0.955645\t0.760677\t0.710466\t2.2388\t1.79931\t1.5907\t1.33541\t1.60467\t0.683204\t2.29198\t0.597739\t2.1581\t2.2692\t2.17728\t2.38209\r\n",
      "chrI\t14706\t14936\t4\t0.598293\t1.11692\t0.576961\t1.01051\t0.263069\t0.455492\t0.772786\t0.944505\t0.606772\t0.684711\t0.751452\t1.08807\t0.816992\t0.548815\t1.02961\t0.423935\t1.66257\t0.564851\t1.98527\t0.73996\t0.619029\t0.378858\t0.673569\t0.531322\t1.11548\t0.743553\t0.86099\t0.193542\t0.414979\t1.26887\t0\t1.36892\t0.511058\t0.570005\t1.18885\r\n",
      "chrI\t20592\t21210\t5\t2.325\t4.03771\t1.51029\t2.36218\t2.14784\t2.13967\t2.55612\t2.82231\t2.45376\t2.89932\t2.25133\t2.88824\t2.73506\t2.77854\t3.06371\t1.69673\t3.52147\t2.84552\t5.29399\t3.20363\t2.20389\t2.17795\t2.48071\t2.37238\t2.91713\t2.02504\t3.22311\t1.72762\t1.9419\t1.72709\t3.02092\t1.80219\t1.91275\t2.07772\t2.24995\r\n",
      "chrI\t28570\t28931\t6\t1.99829\t1.32526\t0.432231\t1.16323\t1.26902\t1.72192\t1.02517\t1.37833\t1.29786\t1.31869\t1.04177\t2.34291\t1.28338\t1.57734\t2.14249\t1.09853\t1.22247\t1.46664\t1.74784\t1.61397\t1.02853\t1.34815\t0.821969\t1.10952\t1.47932\t0.918728\t2.11886\t2.50876\t1.94762\t3.48789\t2.30091\t2.7389\t1.30966\t1.67082\t1.26606\r\n",
      "chrI\t29238\t29452\t7\t0.640941\t0.907474\t0.291098\t0.701438\t0.275154\t0.0456492\t0.660749\t1.20898\t1.06569\t1.51182\t0.640156\t0.734303\t0.680448\t0.341071\t0.321041\t0.703922\t1.32974\t0.446298\t1.84041\t1.13098\t0.455274\t0.498883\t0.321632\t0.737996\t1.19179\t0.606206\t0.685321\t1.1782\t0.499333\t0.314497\t1.12183\t1.44734\t1.18826\t0.984157\t1.34533\r\n",
      "chrI\t29729\t30050\t8\t1.46266\t1.76528\t0.707686\t1.22262\t1.31234\t1.77632\t1.21747\t2.0212\t1.31278\t1.42227\t1.38662\t1.23174\t1.45503\t1.56729\t1.56033\t1.49212\t2.38006\t1.46687\t2.15954\t1.80096\t1.49276\t0.838781\t1.26469\t0.894633\t1.45741\t0.952233\t1.2568\t1.68227\t1.17259\t1.42607\t2.40622\t1.4232\t2.27091\t1.99204\t1.98337\r\n",
      "chrI\t31624\t35831\t9\t1.82125\t1.91638\t2.05236\t1.9235\t1.89141\t1.98805\t1.88781\t1.85097\t1.89729\t1.82552\t1.88233\t1.81638\t1.86308\t1.98529\t1.96413\t1.6375\t1.74682\t1.91415\t1.81447\t1.74075\t1.9603\t1.99522\t2.01251\t2.00375\t1.79353\t1.86266\t1.85963\t1.67935\t1.77978\t1.73599\t1.70551\t1.74893\t1.53992\t1.69163\t1.6679\r\n"
     ]
    }
   ],
   "source": [
    "head all.fc.txt"
   ]
  },
  {
   "cell_type": "code",
   "execution_count": 68,
   "metadata": {},
   "outputs": [
    {
     "name": "stdout",
     "output_type": "stream",
     "text": [
      "Chrom\tStart\tEnd\tID\tambenj_asf1_YPD_2\tambenj_rtt109_YPGE_2\tdmaghini_asf1_YPD_5\tdmaghini_WT_YPD_5\tegreenwa_asf1_YPD_6\tegreenwa_rtt109_YPD_5\tgamador_rtt109_YPGE_6\tgamador_WT_YPGE_6\throsenbl_WT_YPGE_1\tjarod_asf1_YPGE_5\tjarod_rtt109_YPGE_4\tjkcheng_rtt109_YPGE_3\tjkcheng_WT_YPD_3\tkjhanson_rtt109_YPD_6\tkjhanson_WT_YPD_6\tktomins_rtt109_YPGE_5\tktomins_WT_YPGE_5\tmkoska_asf1_YPD_3\tmkoska_WT_YPGE_3\tpgoddard_asf1_YPGE_1\tpgoddard_rtt109_YPD_1\trosaxma_asf1_YPD_4\trosaxma_rtt109_YPD_4\trpatel7_asf1_YPGE_4\trpatel7_WT_YPGE_4\tyiuwong_rtt109_YPGE_1\tyiuwong_WT_YPD_1\tYPD_asf1_rep1\tYPD_rtt109_rep1\tYPD_rtt109_rep2\tYPD_WT_rep1\tYPD_WT_rep2\tYPGE_asf1_rep1\tYPGE_asf1_rep2\tYPGE_WT_rep1\r\n",
      "chrI\t0\t857\t1\t36\t25\t21\t35\t14\t11\t58\t18\t50\t33\t10\t77\t40\t31\t22\t25\t8\t131\t17\t102\t39\t30\t27\t3\t51\t57\t88\t3\t1\t7\t3\t3\t4\t3\t4\r\n",
      "chrI\t2415\t2586\t2\t1354\t2882\t1503\t2884\t560\t354\t2873\t1347\t4899\t2759\t1441\t3221\t3123\t1009\t948\t1032\t703\t4604\t6601\t6020\t1513\t1459\t1239\t285\t3889\t4071\t5241\t136\t108\t160\t111\t212\t139\t162\t220\r\n",
      "chrI\t6315\t6556\t3\t217\t222\t155\t350\t70\t48\t258\t88\t252\t209\t122\t398\t293\t163\t130\t144\t46\t692\t304\t405\t212\t222\t225\t17\t298\t307\t785\t15\t10\t19\t14\t30\t18\t26\t33\r\n",
      "chrI\t14706\t14936\t4\t329\t306\t183\t451\t142\t57\t433\t97\t504\t378\t216\t466\t493\t150\t109\t232\t99\t801\t474\t999\t164\t240\t142\t30\t520\t633\t655\t30\t26\t26\t22\t30\t41\t29\t43\r\n",
      "chrI\t20592\t21210\t5\t319\t839\t197\t660\t133\t154\t823\t392\t946\t685\t403\t1009\t952\t372\t320\t272\t204\t1114\t1400\t1189\t368\t322\t315\t72\t1095\t831\t1503\t26\t17\t28\t28\t40\t13\t25\t48\r\n",
      "chrI\t28570\t28931\t6\t4\t36\t7\t21\t5\t1\t36\t20\t38\t24\t9\t19\t45\t7\t6\t9\t16\t32\t87\t35\t12\t5\t13\t4\t63\t50\t30\t2\t0\t2\t1\t1\t0\t1\t2\r\n",
      "chrI\t29238\t29452\t7\t33\t66\t6\t31\t5\t11\t65\t22\t72\t78\t24\t76\t79\t15\t14\t16\t31\t91\t213\t114\t23\t13\t13\t6\t82\t87\t80\t4\t1\t6\t2\t6\t6\t7\t7\r\n",
      "chrI\t29729\t30050\t8\t10\t36\t7\t32\t2\t2\t31\t11\t29\t21\t11\t46\t41\t7\t11\t9\t16\t27\t100\t53\t14\t7\t9\t1\t52\t39\t49\t1\t0\t4\t0\t5\t2\t2\t4\r\n",
      "chrI\t31624\t35831\t9\t129\t336\t50\t186\t37\t23\t232\t85\t291\t238\t103\t324\t326\t91\t75\t96\t80\t406\t634\t570\t107\t88\t94\t15\t332\t260\t503\t10\t11\t12\t13\t13\t12\t14\t19\r\n"
     ]
    }
   ],
   "source": [
    "head all.readcount.txt"
   ]
  },
  {
   "cell_type": "markdown",
   "metadata": {},
   "source": [
    "We have now generated a read count matrix and a fold change signal peak regions in our dataset. \n",
    "This completes the basic data processing pipeline. \n",
    "Now, on to drawing conclusions about our data. "
   ]
  }
 ],
 "metadata": {
  "anaconda-cloud": {},
  "kernelspec": {
   "display_name": "Bash",
   "language": "bash",
   "name": "bash"
  },
  "language_info": {
   "codemirror_mode": "shell",
   "file_extension": ".sh",
   "mimetype": "text/x-sh",
   "name": "bash"
  }
 },
 "nbformat": 4,
 "nbformat_minor": 1
}
