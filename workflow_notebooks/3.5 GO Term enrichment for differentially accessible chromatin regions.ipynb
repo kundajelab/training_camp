{
 "cells": [
  {
   "cell_type": "markdown",
   "metadata": {},
   "source": [
    "# 3.5 GO Term Enrichment for Differentially Accessible Chromatin Regions. #"
   ]
  },
  {
   "cell_type": "markdown",
   "metadata": {},
   "source": [
    "### IMPORTANT: Please make sure that you are using the bash kernel to run this notebook. ###\n"
   ]
  },
  {
   "cell_type": "code",
   "execution_count": null,
   "metadata": {},
   "outputs": [],
   "source": [
    "### Set up variables storing the location of our data\n",
    "### The proper way to load your variables is with the ~/.bashrc command, but this is very slow in iPython \n",
    "export SUNETID=\"$(whoami)\"\n",
    "export WORK_DIR=\"/scratch/${SUNETID}\"\n",
    "export DATA_DIR=\"${WORK_DIR}/data\"\n",
    "[[ ! -d ${WORK_DIR}/data ]] && mkdir \"${WORK_DIR}/data\"\n",
    "export SRC_DIR=\"${WORK_DIR}/src\"\n",
    "[[ ! -d ${WORK_DIR}/src ]] && mkdir -p \"${WORK_DIR}/src\"\n",
    "export METADATA_DIR=\"/metadata\"\n",
    "export AGGREGATE_DATA_DIR=\"/data\"\n",
    "export AGGREGATE_ANALYSIS_DIR=\"/outputs\"\n",
    "export YEAST_DIR=\"/saccer3\"\n",
    "export TMP=\"${WORK_DIR}/tmp\"\n",
    "export TEMP=$TMP\n",
    "export TMPDIR=$TMP\n",
    "[[ ! -d ${TMP} ]] && mkdir -p \"${TMP}\"\n",
    "\n"
   ]
  },
  {
   "cell_type": "markdown",
   "metadata": {},
   "source": [
    "In this tutorial, we will focus on GO term enrichment analysis: \n",
    "![Analysis pipeline](images/part5.png)"
   ]
  },
  {
   "cell_type": "markdown",
   "metadata": {},
   "source": [
    "In the previous tutorial, we identified differential peaks between pairs of strains and media. These were stored in the $WORK_DIR, as the following files: \n",
    "\n",
    "|N Diff Peaks        |Comparison Filename                          |\n",
    "|--------------------|---------------------------------------------|\n",
    "| 33                 | WT_0min_vs_45min.negative.txt               |\n",
    "| 13                 | HOG1_0min_vs_45min.negative.txt             |\n",
    "| 11                 | MSN1_0min_vs_45min.negative.txt             |\n",
    "| 11                 | MSN4_0min_vs_45min.negative.txt             |\n",
    "| 10                 | MSN1_0min_vs_45min.positive.txt              |\n",
    "| 10                 | MSN2_0min_vs_45min.negative.txt             |\n",
    "| 5                  | MSN2_0min_vs_45min.positive.txt              |\n",
    "| 5                  | MSN4_0min_vs_45min.positive.txt              |\n",
    "| 4                  | HOG1_0min_vs_45min.positive.txt              |\n",
    "| 4                  | Strain_WT_vs_SKN7.differential.positive.txt |\n",
    "| 3                  | Strain_WT_vs_MSN2.differential.positive.txt |\n",
    "| 3                  | WT_0min_vs_45min.positive.txt                |\n",
    "| 2                  | HOT1_0min_vs_45min.positive.txt              |\n",
    "| 2                  | HOT1_0min_vs_45min.negative.txt             |\n",
    "| 1                  | Strain_WT_vs_HOT1.differential.positive.txt |\n",
    "| 1                  | Strain_WT_vs_MSN1.differential.positive.txt |\n",
    "| 1                  | Strain_WT_vs_SKN7.differential.negative.txt |\n",
    "| 1                  | Strain_WT_vs_YAP6.differential.negative.txt |\n",
    "| 1                  | Strain_WT_vs_YAP6.differential.positive.txt |\n",
    "| 1                  | YAP1_0min_vs_45min.negative.txt             |\n",
    "| 0                  | SKN7_0min_vs_45min.positive.txt              |\n",
    "| 0                  | SKN7_0min_vs_45min.negative.txt             |\n",
    "| 0                  | Strain_WT_vs_HOG1.differential.negative.txt |\n",
    "| 0                  | Strain_WT_vs_HOG1.differential.positive.txt |\n",
    "| 0                  | Strain_WT_vs_HOT1.differential.negative.txt |\n",
    "| 0                  | Strain_WT_vs_MSN1.differential.negative.txt |\n",
    "| 0                  | Strain_WT_vs_MSN2.differential.negative.txt |\n",
    "| 0                  | Strain_WT_vs_MSN4.differential.negative.txt |\n",
    "| 0                  | Strain_WT_vs_MSN4.differential.positive.txt |\n",
    "| 0                  | Strain_WT_vs_YAP1.differential.negative.txt |\n",
    "| 0                  | Strain_WT_vs_YAP1.differential.positive.txt |\n",
    "| 0                  | Strain_WT_vs_YAP7.differential.negative.txt |\n",
    "| 0                  | Strain_WT_vs_YAP7.differential.positive.txt |\n",
    "| 0                  | YAP1_0min_vs_45min.positive.txt              |\n",
    "| 0                  | YAP6_0min_vs_45min.positive.txt              |\n",
    "| 0                  | YAP6_0min_vs_45min.negative.txt             |\n",
    "| 0                  | YAP7_0min_vs_45min.positive.txt              |\n",
    "| 0                  | YAP7_0min_vs_45min.negative.txt             |\n",
    "\n",
    "\n",
    "The output files contain chromosome positions of open peaks from ATAC‐seq. The p‐value cutoff for differential openness that we use is 0.01. \n",
    "\n",
    "We will map the differential peaks to their nearest genes. In most analyses, we have few differential peaks, but we will attempt GO term enrichment on the comparison with the most differential peaks: WT_0min_vs_45min"
   ]
  },
  {
   "cell_type": "code",
   "execution_count": null,
   "metadata": {},
   "outputs": [],
   "source": [
    "cd $WORK_DIR\n",
    "cat  WT_0min_vs_45min.negative.txt \n"
   ]
  },
  {
   "cell_type": "code",
   "execution_count": null,
   "metadata": {},
   "outputs": [],
   "source": [
    "cat WT_0min_vs_45min.positive.txt "
   ]
  },
  {
   "cell_type": "markdown",
   "metadata": {},
   "source": [
    "We will map the differentially expressed peaks to their nearest genes, as we did in tutorial 3.3, and search for GO term enrichment. The genes close to differential peaks will be the foreground set. The full set of genes near peaks will be the background set. \n",
    "\n"
   ]
  },
  {
   "cell_type": "code",
   "execution_count": null,
   "metadata": {},
   "outputs": [],
   "source": [
    "#foreground mapping\n",
    "bedtools closest -D a -a WT_0min_vs_45min.positive.txt -b $YEAST_DIR/yeast_tss_coords.bed >  WT_0min_vs_45min.differential.positive.togene.txt  \n",
    "bedtools closest -D a -a WT_0min_vs_45min.negative.txt -b $YEAST_DIR/yeast_tss_coords.bed >  WT_0min_vs_45min.differential.negative.togene.txt  \n",
    "\n"
   ]
  },
  {
   "cell_type": "code",
   "execution_count": null,
   "metadata": {},
   "outputs": [],
   "source": [
    "#background mapping (exclude the header line)\n",
    "sed '1d' all\\_merged.peaks.bed| cut -f1,2,3 | bedtools closest -D a -a stdin -b $YEAST_DIR/yeast_tss_coords.bed > all_peaks.togene.txt\n"
   ]
  },
  {
   "cell_type": "code",
   "execution_count": null,
   "metadata": {},
   "outputs": [],
   "source": [
    "cat  WT_0min_vs_45min.differential.positive.togene.txt "
   ]
  },
  {
   "cell_type": "code",
   "execution_count": null,
   "metadata": {},
   "outputs": [],
   "source": [
    "cat  WT_0min_vs_45min.differential.negative.togene.txt "
   ]
  },
  {
   "cell_type": "code",
   "execution_count": null,
   "metadata": {},
   "outputs": [],
   "source": [
    "#As before, we want a list of genes to use in GO Term enrichment, so we extract column 7, which contains the gene names\n",
    "cut -f7  WT_0min_vs_45min.differential.positive.togene.txt  > foreground.positive.txt\n",
    "cut -f7  WT_0min_vs_45min.differential.negative.togene.txt  > foreground.negative.txt\n",
    "\n",
    "cut -f7 all_peaks.togene.txt > background.txt "
   ]
  },
  {
   "cell_type": "code",
   "execution_count": null,
   "metadata": {},
   "outputs": [],
   "source": [
    "head background.txt"
   ]
  },
  {
   "cell_type": "code",
   "execution_count": null,
   "metadata": {},
   "outputs": [],
   "source": [
    "wc -l foreground.positive.txt\n",
    "wc -l foreground.negative.txt"
   ]
  },
  {
   "cell_type": "code",
   "execution_count": null,
   "metadata": {},
   "outputs": [],
   "source": [
    "wc -l background.txt"
   ]
  },
  {
   "cell_type": "markdown",
   "metadata": {},
   "source": [
    "We use GoRilla (http://cbl-gorilla.cs.technion.ac.il/) to check for GO Term enrichment. Upload your differential gene list as the foreground set and the full gene list as the background set. "
   ]
  }
 ],
 "metadata": {
  "kernelspec": {
   "display_name": "Bash",
   "language": "bash",
   "name": "bash"
  }
 },
 "nbformat": 4,
 "nbformat_minor": 1
}
