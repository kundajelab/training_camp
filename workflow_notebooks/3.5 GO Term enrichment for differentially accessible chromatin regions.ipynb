{
 "cells": [
  {
   "cell_type": "markdown",
   "metadata": {},
   "source": [
    "# 3.5 GO Term Enrichment for Differentially Accessible Chromatin Regions. #"
   ]
  },
  {
   "cell_type": "markdown",
   "metadata": {},
   "source": [
    "### IMPORTANT: Please make sure that you are using the bash kernel to run this notebook. ###\n"
   ]
  },
  {
   "cell_type": "code",
   "execution_count": 1,
   "metadata": {},
   "outputs": [
    {
     "ename": "",
     "evalue": "1",
     "output_type": "error",
     "traceback": []
    }
   ],
   "source": [
    "### Set up variables storing the location of our data\n",
    "### The proper way to load your variables is with the ~/.bashrc command, but this is very slow in iPython \n",
    "export SUNETID=\"$(whoami)\"\n",
    "export WORK_DIR=\"/scratch/${SUNETID}\"\n",
    "export DATA_DIR=\"${WORK_DIR}/data\"\n",
    "[[ ! -d ${WORK_DIR}/data ]] && mkdir \"${WORK_DIR}/data\"\n",
    "export SRC_DIR=\"${WORK_DIR}/src\"\n",
    "[[ ! -d ${WORK_DIR}/src ]] && mkdir -p \"${WORK_DIR}/src\"\n",
    "export METADATA_DIR=\"/metadata\"\n",
    "export AGGREGATE_DATA_DIR=\"/data\"\n",
    "export AGGREGATE_ANALYSIS_DIR=\"/outputs\"\n",
    "export YEAST_DIR=\"/saccer3\"\n",
    "export TMP=\"${WORK_DIR}/tmp\"\n",
    "export TEMP=$TMP\n",
    "export TMPDIR=$TMP\n",
    "[[ ! -d ${TMP} ]] && mkdir -p \"${TMP}\"\n",
    "\n"
   ]
  },
  {
   "cell_type": "markdown",
   "metadata": {},
   "source": [
    "In this tutorial, we will focus on GO term enrichment analysis: \n",
    "![Analysis pipeline](images/part5.png)"
   ]
  },
  {
   "cell_type": "markdown",
   "metadata": {},
   "source": [
    "In the previous tutorial, we identified differential peaks between pairs of strains and media. These were stored in the $WORK_DIR, as the following files: \n",
    "\n",
    "* Media_YPD_vs_YPGE.txt  \n",
    "* Media_YPD_vs_YPGE.differential.positive.txt  \n",
    "* Media_YPD_vs_YPGE.differential.negative.txt  \n",
    "\n",
    "\n",
    "* Strain_WT_vs_asf1.txt  \n",
    "* Strain_WT_vs_asdf1.differential.positive.txt\n",
    "* Strain_WT_vs_asdf1.differential.negative.txt\n",
    "\n",
    "\n",
    "* Strain_WT_vs_rtt109.txt  \n",
    "* Strain_WT_vs_rtt109.differential.positive.txt  \n",
    "* Strain_WT_vs_rtt109.differential.negative.txt  \n",
    "\n",
    "\n",
    "* Strain_asf1_vs_rtt109.txt\n",
    "* Strain_asf1_vs_rtt109.differential.positive.txt\n",
    "* Strain_asf1_vs_rtt109.differential.negative.txt\n",
    "\n",
    "\n",
    "\n",
    "We'll perform GO Term enrichment for the Media variable. You can look at term enrichment between the different strains as an exercise. "
   ]
  },
  {
   "cell_type": "code",
   "execution_count": 2,
   "metadata": {},
   "outputs": [
    {
     "name": "stdout",
     "output_type": "stream",
     "text": [
      "head: cannot open 'Media_YPD_vs_YPGE.differential.positive.txt' for reading: No such file or directory\n"
     ]
    },
    {
     "ename": "",
     "evalue": "1",
     "output_type": "error",
     "traceback": []
    }
   ],
   "source": [
    "cd $WORK_DIR\n",
    "head Media_YPD_vs_YPGE.differential.positive.txt"
   ]
  },
  {
   "cell_type": "markdown",
   "metadata": {},
   "source": [
    "We will map the differentially expressed peaks to their nearest genes, as we did in tutorial 3.2, and search for GO term enrichment. The genes close to differential peaks will be the foreground set. The full set of genes near peaks will be the background set. \n",
    "\n"
   ]
  },
  {
   "cell_type": "code",
   "execution_count": null,
   "metadata": {},
   "outputs": [],
   "source": [
    "#foreground mapping\n",
    "cut -f1,2,3 Media_YPD_vs_YPGE.differential.positive.txt | bedtools closest -D a -a stdin -b $YEAST_DIR/yeast_tss_coords.bed > Media_YPD_vs_YPGE.differential.positive.togene.txt\n",
    "cut -f1,2,3 Media_YPD_vs_YPGE.differential.negative.txt | bedtools closest -D a -a stdin -b $YEAST_DIR/yeast_tss_coords.bed > Media_YPD_vs_YPGE.differential.negative.togene.txt\n",
    "\n",
    "#background mapping (exclude the header line)\n",
    "tail -n +2 Media_YPD_vs_YPGE.txt| cut -f1,2,3 | bedtools closest -D a -a stdin -b $YEAST_DIR/yeast_tss_coords.bed > Media_YPD_vs_YPGE.togene.txt\n"
   ]
  },
  {
   "cell_type": "code",
   "execution_count": null,
   "metadata": {},
   "outputs": [],
   "source": [
    "head Media_YPD_vs_YPGE.differential.positive.togene.txt"
   ]
  },
  {
   "cell_type": "code",
   "execution_count": null,
   "metadata": {},
   "outputs": [],
   "source": [
    "head Media_YPD_vs_YPGE.togene.txt"
   ]
  },
  {
   "cell_type": "code",
   "execution_count": null,
   "metadata": {},
   "outputs": [],
   "source": [
    "#As before, we want a list of genes to use in GO Term enrichment, so we extract column 7, which contains the gene names\n",
    "cut -f7 Media_YPD_vs_YPGE.differential.positive.togene.txt > Media.foreground.positive.txt\n",
    "cut -f7 Media_YPD_vs_YPGE.differential.negative.togene.txt > Media.foreground.negative.txt\n",
    "\n",
    "cut -f7 Media_YPD_vs_YPGE.togene.txt > Media.background.txt "
   ]
  },
  {
   "cell_type": "code",
   "execution_count": null,
   "metadata": {},
   "outputs": [],
   "source": [
    "head Media.background.txt"
   ]
  },
  {
   "cell_type": "code",
   "execution_count": null,
   "metadata": {},
   "outputs": [],
   "source": [
    "#Add symbolic links to the gene lists in the folder where this notebook is stored.\n",
    "ln -s $WORK_DIR/*foreground* ~/training_camp/workflow_notebooks\n",
    "ln -s $WORK_DIR/*background* ~/training_camp/workflow_notebooks\n"
   ]
  },
  {
   "cell_type": "code",
   "execution_count": null,
   "metadata": {},
   "outputs": [],
   "source": [
    "wc -l Media.foreground.positive.txt\n",
    "wc -l Media.foreground.negative.txt"
   ]
  },
  {
   "cell_type": "code",
   "execution_count": null,
   "metadata": {},
   "outputs": [],
   "source": [
    "wc -l Media.background.txt"
   ]
  },
  {
   "cell_type": "markdown",
   "metadata": {},
   "source": [
    "Now use the saccharomyces Genome Databases (SGD’s) GO Term finder tools (http://www.yeastgenome.org/cgi-bin/GO/goTermFinder.pl) to check for GO Term enrichment. Upload your differential gene list as the foreground set and the full gene list as the background set. "
   ]
  }
 ],
 "metadata": {
  "kernelspec": {
   "display_name": "Bash",
   "language": "bash",
   "name": "bash"
  },
  "language_info": {
   "codemirror_mode": "shell",
   "file_extension": ".sh",
   "mimetype": "text/x-sh",
   "name": "bash"
  }
 },
 "nbformat": 4,
 "nbformat_minor": 1
}
