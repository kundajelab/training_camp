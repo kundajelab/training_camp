{
 "cells": [
  {
   "cell_type": "markdown",
   "metadata": {},
   "source": [
    "### IMPORTANT: Please make sure that your are using the bash kernel to run this notebook.\n",
    "#### (Do this at the beginning of every session) ###"
   ]
  },
  {
   "cell_type": "code",
   "execution_count": 24,
   "metadata": {},
   "outputs": [],
   "source": [
    "### Set up variables storing the location of our data\n",
    "### The proper way to load your variables is with the ~/.bashrc command, but this is very slow in iPython \n",
    "export SUNETID=\"$(whoami)\"\n",
    "export WORK_DIR=\"/scratch/${SUNETID}\"\n",
    "export DATA_DIR=\"${WORK_DIR}/data\"\n",
    "[[ ! -d ${WORK_DIR}/data ]] && mkdir \"${WORK_DIR}/data\"\n",
    "export SRC_DIR=\"${WORK_DIR}/src\"\n",
    "[[ ! -d ${WORK_DIR}/src ]] && mkdir -p \"${WORK_DIR}/src\"\n",
    "export METADATA_DIR=\"/metadata\"\n",
    "export AGGREGATE_DATA_DIR=\"/data\"\n",
    "export AGGREGATE_ANALYSIS_DIR=\"/outputs\"\n",
    "export YEAST_DIR=\"/saccer3\"\n",
    "export TMP=\"${WORK_DIR}/tmp\"\n",
    "export TEMP=$TMP\n",
    "export TMPDIR=$TMP\n",
    "[[ ! -d ${TMP} ]] && mkdir -p \"${TMP}\"\n",
    "\n",
    "source /etc/profile.d/modules.sh\n",
    "module load ucsc_tools"
   ]
  },
  {
   "cell_type": "code",
   "execution_count": 25,
   "metadata": {},
   "outputs": [],
   "source": [
    "cd $WORK_DIR"
   ]
  },
  {
   "cell_type": "code",
   "execution_count": 26,
   "metadata": {},
   "outputs": [],
   "source": [
    "export experiment=\"0min_HOG1\" #select your experiment \n"
   ]
  },
  {
   "cell_type": "code",
   "execution_count": 27,
   "metadata": {},
   "outputs": [],
   "source": [
    "#We will begin by converting the TN5-shifted tagAlign file of reads to a bigwig file for use with the deeptools package\n",
    "export tagAlign=/outputs/croo/$experiment/align/pooled-rep/$experiment\\_1_R1.merged.nodup.tn5.pooled.tagAlign.gz"
   ]
  },
  {
   "cell_type": "code",
   "execution_count": 28,
   "metadata": {},
   "outputs": [
    {
     "name": "stdout",
     "output_type": "stream",
     "text": [
      "/outputs/croo/0min_HOG1/align/pooled-rep/0min_HOG1_1_R1.merged.nodup.tn5.pooled.tagAlign.gz\n"
     ]
    }
   ],
   "source": [
    "echo $tagAlign"
   ]
  },
  {
   "cell_type": "code",
   "execution_count": 29,
   "metadata": {},
   "outputs": [],
   "source": [
    "#sort the tagAlign\n",
    "bedtools sort -i $tagAlign > $experiment.tagAlign.sorted.bed\n",
    "#compute genome coverage\n",
    "bedtools genomecov -i $experiment.tagAlign.sorted.bed -bg -g $YEAST_DIR/sacCer3.chrom.sizes > $experiment.bedGraph\n",
    "#convert to bigwig \n",
    "bedGraphToBigWig $experiment.bedGraph  $YEAST_DIR/sacCer3.chrom.sizes $experiment.bw"
   ]
  },
  {
   "cell_type": "markdown",
   "metadata": {},
   "source": [
    "We now use the [deeptools computeMatrix command](https://deeptools.readthedocs.io/en/develop/content/tools/computeMatrix.html) to compute TSS enrichment"
   ]
  },
  {
   "cell_type": "code",
   "execution_count": 33,
   "metadata": {},
   "outputs": [
    {
     "name": "stdout",
     "output_type": "stream",
     "text": [
      "usage: computeMatrix [-h] [--version]  ...\n",
      "\n",
      "This tool calculates scores per genome regions and prepares an intermediate file that can be used with ``plotHeatmap`` and ``plotProfiles``.\n",
      "Typically, the genome regions are genes, but any other regions defined in a BED file can be used.\n",
      "computeMatrix accepts multiple score files (bigWig format) and multiple regions files (BED format).\n",
      "This tool can also be used to filter and sort regions according\n",
      "to their score.\n",
      "\n",
      "To learn more about the specific parameters, type:\n",
      "\n",
      "$ computeMatrix reference-point --help or\n",
      "\n",
      "$ computeMatrix scale-regions --help\n",
      "\n",
      "optional arguments:\n",
      "  -h, --help       show this help message and exit\n",
      "  --version        show program's version number and exit\n",
      "\n",
      "Commands:\n",
      "  \n",
      "    scale-regions  In the scale-regions mode, all regions in the BED file are\n",
      "                   stretched or shrunken to the length (in bases) indicated by\n",
      "                   the user.\n",
      "    reference-point\n",
      "                   Reference-point refers to a position within a BED region\n",
      "                   (e.g., the starting point). In this mode, only those\n",
      "                   genomicpositions before (upstream) and/or after\n",
      "                   (downstream) of the reference point will be plotted.\n",
      "\n",
      "An example usage is:\n",
      "  computeMatrix reference-point -S <bigwig file(s)> -R <bed file(s)> -b 1000\n",
      " \n"
     ]
    }
   ],
   "source": [
    "computeMatrix --help"
   ]
  },
  {
   "cell_type": "code",
   "execution_count": null,
   "metadata": {},
   "outputs": [],
   "source": [
    "computeMatrix reference-point \\\n",
    "              -R $YEAST_DIR/yeast_tss_coords.bed \\\n",
    "              -S $experiment.bw \\\n",
    "              --referencePoint center \\\n",
    "              -o $experiment.TSS.mat \\\n",
    "              -b 1000 \\\n",
    "              -a 1000 \\\n",
    "              -bs 1\n"
   ]
  },
  {
   "cell_type": "code",
   "execution_count": null,
   "metadata": {},
   "outputs": [],
   "source": [
    "#plot TSS enrichment heatmap \n",
    "plotHeatmap --matrixFile $experiment.TSS.mat -o $experiment.TSS.enrich.png"
   ]
  }
 ],
 "metadata": {
  "kernelspec": {
   "display_name": "Bash",
   "language": "bash",
   "name": "bash"
  },
  "language_info": {
   "codemirror_mode": "shell",
   "file_extension": ".sh",
   "mimetype": "text/x-sh",
   "name": "bash"
  }
 },
 "nbformat": 4,
 "nbformat_minor": 2
}
