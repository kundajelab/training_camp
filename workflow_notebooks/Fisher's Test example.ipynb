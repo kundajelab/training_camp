{
 "cells": [
  {
   "cell_type": "markdown",
   "metadata": {},
   "source": [
    "![GOTermExample](images/GOterm_example.png)"
   ]
  },
  {
   "cell_type": "markdown",
   "metadata": {},
   "source": [
    "|                                            | Differential accessibility in MSN7 | No differential accessibility in MSN7 | Total  |\n",
    "|--------------------------------------------|------------------------------------|---------------------------------------|--------|\n",
    "| In positive regulation of cell growth      | b=3                                | 3                                     | B=6    |\n",
    "| Not in positive regulation of cell growth  | 30                                 | 3197                                  | 3227   |\n",
    "| Total                                      | n=33                               | 3200                                  | N=3233 |"
   ]
  },
  {
   "cell_type": "markdown",
   "metadata": {},
   "source": [
    "What are the odds of this contingency table? \n",
    "i.e. how can we manipulate the \"middle boxes\" to get the same marginal totals? "
   ]
  },
  {
   "cell_type": "markdown",
   "metadata": {},
   "source": [
    "\n",
    "|                                            | Differential accessibility in MSN7 | No differential accessibility in MSN7 | Total  |\n",
    "|--------------------------------------------|------------------------------------|---------------------------------------|--------|\n",
    "| In positive regulation of cell growth      | b=0                                | 6                                     | B=6    |\n",
    "| Not in positive regulation of cell growth  | 33                                 | 3194                                  | 3227   |\n",
    "| Total                                      | n=33                               | 3200                                  | N=3233 |"
   ]
  },
  {
   "cell_type": "code",
   "execution_count": 10,
   "metadata": {},
   "outputs": [
    {
     "data": {
      "text/html": [
       "0.940253241014271"
      ],
      "text/latex": [
       "0.940253241014271"
      ],
      "text/markdown": [
       "0.940253241014271"
      ],
      "text/plain": [
       "[1] 0.9402532"
      ]
     },
     "metadata": {},
     "output_type": "display_data"
    }
   ],
   "source": [
    "#We can calculate the probabilities of observing these outcomes \n",
    "(choose(33,0)*choose(3200,6))/choose(3233,6)"
   ]
  },
  {
   "cell_type": "markdown",
   "metadata": {},
   "source": [
    "\n",
    "|                                            | Differential accessibility in MSN7 | No differential accessibility in MSN7 | Total  |\n",
    "|--------------------------------------------|------------------------------------|---------------------------------------|--------|\n",
    "| In positive regulation of cell growth      | b=1                                | 5                                   | B=6    |\n",
    "| Not in positive regulation of cell growth  | 32                                 | 3195                                  | 3227   |\n",
    "| Total                                      | n=33                               | 3200                                  | N=3233 |"
   ]
  },
  {
   "cell_type": "code",
   "execution_count": 11,
   "metadata": {},
   "outputs": [
    {
     "data": {
      "text/html": [
       "0.0582692149360957"
      ],
      "text/latex": [
       "0.0582692149360957"
      ],
      "text/markdown": [
       "0.0582692149360957"
      ],
      "text/plain": [
       "[1] 0.05826921"
      ]
     },
     "metadata": {},
     "output_type": "display_data"
    }
   ],
   "source": [
    "(choose(33,1)*choose(3200,5))/choose(3233,6)"
   ]
  },
  {
   "cell_type": "markdown",
   "metadata": {},
   "source": [
    "\n",
    "|                                            | Differential accessibility in MSN7 | No differential accessibility in MSN7 | Total  |\n",
    "|--------------------------------------------|------------------------------------|---------------------------------------|--------|\n",
    "| In positive regulation of cell growth      | b=2                                | 4                                   | B=6    |\n",
    "| Not in positive regulation of cell growth  | 31                                 | 3196                                  | 3227   |\n",
    "| Total                                      | n=33                               | 3200                                  | N=3233 |"
   ]
  },
  {
   "cell_type": "code",
   "execution_count": 12,
   "metadata": {},
   "outputs": [
    {
     "data": {
      "text/html": [
       "0.00145855356535909"
      ],
      "text/latex": [
       "0.00145855356535909"
      ],
      "text/markdown": [
       "0.00145855356535909"
      ],
      "text/plain": [
       "[1] 0.001458554"
      ]
     },
     "metadata": {},
     "output_type": "display_data"
    }
   ],
   "source": [
    "(choose(33,2)*choose(3200,4))/choose(3233,6)"
   ]
  },
  {
   "cell_type": "markdown",
   "metadata": {},
   "source": [
    "\n",
    "|                                            | Differential accessibility in MSN7 | No differential accessibility in MSN7 | Total  |\n",
    "|--------------------------------------------|------------------------------------|---------------------------------------|--------|\n",
    "| In positive regulation of cell growth      | b=3                                | 3                                   | B=6    |\n",
    "| Not in positive regulation of cell growth  | 30                                 | 3197                                  | 3227   |\n",
    "| Total                                      | n=33                               | 3200                                  | N=3233 |"
   ]
  },
  {
   "cell_type": "code",
   "execution_count": 13,
   "metadata": {},
   "outputs": [
    {
     "data": {
      "text/html": [
       "1.88573289651264e-05"
      ],
      "text/latex": [
       "1.88573289651264e-05"
      ],
      "text/markdown": [
       "1.88573289651264e-05"
      ],
      "text/plain": [
       "[1] 1.885733e-05"
      ]
     },
     "metadata": {},
     "output_type": "display_data"
    }
   ],
   "source": [
    "(choose(33,3)*choose(3200,3))/choose(3233,6)"
   ]
  },
  {
   "cell_type": "markdown",
   "metadata": {},
   "source": [
    "\n",
    "|                                            | Differential accessibility in MSN7 | No differential accessibility in MSN7 | Total  |\n",
    "|--------------------------------------------|------------------------------------|---------------------------------------|--------|\n",
    "| In positive regulation of cell growth      | b=4                                | 2                                   | B=6    |\n",
    "| Not in positive regulation of cell growth  | 29                                 | 3198                                  | 3227   |\n",
    "| Total                                      | n=33                               | 3200                                  | N=3233 |"
   ]
  },
  {
   "cell_type": "code",
   "execution_count": 14,
   "metadata": {},
   "outputs": [
    {
     "data": {
      "text/html": [
       "1.32673515233066e-07"
      ],
      "text/latex": [
       "1.32673515233066e-07"
      ],
      "text/markdown": [
       "1.32673515233066e-07"
      ],
      "text/plain": [
       "[1] 1.326735e-07"
      ]
     },
     "metadata": {},
     "output_type": "display_data"
    }
   ],
   "source": [
    "(choose(33,4)*choose(3200,2))/choose(3233,6)"
   ]
  },
  {
   "cell_type": "markdown",
   "metadata": {},
   "source": [
    "\n",
    "|                                            | Differential accessibility in MSN7 | No differential accessibility in MSN7 | Total  |\n",
    "|--------------------------------------------|------------------------------------|---------------------------------------|--------|\n",
    "| In positive regulation of cell growth      | b=5                                | 1                                   | B=6    |\n",
    "| Not in positive regulation of cell growth  | 28                                 | 3199                                  | 3227   |\n",
    "| Total                                      | n=33                               | 3200                                  | N=3233 |"
   ]
  },
  {
   "cell_type": "code",
   "execution_count": 15,
   "metadata": {},
   "outputs": [
    {
     "data": {
      "text/html": [
       "4.81091833917962e-10"
      ],
      "text/latex": [
       "4.81091833917962e-10"
      ],
      "text/markdown": [
       "4.81091833917962e-10"
      ],
      "text/plain": [
       "[1] 4.810918e-10"
      ]
     },
     "metadata": {},
     "output_type": "display_data"
    }
   ],
   "source": [
    "(choose(33,5)*choose(3200,1))/choose(3233,6)"
   ]
  },
  {
   "cell_type": "markdown",
   "metadata": {},
   "source": [
    "\n",
    "|                                            | Differential accessibility in MSN7 | No differential accessibility in MSN7 | Total  |\n",
    "|--------------------------------------------|------------------------------------|---------------------------------------|--------|\n",
    "| In positive regulation of cell growth      | b=6                                | 0                                   | B=6    |\n",
    "| Not in positive regulation of cell growth  | 27                                 | 3200                                  | 3227   |\n",
    "| Total                                      | n=33                               | 3200                                  | N=3233 |"
   ]
  },
  {
   "cell_type": "code",
   "execution_count": 16,
   "metadata": {},
   "outputs": [
    {
     "data": {
      "text/html": [
       "7.01592257797029e-13"
      ],
      "text/latex": [
       "7.01592257797029e-13"
      ],
      "text/markdown": [
       "7.01592257797029e-13"
      ],
      "text/plain": [
       "[1] 7.015923e-13"
      ]
     },
     "metadata": {},
     "output_type": "display_data"
    }
   ],
   "source": [
    "(choose(33,6)*choose(3200,0))/choose(3233,6)"
   ]
  },
  {
   "cell_type": "markdown",
   "metadata": {},
   "source": [
    "# 1-sided fisher"
   ]
  },
  {
   "cell_type": "code",
   "execution_count": 2,
   "metadata": {},
   "outputs": [
    {
     "data": {
      "text/html": [
       "1.89904842737856e-05"
      ],
      "text/latex": [
       "1.89904842737856e-05"
      ],
      "text/markdown": [
       "1.89904842737856e-05"
      ],
      "text/plain": [
       "[1] 1.899048e-05"
      ]
     },
     "metadata": {},
     "output_type": "display_data"
    }
   ],
   "source": [
    "#get fisher probability by summing contingency tables with 3 or more differential genes within the GO term \n",
    "1.88573289651264e-05+1.32673515233066e-07+4.81091833917962e-10+7.01592257797029e-13\n",
    "\n",
    "#yay! this matches what GORilla gives us \n",
    "\n"
   ]
  },
  {
   "cell_type": "code",
   "execution_count": null,
   "metadata": {},
   "outputs": [],
   "source": []
  },
  {
   "cell_type": "code",
   "execution_count": 18,
   "metadata": {},
   "outputs": [],
   "source": [
    "#2-sided fisher\n",
    "#sum the contingency tables with probabilities lower than the observed data \n",
    "# in our case, teh p-value would be same as the 1-sided test. \n"
   ]
  },
  {
   "cell_type": "code",
   "execution_count": null,
   "metadata": {},
   "outputs": [],
   "source": []
  }
 ],
 "metadata": {
  "kernelspec": {
   "display_name": "R",
   "language": "R",
   "name": "ir"
  },
  "language_info": {
   "codemirror_mode": "r",
   "file_extension": ".r",
   "mimetype": "text/x-r-source",
   "name": "R",
   "pygments_lexer": "r",
   "version": "4.0.2"
  }
 },
 "nbformat": 4,
 "nbformat_minor": 4
}
