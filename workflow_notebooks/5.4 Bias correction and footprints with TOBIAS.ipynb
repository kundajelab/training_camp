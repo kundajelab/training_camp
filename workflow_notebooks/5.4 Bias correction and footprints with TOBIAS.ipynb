{
 "cells": [
  {
   "cell_type": "markdown",
   "metadata": {},
   "source": [
    "### IMPORTANT: Please make sure that you are using the bash kernel to run this notebook.###\n"
   ]
  },
  {
   "cell_type": "code",
   "execution_count": null,
   "metadata": {},
   "outputs": [],
   "source": [
    "### Set up variables storing the location of our data\n",
    "### The proper way to load your variables is with the ~/.bashrc command, but this is very slow in iPython \n",
    "export SUNETID=\"$(whoami)\"\n",
    "export WORK_DIR=\"/scratch/${SUNETID}\"\n",
    "export DATA_DIR=\"${WORK_DIR}/data\"\n",
    "[[ ! -d ${WORK_DIR}/data ]] && mkdir \"${WORK_DIR}/data\"\n",
    "export SRC_DIR=\"${WORK_DIR}/src\"\n",
    "[[ ! -d ${WORK_DIR}/src ]] && mkdir -p \"${WORK_DIR}/src\"\n",
    "export METADATA_DIR=\"/metadata\"\n",
    "export AGGREGATE_DATA_DIR=\"/data\"\n",
    "export AGGREGATE_ANALYSIS_DIR=\"/outputs\"\n",
    "export YEAST_DIR=\"/saccer3\"\n",
    "export TMP=\"${WORK_DIR}/tmp\"\n",
    "export TEMP=$TMP\n",
    "export TMPDIR=$TMP\n",
    "[[ ! -d ${TMP} ]] && mkdir -p \"${TMP}\"\n",
    "\n"
   ]
  },
  {
   "cell_type": "code",
   "execution_count": null,
   "metadata": {},
   "outputs": [],
   "source": [
    "mkdir $WORK_DIR/Tobias\n",
    "cd $WORK_DIR/Tobias"
   ]
  },
  {
   "cell_type": "markdown",
   "metadata": {},
   "source": [
    "We will be using the [TOBIAS](https://github.com/loosolab/TOBIAS) tool created by Mette Bentsen to correct for Tn5 bias and generate footprints. From the DESEQ2 analysis, it appears that the highest number of differential peaks where observed in the SKN7 strain between 0 minutes and 45 minutes. We will perform differential footprinting for experiments \"**0min_SKN7**\" and \"**45min_SKN7**\" for the REB1 and XCPE1 transcription factors. \n"
   ]
  },
  {
   "cell_type": "markdown",
   "metadata": {},
   "source": [
    "\n",
    "First, let's merge the filtered bam files for the two replicates in our dataset. We can do this with the bamtools merge command. \n",
    "\n",
    "We also get the combined idr optimal peak set for the 2 conditions. "
   ]
  },
  {
   "cell_type": "code",
   "execution_count": null,
   "metadata": {},
   "outputs": [],
   "source": [
    "rm 0min_45min_SKN7.optimal_peak.narrowPeak.bed #if you run this more than once, make sure you overwrite the merged peak file\n",
    "\n",
    "for experiment in 45min_SKN7 0min_SKN7\n",
    "do\n",
    "    rep1_bam=$AGGREGATE_ANALYSIS_DIR/croo_pilot/$experiment/align/rep1/$experiment\\_1_R1.merged.nodup.bam \n",
    "    rep2_bam=$AGGREGATE_ANALYSIS_DIR/croo_pilot/$experiment/align/rep2/$experiment\\_2_R1.merged.nodup.bam\n",
    "    idr_peaks=$AGGREGATE_ANALYSIS_DIR/croo_pilot/$experiment/peak/idr_reproducibility/optimal_peak.narrowPeak.gz\n",
    "    \n",
    "    #merge the bam file replicates \n",
    "    samtools merge -f $experiment.merged.bam $rep1_bam $rep2_bam \n",
    "    samtools index  $experiment.merged.bam\n",
    "    zcat $idr_peaks >> 0min_45min_SKN7.optimal_peak.narrowPeak.bed \n",
    "done "
   ]
  },
  {
   "cell_type": "markdown",
   "metadata": {},
   "source": [
    "## Step 1:  ATACorrect: Bias correction of ATAC-seq reads in open chromatin\n",
    "ATACorrect corrects the cutsite-signal from ATAC-seq with regard to the underlying\n",
    "sequence preference of Tn5 transposase.\n",
    "\n",
    "Usage:\n",
    "TOBIAS ATACorrect --bam <reads.bam> --genome <genome.fa> --peaks <peaks.bed>\n",
    "\n",
    "Output files:\n",
    "- <outdir>/<prefix>_uncorrected.bw\n",
    "- <outdir>/<prefix>_bias.bw\n",
    "- <outdir>/<prefix>_expected.bw\n",
    "- <outdir>/<prefix>_corrected.bw\n",
    "- <outdir>/<prefix>_atacorrect.pdf"
   ]
  },
  {
   "cell_type": "code",
   "execution_count": null,
   "metadata": {},
   "outputs": [],
   "source": [
    "#This can take 5 - 10 minutes to run \n",
    "for experiment in 45min_SKN7 0min_SKN7\n",
    "do\n",
    "    TOBIAS ATACorrect --bam $experiment.merged.bam --genome $YEAST_DIR/sacCer3.fa --peaks  0min_45min_SKN7.optimal_peak.narrowPeak.bed \n",
    "done"
   ]
  },
  {
   "cell_type": "markdown",
   "metadata": {},
   "source": [
    "![bias_forward](images/bias_forward.png)\n",
    "![bias_reverse](images/bias_reverse.png)\n",
    "![bias_corrected_forward](images/bias_corrected_forward.png)\n",
    "![bias_corrected_reverse](images/bias_corrected_reverse.png)\n"
   ]
  },
  {
   "cell_type": "code",
   "execution_count": null,
   "metadata": {},
   "outputs": [],
   "source": [
    "#verify that files got generated in current directory \n",
    "ls -lah"
   ]
  },
  {
   "cell_type": "markdown",
   "metadata": {},
   "source": [
    "We can examine the observed Tn5 bias before and after correction: \n",
    "http://1.gentc.net:/scratch/annashch/Tobias/0min_HOG1.merged_atacorrect.pdf\n",
    "(replace 'annashch' with your username, and replace '0min_HOG1' with your sample name) "
   ]
  },
  {
   "cell_type": "markdown",
   "metadata": {},
   "source": [
    "## Step 2: ScoreBigwig: Calculate footprint scores from corrected cutsites\n",
    "\n",
    "\n",
    "TOBIAS [ScoreBigwig](https://github.com/loosolab/TOBIAS/wiki/ScoreBigwig) is used to calculate a continuous footprinting score across regions. \n",
    "\n",
    "\n",
    "--signal\n",
    "Signal bigwig containing cutsites per basepair - e.g. {prefix}_corrected.bw from ATACorrect\n",
    "\n",
    "--regions\n",
    "Limits the computation of footprints to regions found in --regions .bed-file (in most cases the peaks of accessible chromatin).\n",
    "\n",
    "--score The score to apply to the input --signal. The default is \"footprint\", which calculates the footprint score depicted above. Other options include \"sum\" and \"mean\", which can be used to calculate other types of scores on the input --signal."
   ]
  },
  {
   "cell_type": "code",
   "execution_count": null,
   "metadata": {},
   "outputs": [],
   "source": [
    "for experiment in 45min_SKN7 0min_SKN7\n",
    "do\n",
    "    TOBIAS FootprintScores --signal $experiment.merged_corrected.bw --regions 0min_45min_SKN7.optimal_peak.narrowPeak.bed   --output $experiment\\_footprints.bw --cores 8\n",
    "done"
   ]
  },
  {
   "cell_type": "markdown",
   "metadata": {},
   "source": [
    "## Step 3: BinDetect: Estimation of differentially bound motifs based on scores, sequence and motifs"
   ]
  },
  {
   "cell_type": "code",
   "execution_count": null,
   "metadata": {},
   "outputs": [],
   "source": [
    "#Motif REB1\n",
    "TOBIAS BINDetect --motifs /data/motif_pfm/REB1.pfm \\\n",
    "                 --signals 0min_SKN7_footprints.bw 45min_SKN7_footprints.bw \\\n",
    "                 --genome $YEAST_DIR/sacCer3.fa \\\n",
    "                 --peaks 0min_45min_SKN7.optimal_peak.narrowPeak.bed \\\n",
    "                 --outdir BINDetect_output \\\n",
    "                 --cond_names 0min_SKN7 45min_SKN7 \\\n",
    "                 --cores 1\n",
    "#Motif XCPE1                 \n",
    "TOBIAS BINDetect --motifs /data/motif_pfm/XCPE1.pfm \\\n",
    "                 --signals 0min_SKN7_footprints.bw 45min_SKN7_footprints.bw \\\n",
    "                 --genome $YEAST_DIR/sacCer3.fa \\\n",
    "                 --peaks 0min_45min_SKN7.optimal_peak.narrowPeak.bed \\\n",
    "                 --outdir BINDetect_output \\\n",
    "                 --cond_names 0min_SKN7 45min_SKN7 \\\n",
    "                 --cores 1                 \n"
   ]
  },
  {
   "cell_type": "markdown",
   "metadata": {},
   "source": [
    "We observe differential binding for XCPE1 but not REB1 -- corroborating the HOMER results: \n",
    "\n",
    "![REB1_diff_bind](images/REB1_diff_bind.png)\n",
    "![XCPE1_diff_bind](images/XCPE1_diff_bind.png)\n",
    "\n"
   ]
  },
  {
   "cell_type": "code",
   "execution_count": null,
   "metadata": {},
   "outputs": [],
   "source": [
    "#Visualize heatmap for Reb1\n",
    "TOBIAS PlotHeatmap --TFBS BINDetect_output/REB1_MA0363.1/beds/REB1_MA0363.1_0min_SKN7_bound.bed BINDetect_output/REB1_MA0363.1/beds/REB1_MA0363.1_0min_SKN7_unbound.bed \\\n",
    "                   --TFBS BINDetect_output/REB1_MA0363.1/beds/REB1_MA0363.1_45min_SKN7_bound.bed BINDetect_output/REB1_MA0363.1/beds/REB1_MA0363.1_45min_SKN7_unbound.bed \\\n",
    "                   --signals 0min_SKN7_footprints.bw 45min_SKN7_footprints.bw \\\n",
    "                   --output REB1_heatmap.png --signal_labels 0min_SKN7 45min_SKN7 \\\n",
    "                   --share_colorbar \\\n",
    "                   --sort_by -1 \\\n",
    "                   --flank 50\n",
    "                   \n",
    "#Visualize heatmap for XCPE1\n",
    "TOBIAS PlotHeatmap --TFBS BINDetect_output/XCPE1_POL011.1/beds/XCPE1_POL011.1_0min_SKN7_bound.bed BINDetect_output/XCPE1_POL011.1/beds/XCPE1_POL011.1_0min_SKN7_unbound.bed \\\n",
    "                   --TFBS BINDetect_output/XCPE1_POL011.1/beds/XCPE1_POL011.1_45min_SKN7_bound.bed BINDetect_output/XCPE1_POL011.1/beds/XCPE1_POL011.1_45min_SKN7_unbound.bed \\\n",
    "                   --signals 0min_SKN7_footprints.bw 45min_SKN7_footprints.bw \\\n",
    "                   --output XCPE1_heatmap.png --signal_labels 0min_SKN7 45min_SKN7 \\\n",
    "                   --share_colorbar \\\n",
    "                   --sort_by -1 \\\n",
    "                   --flank 50"
   ]
  },
  {
   "cell_type": "markdown",
   "metadata": {},
   "source": [
    "These are the resulting footprint heatmap for XCPE1: \n",
    "![XCPE1_heatmap](images/XCPE1_heatmap.png)\n",
    "\n",
    "\n",
    "These are the resulting footprint heatmap for REB1: \n",
    "![REB1_heatmap](images/REB1_heatmap.png)\n",
    "\n"
   ]
  },
  {
   "cell_type": "code",
   "execution_count": null,
   "metadata": {},
   "outputs": [],
   "source": []
  }
 ],
 "metadata": {
  "kernelspec": {
   "display_name": "Bash",
   "language": "bash",
   "name": "bash"
  },
  "language_info": {
   "codemirror_mode": "shell",
   "file_extension": ".sh",
   "mimetype": "text/x-sh",
   "name": "bash"
  }
 },
 "nbformat": 4,
 "nbformat_minor": 2
}
