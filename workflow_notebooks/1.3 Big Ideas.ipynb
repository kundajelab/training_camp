{
 "cells": [
  {
   "cell_type": "markdown",
   "metadata": {},
   "source": [
    "# Big Ideas #"
   ]
  },
  {
   "cell_type": "markdown",
   "metadata": {},
   "source": [
    "(the idea of a list of big ideas is borrowed from Prof. Patrick Winston at MIT)"
   ]
  },
  {
   "cell_type": "markdown",
   "metadata": {},
   "source": [
    "- Do not run code from someone without understanding what it does or why you are running it. \n",
    "- If you have a question/problem running code, almost surely someone else had it before. Google it! If you really do have a unique problem, go to the SeqAnswers forum (http://seqanswers.com/) - and beyond! - and ask it.\n",
    "- LOOK AT YOUR DATA!\n",
    "- Check that analysis outputs make sense. \n",
    "- Never use *random* datasets downloaded from the Internet. "
   ]
  }
 ],
 "metadata": {
  "kernelspec": {
   "display_name": "Bash",
   "language": "bash",
   "name": "bash"
  },
  "language_info": {
   "codemirror_mode": "shell",
   "file_extension": ".sh",
   "mimetype": "text/x-sh",
   "name": "bash"
  }
 },
 "nbformat": 4,
 "nbformat_minor": 0
}
