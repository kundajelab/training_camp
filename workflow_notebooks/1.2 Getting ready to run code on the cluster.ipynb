{
 "cells": [
  {
   "cell_type": "markdown",
   "metadata": {},
   "source": [
    "# 1.2 Getting ready to run code on the cluster#"
   ]
  },
  {
   "cell_type": "markdown",
   "metadata": {},
   "source": [
    "### IMPORTANT: Please make sure that your are using the bash kernel to run this notebook.\n",
    "\n",
    "Now that you can submit jobs like any self-respecting Unix ninja, you are ready to start analyzing data! Here you will learn about how to organize your research directory and setup the cluster environment to access all software you wish to use."
   ]
  },
  {
   "cell_type": "markdown",
   "metadata": {},
   "source": [
    "## Organizing your research as a pro##"
   ]
  },
  {
   "cell_type": "markdown",
   "metadata": {},
   "source": [
    "This is a really nice paper with guidelines on organizing computational projects in an organized and snazzy fashion: (http://journals.plos.org/ploscompbiol/article?id=10.1371/journal.pcbi.1000424). \n",
    "![Analysis Pipeline](images/journal.pcbi.1000424.g001.png)\n",
    "\n",
    "Let's see this in action!\n",
    "\n",
    "\n",
    "First, let's set up our working directory (also known as \"scratch directory\")"
   ]
  },
  {
   "cell_type": "code",
   "execution_count": 3,
   "metadata": {},
   "outputs": [
    {
     "name": "stdout",
     "output_type": "stream",
     "text": [
      "/scratch/annashch\n"
     ]
    }
   ],
   "source": [
    "export WORKDIR=/scratch/$(whoami)\n",
    "\n",
    "echo $WORKDIR"
   ]
  },
  {
   "cell_type": "code",
   "execution_count": 4,
   "metadata": {},
   "outputs": [
    {
     "name": "stdout",
     "output_type": "stream",
     "text": [
      "annashch\n"
     ]
    }
   ],
   "source": [
    "whoami"
   ]
  },
  {
   "cell_type": "markdown",
   "metadata": {},
   "source": [
    "Organize your folder into subdirectories as a pro: "
   ]
  },
  {
   "cell_type": "code",
   "execution_count": 5,
   "metadata": {},
   "outputs": [
    {
     "name": "stdout",
     "output_type": "stream",
     "text": [
      "mkdir: cannot create directory ‘data’: File exists\n",
      "mkdir: cannot create directory ‘src’: File exists\n",
      "Sample_0min_MSN4_vs_45min_MSN4.differential.negative.txt\n",
      "Sample_0min_MSN4_vs_45min_MSN4.differential.positive.txt\n",
      "Sample_0min_MSN4_vs_45min_MSN4.txt\n",
      "Sample_45min_HOT1_vs_45min_WT.differential.negative.txt\n",
      "Sample_45min_HOT1_vs_45min_WT.differential.positive.txt\n",
      "Sample_45min_HOT1_vs_45min_WT.txt\n",
      "Sample_45min_MSN4_vs_45min_WT.differential.negative.txt\n",
      "Sample_45min_MSN4_vs_45min_WT.differential.positive.txt\n",
      "Sample_45min_MSN4_vs_45min_WT.txt\n",
      "Sample_45min_SKN7_vs_45min_WT.differential.negative.txt\n",
      "Sample_45min_SKN7_vs_45min_WT.differential.positive.txt\n",
      "Sample_45min_SKN7_vs_45min_WT.txt\n",
      "Strain_WT_vs_HOG1.differential.negative.txt\n",
      "Strain_WT_vs_HOG1.differential.positive.txt\n",
      "Strain_WT_vs_HOG1.txt\n",
      "Strain_WT_vs_HOT1.differential.negative.txt\n",
      "Strain_WT_vs_HOT1.differential.positive.txt\n",
      "Strain_WT_vs_HOT1.txt\n",
      "Strain_WT_vs_MSN1.differential.negative.txt\n",
      "Strain_WT_vs_MSN1.differential.positive.txt\n",
      "Strain_WT_vs_MSN1.txt\n",
      "Strain_WT_vs_MSN2.differential.negative.txt\n",
      "Strain_WT_vs_MSN2.differential.positive.txt\n",
      "Strain_WT_vs_MSN2.txt\n",
      "Strain_WT_vs_MSN4.differential.negative.txt\n",
      "Strain_WT_vs_MSN4.differential.positive.txt\n",
      "Strain_WT_vs_MSN4.txt\n",
      "Strain_WT_vs_SKN7.differential.negative.txt\n",
      "Strain_WT_vs_SKN7.differential.positive.txt\n",
      "Strain_WT_vs_SKN7.txt\n",
      "Strain_WT_vs_YAP1.differential.negative.txt\n",
      "Strain_WT_vs_YAP1.differential.positive.txt\n",
      "Strain_WT_vs_YAP1.txt\n",
      "Strain_WT_vs_YAP6.differential.negative.txt\n",
      "Strain_WT_vs_YAP6.differential.positive.txt\n",
      "Strain_WT_vs_YAP6.txt\n",
      "Strain_WT_vs_YAP7.differential.negative.txt\n",
      "Strain_WT_vs_YAP7.differential.positive.txt\n",
      "Strain_WT_vs_YAP7.txt\n",
      "Timepoint_0min_vs_45min.differential.negative.txt\n",
      "Timepoint_0min_vs_45min.differential.positive.txt\n",
      "Timepoint_0min_vs_45min.txt\n",
      "all.fc.bigwig\n",
      "all.fc.txt\n",
      "all.peaks.bed\n",
      "all.peaks.sorted.bed\n",
      "all.readcount.txt\n",
      "all.tagAlign.files.txt\n",
      "all_merged.peaks.bed\n",
      "cromwell_input.json\n",
      "data\n",
      "narrowPeak_files.txt\n",
      "old\n",
      "pc1_contribs.ascending.geneonly.txt\n",
      "pc1_contribs.ascending.togene.txt\n",
      "pc1_contribs.descending.geneonly.txt\n",
      "pc1_contribs.descending.togene.txt\n",
      "pc1_contribs.sorted.txt\n",
      "pc1_contribs.togene.txt\n",
      "pc1_contribs.txt\n",
      "pc2_contribs.txt\n",
      "pc3_contribs.txt\n",
      "samples\n",
      "src\n",
      "tmp\n"
     ]
    }
   ],
   "source": [
    "cd ${WORKDIR}\n",
    "mkdir data src\n",
    "ls"
   ]
  },
  {
   "cell_type": "code",
   "execution_count": 6,
   "metadata": {},
   "outputs": [],
   "source": [
    "cd $WORKDIR"
   ]
  },
  {
   "cell_type": "code",
   "execution_count": 7,
   "metadata": {},
   "outputs": [
    {
     "name": "stdout",
     "output_type": "stream",
     "text": [
      "/scratch/annashch\n"
     ]
    }
   ],
   "source": [
    "pwd"
   ]
  },
  {
   "cell_type": "markdown",
   "metadata": {},
   "source": [
    "## Preparing to run code on the cluster ## "
   ]
  },
  {
   "cell_type": "markdown",
   "metadata": {},
   "source": [
    "Our data processing will use multiple software tools. To be able to access them, we can load their paths into our session, by loading their respective modules.\n",
    "\n",
    "To load a module, you can type\n",
    "**module load [desiredModule]** - this is going to modify your path\n",
    "\n",
    "Once a module is loaded, you can use the code associated with that module directly. For instance, let's say you want to load a module for BEDTools (a software package we will be using in this training camp). If you run:"
   ]
  },
  {
   "cell_type": "code",
   "execution_count": 8,
   "metadata": {},
   "outputs": [],
   "source": [
    "source /etc/profile.d/modules.sh"
   ]
  },
  {
   "cell_type": "code",
   "execution_count": 9,
   "metadata": {},
   "outputs": [
    {
     "name": "stdout",
     "output_type": "stream",
     "text": [
      "/opt/anaconda3/bin:/opt/anaconda3/condabin:/opt/anaconda3/bin:/opt/anaconda3/condabin:/usr/bin:/bin:/opt/homer/bin:/opt/gs/ghostscript-9.19-linux-x86_64:/opt/weblogo/weblogo:/opt/homer/bin:/opt/gs/ghostscript-9.19-linux-x86_64:/opt/weblogo/weblogo\n"
     ]
    }
   ],
   "source": [
    "echo $PATH"
   ]
  },
  {
   "cell_type": "code",
   "execution_count": 10,
   "metadata": {},
   "outputs": [
    {
     "name": "stdout",
     "output_type": "stream",
     "text": [
      "Currently Loaded Modulefiles:\n",
      "  1) /bedtools/2.26.0\n"
     ]
    }
   ],
   "source": [
    "module list "
   ]
  },
  {
   "cell_type": "code",
   "execution_count": 11,
   "metadata": {},
   "outputs": [],
   "source": [
    "module load bedtools"
   ]
  },
  {
   "cell_type": "code",
   "execution_count": 12,
   "metadata": {},
   "outputs": [
    {
     "name": "stdout",
     "output_type": "stream",
     "text": [
      "Currently Loaded Modulefiles:\n",
      "  1) /bedtools/2.26.0\n"
     ]
    }
   ],
   "source": [
    "module list"
   ]
  },
  {
   "cell_type": "code",
   "execution_count": 13,
   "metadata": {},
   "outputs": [
    {
     "name": "stdout",
     "output_type": "stream",
     "text": [
      "/opt/anaconda3/bin:/opt/anaconda3/condabin:/opt/anaconda3/bin:/opt/anaconda3/condabin:/usr/bin:/bin:/opt/homer/bin:/opt/gs/ghostscript-9.19-linux-x86_64:/opt/weblogo/weblogo:/opt/homer/bin:/opt/gs/ghostscript-9.19-linux-x86_64:/opt/weblogo/weblogo\n"
     ]
    }
   ],
   "source": [
    "echo $PATH"
   ]
  },
  {
   "cell_type": "markdown",
   "metadata": {},
   "source": [
    "It loads the bedtools code, such that when you are ready to use the code, you can just directly call commands. Note that the -h or --help arguments can often be used to give help about a particular tool.\n"
   ]
  },
  {
   "cell_type": "code",
   "execution_count": 14,
   "metadata": {},
   "outputs": [],
   "source": [
    "module unload bedtools"
   ]
  },
  {
   "cell_type": "code",
   "execution_count": 15,
   "metadata": {},
   "outputs": [],
   "source": [
    "module load bedtools "
   ]
  },
  {
   "cell_type": "code",
   "execution_count": 16,
   "metadata": {},
   "outputs": [
    {
     "name": "stdout",
     "output_type": "stream",
     "text": [
      "/opt/anaconda3/bin/bedtools\n"
     ]
    }
   ],
   "source": [
    "which bedtools"
   ]
  },
  {
   "cell_type": "markdown",
   "metadata": {},
   "source": [
    "Don't worry, you do not need to know off the top of your head the names of the modules you want. To see all software modules available on the AWS cluster, type:"
   ]
  },
  {
   "cell_type": "code",
   "execution_count": 17,
   "metadata": {},
   "outputs": [
    {
     "name": "stdout",
     "output_type": "stream",
     "text": [
      "\n",
      "------------------ /software/env_module/default/modulefiles/ -------------------\n",
      "MACS2/2.1.1       fastqc/0.11.5     module-info       r/3.4.4\n",
      "bedtools/2.26.0   homer/default     modules           samtools/1.7\n",
      "bowtie/2.3.4.1    java/latest       null              ucsc_tools/latest\n",
      "dot               module-git        picard-tools/1.95 use.own\n"
     ]
    }
   ],
   "source": [
    "module avail"
   ]
  },
  {
   "cell_type": "markdown",
   "metadata": {},
   "source": [
    "## The .bashrc file (=your friend) ##"
   ]
  },
  {
   "cell_type": "code",
   "execution_count": 18,
   "metadata": {},
   "outputs": [
    {
     "name": "stdout",
     "output_type": "stream",
     "text": [
      "/homes/annashch\n",
      "'0.0 Introduction to Jupyter notebooks.ipynb'\n",
      "'1.0 Big Ideas.ipynb'\n",
      "'1.1 Unix Basics.ipynb'\n",
      "'1.2 Getting ready to run code on the cluster.ipynb'\n",
      "'2.0 The metadata file and analysis overview.ipynb'\n",
      " 2.1_Sequencing_Data_Analysis.ipynb\n",
      "'3.1 Clustering analysis and PCA on fold change data .ipynb'\n",
      "'3.2 Clustering analysis and PCA on count data.ipynb'\n",
      "'3.3 Finding enriched GO Terms with GORilla.ipynb'\n",
      "'3.4 Calling differentially expressed peaks with DESeq2 and limma .ipynb'\n",
      "'3.5 GO Term enrichment for differentially accessible chromatin regions.ipynb'\n",
      "'3.6 Finding TF motifs.ipynb'\n",
      "'4.0 Introduction to shell scripts.ipynb'\n",
      "'4.1 Introduction to SCG and Sherlock compute clusters.ipynb'\n",
      "'4.2 Install Missing R packages.ipynb'\n",
      " Untitled.ipynb\n",
      " atac.out_def.json\n",
      " cromwell_input_template.json\n",
      " frag_len.png\n",
      " images\n",
      " test_file.txt\n"
     ]
    }
   ],
   "source": [
    "#Where is .bashrc?\n",
    "#In our home directory\n",
    "cd ~\n",
    "pwd\n",
    "ls\n"
   ]
  },
  {
   "cell_type": "code",
   "execution_count": 19,
   "metadata": {},
   "outputs": [
    {
     "name": "stdout",
     "output_type": "stream",
     "text": [
      " .\n",
      " ..\n",
      " .bash_history\n",
      " .bash_logout\n",
      " .bashrc\n",
      " .cache\n",
      " .caper\n",
      " .caper_tmp\n",
      " .config\n",
      " .emacs.d\n",
      " .gnupg\n",
      " .ipynb\n",
      " .ipynb_checkpoints\n",
      " .ipython\n",
      " .jupyter\n",
      " .local\n",
      " .profile\n",
      " .python_history\n",
      " .ssh\n",
      " .sudo_as_admin_successful\n",
      "'0.0 Introduction to Jupyter notebooks.ipynb'\n",
      "'1.0 Big Ideas.ipynb'\n",
      "'1.1 Unix Basics.ipynb'\n",
      "'1.2 Getting ready to run code on the cluster.ipynb'\n",
      "'2.0 The metadata file and analysis overview.ipynb'\n",
      " 2.1_Sequencing_Data_Analysis.ipynb\n",
      "'3.1 Clustering analysis and PCA on fold change data .ipynb'\n",
      "'3.2 Clustering analysis and PCA on count data.ipynb'\n",
      "'3.3 Finding enriched GO Terms with GORilla.ipynb'\n",
      "'3.4 Calling differentially expressed peaks with DESeq2 and limma .ipynb'\n",
      "'3.5 GO Term enrichment for differentially accessible chromatin regions.ipynb'\n",
      "'3.6 Finding TF motifs.ipynb'\n",
      "'4.0 Introduction to shell scripts.ipynb'\n",
      "'4.1 Introduction to SCG and Sherlock compute clusters.ipynb'\n",
      "'4.2 Install Missing R packages.ipynb'\n",
      " Untitled.ipynb\n",
      " atac.out_def.json\n",
      " cromwell_input_template.json\n",
      " frag_len.png\n",
      " images\n",
      " test_file.txt\n"
     ]
    }
   ],
   "source": [
    "#But this doesn't show bashrc...\n",
    "ls -ah #this does (shows all hidden files)\n",
    "#.bash_logout automatically runs things when you log out"
   ]
  },
  {
   "cell_type": "markdown",
   "metadata": {},
   "source": [
    "Wouldn't it be nice to have everything ready to run when you log into the cluster?\n",
    "To avoid having to run module load commands every time you log in, you can add these commands to a .bashrc file, located in your home directory. The .bashrc file contains a set of commands that get executed every time you log into the server. In this way, every time you log in, you will be all set to run all code you wish.\n",
    "\n",
    "Note: Technically, the ~/.bashrc file is not what's executed on login; it's ~/.bash_profile, which in turn calls ~/.bashrc. If your .bash_profile does not call .bashrc, put the line source ~/.bashrc in your .bash_profile. The difference between the two files is explained here: http://www.joshstaiger.org/archives/2005/07/bash_profile_vs.html\n",
    "\n",
    "Let's add all our desired module loading commands into a .bashrc file. "
   ]
  },
  {
   "cell_type": "code",
   "execution_count": 20,
   "metadata": {},
   "outputs": [
    {
     "name": "stdout",
     "output_type": "stream",
     "text": [
      "module load bedtools/2.26.0\n"
     ]
    }
   ],
   "source": [
    "bedtools_load='module load bedtools/2.26.0'\n",
    "#naive thing:\n",
    "#NOTE: ~ is a shortcut for your home directory\n",
    "#echo $bedtools_load >> ~/.bashrc #this might clutter up our bashrc if we run it a bunch of times\n",
    "\n",
    "#only add the module load commands to the ~/.bashrc file if they don't exist in this file already \n",
    "#The || acts like an OR; it executes the command on the right if the command on the left errors out\n",
    "#grep -E acts like search\n",
    "#reminder: \"$bedtoos_load\" decodes to 'module load bedtools/2.17.0'\n",
    "grep -E \"$bedtools_load\" ~/.bashrc || echo $bedtools_load >> ~/.bashrc\n"
   ]
  },
  {
   "cell_type": "markdown",
   "metadata": {},
   "source": [
    "## Defining shortcuts in the .bashrc file ##"
   ]
  },
  {
   "cell_type": "markdown",
   "metadata": {},
   "source": [
    "Why stop here? You can make all your dreams come true in the .bashrc file!\n",
    "For instance, you can add to the .bashrc file some shortcuts to your directories of interest, which you can then seamlessly use. Add the following to your .bashrc:"
   ]
  },
  {
   "cell_type": "code",
   "execution_count": 21,
   "metadata": {},
   "outputs": [
    {
     "name": "stdout",
     "output_type": "stream",
     "text": [
      "#shortcuts_defined:\n"
     ]
    }
   ],
   "source": [
    "grep -E \"shortcuts_defined\" ~/.bashrc || \n",
    "(echo '#shortcuts_defined:' >> ~/.bashrc &&\n",
    "\n",
    "echo 'export SUNETID=\"$(whoami)\"' >> ~/.bashrc &&\n",
    "echo 'export WORK_DIR=\"/scratch/${SUNETID}\"' >> ~/.bashrc &&\n",
    "\n",
    "echo 'export DATA_DIR=\"${WORK_DIR}/data\"' >> ~/.bashrc &&\n",
    "echo '[[ ! -d ${WORK_DIR}/data ]] && mkdir \"${WORK_DIR}/data\"' >> ~/.bashrc &&\n",
    "\n",
    "echo 'export SRC_DIR=\"${WORK_DIR}/src\"' >> ~/.bashrc &&\n",
    "echo '[[ ! -d ${WORK_DIR}/src ]] && mkdir -p \"${WORK_DIR}/src\"' >> ~/.bashrc &&\n",
    "\n",
    "echo 'export METADATA_DIR=\"/metadata\"' >> ~/.bashrc &&\n",
    "echo 'export AGGREGATE_DATA_DIR=\"/data\"' >> ~/.bashrc &&\n",
    "echo 'export AGGREGATE_ANALYSIS_DIR=\"/outputs\"' >> ~/.bashrc &&\n",
    "echo 'export YEAST_DIR=\"/saccer3\"' >> ~/.bashrc &&\n",
    "\n",
    "echo 'export TMP=\"${WORK_DIR}/tmp\"' >> ~/.bashrc &&\n",
    "echo 'export TEMP=$TMP' >> ~/.bashrc && \n",
    "echo 'export TMPDIR=$TMP' >> ~/.bashrc && \n",
    "echo '[[ ! -d ${TMP} ]] && mkdir -p \"${TMP}\"' >> ~/.bashrc )"
   ]
  },
  {
   "cell_type": "markdown",
   "metadata": {},
   "source": [
    "**\\$\\{WORK\\_DIR\\}** is your main work directory\n",
    "\n",
    "**\\$\\{DATA\\_DIR\\}** is your data/ directory -- used for storing the subset of the data you will be working with.  \n",
    "\n",
    "**\\$\\{SRC\\_DIR\\}** is your src/ directory -- used for storing code. \n",
    "\n",
    "**\\$\\{METADATA_DIR}** is the directory with the metadata file for this year's training camp.  \n",
    "\n",
    "\n",
    "**\\$\\{AGGREGATE\\_ANALYSIS\\_DIR}** We will store the aggregate analysis results for all samples in this directory for common use by everyone. \n",
    "\n",
    "**\\$\\{AGGREGATE\\_DATA\\_DIR\\}** is the data/ directory -- this is where we store all the raw data from the sequencer generated by the group\n",
    "\n",
    "**\\$\\{YEAST\\_DIR}** is the directory with the yeast reference genome files \n",
    "\n",
    "**\\$\\{TMP\\_DIR}** is the directory where your temporary files will be stored when you execute code. \n",
    "\n"
   ]
  },
  {
   "cell_type": "markdown",
   "metadata": {},
   "source": [
    "To see your ~/.bashrc and ~/.bash_profile files in action, logout and log in again. All modules should be loaded and all shortcuts should be set!\n",
    "\n",
    "Since logging in/out would disrupt this tutorial, we execute the commands in our ipython notebook:"
   ]
  },
  {
   "cell_type": "code",
   "execution_count": 22,
   "metadata": {},
   "outputs": [
    {
     "ename": "",
     "evalue": "1",
     "output_type": "error",
     "traceback": []
    }
   ],
   "source": [
    "export SUNETID=\"$(whoami)\"\n",
    "export WORK_DIR=\"/scratch/${SUNETID}\"\n",
    "export DATA_DIR=\"${WORK_DIR}/data\"\n",
    "[[ ! -d ${WORK_DIR}/data ]] && mkdir \"${WORK_DIR}/data\"\n",
    "export SRC_DIR=\"${WORK_DIR}/src\"\n",
    "[[ ! -d ${WORK_DIR}/src ]] && mkdir -p \"${WORK_DIR}/src\"\n",
    "export METADATA_DIR=\"/metadata\"\n",
    "export AGGREGATE_DATA_DIR=\"/data\"\n",
    "export AGGREGATE_ANALYSIS_DIR=\"/outputs\"\n",
    "export YEAST_DIR=\"/saccer3\"\n",
    "export TMP=\"${WORK_DIR}/tmp\"\n",
    "export TEMP=$TMP\n",
    "export TMPDIR=$TMP\n",
    "[[ ! -d ${TMP} ]] && mkdir -p \"${TMP}\"\n"
   ]
  },
  {
   "cell_type": "markdown",
   "metadata": {},
   "source": [
    "## Data and code for this project ##"
   ]
  },
  {
   "cell_type": "markdown",
   "metadata": {},
   "source": [
    "It's generally good practice to always keep a backup copy of your raw data files in case you unintentionally delete or modify these files when performing your analysis. \n",
    "\n",
    "For this reason, you will copy the two samples you generated from the **\\$AGGREGATE_DATA_DIR** folder to your personal **\\$DATA_DIR** folder. "
   ]
  },
  {
   "cell_type": "code",
   "execution_count": null,
   "metadata": {},
   "outputs": [],
   "source": [
    "#PILOT datasets\n",
    "#Note: Copy the 2 replicate for a given strain/timepoint to your data directory. Pick any set of 2 that you like. \n",
    "\n",
    "#srstern\n",
    "#cp $AGGREGATE_DATA_DIR/2019_pilot/genegra2_0min_WT_1* $DATA_DIR\n",
    "#cp $AGGREGATE_DATA_DIR/2019_pilot/srstern_0min_WT_2* $DATA_DIR\n",
    "\n",
    "#ajberg5\n",
    "#cp $AGGREGATE_DATA_DIR/2019_pilot/lstrand_45min_WT_1* $DATA_DIR\n",
    "#cp $AGGREGATE_DATA_DIR/2019_pilot/ajberg5_45min_WT_2* $DATA_DIR\n",
    "\n",
    "#cvduffy\n",
    "#cp $AGGREGATE_DATA_DIR/2019_pilot/sierrasb_0min_MSN1_1* $DATA_DIR\n",
    "#cp $AGGREGATE_DATA_DIR/2019_pilot/cvduffy_0min_MSN1_2* $DATA_DIR\n",
    "\n",
    "#genegra2\n",
    "#cp $AGGREGATE_DATA_DIR/2019_pilot/genegra2_45min_MSN1_1* $DATA_DIR\n",
    "#cp $AGGREGATE_DATA_DIR/2019_pilot/mihayes_45min_MSN1_2* $DATA_DIR\n",
    "\n",
    "#subkc\n",
    "#cp $AGGREGATE_DATA_DIR/2019_pilot/subkc_0min_MSN2_1* $DATA_DIR\n",
    "#cp $AGGREGATE_DATA_DIR/2019_pilot/annlin_0min_MSN2_2* $DATA_DIR\n",
    "\n",
    "#clin5\n",
    "#cp $AGGREGATE_DATA_DIR/2019_pilot/srstern_45min_MSN2_1* $DATA_DIR\n",
    "#cp $AGGREGATE_DATA_DIR/2019_pilot/clin5_45min_MSN2_2* $DATA_DIR\n",
    "\n",
    "#lstrand\n",
    "#cp $AGGREGATE_DATA_DIR/2019_pilot/lstrand_0min_MSN4_1* $DATA_DIR\n",
    "#cp $AGGREGATE_DATA_DIR/2019_pilot/clin5_0min_MSN4_2* $DATA_DIR\n",
    "\n",
    "#miao1\n",
    "#cp $AGGREGATE_DATA_DIR/2019_pilot/miao1_45min_MSN4_1* $DATA_DIR\n",
    "#cp $AGGREGATE_DATA_DIR/2019_pilot/makena_45min_MSN4_2* $DATA_DIR\n",
    "\n",
    "#ajberg5\n",
    "#cp $AGGREGATE_DATA_DIR/2019_pilot/ajberg5_0min_HOG1_1* $DATA_DIR\n",
    "#cp $AGGREGATE_DATA_DIR/2019_pilot/miao1_0min_HOG1_2* $DATA_DIR\n",
    "\n",
    "#courtrun\n",
    "#cp $AGGREGATE_DATA_DIR/2019_pilot/jarhodes_45min_HOG1_1* $DATA_DIR\n",
    "#cp $AGGREGATE_DATA_DIR/2019_pilot/courtrun_45min_HOG1_2* $DATA_DIR\n",
    "\n",
    "#jarhodes\n",
    "#cp $AGGREGATE_DATA_DIR/2019_pilot/makena_0min_SKN7_1* $DATA_DIR\n",
    "#cp $AGGREGATE_DATA_DIR/2019_pilot/jarhodes_0min_SKN7_2* $DATA_DIR\n",
    "\n",
    "#sierrasb\n",
    "#cp $AGGREGATE_DATA_DIR/2019_pilot/sierrasb_45min_SKN7_1* $DATA_DIR\n",
    "#cp $AGGREGATE_DATA_DIR/2019_pilot/marinovg_45min_SKN7_2* $DATA_DIR\n",
    "\n",
    "#annlin\n",
    "#cp $AGGREGATE_DATA_DIR/2019_pilot/annlin_45min_YAP7_1* $DATA_DIR\n",
    "#cp $AGGREGATE_DATA_DIR/2019_pilot/zahoor_45min_YAP7_2* $DATA_DIR\n",
    "\n",
    "#mihayes\n",
    "#cp $AGGREGATE_DATA_DIR/2019_pilot/mihayes_0min_HOT1_1* $DATA_DIR\n",
    "#cp $AGGREGATE_DATA_DIR/2019_pilot/soumyak_0min_HOT1_2* $DATA_DIR\n",
    "\n",
    "\n",
    "#### IF you want to run an additional sample, pick from the ones below, otherwise, TA's will run these #### \n",
    "\n",
    "#annashch\n",
    "#cp $AGGREGATE_DATA_DIR/2019_pilot/courtrun_0min_YAP1_1* $DATA_DIR\n",
    "#cp $AGGREGATE_DATA_DIR/2019_pilot/annashch_0min_YAP1_2* $DATA_DIR\n",
    "\n",
    "#soumyak\n",
    "#cp $AGGREGATE_DATA_DIR/2019_pilot/cvduffy_45min_HOT1_1* $DATA_DIR\n",
    "#cp $AGGREGATE_DATA_DIR/2019_pilot/soumyak_45min_HOT1_2* $DATA_DIR\n",
    "\n",
    "#surag\n",
    "#cp $AGGREGATE_DATA_DIR/2019_pilot/surag_45min_HOT1_1* $DATA_DIR\n",
    "#cp $AGGREGATE_DATA_DIR/2019_pilot/albalsubr_45min_HOT1_2* $DATA_DIR\n",
    "\n",
    "#abalsubr\n",
    "#cp $AGGREGATE_DATA_DIR/2019_pilot/abalsubr_0min_YAP6_1* $DATA_DIR\n",
    "#cp $AGGREGATE_DATA_DIR/2019_pilot/zahoor_0min_YAP6_2* $DATA_DIR\n",
    "\n",
    "#zahoor\n",
    "#cp $AGGREGATE_DATA_DIR/2019_pilot/subkc_45min_YAP6_1* $DATA_DIR\n",
    "#cp $AGGREGATE_DATA_DIR/2019_pilot/annashch_45min_YAP6_2* $DATA_DIR\n",
    "\n",
    "#lakss\n",
    "#cp $AGGREGATE_DATA_DIR/2019_pilot/marinovg_0min_YAP7_1* $DATA_DIR\n",
    "#cp $AGGREGATE_DATA_DIR/2019_pilot/surag_0min_YAP7_2* $DATA_DIR"
   ]
  },
  {
   "cell_type": "code",
   "execution_count": 23,
   "metadata": {},
   "outputs": [],
   "source": [
    "ls $DATA_DIR"
   ]
  },
  {
   "cell_type": "code",
   "execution_count": 24,
   "metadata": {},
   "outputs": [],
   "source": [
    "#Student  data files from 2019 \n",
    "#Note: Copy the 2 replicate for a given strain/timepoint to your data directory. Pick any set of 2 that you like. \n",
    "#srstern\n",
    "#cp $AGGREGATE_DATA_DIR/genegra2_0min_WT_1* $DATA_DIR\n",
    "#cp $AGGREGATE_DATA_DIR/srstern_0min_WT_2* $DATA_DIR\n",
    "\n",
    "#ajberg5\n",
    "#cp $AGGREGATE_DATA_DIR/lstrand_45min_WT_1* $DATA_DIR\n",
    "#cp $AGGREGATE_DATA_DIR/ajberg5_45min_WT_2* $DATA_DIR\n",
    "\n",
    "#cvduffy\n",
    "#cp $AGGREGATE_DATA_DIR/sierrasb_0min_MSN1_1* $DATA_DIR\n",
    "#cp $AGGREGATE_DATA_DIR/cvduffy_0min_MSN1_2* $DATA_DIR\n",
    "\n",
    "#genegra2\n",
    "#cp $AGGREGATE_DATA_DIR/genegra2_45min_MSN1_1* $DATA_DIR\n",
    "#cp $AGGREGATE_DATA_DIR/mihayes_45min_MSN1_2* $DATA_DIR\n",
    "\n",
    "#subkc\n",
    "#cp $AGGREGATE_DATA_DIR/subkc_0min_MSN2_1* $DATA_DIR\n",
    "#cp $AGGREGATE_DATA_DIR/annlin_0min_MSN2_2* $DATA_DIR\n",
    "\n",
    "#clin5\n",
    "#cp $AGGREGATE_DATA_DIR/srstern_45min_MSN2_1* $DATA_DIR\n",
    "#cp $AGGREGATE_DATA_DIR/clin5_45min_MSN2_2* $DATA_DIR\n",
    "\n",
    "#lstrand\n",
    "#cp $AGGREGATE_DATA_DIR/lstrand_0min_MSN4_1* $DATA_DIR\n",
    "#cp $AGGREGATE_DATA_DIR/clin5_0min_MSN4_2* $DATA_DIR\n",
    "\n",
    "#miao1\n",
    "#cp $AGGREGATE_DATA_DIR/miao1_45min_MSN4_1* $DATA_DIR\n",
    "#cp $AGGREGATE_DATA_DIR/makena_45min_MSN4_2* $DATA_DIR\n",
    "\n",
    "#ajberg5\n",
    "#cp $AGGREGATE_DATA_DIR/ajberg5_0min_HOG1_1* $DATA_DIR\n",
    "#cp $AGGREGATE_DATA_DIR/miao1_0min_HOG1_2* $DATA_DIR\n",
    "\n",
    "#courtrun\n",
    "#cp $AGGREGATE_DATA_DIR/jarhodes_45min_HOG1_1* $DATA_DIR\n",
    "#cp $AGGREGATE_DATA_DIR/courtrun_45min_HOG1_2* $DATA_DIR\n",
    "\n",
    "#jarhodes\n",
    "#cp $AGGREGATE_DATA_DIR/makena_0min_SKN7_1* $DATA_DIR\n",
    "#cp $AGGREGATE_DATA_DIR/jarhodes_0min_SKN7_2* $DATA_DIR\n",
    "\n",
    "#sierrasb\n",
    "#cp $AGGREGATE_DATA_DIR/sierrasb_45min_SKN7_1* $DATA_DIR\n",
    "#cp $AGGREGATE_DATA_DIR/marinovg_45min_SKN7_2* $DATA_DIR\n",
    "\n",
    "#annlin\n",
    "#cp $AGGREGATE_DATA_DIR/annlin_45min_YAP7_1* $DATA_DIR\n",
    "#cp $AGGREGATE_DATA_DIR/zahoor_45min_YAP7_2* $DATA_DIR\n",
    "\n",
    "#mihayes\n",
    "#cp $AGGREGATE_DATA_DIR/mihayes_0min_HOT1_1* $DATA_DIR\n",
    "#cp $AGGREGATE_DATA_DIR/soumyak_0min_HOT1_2* $DATA_DIR\n",
    "\n",
    "\n",
    "#### IF you want to run an additional sample, pick from the ones below, otherwise, TA's will run these #### \n",
    "\n",
    "#annashch\n",
    "cp $AGGREGATE_DATA_DIR/courtrun_0min_YAP1_1* $DATA_DIR\n",
    "cp $AGGREGATE_DATA_DIR/annashch_0min_YAP1_2* $DATA_DIR\n",
    "\n",
    "#soumyak\n",
    "#cp $AGGREGATE_DATA_DIR/cvduffy_45min_HOT1_1* $DATA_DIR\n",
    "#cp $AGGREGATE_DATA_DIR/soumyak_45min_HOT1_2* $DATA_DIR\n",
    "\n",
    "#surag\n",
    "#cp $AGGREGATE_DATA_DIR/surag_45min_HOT1_1* $DATA_DIR\n",
    "#cp $AGGREGATE_DATA_DIR/albalsubr_45min_HOT1_2* $DATA_DIR\n",
    "\n",
    "#abalsubr\n",
    "#cp $AGGREGATE_DATA_DIR/abalsubr_0min_YAP6_1* $DATA_DIR\n",
    "#cp $AGGREGATE_DATA_DIR/zahoor_0min_YAP6_2* $DATA_DIR\n",
    "\n",
    "#zahoor\n",
    "#cp $AGGREGATE_DATA_DIR/subkc_45min_YAP6_1* $DATA_DIR\n",
    "#cp $AGGREGATE_DATA_DIR/annashch_45min_YAP6_2* $DATA_DIR\n",
    "\n",
    "#lakss\n",
    "#cp $AGGREGATE_DATA_DIR/marinovg_0min_YAP7_1* $DATA_DIR\n",
    "#cp $AGGREGATE_DATA_DIR/surag_0min_YAP7_2* $DATA_DIR"
   ]
  },
  {
   "cell_type": "code",
   "execution_count": 25,
   "metadata": {},
   "outputs": [
    {
     "name": "stdout",
     "output_type": "stream",
     "text": [
      "annashch_0min_YAP1_2_R1.fastq.gz  courtrun_0min_YAP1_1_R1.fastq.gz\n",
      "annashch_0min_YAP1_2_R2.fastq.gz  courtrun_0min_YAP1_1_R2.fastq.gz\n"
     ]
    }
   ],
   "source": [
    "ls $DATA_DIR"
   ]
  },
  {
   "cell_type": "markdown",
   "metadata": {},
   "source": [
    "Let the analysis begin!"
   ]
  }
 ],
 "metadata": {
  "kernelspec": {
   "display_name": "Bash",
   "language": "bash",
   "name": "bash"
  },
  "language_info": {
   "codemirror_mode": "shell",
   "file_extension": ".sh",
   "mimetype": "text/x-sh",
   "name": "bash"
  }
 },
 "nbformat": 4,
 "nbformat_minor": 1
}
