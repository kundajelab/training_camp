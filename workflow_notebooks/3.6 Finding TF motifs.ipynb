{
 "cells": [
  {
   "cell_type": "markdown",
   "metadata": {},
   "source": [
    "# 3.6 Finding TF motifs # "
   ]
  },
  {
   "cell_type": "markdown",
   "metadata": {},
   "source": [
    "### IMPORTANT: Please make sure that you are using the bash kernel to run this notebook. ###\n"
   ]
  },
  {
   "cell_type": "code",
   "execution_count": null,
   "metadata": {},
   "outputs": [],
   "source": [
    "### Set up variables storing the location of our data\n",
    "### The proper way to load your variables is with the ~/.bashrc command, but this is very slow in iPython \n",
    "export SUNETID=\"$(whoami)\"\n",
    "export WORK_DIR=\"/scratch/${SUNETID}\"\n",
    "export DATA_DIR=\"${WORK_DIR}/data\"\n",
    "[[ ! -d ${WORK_DIR}/data ]] && mkdir \"${WORK_DIR}/data\"\n",
    "export SRC_DIR=\"${WORK_DIR}/src\"\n",
    "[[ ! -d ${WORK_DIR}/src ]] && mkdir -p \"${WORK_DIR}/src\"\n",
    "export METADATA_DIR=\"/metadata\"\n",
    "export AGGREGATE_DATA_DIR=\"/data\"\n",
    "export AGGREGATE_ANALYSIS_DIR=\"/outputs\"\n",
    "export YEAST_DIR=\"/saccer3\"\n",
    "export TMP=\"${WORK_DIR}/tmp\"\n",
    "export TEMP=$TMP\n",
    "export TMPDIR=$TMP\n",
    "[[ ! -d ${TMP} ]] && mkdir -p \"${TMP}\"\n",
    "\n"
   ]
  },
  {
   "cell_type": "markdown",
   "metadata": {},
   "source": [
    "In this tutorial, we will focus on identifying motifs in the ATAC-seq peaks: \n",
    "![Analysis pipeline](images/part6.png)"
   ]
  },
  {
   "cell_type": "code",
   "execution_count": null,
   "metadata": {},
   "outputs": [],
   "source": [
    "cd $WORK_DIR"
   ]
  },
  {
   "cell_type": "markdown",
   "metadata": {},
   "source": [
    "We will look for TF motifs in the differentially open  chromatin regions we have identified.We have very few differential peaks in our samples, so we will do this exercise with the pilot datset. \n"
   ]
  },
  {
   "cell_type": "markdown",
   "metadata": {},
   "source": [
    "We will use HOMER (http://homer.ucsd.edu/homer/) to search for enriched motifs. First, we load the module for homer:"
   ]
  },
  {
   "cell_type": "code",
   "execution_count": null,
   "metadata": {},
   "outputs": [],
   "source": [
    "module load homer "
   ]
  },
  {
   "cell_type": "code",
   "execution_count": null,
   "metadata": {},
   "outputs": [],
   "source": [
    "module list"
   ]
  },
  {
   "cell_type": "markdown",
   "metadata": {},
   "source": [
    "The specific HOMER command we will use is `findMotifsGenome.pl`. Let's see the inputs and outputs needed by this command:"
   ]
  },
  {
   "cell_type": "code",
   "execution_count": null,
   "metadata": {},
   "outputs": [],
   "source": [
    "findMotifsGenome.pl --help"
   ]
  },
  {
   "cell_type": "markdown",
   "metadata": {},
   "source": [
    "The **pos** file is our list of differential peaks. \n",
    "\n",
    "**genome** is the fasta file containing the yeast genome. \n",
    "\n",
    "**output dir** is the output directory where HOMER outputs will be stored. \n",
    "\n",
    "**background** is the all_merged.peaks.bed file containing all called peaks for the input datasets.\n",
    "\n",
    "We leave all other values at their defaults. \n"
   ]
  },
  {
   "cell_type": "code",
   "execution_count": null,
   "metadata": {},
   "outputs": [],
   "source": [
    "findMotifsGenome.pl $WORK_DIR/SKN7_0min_vs_45min.negative.pilot.txt \\\n",
    "                    sacCer3 \\\n",
    "                    homer_SKN7_0min_vs_45min_negative \\\n",
    "                    -bg $AGGREGATE_ANALYSIS_DIR/all_merged.peaks.bed\n",
    "\n"
   ]
  },
  {
   "cell_type": "markdown",
   "metadata": {},
   "source": [
    "We can examine the contents of the **homer_SKN7_0min_vs_45min_negative** folder in the browser (it's located within your folder on `http://1.gentc.net/scratch/`\n"
   ]
  },
  {
   "cell_type": "markdown",
   "metadata": {},
   "source": [
    "## Finding all occurences of a motif within a peak set "
   ]
  },
  {
   "cell_type": "markdown",
   "metadata": {},
   "source": [
    "We can also tell HOMER to scan for all instances of a specific motif in the peak set. This is useful for the footprinting and V-plot analyses in the subsequent tutorials. \n",
    "We will find all instances of the top three *de novo* hits in SKN7 0min vs 45min. We will also scan for the REB1 Tf, which has been shown in prior work to play an important regulatory role in sacCer3. \n",
    "\n",
    "![top_hits](images/top_hits_homer_SKN7.png)\n",
    "\n",
    "Note: you can click on the \"motif file matrix\" link in the right-most column of the homerResults.html results file to get the input motif file for scanning: \n",
    "\n",
    "\n",
    "```\n",
    ">GGGCGGCACAAG\t1-GGGCGGCACAAG,BestGuess:POL011.1_XCPE1/Jaspar(0.681)\t10.848594\t-40.855667\t0\tT:9.0(5.70%),B:1.0(0.03%),P:1e-17\n",
    "0.001\t0.001\t0.997\t0.001\n",
    "0.125\t0.250\t0.624\t0.001\n",
    "0.001\t0.001\t0.997\t0.001\n",
    "0.001\t0.997\t0.001\t0.001\n",
    "0.125\t0.125\t0.749\t0.001\n",
    "0.001\t0.001\t0.874\t0.124\n",
    "0.001\t0.749\t0.249\t0.001\n",
    "0.749\t0.001\t0.125\t0.125\n",
    "0.124\t0.874\t0.001\t0.001\n",
    "0.874\t0.001\t0.124\t0.001\n",
    "0.997\t0.001\t0.001\t0.001\n",
    "0.125\t0.125\t0.749\t0.001\n",
    "```\n",
    "This motif is located in the output folder: \n",
    "```\n",
    "/scratch/[YOUR USERNAME]/homer_SKN7_0min_vs_45min_negative/homerResults/motif1.motif\n",
    "```"
   ]
  },
  {
   "cell_type": "markdown",
   "metadata": {},
   "source": [
    "We use the `scanMotifGenomeWide.pl` HOMER command to find all instances of these 2 motifs in the genome. We then intersect the resulting bed files with the peak bed files in 0min_SKN7 and 45min_SKN7, providing us a lit of motifs within peaks for downstream analysis. \n"
   ]
  },
  {
   "cell_type": "code",
   "execution_count": null,
   "metadata": {},
   "outputs": [],
   "source": [
    "scanMotifGenomeWide.pl homer_SKN7_0min_vs_45min_negative/homerResults/motif1.motif sacCer3 -bed  > denovo1.genomewide.bed"
   ]
  },
  {
   "cell_type": "code",
   "execution_count": null,
   "metadata": {},
   "outputs": [],
   "source": [
    "head  denovo1.genomewide.bed"
   ]
  },
  {
   "cell_type": "code",
   "execution_count": null,
   "metadata": {},
   "outputs": [],
   "source": [
    "scanMotifGenomeWide.pl /data/motif_pfm/reb1.motif sacCer3 -bed  > reb1.genomewide.bed "
   ]
  },
  {
   "cell_type": "code",
   "execution_count": null,
   "metadata": {},
   "outputs": [],
   "source": [
    "head reb1.genomewide.bed"
   ]
  },
  {
   "cell_type": "code",
   "execution_count": null,
   "metadata": {},
   "outputs": [],
   "source": [
    "#now, use bedtools to intersect motif positions with peak calls \n",
    "bedtools intersect -a denovo1.genomewide.bed -b $AGGREGATE_ANALYSIS_DIR/croo_pilot/0min_SKN7/peak/idr_reproducibility/optimal_peak.narrowPeak | bedtools sort -i - |uniq > denovo1.in.0min_SKN7.bed\n",
    "bedtools intersect -a denovo1.genomewide.bed -b $AGGREGATE_ANALYSIS_DIR/croo_pilot/45min_SKN7/peak/idr_reproducibility/optimal_peak.narrowPeak | bedtools sort -i - |uniq > denovo1.in.45min_SKN7.bed\n",
    "bedtools intersect -a reb1.genomewide.bed -b $AGGREGATE_ANALYSIS_DIR/croo_pilot/0min_SKN7/peak/idr_reproducibility/optimal_peak.narrowPeak | bedtools sort -i - | uniq > REB1.in.0min_SKN7.bed\n",
    "bedtools intersect -a reb1.genomewide.bed -b $AGGREGATE_ANALYSIS_DIR/croo_pilot/45min_SKN7/peak/idr_reproducibility/optimal_peak.narrowPeak | bedtools sort -i - | uniq >REB1.in.45min_SKN7.bed "
   ]
  },
  {
   "cell_type": "code",
   "execution_count": null,
   "metadata": {},
   "outputs": [],
   "source": [
    "head denovo1.in.0min_SKN7.bed"
   ]
  },
  {
   "cell_type": "code",
   "execution_count": null,
   "metadata": {},
   "outputs": [],
   "source": [
    "#let's count how many motif hits we have in each peak set \n",
    "wc -l denovo1.in.0min_SKN7.bed\n",
    "wc -l denovo1.in.45min_SKN7.bed\n",
    "wc -l REB1.in.0min_SKN7.bed\n",
    "wc -l REB1.in.45min_SKN7.bed"
   ]
  },
  {
   "cell_type": "code",
   "execution_count": null,
   "metadata": {},
   "outputs": [],
   "source": [
    "wc -l $AGGREGATE_ANALYSIS_DIR/croo_pilot/0min_SKN7/peak/idr_reproducibility/optimal_peak.narrowPeak"
   ]
  },
  {
   "cell_type": "code",
   "execution_count": null,
   "metadata": {},
   "outputs": [],
   "source": [
    "wc -l $AGGREGATE_ANALYSIS_DIR/croo_pilot/45min_SKN7/peak/idr_reproducibility/optimal_peak.narrowPeak"
   ]
  },
  {
   "cell_type": "markdown",
   "metadata": {},
   "source": [
    "Looks like we have too few motif-peak intersections for the top de novo HOMER hit, but we have a good number of REB1 hits for footprinting. "
   ]
  }
 ],
 "metadata": {
  "kernelspec": {
   "display_name": "Bash",
   "language": "bash",
   "name": "bash"
  },
  "language_info": {
   "codemirror_mode": "shell",
   "file_extension": ".sh",
   "mimetype": "text/x-sh",
   "name": "bash"
  }
 },
 "nbformat": 4,
 "nbformat_minor": 1
}
