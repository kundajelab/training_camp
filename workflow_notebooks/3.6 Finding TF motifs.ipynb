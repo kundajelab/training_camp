{
 "cells": [
  {
   "cell_type": "markdown",
   "metadata": {},
   "source": [
    "# 3.6 Finding TF motifs # "
   ]
  },
  {
   "cell_type": "markdown",
   "metadata": {},
   "source": [
    "### IMPORTANT: Please make sure that you are using the bash kernel to run this notebook. ###\n"
   ]
  },
  {
   "cell_type": "code",
   "execution_count": null,
   "metadata": {},
   "outputs": [],
   "source": [
    "### Set up variables storing the location of our data\n",
    "### The proper way to load your variables is with the ~/.bashrc command, but this is very slow in iPython \n",
    "export SUNETID=\"$(whoami)\"\n",
    "export WORK_DIR=\"/scratch/${SUNETID}\"\n",
    "export DATA_DIR=\"${WORK_DIR}/data\"\n",
    "[[ ! -d ${WORK_DIR}/data ]] && mkdir \"${WORK_DIR}/data\"\n",
    "export SRC_DIR=\"${WORK_DIR}/src\"\n",
    "[[ ! -d ${WORK_DIR}/src ]] && mkdir -p \"${WORK_DIR}/src\"\n",
    "export METADATA_DIR=\"/metadata\"\n",
    "export AGGREGATE_DATA_DIR=\"/data\"\n",
    "export AGGREGATE_ANALYSIS_DIR=\"/outputs\"\n",
    "export YEAST_DIR=\"/saccer3\"\n",
    "export TMP=\"${WORK_DIR}/tmp\"\n",
    "export TEMP=$TMP\n",
    "export TMPDIR=$TMP\n",
    "[[ ! -d ${TMP} ]] && mkdir -p \"${TMP}\"\n",
    "\n"
   ]
  },
  {
   "cell_type": "markdown",
   "metadata": {},
   "source": [
    "In this tutorial, we will focus on identifying motifs in the ATAC-seq peaks: \n",
    "![Analysis pipeline](images/part6.png)"
   ]
  },
  {
   "cell_type": "code",
   "execution_count": null,
   "metadata": {},
   "outputs": [],
   "source": [
    "cd $WORK_DIR"
   ]
  },
  {
   "cell_type": "markdown",
   "metadata": {},
   "source": [
    "We will look for TF motifs in the differentially open  chromatin regions we have identified. Pick one of the following files to check for motif enrichment: \n",
    "\n",
    "* Timepoint_0min_vs_45min.differential.positive.txt  \n",
    "* Timepoint_0min_vs_45min.differential.negative.txt  \n",
    "* Strain_WT_vs_MSN1.differential.positive.txt\n",
    "* Strain_WT_vs_MSN1.differential.negative.txt\n",
    "* Strain_WT_vs_MSN2.differential.positive.txt\n",
    "* Strain_WT_vs_MSN2.differential.negative.txt\n",
    "* Strain_WT_vs_MSN4.differential.positive.txt\n",
    "* Strain_WT_vs_MSN4.differential.negative.txt\n",
    "* Strain_WT_vs_HOG1.differential.positive.txt\n",
    "* Strain_WT_vs_HOG1.differential.negative.txt\n",
    "* Strain_WT_vs_SKN7.differential.positive.txt\n",
    "* Strain_WT_vs_SKN7.differential.negative.txt\n",
    "* Strain_WT_vs_SKO1.differential.positive.txt\n",
    "* Strain_WT_vs_SKO1.differential.negative.txt\n",
    "* Strain_WT_vs_SMP1.differential.positive.txt\n",
    "* Strain_WT_vs_SMP1.differential.negative.txt\n",
    "* Strain_WT_vs_YAP6.differential.positive.txt\n",
    "* Strain_WT_vs_YAP6.differential.negative.txt\n",
    "* Strain_WT_vs_YAP7.differential.positive.txt\n",
    "* Strain_WT_vs_YAP7.differential.negative.txt\n",
    "\n",
    "\n",
    "\n"
   ]
  },
  {
   "cell_type": "markdown",
   "metadata": {},
   "source": [
    "We will use HOMER (http://homer.ucsd.edu/homer/) to search for enriched motifs. First, we load the module for homer:"
   ]
  },
  {
   "cell_type": "code",
   "execution_count": null,
   "metadata": {},
   "outputs": [],
   "source": [
    "module load homer "
   ]
  },
  {
   "cell_type": "code",
   "execution_count": null,
   "metadata": {},
   "outputs": [],
   "source": [
    "module list"
   ]
  },
  {
   "cell_type": "markdown",
   "metadata": {},
   "source": [
    "The specific HOMER command we will use is `findMotifsGenome.pl`. Let's see the inputs and outputs needed by this command:"
   ]
  },
  {
   "cell_type": "code",
   "execution_count": null,
   "metadata": {},
   "outputs": [],
   "source": [
    "findMotifsGenome.pl --help"
   ]
  },
  {
   "cell_type": "markdown",
   "metadata": {},
   "source": [
    "The **pos** file is our list of differential peaks. \n",
    "\n",
    "**genome** is the fasta file containing the yeast genome. \n",
    "\n",
    "**output dir** is the output directory where HOMER outputs will be stored. \n",
    "\n",
    "We leave all other values at their defaults. \n"
   ]
  },
  {
   "cell_type": "code",
   "execution_count": null,
   "metadata": {},
   "outputs": [],
   "source": [
    "findMotifsGenome.pl $WORK_DIR/Timepoint_0h_vs_4h.differential.positive.txt $YEAST_DIR/sacCer3.fa homer_output_positive\n",
    "findMotifsGenome.pl $WORK_DIR/Timepoint_0h_vs_4h.differential.negative.txt $YEAST_DIR/sacCer3.fa homer_output_negative\n",
    "\n"
   ]
  },
  {
   "cell_type": "markdown",
   "metadata": {},
   "source": [
    "We can examine the contents of the homer_output folder in the browser. "
   ]
  }
 ],
 "metadata": {
  "kernelspec": {
   "display_name": "Bash",
   "language": "bash",
   "name": "bash"
  },
  "language_info": {
   "codemirror_mode": "shell",
   "file_extension": ".sh",
   "mimetype": "text/x-sh",
   "name": "bash"
  }
 },
 "nbformat": 4,
 "nbformat_minor": 1
}
