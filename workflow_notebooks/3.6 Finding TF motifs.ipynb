{
 "cells": [
  {
   "cell_type": "markdown",
   "metadata": {},
   "source": [
    "# 3.6 Finding TF motifs # "
   ]
  },
  {
   "cell_type": "markdown",
   "metadata": {},
   "source": [
    "### IMPORTANT: Please make sure that you are using the bash kernel to run this notebook. ###\n"
   ]
  },
  {
   "cell_type": "code",
   "execution_count": 1,
   "metadata": {},
   "outputs": [
    {
     "ename": "",
     "evalue": "1",
     "output_type": "error",
     "traceback": []
    }
   ],
   "source": [
    "### Set up variables storing the location of our data\n",
    "### The proper way to load your variables is with the ~/.bashrc command, but this is very slow in iPython \n",
    "export SUNETID=\"$(whoami)\"\n",
    "export WORK_DIR=\"/scratch/${SUNETID}\"\n",
    "export DATA_DIR=\"${WORK_DIR}/data\"\n",
    "[[ ! -d ${WORK_DIR}/data ]] && mkdir \"${WORK_DIR}/data\"\n",
    "export SRC_DIR=\"${WORK_DIR}/src\"\n",
    "[[ ! -d ${WORK_DIR}/src ]] && mkdir -p \"${WORK_DIR}/src\"\n",
    "export METADATA_DIR=\"/metadata\"\n",
    "export AGGREGATE_DATA_DIR=\"/data\"\n",
    "export AGGREGATE_ANALYSIS_DIR=\"/outputs\"\n",
    "export YEAST_DIR=\"/saccer3\"\n",
    "export TMP=\"${WORK_DIR}/tmp\"\n",
    "export TEMP=$TMP\n",
    "export TMPDIR=$TMP\n",
    "[[ ! -d ${TMP} ]] && mkdir -p \"${TMP}\"\n",
    "\n"
   ]
  },
  {
   "cell_type": "markdown",
   "metadata": {},
   "source": [
    "In this tutorial, we will focus on identifying motifs in the ATAC-seq peaks: \n",
    "![Analysis pipeline](images/part6.png)"
   ]
  },
  {
   "cell_type": "code",
   "execution_count": 2,
   "metadata": {},
   "outputs": [],
   "source": [
    "cd $WORK_DIR"
   ]
  },
  {
   "cell_type": "markdown",
   "metadata": {},
   "source": [
    "We will look for TF motifs in the differentially open  chromatin regions we have identified. Pick one of the following files to check for motif enrichment: \n",
    "\n",
    "* Media_YPD_vs_YPGE.differential.positive.txt  \n",
    "* Media_YPD_vs_YPGE.differential.negative.txt  \n",
    "\n",
    "* Strain_WT_vs_asdf1.differential.positive.txt\n",
    "* Strain_WT_vs_asdf1.differential.negative.txt\n",
    "\n",
    "* Strain_WT_vs_rtt109.differential.positive.txt  \n",
    "* Strain_WT_vs_rtt109.differential.negative.txt  \n",
    "\n",
    "* Strain_asf1_vs_rtt109.differential.positive.txt\n",
    "* Strain_asf1_vs_rtt109.differential.negative.txt\n",
    "\n",
    "\n"
   ]
  },
  {
   "cell_type": "markdown",
   "metadata": {},
   "source": [
    "We will use HOMER (http://homer.ucsd.edu/homer/) to search for enriched motifs. First, we load the module for homer:"
   ]
  },
  {
   "cell_type": "code",
   "execution_count": 3,
   "metadata": {},
   "outputs": [],
   "source": [
    "module load homer "
   ]
  },
  {
   "cell_type": "code",
   "execution_count": 4,
   "metadata": {},
   "outputs": [
    {
     "name": "stdout",
     "output_type": "stream",
     "text": [
      "Currently Loaded Modulefiles:\n",
      "  1) /bedtools/2.26.0   2) /homer/default\n"
     ]
    }
   ],
   "source": [
    "module list"
   ]
  },
  {
   "cell_type": "markdown",
   "metadata": {},
   "source": [
    "The specific HOMER command we will use is `findMotifsGenome.pl`. Let's see the inputs and outputs needed by this command:"
   ]
  },
  {
   "cell_type": "code",
   "execution_count": 5,
   "metadata": {},
   "outputs": [
    {
     "name": "stdout",
     "output_type": "stream",
     "text": [
      "\n",
      "\tProgram will find de novo and known motifs in regions in the genome\n",
      "\n",
      "\tUsage: findMotifsGenome.pl <pos file> <genome> <output directory> [additional options]\n",
      "\tExample: findMotifsGenome.pl peaks.txt mm8r peakAnalysis -size 200 -len 8\n",
      "\n",
      "\tPossible Genomes:\n",
      "\t\tsacCer3\tyeast\n",
      "\t\t\t-- or --\n",
      "\t\tCustom: provide the path to genome FASTA files (directory or single file)\n",
      "\t\t\tHeads up: will create the directory \"preparsed/\" in same location.\n",
      "\n",
      "\tBasic options:\n",
      "\t\t-mask (mask repeats/lower case sequence, can also add 'r' to genome, i.e. mm9r)\n",
      "\t\t-bg <background position file> (genomic positions to be used as background, default=automatic)\n",
      "\t\t\tremoves background positions overlapping with target positions unless -keepOverlappingBg is used\n",
      "\t\t\t-chopify (chop up large background regions to the avg size of target regions)\n",
      "\t\t-len <#>[,<#>,<#>...] (motif length, default=8,10,12) [NOTE: values greater 12 may cause the program\n",
      "\t\t\tto run out of memory - in these cases decrease the number of sequences analyzed (-N),\n",
      "\t\t\tor try analyzing shorter sequence regions (i.e. -size 100)]\n",
      "\t\t-size <#> (fragment size to use for motif finding, default=200)\n",
      "\t\t\t-size <#,#> (i.e. -size -100,50 will get sequences from -100 to +50 relative from center)\n",
      "\t\t\t-size given (uses the exact regions you give it)\n",
      "\t\t-S <#> (Number of motifs to optimize, default: 25)\n",
      "\t\t-mis <#> (global optimization: searches for strings with # mismatches, default: 2)\n",
      "\t\t-norevopp (don't search reverse strand for motifs)\n",
      "\t\t-nomotif (don't search for de novo motif enrichment)\n",
      "\t\t-rna (output RNA motif logos and compare to RNA motif database, automatically sets -norevopp)\n",
      "\n",
      "\tScanning sequence for motifs\n",
      "\t\t-find <motif file> (This will cause the program to only scan for motifs)\n",
      "\n",
      "\tKnown Motif Options/Visualization\n",
      "\t\t-mset <vertebrates|insects|worms|plants|yeast|all> (check against motif collects, default: auto)\n",
      "\t\t-basic (just visualize de novo motifs, don't check similarity with known motifs)\n",
      "\t\t-bits (scale sequence logos by information content, default: doesn't scale)\n",
      "\t\t-nocheck (don't search for de novo vs. known motif similarity)\n",
      "\t\t-mcheck <motif file> (known motifs to check against de novo motifs,\n",
      "\t\t-float (allow adjustment of the degeneracy threshold for known motifs to improve p-value[dangerous])\n",
      "\t\t-noknown (don't search for known motif enrichment, default: -known)\n",
      "\t\t-mknown <motif file> (known motifs to check for enrichment,\n",
      "\t\t-nofacts (omit humor)\n",
      "\t\t-seqlogo (use weblogo/seqlogo/ghostscript to generate logos, default uses SVG now)\n",
      "\n",
      "\tSequence normalization options:\n",
      "\t\t-gc (use GC% for sequence content normalization, now the default)\n",
      "\t\t-cpg (use CpG% instead of GC% for sequence content normalization)\n",
      "\t\t-noweight (no CG correction)\n",
      "\t\tAlso -nlen <#>, -olen <#>, see homer2 section below.\n",
      "\n",
      "\tAdvanced options:\n",
      "\t\t-h (use hypergeometric for p-values, binomial is default)\n",
      "\t\t-N <#> (Number of sequences to use for motif finding, default=max(50k, 2x input)\n",
      "\t\t-local <#> (use local background, # of equal size regions around peaks to use i.e. 2)\n",
      "\t\t-redundant <#> (Remove redundant sequences matching greater than # percent, i.e. -redundant 0.5)\n",
      "\t\t-maxN <#> (maximum percentage of N's in sequence to consider for motif finding, default: 0.7)\n",
      "\t\t-maskMotif <motif file1> [motif file 2]... (motifs to mask before motif finding)\n",
      "\t\t-opt <motif file1> [motif file 2]... (motifs to optimize or change length of)\n",
      "\t\t-rand (randomize target and background sequences labels)\n",
      "\t\t-ref <peak file> (use file for target and background - first argument is list of peak ids for targets)\n",
      "\t\t-oligo (perform analysis of individual oligo enrichment)\n",
      "\t\t-dumpFasta (Dump fasta files for target and background sequences for use with other programs)\n",
      "\t\t-preparse (force new background files to be created)\n",
      "\t\t-preparsedDir <directory> (location to search for preparsed file and/or place new files)\n",
      "\t\t-keepFiles (keep temporary files)\n",
      "\t\t-fdr <#> (Calculate empirical FDR for de novo discovery #=number of randomizations)\n",
      "\n",
      "\thomer2 specific options:\n",
      "\t\t-homer2 (use homer2 instead of original homer, default)\n",
      "\t\t-nlen <#> (length of lower-order oligos to normalize in background, default: -nlen 3)\n",
      "\t\t\t-nmax <#> (Max normalization iterations, default: 160)\n",
      "\t\t\t-neutral (weight sequences to neutral frequencies, i.e. 25%, 6.25%, etc.)\n",
      "\t\t-olen <#> (lower-order oligo normalization for oligo table, use if -nlen isn't working well)\n",
      "\t\t-p <#> (Number of processors to use, default: 1)\n",
      "\t\t-e <#> (Maximum expected motif instance per bp in random sequence, default: 0.01)\n",
      "\t\t-cache <#> (size in MB for statistics cache, default: 500)\n",
      "\t\t-quickMask (skip full masking after finding motifs, similar to original homer)\n",
      "\t\t-minlp <#> (stop looking for motifs when seed logp score gets above #, default: -10)\n",
      "\n",
      "\tOriginal homer specific options:\n",
      "\t\t-homer1 (to force the use of the original homer)\n",
      "\t\t-depth [low|med|high|allnight] (time spent on local optimization default: med)\n",
      "\n"
     ]
    }
   ],
   "source": [
    "findMotifsGenome.pl --help"
   ]
  },
  {
   "cell_type": "markdown",
   "metadata": {},
   "source": [
    "The **pos** file is our list of differential peaks. \n",
    "\n",
    "**genome** is the fasta file containing the yeast genome. \n",
    "\n",
    "**output dir** is the output directory where HOMER outputs will be stored. \n",
    "\n",
    "We leave all other values at their defaults. \n"
   ]
  },
  {
   "cell_type": "code",
   "execution_count": 6,
   "metadata": {},
   "outputs": [
    {
     "name": "stdout",
     "output_type": "stream",
     "text": [
      "\n",
      "\tPosition file = /scratch/annashch/Media_YPD_vs_YPGE.differential.positive.txt\n",
      "\tGenome = /saccer3/sacCer3.fa\n",
      "\tOutput Directory = /homes/annashch/training_camp/workflow_notebooks/homer_output_positive\n",
      "\tUsing Custom Genome\n",
      "!!! Could not open peak/position file /scratch/annashch/Media_YPD_vs_YPGE.differential.positive.txt !!!\n",
      "\n",
      "\tPosition file = /scratch/annashch/Media_YPD_vs_YPGE.differential.negative.txt\n",
      "\tGenome = /saccer3/sacCer3.fa\n",
      "\tOutput Directory = /homes/annashch/training_camp/workflow_notebooks/homer_output_negative\n",
      "\tUsing Custom Genome\n",
      "!!! Could not open peak/position file /scratch/annashch/Media_YPD_vs_YPGE.differential.negative.txt !!!\n"
     ]
    },
    {
     "ename": "",
     "evalue": "2",
     "output_type": "error",
     "traceback": []
    }
   ],
   "source": [
    "findMotifsGenome.pl $WORK_DIR/Media_YPD_vs_YPGE.differential.positive.txt $YEAST_DIR/sacCer3.fa ~/training_camp/workflow_notebooks/homer_output_positive\n",
    "findMotifsGenome.pl $WORK_DIR/Media_YPD_vs_YPGE.differential.negative.txt $YEAST_DIR/sacCer3.fa ~/training_camp/workflow_notebooks/homer_output_negative\n",
    "\n"
   ]
  },
  {
   "cell_type": "markdown",
   "metadata": {},
   "source": [
    "We can examine the contents of the homer_output folder in the browser. "
   ]
  }
 ],
 "metadata": {
  "kernelspec": {
   "display_name": "Bash",
   "language": "bash",
   "name": "bash"
  },
  "language_info": {
   "codemirror_mode": "shell",
   "file_extension": ".sh",
   "mimetype": "text/x-sh",
   "name": "bash"
  }
 },
 "nbformat": 4,
 "nbformat_minor": 1
}
