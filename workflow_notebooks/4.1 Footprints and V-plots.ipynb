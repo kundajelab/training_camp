{
 "cells": [
  {
   "cell_type": "markdown",
   "metadata": {},
   "source": [
    "# 4.1 Generating footprints and V-plots with the ATACseqQC package\n",
    "### Make sure you are using the R-kernel to run this notebook "
   ]
  },
  {
   "cell_type": "code",
   "execution_count": null,
   "metadata": {},
   "outputs": [],
   "source": [
    "#change to your working directory \n",
    "username=\"annashch\"\n",
    "setwd(paste(\"/scratch/\",username,sep=\"\"))"
   ]
  },
  {
   "cell_type": "markdown",
   "metadata": {},
   "source": [
    "The [ATACseqQC](https://www.bioconductor.org/packages/release/bioc/vignettes/ATACseqQC/inst/doc/ATACseqQC.html) provides convenient wrappers for a number of ATAC QC workflows. \n",
    "We will use this toolkit to generate footprints and V-plots for some of the transcription factors found to be enriched across conditions in the HOMER analysis (see notebook 3.6)"
   ]
  },
  {
   "cell_type": "code",
   "execution_count": null,
   "metadata": {},
   "outputs": [],
   "source": [
    "## load the needed R libraries\n",
    "library(ATACseqQC)\n",
    "library(GenomicRanges)\n",
    "library(BSgenome.Scerevisiae.UCSC.sacCer3)\n",
    "genome <- Scerevisiae\n",
    "seqlev=seqlevels(genome)"
   ]
  },
  {
   "cell_type": "code",
   "execution_count": null,
   "metadata": {},
   "outputs": [],
   "source": [
    "## indicate the Transcription Factor of interest\n",
    "tf=\"REB1\"\n",
    "## indicate the path to the BAM file we will use. \n",
    "experiment=\"0min_SKN7\""
   ]
  },
  {
   "cell_type": "markdown",
   "metadata": {},
   "source": [
    "## Generating Footprints from BAM files "
   ]
  },
  {
   "cell_type": "code",
   "execution_count": null,
   "metadata": {},
   "outputs": [],
   "source": [
    "#use the paste command in R to provide the path to the duplicate-filtered replicate-merged bam file.  \n",
    "bamfile=paste(\"/outputs/croo_pilot/\",experiment,\"/align/\",experiment,\".merged.nodup.bam\",sep=\"\")"
   ]
  },
  {
   "cell_type": "code",
   "execution_count": null,
   "metadata": {},
   "outputs": [],
   "source": [
    "#first, load the duplicate-filtered bam file for 0min_SKN7, indicate that the file is paired-end by \n",
    "# setting asMates=TRUE \n",
    "bam_data=readBamFile(bamfile,asMates=TRUE)"
   ]
  },
  {
   "cell_type": "code",
   "execution_count": null,
   "metadata": {},
   "outputs": [],
   "source": [
    "#visualize the loaded bam file \n",
    "bam_data"
   ]
  },
  {
   "cell_type": "code",
   "execution_count": null,
   "metadata": {},
   "outputs": [],
   "source": [
    "## shift the coordinates of 5'ends of alignments in the bam file\n",
    "shiftedBamFile=paste(experiment,\".merged.nodup.shifted.bam\",sep='')\n",
    "shifted_bam_data <- shiftGAlignmentsList(bam_data, outbam=shiftedBamFile)"
   ]
  },
  {
   "cell_type": "markdown",
   "metadata": {},
   "source": [
    "## REB1"
   ]
  },
  {
   "cell_type": "code",
   "execution_count": null,
   "metadata": {},
   "outputs": [],
   "source": [
    "## foot prints\n",
    "library(MotifDb)\n",
    "\n",
    "#we can subset the motif database to just S. cerevisiae motifs: \n",
    "query (MotifDb, 'cerevisiae')"
   ]
  },
  {
   "cell_type": "code",
   "execution_count": null,
   "metadata": {},
   "outputs": [],
   "source": [
    "#We will generate footprints & V-plots for the  S. cerevisiase transcription factor REB1.\n",
    "# Let's verify that there is a motif for this TF  in the database \n",
    "query(query (MotifDb, 'cerevisiae'),tf)\n"
   ]
  },
  {
   "cell_type": "code",
   "execution_count": null,
   "metadata": {},
   "outputs": [],
   "source": [
    "#Get the Position Frequency Matrix for REB1\n",
    "pfm=query(query (MotifDb, 'cerevisiae'),tf)\n",
    "pfm=as.list(pfm)\n",
    "print(pfm[[1]], digits=2)\n"
   ]
  },
  {
   "cell_type": "code",
   "execution_count": null,
   "metadata": {},
   "outputs": [],
   "source": [
    "#load the peak regions that overlap with REB1 (see notebook 3.6 for how these are generated) and store them as \n",
    "# a GenomicRanges object \n",
    "motif_hits=read.table(\"REB1.in.0min_SKN7.bed\",header=FALSE,sep='\\t')\n",
    "colnames(motif_hits)=c(\"chr\",\"start\",\"end\",\"id\",\"score\",\"strand\")\n",
    "\n",
    "\n",
    "motif_hits=makeGRangesFromDataFrame(motif_hits,\n",
    "                                    seqinfo=seqinfo(genome),\n",
    "                                    seqnames.field=\"chr\",\n",
    "                                    start.field=\"start\",\n",
    "                                    end.field=\"end\",\n",
    "                                    keep.extra.columns=TRUE)\n",
    "motif_hits"
   ]
  },
  {
   "cell_type": "code",
   "execution_count": null,
   "metadata": {},
   "outputs": [],
   "source": [
    "options(repr.plot.width=12, repr.plot.height=10)\n",
    "sigs <- factorFootprints(shiftedBamFile, \n",
    "                         pfm=pfm[[1]], \n",
    "                         genome=genome,\n",
    "                         bindingSites=motif_hits,\n",
    "                         seqlev=paste0(seqlevels(genome)),\n",
    "                         min.score=\"95%\",\n",
    "                         upstream=50,\n",
    "                         downstream=50)\n"
   ]
  },
  {
   "cell_type": "markdown",
   "metadata": {},
   "source": [
    "## Generating V-plots"
   ]
  },
  {
   "cell_type": "code",
   "execution_count": null,
   "metadata": {},
   "outputs": [],
   "source": [
    "vp <- vPlot(shiftedBamFile, \n",
    "            pfm=pfm[[1]], \n",
    "            genome=genome, \n",
    "            min.score=\"95%\",\n",
    "            bindingSites=motif_hits,\n",
    "            seqlev=paste0(seqlevels(genome)),\n",
    "            upstream=500, \n",
    "            downstream=500, \n",
    "            ylim=c(0, 500), \n",
    "            bandwidth=c(2, 1))"
   ]
  },
  {
   "cell_type": "code",
   "execution_count": null,
   "metadata": {},
   "outputs": [],
   "source": [
    "distanceDyad(vp, pch=20, cex=.5)\n"
   ]
  },
  {
   "cell_type": "markdown",
   "metadata": {},
   "source": [
    "## De novo HOMER hit "
   ]
  },
  {
   "cell_type": "markdown",
   "metadata": {},
   "source": [
    "We can also generate a footprint/V-plot for the top-hit de novo motif from homer: \n",
    "\n",
    "![top_hits](images/top_hits_homer_SKN7.png)\n",
    "\n",
    "Note: you can click on the \"motif file matrix\" link in the right-most column of the homerResults.html results file to get the input motif file for scanning: \n",
    "\n",
    "\n",
    "```\n",
    ">GGGCGGCACAAG\t1-GGGCGGCACAAG,BestGuess:POL011.1_XCPE1/Jaspar(0.681)\t10.848594\t-40.855667\t0\tT:9.0(5.70%),B:1.0(0.03%),P:1e-17\n",
    "0.001\t0.001\t0.997\t0.001\n",
    "0.125\t0.250\t0.624\t0.001\n",
    "0.001\t0.001\t0.997\t0.001\n",
    "0.001\t0.997\t0.001\t0.001\n",
    "0.125\t0.125\t0.749\t0.001\n",
    "0.001\t0.001\t0.874\t0.124\n",
    "0.001\t0.749\t0.249\t0.001\n",
    "0.749\t0.001\t0.125\t0.125\n",
    "0.124\t0.874\t0.001\t0.001\n",
    "0.874\t0.001\t0.124\t0.001\n",
    "0.997\t0.001\t0.001\t0.001\n",
    "0.125\t0.125\t0.749\t0.001\n",
    "```\n",
    "This motif is located in the output folder: \n",
    "```\n",
    "/scratch/[YOUR USERNAME]/homer_SKN7_0min_vs_45min_negative/homerResults/motif1.motif\n",
    "```"
   ]
  },
  {
   "cell_type": "code",
   "execution_count": null,
   "metadata": {},
   "outputs": [],
   "source": [
    "denovo1_pfm=read.table(\"homer_SKN7_0min_vs_45min_negative/homerResults/motif1.motif\",skip = 1,header=FALSE,sep='\\t')\n",
    "head(denovo1_pfm)\n"
   ]
  },
  {
   "cell_type": "code",
   "execution_count": null,
   "metadata": {},
   "outputs": [],
   "source": [
    "#let's transpose the matrix and generate proper row names \n",
    "denovo1_pfm=t(denovo1_pfm)\n",
    "rownames(denovo1_pfm)=c(\"A\",\"C\",\"G\",\"T\")\n",
    "head(denovo1_pfm)"
   ]
  },
  {
   "cell_type": "code",
   "execution_count": null,
   "metadata": {},
   "outputs": [],
   "source": [
    "#load the peak regions that overlap with REB1 (see notebook 3.6 for how these are generated) and store them as \n",
    "# a GenomicRanges object \n",
    "denovo1_motif_hits=read.table(\"denovo1.in.0min_SKN7.bed\",header=FALSE,sep='\\t')\n",
    "colnames(denovo1_motif_hits)=c(\"chr\",\"start\",\"end\",\"id\",\"score\",\"strand\")\n",
    "\n",
    "\n",
    "denovo1_motif_hits=makeGRangesFromDataFrame(denovo1_motif_hits,\n",
    "                                    seqinfo=seqinfo(genome),\n",
    "                                    seqnames.field=\"chr\",\n",
    "                                    start.field=\"start\",\n",
    "                                    end.field=\"end\",\n",
    "                                    keep.extra.columns=TRUE)\n",
    "denovo1_motif_hits"
   ]
  },
  {
   "cell_type": "code",
   "execution_count": null,
   "metadata": {},
   "outputs": [],
   "source": [
    "sigs <- factorFootprints(shiftedBamFile, \n",
    "                         pfm=denovo1_pfm, \n",
    "                         genome=genome,\n",
    "                         bindingSites=denovo1_motif_hits,\n",
    "                         seqlev=paste0(seqlevels(genome)),\n",
    "                         min.score=\"95%\",\n",
    "                         upstream=50,\n",
    "                         downstream=50)\n"
   ]
  },
  {
   "cell_type": "code",
   "execution_count": null,
   "metadata": {},
   "outputs": [],
   "source": [
    "vp <- vPlot(shiftedBamFile, \n",
    "            pfm=denovo1_pfm, \n",
    "            genome=genome, \n",
    "            min.score=\"95%\",\n",
    "            bindingSites=denovo1_motif_hits,\n",
    "            seqlev=paste0(seqlevels(genome)),\n",
    "            upstream=500, \n",
    "            downstream=500, \n",
    "            ylim=c(0, 500), \n",
    "            bandwidth=c(2, 1))"
   ]
  },
  {
   "cell_type": "code",
   "execution_count": null,
   "metadata": {},
   "outputs": [],
   "source": [
    "distanceDyad(vp, pch=20, cex=.5)\n"
   ]
  },
  {
   "cell_type": "code",
   "execution_count": null,
   "metadata": {},
   "outputs": [],
   "source": []
  },
  {
   "cell_type": "markdown",
   "metadata": {},
   "source": [
    "## Functions in R "
   ]
  },
  {
   "cell_type": "markdown",
   "metadata": {},
   "source": [
    "If we wanted to run the workflow above on a different experiment or TF, it would be convenient to have a small number of commands we could execute to do that. We can wrap the commands above into two R functions to achieve this: "
   ]
  },
  {
   "cell_type": "code",
   "execution_count": null,
   "metadata": {},
   "outputs": [],
   "source": [
    "#This function reads and shifts a bam file for a given experiment \n",
    "read_and_shift_bam <- function(experiment){\n",
    "    bamfile=paste(\"/outputs/croo_pilot/\",experiment,\"/align/\",experiment,\".merged.nodup.bam\",sep=\"\")\n",
    "    bam_data=readBamFile(bamfile,asMates=TRUE)\n",
    "    shiftedBamFile=paste(experiment,\".merged.nodup.shifted.bam\",sep='')\n",
    "    shifted_bam_data <- shiftGAlignmentsList(bam_data, outbam=shiftedBamFile)\n",
    "    return;\n",
    "}\n",
    "\n",
    "#This function generates a PFM matrix by querying the S. cerevisiae transcription factor database \n",
    "get_pfm_from_db <-function(tf)\n",
    "    {\n",
    "    pfm=query(query (MotifDb, 'cerevisiae'),tf)\n",
    "    pfm=as.list(pfm)\n",
    "    if(length(pfm)==0)\n",
    "    {\n",
    "    print(paste(\"tf\",tf,\" not found in JASPAR\"))\n",
    "    return\n",
    "    }\n",
    "    return(pfm[[1]])\n",
    "    \n",
    "}\n",
    "\n",
    "#This function uses the filename for a shifted bam to generate a footprint plot and a V-plot for a TF. \n",
    "make_footprint_and_vplot <- function(experiment,motifs_in_peaks_bed,pfm) {\n",
    "    shiftedBamFile=paste(experiment,\".merged.nodup.shifted.bam\",sep='')\n",
    "   \n",
    "    #specify that yeast genome is used \n",
    "    genome <- Scerevisiae\n",
    "    seqlev=seqlevels(genome)\n",
    "    \n",
    "    #generate GRanges object with motifs in peaks \n",
    "    motif_hits=read.table(motifs_in_peaks_bed,header=FALSE,sep='\\t')\n",
    "    colnames(motif_hits)=c(\"chr\",\"start\",\"end\",\"id\",\"score\",\"strand\")\n",
    "    motif_hits=makeGRangesFromDataFrame(motif_hits,\n",
    "                                    seqinfo=seqinfo(genome),\n",
    "                                    seqnames.field=\"chr\",\n",
    "                                    start.field=\"start\",\n",
    "                                    end.field=\"end\",\n",
    "                                    keep.extra.columns=TRUE)\n",
    "\n",
    "    #set plot size\n",
    "    options(repr.plot.width=12, repr.plot.height=10)\n",
    "\n",
    "    #make fooprint plot\n",
    "    sigs <- factorFootprints(shiftedBamFile, \n",
    "                         pfm=pfm, \n",
    "                         genome=genome,\n",
    "                         bindingSites=motif_hits,\n",
    "                         seqlev=paste0(seqlevels(genome)),\n",
    "                         min.score=\"95%\",\n",
    "                         upstream=50,\n",
    "                         downstream=50)\n",
    "    #make V-plot              \n",
    "    vp <- vPlot(shiftedBamFile, \n",
    "            pfm=pfm, \n",
    "            genome=genome, \n",
    "            bindingSites=motif_hits,\n",
    "            min.score=\"95%\",\n",
    "            seqlev=paste0(seqlevels(genome)),\n",
    "            upstream=500, \n",
    "            downstream=500, \n",
    "            ylim=c(0, 500), \n",
    "            bandwidth=c(2, 1)) \n",
    "    \n",
    "    #make Dyad plot \n",
    "    distanceDyad(vp, \n",
    "                 pch=20, \n",
    "                 cex=.5)\n",
    "    return\n",
    "}"
   ]
  },
  {
   "cell_type": "markdown",
   "metadata": {},
   "source": [
    "Let's see some examles of our helper functions in action "
   ]
  },
  {
   "cell_type": "markdown",
   "metadata": {},
   "source": [
    "Now, let's repeat our analysis for **45min_SKN7**"
   ]
  },
  {
   "cell_type": "code",
   "execution_count": null,
   "metadata": {},
   "outputs": [],
   "source": [
    "#read & shift the bam file \n",
    "read_and_shift_bam(\"45min_SKN7\")"
   ]
  },
  {
   "cell_type": "code",
   "execution_count": null,
   "metadata": {},
   "outputs": [],
   "source": [
    "#generate footprint & V-plot \n",
    "reb1_pfm=get_pfm_from_db(\"REB1\")\n",
    "make_footprint_and_vplot(\"45min_SKN7\",\"REB1.in.45min_SKN7.bed\",reb1_pfm)"
   ]
  },
  {
   "cell_type": "markdown",
   "metadata": {},
   "source": [
    "We can also generate a footprint/V-plot for the strongest de novo motif hit from homer "
   ]
  },
  {
   "cell_type": "code",
   "execution_count": null,
   "metadata": {},
   "outputs": [],
   "source": [
    "make_footprint_and_vplot(\"45min_SKN7\",\"denovo1.in.45min_SKN7.bed\",denovo1_pfm)"
   ]
  }
 ],
 "metadata": {
  "kernelspec": {
   "display_name": "R",
   "language": "R",
   "name": "ir"
  },
  "language_info": {
   "codemirror_mode": "r",
   "file_extension": ".r",
   "mimetype": "text/x-r-source",
   "name": "R",
   "pygments_lexer": "r",
   "version": "4.0.2"
  }
 },
 "nbformat": 4,
 "nbformat_minor": 4
}
