{
 "cells": [
  {
   "cell_type": "markdown",
   "metadata": {},
   "source": [
    "### IMPORTANT: Please make sure that you are using the bash kernel to run this notebook.###\n"
   ]
  },
  {
   "cell_type": "code",
   "execution_count": 34,
   "metadata": {},
   "outputs": [
    {
     "ename": "",
     "evalue": "1",
     "output_type": "error",
     "traceback": []
    }
   ],
   "source": [
    "### Set up variables storing the location of our data\n",
    "### The proper way to load your variables is with the ~/.bashrc command, but this is very slow in iPython \n",
    "export SUNETID=\"$(whoami)\"\n",
    "export WORK_DIR=\"/scratch/${SUNETID}\"\n",
    "export DATA_DIR=\"${WORK_DIR}/data\"\n",
    "[[ ! -d ${WORK_DIR}/data ]] && mkdir \"${WORK_DIR}/data\"\n",
    "export SRC_DIR=\"${WORK_DIR}/src\"\n",
    "[[ ! -d ${WORK_DIR}/src ]] && mkdir -p \"${WORK_DIR}/src\"\n",
    "export METADATA_DIR=\"/metadata\"\n",
    "export AGGREGATE_DATA_DIR=\"/data\"\n",
    "export AGGREGATE_ANALYSIS_DIR=\"/outputs\"\n",
    "export YEAST_DIR=\"/saccer3\"\n",
    "export TMP=\"${WORK_DIR}/tmp\"\n",
    "export TEMP=$TMP\n",
    "export TMPDIR=$TMP\n",
    "[[ ! -d ${TMP} ]] && mkdir -p \"${TMP}\"\n",
    "\n"
   ]
  },
  {
   "cell_type": "code",
   "execution_count": null,
   "metadata": {},
   "outputs": [],
   "source": [
    "mkdir $WORK_DIR/Tobias\n",
    "cd $WORK_DIR/Tobias"
   ]
  },
  {
   "cell_type": "markdown",
   "metadata": {},
   "source": [
    "We will be using the [TOBIAS](https://github.com/loosolab/TOBIAS) tool created by Mette Bentsen to correct for Tn5 bias and generate footprints. From the HOMER analysis, it appears that the de novo motif resembling POL011.1_XCPE1/Jaspar(0.681) is differential in the SKN7 strain between 0 minutes and 45 minutes. We will run this analysis  using experiment names \"**0min_SKN7**\" and \"**45min_SKN7**\" to perform differential fooptrinting of POL011.1 in these two samples. \n",
    "\n"
   ]
  },
  {
   "cell_type": "markdown",
   "metadata": {},
   "source": [
    "\n",
    "First, let's merge the filtered bam files for the two replicates in our dataset. We can do this with the bamtools merge command. \n",
    "\n",
    "We also get the combined idr optimal peak set for the 2 conditions. "
   ]
  },
  {
   "cell_type": "code",
   "execution_count": 56,
   "metadata": {},
   "outputs": [],
   "source": [
    "rm 0min_45min_SKN7.optimal_peak.narrowPeak.bed #if you run this more than once, make sure you overwrite the merged peak file\n",
    "\n",
    "for experiment in 45min_SKN7 0min_SKN7\n",
    "do\n",
    "    rep1_bam=$AGGREGATE_ANALYSIS_DIR/croo/$experiment/align/rep1/$experiment\\_1_R1.merged.nodup.bam \n",
    "    rep2_bam=$AGGREGATE_ANALYSIS_DIR/croo/$experiment/align/rep2/$experiment\\_2_R1.merged.nodup.bam\n",
    "    idr_peaks=$AGGREGATE_ANALYSIS_DIR/croo/$experiment/peak/idr_reproducibility/optimal_peak.narrowPeak.gz\n",
    "    \n",
    "    #merge the bam file replicates \n",
    "    samtools merge -f $experiment.merged.bam $rep1_bam $rep2_bam \n",
    "    zcat $idr_peaks >> 0min_45min_SKN7.optimal_peak.narrowPeak.bed \n",
    "done "
   ]
  },
  {
   "cell_type": "markdown",
   "metadata": {},
   "source": [
    "## Step 1:  ATACorrect: Bias correction of ATAC-seq reads in open chromatin\n",
    "ATACorrect corrects the cutsite-signal from ATAC-seq with regard to the underlying\n",
    "sequence preference of Tn5 transposase.\n",
    "\n",
    "Usage:\n",
    "TOBIAS ATACorrect --bam <reads.bam> --genome <genome.fa> --peaks <peaks.bed>\n",
    "\n",
    "Output files:\n",
    "- <outdir>/<prefix>_uncorrected.bw\n",
    "- <outdir>/<prefix>_bias.bw\n",
    "- <outdir>/<prefix>_expected.bw\n",
    "- <outdir>/<prefix>_corrected.bw\n",
    "- <outdir>/<prefix>_atacorrect.pdf"
   ]
  },
  {
   "cell_type": "code",
   "execution_count": null,
   "metadata": {},
   "outputs": [],
   "source": [
    "#This can take 5 - 10 minutes to run \n",
    "for experiment in 45min_SKN7 0min_SKN7\n",
    "do\n",
    "    TOBIAS ATACorrect --bam $experiment.merged.bam --genome $YEAST_DIR/sacCer3.fa --peaks  0min_45min_SKN7.optimal_peak.narrowPeak.bed \n",
    "done"
   ]
  },
  {
   "cell_type": "code",
   "execution_count": 50,
   "metadata": {},
   "outputs": [
    {
     "name": "stdout",
     "output_type": "stream",
     "text": [
      "total 74M\n",
      "drwxr-xr-x 2 annashch users 6.0K Aug 28 18:09 .\n",
      "drwxrwxrwx 8 annashch users  14K Aug 28 17:34 ..\n",
      "-rw-r--r-- 1 annashch users  44M Aug 28 18:03 0min_SKN7.merged.bam\n",
      "-rw-r--r-- 1 annashch users  12K Aug 28 18:03 0min_SKN7.merged.bam.bai\n",
      "-rw-r--r-- 1 annashch users 2.2M Aug 28 18:04 0min_SKN7.merged_AtacBias.pickle\n",
      "-rw-r--r-- 1 annashch users  34K Aug 28 18:05 0min_SKN7.merged_atacorrect.pdf\n",
      "-rw-r--r-- 1 annashch users 2.9M Aug 28 18:05 0min_SKN7.merged_bias.bw\n",
      "-rw-r--r-- 1 annashch users 1.9M Aug 28 18:05 0min_SKN7.merged_corrected.bw\n",
      "-rw-r--r-- 1 annashch users 1.8M Aug 28 18:05 0min_SKN7.merged_expected.bw\n",
      "-rw-r--r-- 1 annashch users 513K Aug 28 18:05 0min_SKN7.merged_uncorrected.bw\n",
      "-rw-r--r-- 1 annashch users 102K Aug 28 18:03 0min_SKN7.optimal_peak.narrowPeak.bed\n",
      "-rw-r--r-- 1 annashch users 1.7M Aug 28 18:05 0min_SKN7_footprints.bw\n",
      "-rw-r--r-- 1 annashch users  17M Aug 28 18:09 45min_SKN7.merged.bam\n",
      "-rw-r--r-- 1 annashch users  11K Aug 28 18:09 45min_SKN7.merged.bam.bai\n",
      "-rw-r--r-- 1 annashch users 2.2M Aug 28 18:09 45min_SKN7.merged_AtacBias.pickle\n",
      "-rw-r--r-- 1 annashch users  34K Aug 28 18:10 45min_SKN7.merged_atacorrect.pdf\n",
      "-rw-r--r-- 1 annashch users 340K Aug 28 18:10 45min_SKN7.merged_bias.bw\n",
      "-rw-r--r-- 1 annashch users 235K Aug 28 18:10 45min_SKN7.merged_corrected.bw\n",
      "-rw-r--r-- 1 annashch users 206K Aug 28 18:10 45min_SKN7.merged_expected.bw\n",
      "-rw-r--r-- 1 annashch users  75K Aug 28 18:10 45min_SKN7.merged_uncorrected.bw\n",
      "-rw-r--r-- 1 annashch users  14K Aug 28 18:09 45min_SKN7.optimal_peak.narrowPeak.bed\n"
     ]
    }
   ],
   "source": [
    "ls -lah"
   ]
  },
  {
   "cell_type": "markdown",
   "metadata": {},
   "source": [
    "We can examine the observed Tn5 bias before and after correction: \n",
    "http://1.gentc.net:/scratch/annashch/Tobias/0min_HOG1.merged_atacorrect.pdf\n",
    "(replace 'annashch' with your username, and replace '0min_HOG1' with your sample name) "
   ]
  },
  {
   "cell_type": "markdown",
   "metadata": {},
   "source": [
    "## Step 2: ScoreBigwig: Calculate footprint scores from corrected cutsites\n",
    "\n",
    "\n",
    "TOBIAS [ScoreBigwig](https://github.com/loosolab/TOBIAS/wiki/ScoreBigwig) is used to calculate a continuous footprinting score across regions. \n",
    "\n",
    "\n",
    "--signal\n",
    "Signal bigwig containing cutsites per basepair - e.g. {prefix}_corrected.bw from ATACorrect\n",
    "\n",
    "--regions\n",
    "Limits the computation of footprints to regions found in --regions .bed-file (in most cases the peaks of accessible chromatin).\n",
    "\n",
    "--score The score to apply to the input --signal. The default is \"footprint\", which calculates the footprint score depicted above. Other options include \"sum\" and \"mean\", which can be used to calculate other types of scores on the input --signal."
   ]
  },
  {
   "cell_type": "code",
   "execution_count": null,
   "metadata": {},
   "outputs": [],
   "source": [
    "for experiment in 45min_SKN7 0min_SKN7\n",
    "do\n",
    "    TOBIAS FootprintScores --signal $experiment.merged_corrected.bw --regions 0min_45min_SKN7.optimal_peak.narrowPeak.bed   --output $experiment\\_footprints.bw --cores 8\n",
    "done"
   ]
  },
  {
   "cell_type": "markdown",
   "metadata": {},
   "source": [
    "## Step 3: BinDetect: Estimation of differentially bound motifs based on scores, sequence and motifs"
   ]
  },
  {
   "cell_type": "code",
   "execution_count": 62,
   "metadata": {},
   "outputs": [
    {
     "name": "stdout",
     "output_type": "stream",
     "text": [
      "0min_45min_SKN7.optimal_peak.narrowPeak.bed  45min_SKN7.merged.bam\n",
      "0min_SKN7.merged.bam\t\t\t     45min_SKN7.merged.bam.bai\n",
      "0min_SKN7.merged.bam.bai\t\t     45min_SKN7.merged_AtacBias.pickle\n",
      "0min_SKN7.merged_AtacBias.pickle\t     45min_SKN7.merged_atacorrect.pdf\n",
      "0min_SKN7.merged_atacorrect.pdf\t\t     45min_SKN7.merged_bias.bw\n",
      "0min_SKN7.merged_bias.bw\t\t     45min_SKN7.merged_corrected.bw\n",
      "0min_SKN7.merged_corrected.bw\t\t     45min_SKN7.merged_expected.bw\n",
      "0min_SKN7.merged_expected.bw\t\t     45min_SKN7.merged_uncorrected.bw\n",
      "0min_SKN7.merged_uncorrected.bw\t\t     45min_SKN7_footprints.bw\n",
      "0min_SKN7_footprints.bw\n"
     ]
    }
   ],
   "source": [
    "ls"
   ]
  },
  {
   "cell_type": "code",
   "execution_count": null,
   "metadata": {},
   "outputs": [],
   "source": [
    "TOBIAS BINDetect --motifs /data/motif_pfm/XCPE1.pfm \\\n",
    "                 --signals 0min_SKN7_footprints.bw 45min_SKN7_footprints.bw \\\n",
    "                 --genome $YEAST_DIR/sacCer3.fa \\\n",
    "                 --peaks 0min_45min_SKN7.optimal_peak.narrowPeak.bed \\\n",
    "                 --outdir BINDetect_output \\\n",
    "                 --cond_names 0min_SKN7 45min_SKN7 \\\n",
    "                 --cores 1"
   ]
  },
  {
   "cell_type": "code",
   "execution_count": 76,
   "metadata": {},
   "outputs": [
    {
     "name": "stdout",
     "output_type": "stream",
     "text": [
      "# TOBIAS 0.11.6 PlotHeatmap (run started 2020-08-28 18:45:12.318945)\n",
      "# Working directory: /scratch/annashch/Tobias\n",
      "# Command line call: TOBIAS PlotHeatmap --TFBS BINDetect_output/XCPE1_POL011.1/beds/XCPE1_POL011.1_all.bed --signals 0min_SKN7_footprints.bw 45min_SKN7_footprints.bw --output XCPE1_heatmap.png --sort_by -2\n",
      "\n",
      "# ----- Input parameters -----\n",
      "# TFBS:\t[['BINDetect_output/XCPE1_POL011.1/beds/XCPE1_POL011.1_all.bed']]\n",
      "# signals:\t['0min_SKN7_footprints.bw', '45min_SKN7_footprints.bw']\n",
      "# output:\tXCPE1_heatmap.png\n",
      "# plot_boundaries:\tFalse\n",
      "# share_colorbar:\tFalse\n",
      "# flank:\t75\n",
      "# title:\tTOBIAS heatmap\n",
      "# TFBS_labels:\tNone\n",
      "# signal_labels:\tNone\n",
      "# show_columns:\t[]\n",
      "# sort_by:\t-2\n",
      "# verbosity:\t3\n",
      "\n",
      "\n",
      "# ----- Output files -----\n",
      "# XCPE1_heatmap.png\n",
      "\n",
      "\n",
      "2020-08-28 18:45:12 (63817) [INFO]\tUsing bedfiles: [['BINDetect_output/XCPE1_POL011.1/beds/XCPE1_POL011.1_all.bed']] across all bigwigs\n",
      "\n",
      "2020-08-28 18:45:12 (63817) [INFO]\tReading bedfiles\n",
      "2020-08-28 18:45:12 (63817) [INFO]\t- Read 103 sites from BINDetect_output/XCPE1_POL011.1/beds/XCPE1_POL011.1_all.bed of width 10\n",
      "\n",
      "2020-08-28 18:45:12 (63817) [INFO]\tReading signals from bigwigs\n",
      "2020-08-28 18:45:12 (63817) [INFO]\t- Reading BINDetect_output/XCPE1_POL011.1/beds/XCPE1_POL011.1_all.bed from 0min_SKN7_footprints.bw\n",
      "2020-08-28 18:45:12 (63817) [INFO]\t- Reading BINDetect_output/XCPE1_POL011.1/beds/XCPE1_POL011.1_all.bed from 45min_SKN7_footprints.bw\n",
      "\n",
      "2020-08-28 18:45:12 (63817) [INFO]\tSetting up plotting grid\n",
      "2020-08-28 18:45:12 (63817) [INFO]\tFilling in grid\n",
      "2020-08-28 18:45:12 (63817) [INFO]\tWriting output file\n",
      "\n",
      "2020-08-28 18:45:13 (63817) [INFO]\tFinished PlotHeatmap run (total time elapsed: 0:00:01.349452)\n"
     ]
    }
   ],
   "source": [
    "#Visualize heatmap \n",
    "TOBIAS PlotHeatmap --TFBS BINDetect_output/XCPE1_POL011.1/beds/XCPE1_POL011.1_all.bed --signals 0min_SKN7_footprints.bw 45min_SKN7_footprints.bw --output XCPE1_heatmap.png --sort_by -2"
   ]
  }
 ],
 "metadata": {
  "kernelspec": {
   "display_name": "Bash",
   "language": "bash",
   "name": "bash"
  },
  "language_info": {
   "codemirror_mode": "shell",
   "file_extension": ".sh",
   "mimetype": "text/x-sh",
   "name": "bash"
  }
 },
 "nbformat": 4,
 "nbformat_minor": 2
}
