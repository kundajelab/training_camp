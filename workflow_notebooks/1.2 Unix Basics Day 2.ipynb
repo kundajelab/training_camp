{
 "cells": [
  {
   "cell_type": "markdown",
   "metadata": {},
   "source": [
    "# Day 2 Slides + Exercises"
   ]
  },
  {
   "cell_type": "markdown",
   "metadata": {},
   "source": [
    "![title](images/slide6.png)"
   ]
  },
  {
   "cell_type": "markdown",
   "metadata": {},
   "source": [
    "### Exercises"
   ]
  },
  {
   "cell_type": "markdown",
   "metadata": {},
   "source": [
    "First, we should make a new directory to practice in."
   ]
  },
  {
   "cell_type": "code",
   "execution_count": null,
   "metadata": {},
   "outputs": [],
   "source": [
    "cd ~\n",
    "mkdir practice\n",
    "cd practice"
   ]
  },
  {
   "cell_type": "code",
   "execution_count": null,
   "metadata": {},
   "outputs": [],
   "source": [
    "cd day2"
   ]
  },
  {
   "cell_type": "markdown",
   "metadata": {},
   "source": [
    "Let's get an example gzipped file from the internet for us to use. The command `wget` lets us download files from the internet, provided they are made publicly available. We're going to rereieve GENCODE's GTF file of all the genes in the human genome:"
   ]
  },
  {
   "cell_type": "code",
   "execution_count": null,
   "metadata": {},
   "outputs": [],
   "source": [
    "wget ftp://ftp.ebi.ac.uk/pub/databases/gencode/Gencode_human/release_35/gencode.v35.annotation.gtf.gz"
   ]
  },
  {
   "cell_type": "code",
   "execution_count": null,
   "metadata": {},
   "outputs": [],
   "source": [
    "ls -l"
   ]
  },
  {
   "cell_type": "markdown",
   "metadata": {},
   "source": [
    "You'll notice that this file ends in `.gz`, meaning that it is gzipped, or compressed and not-human-readable. Also observe its current size. For fun, let's try unzipping it and seeing how much larger the file is when not compressed (this might take a few seconds):"
   ]
  },
  {
   "cell_type": "code",
   "execution_count": null,
   "metadata": {},
   "outputs": [],
   "source": [
    "gunzip gencode.v35.annotation.gtf.gz"
   ]
  },
  {
   "cell_type": "code",
   "execution_count": null,
   "metadata": {},
   "outputs": [],
   "source": [
    "ls -l"
   ]
  },
  {
   "cell_type": "markdown",
   "metadata": {},
   "source": [
    "Yikes! That's a much larger file than it was when compressed. Let's compress it back and try to work with it in compressed form only moving forward."
   ]
  },
  {
   "cell_type": "code",
   "execution_count": null,
   "metadata": {},
   "outputs": [],
   "source": [
    "gzip gencode.v35.annotation.gtf"
   ]
  },
  {
   "cell_type": "markdown",
   "metadata": {},
   "source": [
    "you might notice the size of the newly gzipped file is not exactly the same as it was before the unzipped it. This is because `gzip` has settings that allow you to choose between compressing decently at a pretty fast rate, or compressing really well but only after the command runs for longer. See `gzip --help` for how to choose this setting."
   ]
  },
  {
   "cell_type": "markdown",
   "metadata": {},
   "source": [
    "Now, let's use `zcat` combined with the pipe operator `|` to do some analysis on this GTF file. First let's check out the basics -- how many lines are in this file? What does the format look like, based on the first few lines?"
   ]
  },
  {
   "cell_type": "code",
   "execution_count": null,
   "metadata": {},
   "outputs": [],
   "source": [
    "zcat gencode.v35.annotation.gtf.gz | wc -l"
   ]
  },
  {
   "cell_type": "code",
   "execution_count": null,
   "metadata": {},
   "outputs": [],
   "source": [
    "zcat gencode.v35.annotation.gtf.gz | head"
   ]
  },
  {
   "cell_type": "markdown",
   "metadata": {},
   "source": [
    "GTF files contain a lot of information, but for now, here's what is important to know: the third column contains the labels \"gene\", \"transcript\", and \"exon\" (also sometimes \"UTR\" and more). Each gene in the genome corresponds to one line with \"gene\" in column 3 in this file. We can take advantage of this to count how many genes there are in the genome and more using the Unix commands we know."
   ]
  },
  {
   "cell_type": "markdown",
   "metadata": {},
   "source": [
    "To start, let's figure out how many genes are in this file. We can use `awk`'s ability to check if a value in a certain column is equal to a string or text. In our case, we want to only print out lines if the value in column 3 is \"gene\". The way we would write this `awk` command is `awk '{ if ($3 == \"gene\") print}'`. We could save the output of this `awk` command to a file and then use `wc -l` on that file to get our desired count, but we are already using pipes! So we might as well pipe the output of `awk` directly to `wc -l`:"
   ]
  },
  {
   "cell_type": "code",
   "execution_count": null,
   "metadata": {},
   "outputs": [],
   "source": [
    "zcat gencode.v35.annotation.gtf.gz | awk '{ if ($3 == \"gene\") print}' | wc -l"
   ]
  },
  {
   "cell_type": "markdown",
   "metadata": {},
   "source": [
    "That number looks larger than expected, right? Usually when we think of genes we're thinking of protein-coding genes, but this file contains genes for lncRNAs, miRNAs, pseudogenes and more. We can see this if, instead of piping to `wc -l` in the last cell, we instead piped to `head` and took a look at the info after `gene_type` on each line:"
   ]
  },
  {
   "cell_type": "code",
   "execution_count": null,
   "metadata": {},
   "outputs": [],
   "source": [
    "zcat gencode.v35.annotation.gtf.gz | awk '{ if ($3 == \"gene\") print}' | head"
   ]
  },
  {
   "cell_type": "markdown",
   "metadata": {},
   "source": [
    "What we really want is to isolate only the lines that have `protein_coding` as the `gene_type`. We can do this using `grep`! We'll simply tack on a `grep` command to our pipe so far:"
   ]
  },
  {
   "cell_type": "code",
   "execution_count": null,
   "metadata": {},
   "outputs": [],
   "source": [
    "zcat gencode.v35.annotation.gtf.gz | awk '{ if ($3 == \"gene\") print}' | grep \"protein_coding\" | head"
   ]
  },
  {
   "cell_type": "markdown",
   "metadata": {},
   "source": [
    "Now, it looks like we are only getting the gene lines we actually want. Note that it is good practice, when you are figuring out the right sequence of Unix commands to use to accomplish something, to build your command sequence one piece at a time and check the intermediate outputs often.\n",
    "\n",
    "Now that we have isolated the lines of interest, let's count them to determine the number of protein-coding genes in the GENCODE annotation:"
   ]
  },
  {
   "cell_type": "code",
   "execution_count": null,
   "metadata": {},
   "outputs": [],
   "source": [
    "zcat gencode.v35.annotation.gtf.gz | awk '{ if ($3 == \"gene\") print}' | grep \"protein_coding\" | wc -l"
   ]
  },
  {
   "cell_type": "markdown",
   "metadata": {},
   "source": [
    "And finally, let's cleanup:"
   ]
  },
  {
   "cell_type": "code",
   "execution_count": null,
   "metadata": {},
   "outputs": [],
   "source": [
    "rm gencode.v35.annotation.gtf.gz"
   ]
  },
  {
   "cell_type": "markdown",
   "metadata": {},
   "source": [
    "### Additional Exercises to Experiment With\n",
    "\n",
    "1. Can you combine `head` and `tail` using a pipe to extract only lines 20 to 30 from this GTF file?\n",
    "\n",
    "\n",
    "2. What would be the sequence of Unix commands needed to count how many transcripts your favorite gene has? (Hint: for each gene, each transcript is represented by one line that has \"transcript\" in column 3, and those lines also contain the gene name.)"
   ]
  },
  {
   "cell_type": "markdown",
   "metadata": {},
   "source": [
    "![title](images/slide7.png)"
   ]
  },
  {
   "cell_type": "markdown",
   "metadata": {},
   "source": [
    "Let's clarify a little about how unix commands are understood. The program that understands your unix commands called a \"shell\", and \"bash\" is the name of a shell. There are many different kinds of shells, and different commands are slightly different depending on the shell that is being run, but bash is pretty standard.\n",
    "\n",
    "As an exercise, double check that the bash shell is being run in your terminal. To do this, we can look at what is stored in the variable `$SHELL` by running `echo $SHELL`."
   ]
  },
  {
   "cell_type": "markdown",
   "metadata": {},
   "source": [
    "How do we interpret `/bin/bash`? We can see that it is an absolute path (because it starts with `/`, and that `bash` is located inside the folder `bin` which is under the root directory. \"bin\" is an abbreviation for \"binaries\"; \"binary\" files refers to the form that runable programs often take. So \"/bin/bash\" refers to the \"bash\" program stored in the \"bin\" folder.\n",
    "\n"
   ]
  },
  {
   "cell_type": "markdown",
   "metadata": {},
   "source": [
    "When the shell is told to run a program (like \"echo\"), how does the shell know where to find it? This is where the `$PATH` environment variable comes in. You can look at what's in your `$PATH` using `echo $PATH`.\n",
    "\n",
    "The `$PATH` variable stores the names of a number of directories, each separated by a colon. When you enter a command in the terminal, the shell looks at each of these directories in `$PATH` in turn, checking if a runnable file (also called an \"executable\") exists in any of those directories and has the same name as the command you typed. Once it finds such an executable, it stops looking and executes it.\n",
    "\n",
    "This is true for all the commands we have learned to run so far, such as `ls` and `cat`. You can look inside `/bin` and the other directories in `$PATH` to find where the file for each of these commands lives.\n",
    "\n",
    "If you ever aren't sure where a particular command lives, you can retrieve the absolute path for it using `which`. Try it out with `which ls` and other commands. You can even run `which which`!"
   ]
  },
  {
   "cell_type": "markdown",
   "metadata": {},
   "source": [
    "### Exercise\n",
    "\n",
    "A colleague of yours has installed one version of a program. However, when try to launch the program, the shell keeps launching a different version of the program than what they installed. What might the problem be? How could you check whether this is the problem?"
   ]
  },
  {
   "cell_type": "markdown",
   "metadata": {},
   "source": [
    "## Helpful References ##"
   ]
  },
  {
   "cell_type": "markdown",
   "metadata": {},
   "source": [
    "Recommended Unix tutorial: http://www.ee.surrey.ac.uk/Teaching/Unix/\n",
    "\n",
    "Here's a more detailed tutorial from tutorialspoint:\n",
    "http://www.tutorialspoint.com/unix/index.htm\n",
    "\n",
    "Another resource geared towards bioinformatics: http://manuals.bioinformatics.ucr.edu/home/linux‐basics\n",
    "\n",
    "Reference for commonly useful commands: https://sites.google.com/site/anshulkundaje/inotes/programming/shell-scripts\n",
    "\n",
    "Learning shell programming: http://www.learnshell.org/\n",
    "\n",
    "Debugging shell scripts: http://www.shellcheck.net/"
   ]
  }
 ],
 "metadata": {
  "kernelspec": {
   "display_name": "Bash",
   "language": "bash",
   "name": "bash"
  },
  "language_info": {
   "codemirror_mode": "shell",
   "file_extension": ".sh",
   "mimetype": "text/x-sh",
   "name": "bash"
  }
 },
 "nbformat": 4,
 "nbformat_minor": 1
}
