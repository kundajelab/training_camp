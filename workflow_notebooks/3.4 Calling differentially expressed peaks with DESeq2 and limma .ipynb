{
 "cells": [
  {
   "cell_type": "markdown",
   "metadata": {},
   "source": [
    "# 3.4 Calling differentially expressed peaks with DESeq2 and limma"
   ]
  },
  {
   "cell_type": "markdown",
   "metadata": {},
   "source": [
    "### IMPORTANT: Please make sure that you are using the R kernel to run this notebook. ###\n"
   ]
  },
  {
   "cell_type": "markdown",
   "metadata": {},
   "source": [
    "In this tutorial, we will focus on calling differential peaks: \n",
    "![Analysis pipeline](images/part4.png)"
   ]
  },
  {
   "cell_type": "markdown",
   "metadata": {
    "collapsed": true
   },
   "source": [
    "## Running DESeq"
   ]
  },
  {
   "cell_type": "markdown",
   "metadata": {},
   "source": [
    "DESeq(https://bioconductor.org/packages/release/bioc/html/DESeq2.html) uses read count data, such as in our matrix **all.readcount.txt**, to estimate differential gene expression across conditions specified in a metdata file.  We run DESeq with the following comparisons (which we call \"contrasts\"): \n",
    "\n",
    "* 0min WT vs 45min WT \n",
    "* Timepoint comparisons \n",
    "    * MSN1 (0min vs 45min) \n",
    "    * MSN2 (0min vs 45min)\n",
    "    \n",
    "* Strain: \n",
    "    *  WT vs MSN1\n",
    "    *  WT vs MSN2\n",
    "    *  WT vs MSN4\n",
    "    *  WT vs HOG1\n",
    "    *  WT vs SKN7\n",
    "    *  WT vs HOT1\n",
    "    *  WT vs YAP1\n",
    "    *  WT vs YAP6\n",
    "    *  WT vs YAP7   "
   ]
  },
  {
   "cell_type": "code",
   "execution_count": 12,
   "metadata": {},
   "outputs": [],
   "source": [
    "#change to your working directory \n",
    "username=\"annashch\"\n",
    "setwd(paste(\"/scratch/\",username,sep=\"\"))"
   ]
  },
  {
   "cell_type": "code",
   "execution_count": 13,
   "metadata": {},
   "outputs": [],
   "source": [
    "#load the DESeq2 library\n",
    "library(DESeq2,quietly = TRUE)\n"
   ]
  },
  {
   "cell_type": "code",
   "execution_count": 14,
   "metadata": {},
   "outputs": [
    {
     "data": {
      "text/html": [
       "<table>\n",
       "<caption>A data.frame: 6 × 40</caption>\n",
       "<thead>\n",
       "\t<tr><th></th><th scope=col>abalsubr_0min_YAP6_1</th><th scope=col>abalsubr_45min_HOT1_2</th><th scope=col>ajberg5_0min_HOG1_1</th><th scope=col>ajberg5_45min_WT_2</th><th scope=col>annashch_0min_YAP1_2</th><th scope=col>annashch_45min_YAP6_2</th><th scope=col>annlin_0min_MSN2_2</th><th scope=col>annlin_45min_YAP7_1</th><th scope=col>clin5_0min_MSN4_2</th><th scope=col>clin5_45min_MSN2_2</th><th scope=col>⋯</th><th scope=col>soumyak_0min_HOT1_2</th><th scope=col>soumyak_45min_YAP1_2</th><th scope=col>srstern_0min_WT_2</th><th scope=col>srstern_45min_MSN2_1</th><th scope=col>subkc_0min_MSN2_1</th><th scope=col>subkc_45min_YAP6_1</th><th scope=col>surag_0min_YAP7_2</th><th scope=col>surag_45min_HOT1_1</th><th scope=col>zahoor_0min_YAP6_2</th><th scope=col>zahoor_45min_YAP7_2</th></tr>\n",
       "\t<tr><th></th><th scope=col>&lt;int&gt;</th><th scope=col>&lt;int&gt;</th><th scope=col>&lt;int&gt;</th><th scope=col>&lt;int&gt;</th><th scope=col>&lt;int&gt;</th><th scope=col>&lt;int&gt;</th><th scope=col>&lt;int&gt;</th><th scope=col>&lt;int&gt;</th><th scope=col>&lt;int&gt;</th><th scope=col>&lt;int&gt;</th><th scope=col>⋯</th><th scope=col>&lt;int&gt;</th><th scope=col>&lt;int&gt;</th><th scope=col>&lt;int&gt;</th><th scope=col>&lt;int&gt;</th><th scope=col>&lt;int&gt;</th><th scope=col>&lt;int&gt;</th><th scope=col>&lt;int&gt;</th><th scope=col>&lt;int&gt;</th><th scope=col>&lt;int&gt;</th><th scope=col>&lt;int&gt;</th></tr>\n",
       "</thead>\n",
       "<tbody>\n",
       "\t<tr><th scope=row>chrI\t13\t555</th><td>451</td><td>289</td><td>618</td><td>368</td><td>169</td><td>558</td><td>306</td><td>578</td><td>363</td><td>357</td><td>⋯</td><td>138</td><td>439</td><td>750</td><td> 919</td><td>443</td><td>652</td><td>523</td><td>1115</td><td>588</td><td>369</td></tr>\n",
       "\t<tr><th scope=row>chrI\t6348\t6518</th><td> 41</td><td> 36</td><td>102</td><td> 44</td><td> 27</td><td> 58</td><td> 57</td><td> 52</td><td> 67</td><td> 46</td><td>⋯</td><td> 39</td><td> 61</td><td>115</td><td> 147</td><td> 49</td><td>104</td><td> 72</td><td> 158</td><td> 97</td><td> 26</td></tr>\n",
       "\t<tr><th scope=row>chrI\t9278\t9407</th><td> 21</td><td> 29</td><td> 32</td><td> 24</td><td>  5</td><td> 39</td><td> 20</td><td> 33</td><td> 36</td><td> 37</td><td>⋯</td><td>  7</td><td> 12</td><td> 32</td><td>  88</td><td> 18</td><td> 85</td><td> 14</td><td>  89</td><td> 41</td><td> 34</td></tr>\n",
       "\t<tr><th scope=row>chrI\t20461\t21185</th><td>271</td><td>457</td><td>461</td><td>482</td><td>253</td><td>632</td><td>303</td><td>747</td><td>444</td><td>516</td><td>⋯</td><td>249</td><td>803</td><td>754</td><td>1511</td><td>295</td><td>810</td><td>392</td><td>1753</td><td>553</td><td>433</td></tr>\n",
       "\t<tr><th scope=row>chrI\t28591\t28910</th><td>139</td><td> 72</td><td>125</td><td> 69</td><td> 95</td><td>155</td><td>147</td><td> 95</td><td>187</td><td>106</td><td>⋯</td><td> 70</td><td>122</td><td>245</td><td> 232</td><td> 84</td><td>203</td><td>145</td><td> 234</td><td>230</td><td> 64</td></tr>\n",
       "\t<tr><th scope=row>chrI\t29757\t30083</th><td>155</td><td>103</td><td>188</td><td>117</td><td>100</td><td>221</td><td>143</td><td>183</td><td>190</td><td>139</td><td>⋯</td><td> 89</td><td>177</td><td>315</td><td> 395</td><td>136</td><td>273</td><td>188</td><td> 404</td><td>292</td><td> 98</td></tr>\n",
       "</tbody>\n",
       "</table>\n"
      ],
      "text/latex": [
       "A data.frame: 6 × 40\n",
       "\\begin{tabular}{r|llllllllllllllllllllllllllllllllllllllll}\n",
       "  & abalsubr\\_0min\\_YAP6\\_1 & abalsubr\\_45min\\_HOT1\\_2 & ajberg5\\_0min\\_HOG1\\_1 & ajberg5\\_45min\\_WT\\_2 & annashch\\_0min\\_YAP1\\_2 & annashch\\_45min\\_YAP6\\_2 & annlin\\_0min\\_MSN2\\_2 & annlin\\_45min\\_YAP7\\_1 & clin5\\_0min\\_MSN4\\_2 & clin5\\_45min\\_MSN2\\_2 & courtrun\\_0min\\_YAP1\\_1 & courtrun\\_45min\\_HOG1\\_2 & cvduffy\\_0min\\_MSN1\\_2 & cvduffy\\_45min\\_YAP1\\_1 & genegra2\\_0min\\_WT\\_1 & genegra2\\_45min\\_MSN1\\_1 & jarhodes\\_0min\\_SKN7\\_2 & jarhodes\\_45min\\_HOG1\\_1 & lstrand\\_0min\\_MSN4\\_1 & lstrand\\_45min\\_WT\\_1 & makena\\_0min\\_SKN7\\_1 & makena\\_45min\\_MSN4\\_2 & marinovg\\_0min\\_YAP7\\_1 & marinovg\\_45min\\_SKN7\\_2 & mihayes\\_0min\\_HOT1\\_1 & miao1\\_0min\\_HOG1\\_2 & miao1\\_45min\\_MSN4\\_1 & mihayes\\_45min\\_MSN1\\_2 & sierrasb\\_0min\\_MSN1\\_1 & sierrasb\\_45min\\_SKN7\\_1 & soumyak\\_0min\\_HOT1\\_2 & soumyak\\_45min\\_YAP1\\_2 & srstern\\_0min\\_WT\\_2 & srstern\\_45min\\_MSN2\\_1 & subkc\\_0min\\_MSN2\\_1 & subkc\\_45min\\_YAP6\\_1 & surag\\_0min\\_YAP7\\_2 & surag\\_45min\\_HOT1\\_1 & zahoor\\_0min\\_YAP6\\_2 & zahoor\\_45min\\_YAP7\\_2\\\\\n",
       "  & <int> & <int> & <int> & <int> & <int> & <int> & <int> & <int> & <int> & <int> & <int> & <int> & <int> & <int> & <int> & <int> & <int> & <int> & <int> & <int> & <int> & <int> & <int> & <int> & <int> & <int> & <int> & <int> & <int> & <int> & <int> & <int> & <int> & <int> & <int> & <int> & <int> & <int> & <int> & <int>\\\\\n",
       "\\hline\n",
       "\tchrI\t13\t555 & 451 & 289 & 618 & 368 & 169 & 558 & 306 & 578 & 363 & 357 & 286 & 306 & 254 &  60 & 390 & 1813 & 281 & 260 & 386 &  619 & 189 & 495 & 471 & 427 & 384 & 149 & 1047 & 403 & 543 &  992 & 138 & 439 & 750 &  919 & 443 & 652 & 523 & 1115 & 588 & 369\\\\\n",
       "\tchrI\t6348\t6518 &  41 &  36 & 102 &  44 &  27 &  58 &  57 &  52 &  67 &  46 &  49 &  56 &  46 &   7 &  44 &  249 &  57 &  56 &  35 &  121 &  34 &  76 &  62 &  51 &  39 &  39 &  194 &  50 &  59 &  121 &  39 &  61 & 115 &  147 &  49 & 104 &  72 &  158 &  97 &  26\\\\\n",
       "\tchrI\t9278\t9407 &  21 &  29 &  32 &  24 &   5 &  39 &  20 &  33 &  36 &  37 &  19 &  30 &  25 &   0 &  11 &  119 &  20 &  41 &  10 &   41 &  13 &  37 &   4 &  23 &  13 &  14 &  148 &  32 &  29 &   80 &   7 &  12 &  32 &   88 &  18 &  85 &  14 &   89 &  41 &  34\\\\\n",
       "\tchrI\t20461\t21185 & 271 & 457 & 461 & 482 & 253 & 632 & 303 & 747 & 444 & 516 & 389 & 461 & 267 & 126 & 288 & 2498 & 279 & 627 & 329 & 1120 & 198 & 734 & 327 & 571 & 284 & 146 & 1949 & 463 & 459 & 1511 & 249 & 803 & 754 & 1511 & 295 & 810 & 392 & 1753 & 553 & 433\\\\\n",
       "\tchrI\t28591\t28910 & 139 &  72 & 125 &  69 &  95 & 155 & 147 &  95 & 187 & 106 &  97 &  74 &  94 &  14 & 102 &  325 &  91 &  97 & 117 &  159 &  56 & 116 & 133 &  65 &  90 &  73 &  295 &  83 & 139 &  162 &  70 & 122 & 245 &  232 &  84 & 203 & 145 &  234 & 230 &  64\\\\\n",
       "\tchrI\t29757\t30083 & 155 & 103 & 188 & 117 & 100 & 221 & 143 & 183 & 190 & 139 & 111 & 110 & 140 &  22 & 117 &  625 & 133 & 108 & 114 &  221 &  71 & 193 & 160 & 142 &  97 &  63 &  461 & 143 & 209 &  404 &  89 & 177 & 315 &  395 & 136 & 273 & 188 &  404 & 292 &  98\\\\\n",
       "\\end{tabular}\n"
      ],
      "text/markdown": [
       "\n",
       "A data.frame: 6 × 40\n",
       "\n",
       "| <!--/--> | abalsubr_0min_YAP6_1 &lt;int&gt; | abalsubr_45min_HOT1_2 &lt;int&gt; | ajberg5_0min_HOG1_1 &lt;int&gt; | ajberg5_45min_WT_2 &lt;int&gt; | annashch_0min_YAP1_2 &lt;int&gt; | annashch_45min_YAP6_2 &lt;int&gt; | annlin_0min_MSN2_2 &lt;int&gt; | annlin_45min_YAP7_1 &lt;int&gt; | clin5_0min_MSN4_2 &lt;int&gt; | clin5_45min_MSN2_2 &lt;int&gt; | ⋯ ⋯ | soumyak_0min_HOT1_2 &lt;int&gt; | soumyak_45min_YAP1_2 &lt;int&gt; | srstern_0min_WT_2 &lt;int&gt; | srstern_45min_MSN2_1 &lt;int&gt; | subkc_0min_MSN2_1 &lt;int&gt; | subkc_45min_YAP6_1 &lt;int&gt; | surag_0min_YAP7_2 &lt;int&gt; | surag_45min_HOT1_1 &lt;int&gt; | zahoor_0min_YAP6_2 &lt;int&gt; | zahoor_45min_YAP7_2 &lt;int&gt; |\n",
       "|---|---|---|---|---|---|---|---|---|---|---|---|---|---|---|---|---|---|---|---|---|---|\n",
       "| chrI\t13\t555 | 451 | 289 | 618 | 368 | 169 | 558 | 306 | 578 | 363 | 357 | ⋯ | 138 | 439 | 750 |  919 | 443 | 652 | 523 | 1115 | 588 | 369 |\n",
       "| chrI\t6348\t6518 |  41 |  36 | 102 |  44 |  27 |  58 |  57 |  52 |  67 |  46 | ⋯ |  39 |  61 | 115 |  147 |  49 | 104 |  72 |  158 |  97 |  26 |\n",
       "| chrI\t9278\t9407 |  21 |  29 |  32 |  24 |   5 |  39 |  20 |  33 |  36 |  37 | ⋯ |   7 |  12 |  32 |   88 |  18 |  85 |  14 |   89 |  41 |  34 |\n",
       "| chrI\t20461\t21185 | 271 | 457 | 461 | 482 | 253 | 632 | 303 | 747 | 444 | 516 | ⋯ | 249 | 803 | 754 | 1511 | 295 | 810 | 392 | 1753 | 553 | 433 |\n",
       "| chrI\t28591\t28910 | 139 |  72 | 125 |  69 |  95 | 155 | 147 |  95 | 187 | 106 | ⋯ |  70 | 122 | 245 |  232 |  84 | 203 | 145 |  234 | 230 |  64 |\n",
       "| chrI\t29757\t30083 | 155 | 103 | 188 | 117 | 100 | 221 | 143 | 183 | 190 | 139 | ⋯ |  89 | 177 | 315 |  395 | 136 | 273 | 188 |  404 | 292 |  98 |\n",
       "\n"
      ],
      "text/plain": [
       "                   abalsubr_0min_YAP6_1 abalsubr_45min_HOT1_2\n",
       "chrI\\t13\\t555      451                  289                  \n",
       "chrI\\t6348\\t6518    41                   36                  \n",
       "chrI\\t9278\\t9407    21                   29                  \n",
       "chrI\\t20461\\t21185 271                  457                  \n",
       "chrI\\t28591\\t28910 139                   72                  \n",
       "chrI\\t29757\\t30083 155                  103                  \n",
       "                   ajberg5_0min_HOG1_1 ajberg5_45min_WT_2 annashch_0min_YAP1_2\n",
       "chrI\\t13\\t555      618                 368                169                 \n",
       "chrI\\t6348\\t6518   102                  44                 27                 \n",
       "chrI\\t9278\\t9407    32                  24                  5                 \n",
       "chrI\\t20461\\t21185 461                 482                253                 \n",
       "chrI\\t28591\\t28910 125                  69                 95                 \n",
       "chrI\\t29757\\t30083 188                 117                100                 \n",
       "                   annashch_45min_YAP6_2 annlin_0min_MSN2_2 annlin_45min_YAP7_1\n",
       "chrI\\t13\\t555      558                   306                578                \n",
       "chrI\\t6348\\t6518    58                    57                 52                \n",
       "chrI\\t9278\\t9407    39                    20                 33                \n",
       "chrI\\t20461\\t21185 632                   303                747                \n",
       "chrI\\t28591\\t28910 155                   147                 95                \n",
       "chrI\\t29757\\t30083 221                   143                183                \n",
       "                   clin5_0min_MSN4_2 clin5_45min_MSN2_2 ⋯ soumyak_0min_HOT1_2\n",
       "chrI\\t13\\t555      363               357                ⋯ 138                \n",
       "chrI\\t6348\\t6518    67                46                ⋯  39                \n",
       "chrI\\t9278\\t9407    36                37                ⋯   7                \n",
       "chrI\\t20461\\t21185 444               516                ⋯ 249                \n",
       "chrI\\t28591\\t28910 187               106                ⋯  70                \n",
       "chrI\\t29757\\t30083 190               139                ⋯  89                \n",
       "                   soumyak_45min_YAP1_2 srstern_0min_WT_2 srstern_45min_MSN2_1\n",
       "chrI\\t13\\t555      439                  750                919                \n",
       "chrI\\t6348\\t6518    61                  115                147                \n",
       "chrI\\t9278\\t9407    12                   32                 88                \n",
       "chrI\\t20461\\t21185 803                  754               1511                \n",
       "chrI\\t28591\\t28910 122                  245                232                \n",
       "chrI\\t29757\\t30083 177                  315                395                \n",
       "                   subkc_0min_MSN2_1 subkc_45min_YAP6_1 surag_0min_YAP7_2\n",
       "chrI\\t13\\t555      443               652                523              \n",
       "chrI\\t6348\\t6518    49               104                 72              \n",
       "chrI\\t9278\\t9407    18                85                 14              \n",
       "chrI\\t20461\\t21185 295               810                392              \n",
       "chrI\\t28591\\t28910  84               203                145              \n",
       "chrI\\t29757\\t30083 136               273                188              \n",
       "                   surag_45min_HOT1_1 zahoor_0min_YAP6_2 zahoor_45min_YAP7_2\n",
       "chrI\\t13\\t555      1115               588                369                \n",
       "chrI\\t6348\\t6518    158                97                 26                \n",
       "chrI\\t9278\\t9407     89                41                 34                \n",
       "chrI\\t20461\\t21185 1753               553                433                \n",
       "chrI\\t28591\\t28910  234               230                 64                \n",
       "chrI\\t29757\\t30083  404               292                 98                "
      ]
     },
     "metadata": {},
     "output_type": "display_data"
    }
   ],
   "source": [
    "#We read in the counts data matrix and the metdata matrix in the same manner as we did in tutorial 3.1 \n",
    "#load the read count matrix\n",
    "count_data=read.table(\"/outputs/all.readcount.txt\",header=TRUE)\n",
    "rownames(count_data)=paste(count_data$Chrom,count_data$Start,count_data$End,sep='\\t')\n",
    "#remove the columns we will not use \n",
    "count_data$Chrom=NULL\n",
    "count_data$Start=NULL\n",
    "count_data$End=NULL\n",
    "count_data$ID=NULL\n",
    "\n",
    "head(count_data)"
   ]
  },
  {
   "cell_type": "code",
   "execution_count": 44,
   "metadata": {},
   "outputs": [
    {
     "data": {
      "text/html": [
       "<table>\n",
       "<caption>A data.frame: 6 × 4</caption>\n",
       "<thead>\n",
       "\t<tr><th></th><th scope=col>Sample</th><th scope=col>Researcher</th><th scope=col>Timepoint</th><th scope=col>Strain</th></tr>\n",
       "\t<tr><th></th><th scope=col>&lt;fct&gt;</th><th scope=col>&lt;fct&gt;</th><th scope=col>&lt;fct&gt;</th><th scope=col>&lt;fct&gt;</th></tr>\n",
       "</thead>\n",
       "<tbody>\n",
       "\t<tr><th scope=row>abalsubr_0min_YAP6_1</th><td>0min_YAP6 </td><td>abalsubr</td><td>0min </td><td>YAP6</td></tr>\n",
       "\t<tr><th scope=row>abalsubr_45min_HOT1_2</th><td>45min_HOT1</td><td>abalsubr</td><td>45min</td><td>HOT1</td></tr>\n",
       "\t<tr><th scope=row>ajberg5_0min_HOG1_1</th><td>0min_HOG1 </td><td>ajberg5 </td><td>0min </td><td>HOG1</td></tr>\n",
       "\t<tr><th scope=row>ajberg5_45min_WT_2</th><td>45min_WT  </td><td>ajberg5 </td><td>45min</td><td>WT  </td></tr>\n",
       "\t<tr><th scope=row>annashch_0min_YAP1_2</th><td>0min_YAP1 </td><td>annashch</td><td>0min </td><td>YAP1</td></tr>\n",
       "\t<tr><th scope=row>annashch_45min_YAP6_2</th><td>45min_YAP6</td><td>annashch</td><td>45min</td><td>YAP6</td></tr>\n",
       "</tbody>\n",
       "</table>\n"
      ],
      "text/latex": [
       "A data.frame: 6 × 4\n",
       "\\begin{tabular}{r|llll}\n",
       "  & Sample & Researcher & Timepoint & Strain\\\\\n",
       "  & <fct> & <fct> & <fct> & <fct>\\\\\n",
       "\\hline\n",
       "\tabalsubr\\_0min\\_YAP6\\_1 & 0min\\_YAP6  & abalsubr & 0min  & YAP6\\\\\n",
       "\tabalsubr\\_45min\\_HOT1\\_2 & 45min\\_HOT1 & abalsubr & 45min & HOT1\\\\\n",
       "\tajberg5\\_0min\\_HOG1\\_1 & 0min\\_HOG1  & ajberg5  & 0min  & HOG1\\\\\n",
       "\tajberg5\\_45min\\_WT\\_2 & 45min\\_WT   & ajberg5  & 45min & WT  \\\\\n",
       "\tannashch\\_0min\\_YAP1\\_2 & 0min\\_YAP1  & annashch & 0min  & YAP1\\\\\n",
       "\tannashch\\_45min\\_YAP6\\_2 & 45min\\_YAP6 & annashch & 45min & YAP6\\\\\n",
       "\\end{tabular}\n"
      ],
      "text/markdown": [
       "\n",
       "A data.frame: 6 × 4\n",
       "\n",
       "| <!--/--> | Sample &lt;fct&gt; | Researcher &lt;fct&gt; | Timepoint &lt;fct&gt; | Strain &lt;fct&gt; |\n",
       "|---|---|---|---|---|\n",
       "| abalsubr_0min_YAP6_1 | 0min_YAP6  | abalsubr | 0min  | YAP6 |\n",
       "| abalsubr_45min_HOT1_2 | 45min_HOT1 | abalsubr | 45min | HOT1 |\n",
       "| ajberg5_0min_HOG1_1 | 0min_HOG1  | ajberg5  | 0min  | HOG1 |\n",
       "| ajberg5_45min_WT_2 | 45min_WT   | ajberg5  | 45min | WT   |\n",
       "| annashch_0min_YAP1_2 | 0min_YAP1  | annashch | 0min  | YAP1 |\n",
       "| annashch_45min_YAP6_2 | 45min_YAP6 | annashch | 45min | YAP6 |\n",
       "\n"
      ],
      "text/plain": [
       "                      Sample     Researcher Timepoint Strain\n",
       "abalsubr_0min_YAP6_1  0min_YAP6  abalsubr   0min      YAP6  \n",
       "abalsubr_45min_HOT1_2 45min_HOT1 abalsubr   45min     HOT1  \n",
       "ajberg5_0min_HOG1_1   0min_HOG1  ajberg5    0min      HOG1  \n",
       "ajberg5_45min_WT_2    45min_WT   ajberg5    45min     WT    \n",
       "annashch_0min_YAP1_2  0min_YAP1  annashch   0min      YAP1  \n",
       "annashch_45min_YAP6_2 45min_YAP6 annashch   45min     YAP6  "
      ]
     },
     "metadata": {},
     "output_type": "display_data"
    }
   ],
   "source": [
    "metadata=read.table(\"/metadata/TC2019_samples.tsv\",header=TRUE)\n",
    "#We use the \"factor\" function to tell R which variables are categorical rather than continuous \n",
    "metadata$Strain=factor(metadata$Strain)\n",
    "metadata$Timepoint=factor(metadata$Timepoint,levels=c(\"45min\",\"0min\"))\n",
    "metadata$Researcher=factor(metadata$Researcher)\n",
    "#we don't need the other metadata columns for this analysis \n",
    "#metadata$Sample=NULL\n",
    "metadata$Replicate=NULL\n",
    "rownames(metadata)=metadata$ID\n",
    "metadata$ID=NULL\n",
    "#make sure the rows in metadata match the order of the columns in count_data \n",
    "metadata=metadata[names(count_data),]\n",
    "head(metadata)"
   ]
  },
  {
   "cell_type": "code",
   "execution_count": 37,
   "metadata": {},
   "outputs": [
    {
     "data": {
      "text/html": [
       "<ol class=list-inline>\n",
       "\t<li>0min</li>\n",
       "\t<li>45min</li>\n",
       "\t<li>0min</li>\n",
       "\t<li>45min</li>\n",
       "\t<li>0min</li>\n",
       "\t<li>45min</li>\n",
       "\t<li>0min</li>\n",
       "\t<li>45min</li>\n",
       "\t<li>0min</li>\n",
       "\t<li>45min</li>\n",
       "\t<li>0min</li>\n",
       "\t<li>45min</li>\n",
       "\t<li>0min</li>\n",
       "\t<li>45min</li>\n",
       "\t<li>0min</li>\n",
       "\t<li>45min</li>\n",
       "\t<li>0min</li>\n",
       "\t<li>45min</li>\n",
       "\t<li>0min</li>\n",
       "\t<li>45min</li>\n",
       "\t<li>0min</li>\n",
       "\t<li>45min</li>\n",
       "\t<li>0min</li>\n",
       "\t<li>45min</li>\n",
       "\t<li>0min</li>\n",
       "\t<li>0min</li>\n",
       "\t<li>45min</li>\n",
       "\t<li>45min</li>\n",
       "\t<li>0min</li>\n",
       "\t<li>45min</li>\n",
       "\t<li>0min</li>\n",
       "\t<li>45min</li>\n",
       "\t<li>0min</li>\n",
       "\t<li>45min</li>\n",
       "\t<li>0min</li>\n",
       "\t<li>45min</li>\n",
       "\t<li>0min</li>\n",
       "\t<li>45min</li>\n",
       "\t<li>0min</li>\n",
       "\t<li>45min</li>\n",
       "</ol>\n",
       "\n",
       "<details>\n",
       "\t<summary style=display:list-item;cursor:pointer>\n",
       "\t\t<strong>Levels</strong>:\n",
       "\t</summary>\n",
       "\t<ol class=list-inline>\n",
       "\t\t<li>'45min'</li>\n",
       "\t\t<li>'0min'</li>\n",
       "\t</ol>\n",
       "</details>"
      ],
      "text/latex": [
       "\\begin{enumerate*}\n",
       "\\item 0min\n",
       "\\item 45min\n",
       "\\item 0min\n",
       "\\item 45min\n",
       "\\item 0min\n",
       "\\item 45min\n",
       "\\item 0min\n",
       "\\item 45min\n",
       "\\item 0min\n",
       "\\item 45min\n",
       "\\item 0min\n",
       "\\item 45min\n",
       "\\item 0min\n",
       "\\item 45min\n",
       "\\item 0min\n",
       "\\item 45min\n",
       "\\item 0min\n",
       "\\item 45min\n",
       "\\item 0min\n",
       "\\item 45min\n",
       "\\item 0min\n",
       "\\item 45min\n",
       "\\item 0min\n",
       "\\item 45min\n",
       "\\item 0min\n",
       "\\item 0min\n",
       "\\item 45min\n",
       "\\item 45min\n",
       "\\item 0min\n",
       "\\item 45min\n",
       "\\item 0min\n",
       "\\item 45min\n",
       "\\item 0min\n",
       "\\item 45min\n",
       "\\item 0min\n",
       "\\item 45min\n",
       "\\item 0min\n",
       "\\item 45min\n",
       "\\item 0min\n",
       "\\item 45min\n",
       "\\end{enumerate*}\n",
       "\n",
       "\\emph{Levels}: \\begin{enumerate*}\n",
       "\\item '45min'\n",
       "\\item '0min'\n",
       "\\end{enumerate*}\n"
      ],
      "text/markdown": [
       "1. 0min\n",
       "2. 45min\n",
       "3. 0min\n",
       "4. 45min\n",
       "5. 0min\n",
       "6. 45min\n",
       "7. 0min\n",
       "8. 45min\n",
       "9. 0min\n",
       "10. 45min\n",
       "11. 0min\n",
       "12. 45min\n",
       "13. 0min\n",
       "14. 45min\n",
       "15. 0min\n",
       "16. 45min\n",
       "17. 0min\n",
       "18. 45min\n",
       "19. 0min\n",
       "20. 45min\n",
       "21. 0min\n",
       "22. 45min\n",
       "23. 0min\n",
       "24. 45min\n",
       "25. 0min\n",
       "26. 0min\n",
       "27. 45min\n",
       "28. 45min\n",
       "29. 0min\n",
       "30. 45min\n",
       "31. 0min\n",
       "32. 45min\n",
       "33. 0min\n",
       "34. 45min\n",
       "35. 0min\n",
       "36. 45min\n",
       "37. 0min\n",
       "38. 45min\n",
       "39. 0min\n",
       "40. 45min\n",
       "\n",
       "\n",
       "\n",
       "**Levels**: 1. '45min'\n",
       "2. '0min'\n",
       "\n",
       "\n"
      ],
      "text/plain": [
       " [1] 0min  45min 0min  45min 0min  45min 0min  45min 0min  45min 0min  45min\n",
       "[13] 0min  45min 0min  45min 0min  45min 0min  45min 0min  45min 0min  45min\n",
       "[25] 0min  0min  45min 45min 0min  45min 0min  45min 0min  45min 0min  45min\n",
       "[37] 0min  45min 0min  45min\n",
       "Levels: 45min 0min"
      ]
     },
     "metadata": {},
     "output_type": "display_data"
    }
   ],
   "source": [
    "metadata$Timepoint"
   ]
  },
  {
   "cell_type": "code",
   "execution_count": 38,
   "metadata": {},
   "outputs": [],
   "source": [
    "#We set threshold for determining differential expression \n",
    "padjust_thresh=0.01 \n"
   ]
  },
  {
   "cell_type": "code",
   "execution_count": 40,
   "metadata": {},
   "outputs": [],
   "source": [
    "#create a DESeq2 object with the data, metadata, and model information \n",
    "ddsMat=DESeqDataSetFromMatrix(countData=as.matrix(count_data),\n",
    "                            colData=metadata,\n",
    "                            design=~Timepoint+Strain+Researcher)\n"
   ]
  },
  {
   "cell_type": "code",
   "execution_count": 41,
   "metadata": {},
   "outputs": [
    {
     "name": "stderr",
     "output_type": "stream",
     "text": [
      "estimating size factors\n",
      "estimating dispersions\n",
      "gene-wise dispersion estimates\n",
      "mean-dispersion relationship\n",
      "final dispersion estimates\n",
      "fitting model and testing\n"
     ]
    }
   ],
   "source": [
    "#Run DESeq2 analysis \n",
    "dds<-DESeq(ddsMat)"
   ]
  },
  {
   "cell_type": "code",
   "execution_count": 42,
   "metadata": {},
   "outputs": [
    {
     "data": {
      "text/html": [
       "<ol class=list-inline>\n",
       "\t<li>'Intercept'</li>\n",
       "\t<li>'Timepoint_0min_vs_45min'</li>\n",
       "\t<li>'Strain_HOT1_vs_HOG1'</li>\n",
       "\t<li>'Strain_MSN1_vs_HOG1'</li>\n",
       "\t<li>'Strain_MSN2_vs_HOG1'</li>\n",
       "\t<li>'Strain_MSN4_vs_HOG1'</li>\n",
       "\t<li>'Strain_SKN7_vs_HOG1'</li>\n",
       "\t<li>'Strain_WT_vs_HOG1'</li>\n",
       "\t<li>'Strain_YAP1_vs_HOG1'</li>\n",
       "\t<li>'Strain_YAP6_vs_HOG1'</li>\n",
       "\t<li>'Strain_YAP7_vs_HOG1'</li>\n",
       "\t<li>'Researcher_ajberg5_vs_abalsubr'</li>\n",
       "\t<li>'Researcher_annashch_vs_abalsubr'</li>\n",
       "\t<li>'Researcher_annlin_vs_abalsubr'</li>\n",
       "\t<li>'Researcher_clin5_vs_abalsubr'</li>\n",
       "\t<li>'Researcher_courtrun_vs_abalsubr'</li>\n",
       "\t<li>'Researcher_cvduffy_vs_abalsubr'</li>\n",
       "\t<li>'Researcher_genegra2_vs_abalsubr'</li>\n",
       "\t<li>'Researcher_jarhodes_vs_abalsubr'</li>\n",
       "\t<li>'Researcher_lstrand_vs_abalsubr'</li>\n",
       "\t<li>'Researcher_makena_vs_abalsubr'</li>\n",
       "\t<li>'Researcher_marinovg_vs_abalsubr'</li>\n",
       "\t<li>'Researcher_miao1_vs_abalsubr'</li>\n",
       "\t<li>'Researcher_mihayes_vs_abalsubr'</li>\n",
       "\t<li>'Researcher_sierrasb_vs_abalsubr'</li>\n",
       "\t<li>'Researcher_soumyak_vs_abalsubr'</li>\n",
       "\t<li>'Researcher_srstern_vs_abalsubr'</li>\n",
       "\t<li>'Researcher_subkc_vs_abalsubr'</li>\n",
       "\t<li>'Researcher_surag_vs_abalsubr'</li>\n",
       "\t<li>'Researcher_zahoor_vs_abalsubr'</li>\n",
       "</ol>\n"
      ],
      "text/latex": [
       "\\begin{enumerate*}\n",
       "\\item 'Intercept'\n",
       "\\item 'Timepoint\\_0min\\_vs\\_45min'\n",
       "\\item 'Strain\\_HOT1\\_vs\\_HOG1'\n",
       "\\item 'Strain\\_MSN1\\_vs\\_HOG1'\n",
       "\\item 'Strain\\_MSN2\\_vs\\_HOG1'\n",
       "\\item 'Strain\\_MSN4\\_vs\\_HOG1'\n",
       "\\item 'Strain\\_SKN7\\_vs\\_HOG1'\n",
       "\\item 'Strain\\_WT\\_vs\\_HOG1'\n",
       "\\item 'Strain\\_YAP1\\_vs\\_HOG1'\n",
       "\\item 'Strain\\_YAP6\\_vs\\_HOG1'\n",
       "\\item 'Strain\\_YAP7\\_vs\\_HOG1'\n",
       "\\item 'Researcher\\_ajberg5\\_vs\\_abalsubr'\n",
       "\\item 'Researcher\\_annashch\\_vs\\_abalsubr'\n",
       "\\item 'Researcher\\_annlin\\_vs\\_abalsubr'\n",
       "\\item 'Researcher\\_clin5\\_vs\\_abalsubr'\n",
       "\\item 'Researcher\\_courtrun\\_vs\\_abalsubr'\n",
       "\\item 'Researcher\\_cvduffy\\_vs\\_abalsubr'\n",
       "\\item 'Researcher\\_genegra2\\_vs\\_abalsubr'\n",
       "\\item 'Researcher\\_jarhodes\\_vs\\_abalsubr'\n",
       "\\item 'Researcher\\_lstrand\\_vs\\_abalsubr'\n",
       "\\item 'Researcher\\_makena\\_vs\\_abalsubr'\n",
       "\\item 'Researcher\\_marinovg\\_vs\\_abalsubr'\n",
       "\\item 'Researcher\\_miao1\\_vs\\_abalsubr'\n",
       "\\item 'Researcher\\_mihayes\\_vs\\_abalsubr'\n",
       "\\item 'Researcher\\_sierrasb\\_vs\\_abalsubr'\n",
       "\\item 'Researcher\\_soumyak\\_vs\\_abalsubr'\n",
       "\\item 'Researcher\\_srstern\\_vs\\_abalsubr'\n",
       "\\item 'Researcher\\_subkc\\_vs\\_abalsubr'\n",
       "\\item 'Researcher\\_surag\\_vs\\_abalsubr'\n",
       "\\item 'Researcher\\_zahoor\\_vs\\_abalsubr'\n",
       "\\end{enumerate*}\n"
      ],
      "text/markdown": [
       "1. 'Intercept'\n",
       "2. 'Timepoint_0min_vs_45min'\n",
       "3. 'Strain_HOT1_vs_HOG1'\n",
       "4. 'Strain_MSN1_vs_HOG1'\n",
       "5. 'Strain_MSN2_vs_HOG1'\n",
       "6. 'Strain_MSN4_vs_HOG1'\n",
       "7. 'Strain_SKN7_vs_HOG1'\n",
       "8. 'Strain_WT_vs_HOG1'\n",
       "9. 'Strain_YAP1_vs_HOG1'\n",
       "10. 'Strain_YAP6_vs_HOG1'\n",
       "11. 'Strain_YAP7_vs_HOG1'\n",
       "12. 'Researcher_ajberg5_vs_abalsubr'\n",
       "13. 'Researcher_annashch_vs_abalsubr'\n",
       "14. 'Researcher_annlin_vs_abalsubr'\n",
       "15. 'Researcher_clin5_vs_abalsubr'\n",
       "16. 'Researcher_courtrun_vs_abalsubr'\n",
       "17. 'Researcher_cvduffy_vs_abalsubr'\n",
       "18. 'Researcher_genegra2_vs_abalsubr'\n",
       "19. 'Researcher_jarhodes_vs_abalsubr'\n",
       "20. 'Researcher_lstrand_vs_abalsubr'\n",
       "21. 'Researcher_makena_vs_abalsubr'\n",
       "22. 'Researcher_marinovg_vs_abalsubr'\n",
       "23. 'Researcher_miao1_vs_abalsubr'\n",
       "24. 'Researcher_mihayes_vs_abalsubr'\n",
       "25. 'Researcher_sierrasb_vs_abalsubr'\n",
       "26. 'Researcher_soumyak_vs_abalsubr'\n",
       "27. 'Researcher_srstern_vs_abalsubr'\n",
       "28. 'Researcher_subkc_vs_abalsubr'\n",
       "29. 'Researcher_surag_vs_abalsubr'\n",
       "30. 'Researcher_zahoor_vs_abalsubr'\n",
       "\n",
       "\n"
      ],
      "text/plain": [
       " [1] \"Intercept\"                       \"Timepoint_0min_vs_45min\"        \n",
       " [3] \"Strain_HOT1_vs_HOG1\"             \"Strain_MSN1_vs_HOG1\"            \n",
       " [5] \"Strain_MSN2_vs_HOG1\"             \"Strain_MSN4_vs_HOG1\"            \n",
       " [7] \"Strain_SKN7_vs_HOG1\"             \"Strain_WT_vs_HOG1\"              \n",
       " [9] \"Strain_YAP1_vs_HOG1\"             \"Strain_YAP6_vs_HOG1\"            \n",
       "[11] \"Strain_YAP7_vs_HOG1\"             \"Researcher_ajberg5_vs_abalsubr\" \n",
       "[13] \"Researcher_annashch_vs_abalsubr\" \"Researcher_annlin_vs_abalsubr\"  \n",
       "[15] \"Researcher_clin5_vs_abalsubr\"    \"Researcher_courtrun_vs_abalsubr\"\n",
       "[17] \"Researcher_cvduffy_vs_abalsubr\"  \"Researcher_genegra2_vs_abalsubr\"\n",
       "[19] \"Researcher_jarhodes_vs_abalsubr\" \"Researcher_lstrand_vs_abalsubr\" \n",
       "[21] \"Researcher_makena_vs_abalsubr\"   \"Researcher_marinovg_vs_abalsubr\"\n",
       "[23] \"Researcher_miao1_vs_abalsubr\"    \"Researcher_mihayes_vs_abalsubr\" \n",
       "[25] \"Researcher_sierrasb_vs_abalsubr\" \"Researcher_soumyak_vs_abalsubr\" \n",
       "[27] \"Researcher_srstern_vs_abalsubr\"  \"Researcher_subkc_vs_abalsubr\"   \n",
       "[29] \"Researcher_surag_vs_abalsubr\"    \"Researcher_zahoor_vs_abalsubr\"  "
      ]
     },
     "metadata": {},
     "output_type": "display_data"
    }
   ],
   "source": [
    "#We can examine several contrasts in the resulting DESeq2 object\n",
    "resultsNames(dds)"
   ]
  },
  {
   "cell_type": "code",
   "execution_count": 34,
   "metadata": {},
   "outputs": [],
   "source": [
    "#Specify the contrasts we want to examine (we indicated these above)\n",
    "deseq_contrasts=list(c(\"Sample\",\"45min_HOT1\",\"45min_WT\"))\n",
    "contrast_names=c(\"Sample_45min_HOT1_vs_45min_WT\")\n"
   ]
  },
  {
   "cell_type": "code",
   "execution_count": 19,
   "metadata": {},
   "outputs": [],
   "source": [
    "#Specify the contrasts we want to examine (we indicated these above)\n",
    "deseq_contrasts=list(c(\"Timepoint\",\"0min\",\"45min\"),\n",
    "                     c(\"Strain\",\"WT\",\"MSN1\"),\n",
    "                     c(\"Strain\",\"WT\",\"MSN2\"),\n",
    "                     c(\"Strain\",\"WT\",\"MSN4\"),\n",
    "                     c(\"Strain\",\"WT\",\"HOG1\"),\n",
    "                     c(\"Strain\",\"WT\",\"SKN7\"),\n",
    "                     c(\"Strain\",\"WT\",\"HOT1\"),\n",
    "                     c(\"Strain\",\"WT\",\"YAP1\"),\n",
    "                     c(\"Strain\",\"WT\",\"YAP6\"),\n",
    "                     c(\"Strain\",\"WT\",\"YAP7\"))\n",
    "contrast_names=c(\"Timepoint_0min_vs_45min\",\n",
    "        \"Strain_WT_vs_MSN1\",\n",
    "        \"Strain_WT_vs_MSN2\",\n",
    "        \"Strain_WT_vs_MSN4\",\n",
    "        \"Strain_WT_vs_HOG1\",\n",
    "        \"Strain_WT_vs_SKN7\",\n",
    "        \"Strain_WT_vs_HOT1\",\n",
    "        \"Strain_WT_vs_YAP1\",\n",
    "        \"Strain_WT_vs_YAP6\",\n",
    "        \"Strain_WT_vs_YAP7\")\n",
    "\n"
   ]
  },
  {
   "cell_type": "code",
   "execution_count": 35,
   "metadata": {},
   "outputs": [
    {
     "name": "stdout",
     "output_type": "stream",
     "text": [
      "[1] \"Sample_45min_HOT1_vs_45min_WT\"\n"
     ]
    }
   ],
   "source": [
    "#Query the DESeq2 results to find differential peaks for each contrast, using our padjust_thresh and lfc_thresh values.\n",
    "for(contrast_index in seq(1,1))\n",
    "{\n",
    "        comparison_name=unlist(contrast_names[contrast_index])    \n",
    "        print(comparison_name)\n",
    "        ds=results(dds,\n",
    "           contrast=unlist(deseq_contrasts[contrast_index]))\n",
    "       \n",
    "        #write  entries for all peaks\n",
    "        write.table(ds,file=paste(comparison_name,\".txt\",sep=\"\"),quote=FALSE,row.names=TRUE,col.names=TRUE,sep='\\t')\n",
    "    \n",
    "        #subset the peak set to just the differential peaks \n",
    "        ds=na.omit(ds)\n",
    "        sig=ds[ds$padj<padjust_thresh,] \n",
    "    \n",
    "        #find positive log fold change peaks \n",
    "        positive_sig=sig[sig$log2FoldChange > 0,]\n",
    "    \n",
    "        #find negative log fold change peaks \n",
    "        negative_sig=sig[sig$log2FoldChange <0,]\n",
    "    \n",
    "        write.table(positive_sig,\n",
    "                    file=paste(comparison_name,\".differential.positive.txt\",sep=\"\"),\n",
    "                    quote=FALSE,row.names=FALSE,col.names=FALSE,sep='\\t')\n",
    "        write.table(negative_sig,\n",
    "                    file=paste(comparison_name,\".differential.negative.txt\",sep=\"\"),\n",
    "                    quote=FALSE,row.names=FALSE,col.names=FALSE,sep='\\t')\n",
    "}\n"
   ]
  },
  {
   "cell_type": "markdown",
   "metadata": {},
   "source": [
    "This code will generate 10 sets of files: \n",
    "\n",
    "* Timepoint_0min_vs_45min.txt  \n",
    "* Timepoint_0min_vs_45min.differential.positive.txt  \n",
    "* Timepoint_0min_vs_45min.differential.negative.txt  \n",
    "\n",
    "\n",
    "* Strain_WT_vs_MSN1.txt  \n",
    "* Strain_WT_vs_MSN1.differential.positive.txt\n",
    "* Strain_WT_vs_MSN1.differential.negative.txt\n",
    "\n",
    "\n",
    "* Strain_WT_vs_MSN2.txt  \n",
    "* Strain_WT_vs_MSN2.differential.positive.txt\n",
    "* Strain_WT_vs_MSN2.differential.negative.txt\n",
    "\n",
    "\n",
    "* Strain_WT_vs_MSN4.txt  \n",
    "* Strain_WT_vs_MSN4.differential.positive.txt\n",
    "* Strain_WT_vs_MSN4.differential.negative.txt\n",
    "\n",
    "\n",
    "* Strain_WT_vs_HOG1.txt  \n",
    "* Strain_WT_vs_HOG1.differential.positive.txt\n",
    "* Strain_WT_vs_HOG1.differential.negative.txt\n",
    "\n",
    "\n",
    "* Strain_WT_vs_SKN7.txt  \n",
    "* Strain_WT_vs_SKN7.differential.positive.txt\n",
    "* Strain_WT_vs_SKN7.differential.negative.txt\n",
    "\n",
    "\n",
    "* Strain_WT_vs_HOT1.txt  \n",
    "* Strain_WT_vs_HOT1.differential.positive.txt\n",
    "* Strain_WT_vs_HOT1.differential.negative.txt\n",
    "\n",
    "\n",
    "* Strain_WT_vs_YAP1.txt  \n",
    "* Strain_WT_vs_YAP1.differential.positive.txt\n",
    "* Strain_WT_vs_YAP1.differential.negative.txt\n",
    "\n",
    "\n",
    "* Strain_WT_vs_YAP6.txt  \n",
    "* Strain_WT_vs_YAP6.differential.positive.txt\n",
    "* Strain_WT_vs_YAP6.differential.negative.txt\n",
    "\n",
    "\n",
    "* Strain_WT_vs_YAP7.txt  \n",
    "* Strain_WT_vs_YAP7.differential.positive.txt\n",
    "* Strain_WT_vs_YAP7.differential.negative.txt\n",
    "\n",
    "\n",
    "The first is the raw output from DESeq for all peaks. We will not have time to discuss everything in this file, but feel free to read the DESeq manual and see if you can understand it. The second,  contains a list of the IDs of the differentially open peaks from ATAC‐seq. The p‐value cutoff for differential openness that we use is 0.01. "
   ]
  },
  {
   "cell_type": "markdown",
   "metadata": {},
   "source": [
    "### Running limma ###"
   ]
  },
  {
   "cell_type": "markdown",
   "metadata": {},
   "source": [
    "If you recall, we used the R limma package to remove the \"Researcher\" batch effect in our data. Limma can also be used for differential peak calling. Limma uses a similar algorithm to DESeq2. We will go through the process of calling differential peaks with limma and see how the peak rankings differ between limma and DESeq2 -- it's always best to sanity check your results by running them through several similar analysis algorithms. "
   ]
  },
  {
   "cell_type": "code",
   "execution_count": null,
   "metadata": {},
   "outputs": [],
   "source": [
    "#import the limma library \n",
    "\n",
    "library(limma)\n",
    "#design the model \n",
    "design=model.matrix(~0+Strain+Timepoint+Researcher,data=metadata)\n",
    "\n",
    "#We use the \"voom\" function associated with the limma package to normalize the count data \n",
    "vm=voom(count_data,design)\n",
    "\n",
    "#fit the model to the data \n",
    "fit=lmFit(vm,design=vm$design)\n",
    "\n",
    "\n",
    "#We'll examine the Timepoint contrast \n",
    "cont.matrix=makeContrasts(timepoint=\"Timepoint4h\",levels=fit)\n",
    "media_model=eBayes(contrasts.fit(fit,cont.matrix))\n",
    "res_limma=topTable(media_model,n=nrow(count_data))\n",
    "head(res_limma)"
   ]
  },
  {
   "cell_type": "markdown",
   "metadata": {},
   "source": [
    "### Comparing DESeq2 and limma voom outputs ### "
   ]
  },
  {
   "cell_type": "code",
   "execution_count": null,
   "metadata": {},
   "outputs": [],
   "source": [
    "#Let's extract the media comparison from DESeq2\n",
    "res_deseq2=results(dds,\n",
    "           contrast=unlist(deseq_contrasts[1]))\n",
    "res_deseq2=as.data.frame(res_deseq2)\n"
   ]
  },
  {
   "cell_type": "code",
   "execution_count": null,
   "metadata": {},
   "outputs": [],
   "source": [
    "#We need to merge the two result dataframes by peak name So that we can generate a scatterplot of\n",
    "#padj in one vs the other \n",
    "res_limma$peak=rownames(res_limma)\n",
    "res_deseq2$peak=rownames(res_deseq2)\n",
    "nrow(res_limma)\n",
    "nrow(res_deseq2)"
   ]
  },
  {
   "cell_type": "code",
   "execution_count": null,
   "metadata": {},
   "outputs": [],
   "source": [
    "merged_df=merge(res_limma,res_deseq2,by=\"peak\")\n",
    "merged_df$limma_padj=-10*log10(merged_df$padj)\n",
    "merged_df$deseq2_padj=-10*log10(merged_df$adj.P.Val)\n",
    "\n"
   ]
  },
  {
   "cell_type": "code",
   "execution_count": null,
   "metadata": {},
   "outputs": [],
   "source": [
    "head(merged_df)"
   ]
  },
  {
   "cell_type": "code",
   "execution_count": null,
   "metadata": {},
   "outputs": [],
   "source": [
    "library(ggplot2)\n",
    "ggplot(merged_df,aes(x=deseq2_padj,y=limma_padj))+\n",
    "    geom_point(alpha=0.1)+\n",
    "    xlim(0,400)+\n",
    "    ylim(0,400)"
   ]
  },
  {
   "cell_type": "markdown",
   "metadata": {},
   "source": [
    "The p-values appear to be pretty correlated. Let's make sure by computing the spearman and pearson correlations: "
   ]
  },
  {
   "cell_type": "code",
   "execution_count": null,
   "metadata": {},
   "outputs": [],
   "source": [
    "spearman_cor=cor(merged_df$limma_padj,merged_df$deseq2_padj,method=\"spearman\")\n",
    "spearman_cor"
   ]
  },
  {
   "cell_type": "code",
   "execution_count": null,
   "metadata": {},
   "outputs": [],
   "source": [
    "pearson_cor=cor(merged_df$limma_padj,merged_df$deseq2_padj,method=\"pearson\")\n",
    "pearson_cor"
   ]
  },
  {
   "cell_type": "markdown",
   "metadata": {},
   "source": [
    "Finally, we plot the rank comparison of the p-values across the two methods. "
   ]
  },
  {
   "cell_type": "code",
   "execution_count": null,
   "metadata": {},
   "outputs": [],
   "source": [
    "#use the \"rank\" function to generate rank columns for the p-values \n",
    "merged_df$limma_padj_rank=rank(merged_df$limma_padj)\n",
    "merged_df$deseq2_padj_rank=rank(merged_df$deseq2_padj)\n",
    "\n",
    "ggplot(merged_df,aes(x=deseq2_padj_rank,y=limma_padj_rank))+\n",
    "    geom_point(alpha=0.1)"
   ]
  }
 ],
 "metadata": {
  "kernelspec": {
   "display_name": "R",
   "language": "R",
   "name": "ir"
  },
  "language_info": {
   "codemirror_mode": "r",
   "file_extension": ".r",
   "mimetype": "text/x-r-source",
   "name": "R",
   "pygments_lexer": "r",
   "version": "3.4.4"
  }
 },
 "nbformat": 4,
 "nbformat_minor": 1
}
