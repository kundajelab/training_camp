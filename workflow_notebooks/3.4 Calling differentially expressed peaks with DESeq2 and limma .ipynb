{
 "cells": [
  {
   "cell_type": "markdown",
   "metadata": {},
   "source": [
    "# 3.4 Calling differentially expressed peaks with DESeq2 and limma"
   ]
  },
  {
   "cell_type": "markdown",
   "metadata": {},
   "source": [
    "### IMPORTANT: Please make sure that you are using the R kernel to run this notebook. ###\n"
   ]
  },
  {
   "cell_type": "markdown",
   "metadata": {},
   "source": [
    "In this tutorial, we will focus on calling differential peaks: \n",
    "![Analysis pipeline](images/part4.png)"
   ]
  },
  {
   "cell_type": "markdown",
   "metadata": {
    "collapsed": true
   },
   "source": [
    "## Running DESeq"
   ]
  },
  {
   "cell_type": "markdown",
   "metadata": {},
   "source": [
    "DESeq(https://bioconductor.org/packages/release/bioc/html/DESeq2.html) uses read count data, such as in our matrix **all.readcount.txt**, to estimate differential gene expression across conditions specified in a metdata file.  We run DESeq with 4 comparisons (which we call \"contrasts\"): \n",
    "* Timepoint \n",
    "    * 0hr vs 4hr\n",
    "* Strain: \n",
    "    *  WT vs TF1\n",
    "    *  WT vs TF2\n",
    "    *  WT vs TF3\n",
    "    *  WT vs TF4\n",
    "    *  WT vs TF5\n",
    "    *  WT vs TF6\n",
    "    *  WT vs TF7\n",
    "    *  WT vs TF8\n",
    "    *  WT vs TF9   "
   ]
  },
  {
   "cell_type": "code",
   "execution_count": null,
   "metadata": {},
   "outputs": [],
   "source": [
    "#change to your working directory \n",
    "username=\"annashch\"\n",
    "setwd(paste(\"/scratch/\",username,sep=\"\"))"
   ]
  },
  {
   "cell_type": "code",
   "execution_count": null,
   "metadata": {},
   "outputs": [],
   "source": [
    "#load the DESeq2 library\n",
    "library(DESeq2,quietly = TRUE)\n"
   ]
  },
  {
   "cell_type": "code",
   "execution_count": null,
   "metadata": {},
   "outputs": [],
   "source": [
    "#We read in the counts data matrix and the metdata matrix in the same manner as we did in tutorial 3.1 \n",
    "#load the read count matrix\n",
    "count_data=read.table(\"/outputs/all.readcount.txt\",header=TRUE)\n",
    "rownames(count_data)=paste(count_data$Chrom,count_data$Start,count_data$End,sep='\\t')\n",
    "#remove the columns we will not use \n",
    "count_data$Chrom=NULL\n",
    "count_data$Start=NULL\n",
    "count_data$End=NULL\n",
    "count_data$ID=NULL\n",
    "\n",
    "head(count_data)"
   ]
  },
  {
   "cell_type": "code",
   "execution_count": null,
   "metadata": {},
   "outputs": [],
   "source": [
    "metadata=read.table(\"/metadata/TC2017_samples.tsv\",header=TRUE)\n",
    "#We use the \"factor\" function to tell R which variables are categorical rather than continuous \n",
    "metadata$Strain=factor(metadata$Strain)\n",
    "metadata$Timepoint=factor(metadata$Timepoint)\n",
    "metadata$Researcher=factor(metadata$Researcher)\n",
    "#we don't need the other metadata columns for this analysis \n",
    "metadata$Sample=NULL\n",
    "metadata$Replicate=NULL\n",
    "rownames(metadata)=metadata$ID\n",
    "metadata$ID=NULL\n",
    "#make sure the rows in metadata match the order of the columns in count_data \n",
    "metadata=metadata[names(count_data),]\n",
    "head(metadata)"
   ]
  },
  {
   "cell_type": "code",
   "execution_count": null,
   "metadata": {},
   "outputs": [],
   "source": [
    "#We set threshold for determining differential expression \n",
    "padjust_thresh=0.01 \n"
   ]
  },
  {
   "cell_type": "code",
   "execution_count": null,
   "metadata": {},
   "outputs": [],
   "source": [
    "#create a DESeq2 object with the data, metadata, and model information \n",
    "ddsMat=DESeqDataSetFromMatrix(countData=as.matrix(count_data),\n",
    "                            colData=metadata,\n",
    "                            design=~Strain+Timepoint+Researcher)\n"
   ]
  },
  {
   "cell_type": "code",
   "execution_count": null,
   "metadata": {},
   "outputs": [],
   "source": [
    "#Run DESeq2 analysis \n",
    "dds<-DESeq(ddsMat)"
   ]
  },
  {
   "cell_type": "code",
   "execution_count": null,
   "metadata": {},
   "outputs": [],
   "source": [
    "#We can examine several contrasts in the resulting DESeq2 object\n",
    "resultsNames(dds)"
   ]
  },
  {
   "cell_type": "code",
   "execution_count": null,
   "metadata": {},
   "outputs": [],
   "source": [
    "#Specify the contrasts we want to examine (we indicated these above)\n",
    "deseq_contrasts=list(c(\"Timepoint\",\"0h\",\"4h\"),\n",
    "                     c(\"Strain\",\"WT\",\"TF1\"),\n",
    "                     c(\"Strain\",\"WT\",\"TF2\"),\n",
    "                     c(\"Strain\",\"WT\",\"TF3\"),\n",
    "                     c(\"Strain\",\"WT\",\"TF4\"),\n",
    "                     c(\"Strain\",\"WT\",\"TF5\"),\n",
    "                     c(\"Strain\",\"WT\",\"TF6\"),\n",
    "                     c(\"Strain\",\"WT\",\"TF7\"),\n",
    "                     c(\"Strain\",\"WT\",\"TF8\"),\n",
    "                     c(\"Strain\",\"WT\",\"TF9\"))\n",
    "contrast_names=c(\"Timepoint_0h_vs_4h\",\n",
    "        \"Strain_WT_vs_TF1\",\n",
    "        \"Strain_WT_vs_TF2\",\n",
    "        \"Strain_WT_vs_TF3\",\n",
    "        \"Strain_WT_vs_TF4\",\n",
    "        \"Strain_WT_vs_TF5\",\n",
    "        \"Strain_WT_vs_TF6\",\n",
    "        \"Strain_WT_vs_TF7\",\n",
    "        \"Strain_WT_vs_TF8\",\n",
    "        \"Strain_WT_vs_TF9\")\n",
    "\n"
   ]
  },
  {
   "cell_type": "code",
   "execution_count": null,
   "metadata": {},
   "outputs": [],
   "source": [
    "#Query the DESeq2 results to find differential peaks for each contrast, using our padjust_thresh and lfc_thresh values.\n",
    "for(contrast_index in seq(1,10))\n",
    "{\n",
    "        comparison_name=unlist(contrast_names[contrast_index])    \n",
    "        print(comparison_name)\n",
    "        ds=results(dds,\n",
    "           contrast=unlist(deseq_contrasts[contrast_index]))\n",
    "       \n",
    "        #write  entries for all peaks\n",
    "        write.table(ds,file=paste(comparison_name,\".txt\",sep=\"\"),quote=FALSE,row.names=TRUE,col.names=TRUE,sep='\\t')\n",
    "    \n",
    "        #subset the peak set to just the differential peaks \n",
    "        ds=na.omit(ds)\n",
    "        sig=ds[ds$padj<padjust_thresh,] \n",
    "    \n",
    "        #find positive log fold change peaks \n",
    "        positive_sig=sig[sig$log2FoldChange > 0,]\n",
    "    \n",
    "        #find negative log fold change peaks \n",
    "        negative_sig=sig[sig$log2FoldChange <0,]\n",
    "    \n",
    "        write.table(positive_sig,\n",
    "                    file=paste(comparison_name,\".differential.positive.txt\",sep=\"\"),\n",
    "                    quote=FALSE,row.names=FALSE,col.names=FALSE,sep='\\t')\n",
    "        write.table(negative_sig,\n",
    "                    file=paste(comparison_name,\".differential.negative.txt\",sep=\"\"),\n",
    "                    quote=FALSE,row.names=FALSE,col.names=FALSE,sep='\\t')\n",
    "}\n"
   ]
  },
  {
   "cell_type": "markdown",
   "metadata": {},
   "source": [
    "This code will generate 10 sets of files: \n",
    "\n",
    "* Timepoint_0h_vs_4h.txt  \n",
    "* Timepoint_0h_vs_4h.differential.positive.txt  \n",
    "* Timepoint_0h_vs_4h.differential.negative.txt  \n",
    "\n",
    "\n",
    "* Strain_WT_vs_TF1.txt  \n",
    "* Strain_WT_vs_TF1.differential.positive.txt\n",
    "* Strain_WT_vs_TF1.differential.negative.txt\n",
    "\n",
    "\n",
    "* Strain_WT_vs_TF2.txt  \n",
    "* Strain_WT_vs_TF2.differential.positive.txt\n",
    "* Strain_WT_vs_TF2.differential.negative.txt\n",
    "\n",
    "\n",
    "* Strain_WT_vs_TF3.txt  \n",
    "* Strain_WT_vs_TF3.differential.positive.txt\n",
    "* Strain_WT_vs_TF3.differential.negative.txt\n",
    "\n",
    "\n",
    "* Strain_WT_vs_TF4.txt  \n",
    "* Strain_WT_vs_TF4.differential.positive.txt\n",
    "* Strain_WT_vs_TF4.differential.negative.txt\n",
    "\n",
    "\n",
    "* Strain_WT_vs_TF5.txt  \n",
    "* Strain_WT_vs_TF5.differential.positive.txt\n",
    "* Strain_WT_vs_TF5.differential.negative.txt\n",
    "\n",
    "\n",
    "* Strain_WT_vs_TF6.txt  \n",
    "* Strain_WT_vs_TF6.differential.positive.txt\n",
    "* Strain_WT_vs_TF6.differential.negative.txt\n",
    "\n",
    "\n",
    "* Strain_WT_vs_TF7.txt  \n",
    "* Strain_WT_vs_TF7.differential.positive.txt\n",
    "* Strain_WT_vs_TF7.differential.negative.txt\n",
    "\n",
    "\n",
    "* Strain_WT_vs_TF8.txt  \n",
    "* Strain_WT_vs_TF8.differential.positive.txt\n",
    "* Strain_WT_vs_TF8.differential.negative.txt\n",
    "\n",
    "\n",
    "* Strain_WT_vs_TF9.txt  \n",
    "* Strain_WT_vs_TF9.differential.positive.txt\n",
    "* Strain_WT_vs_TF9.differential.negative.txt\n",
    "\n",
    "\n",
    "The first is the raw output from DESeq for all peaks. We will not have time to discuss everything in this file, but feel free to read the DESeq manual and see if you can understand it. The second,  contains a list of the IDs of the differentially open peaks from ATAC‐seq. The p‐value cutoff for differential openness that we use is 0.01. "
   ]
  },
  {
   "cell_type": "markdown",
   "metadata": {},
   "source": [
    "### Running limma ###"
   ]
  },
  {
   "cell_type": "markdown",
   "metadata": {},
   "source": [
    "If you recall, we used the R limma package to remove the \"Researcher\" batch effect in our data. Limma can also be used for differential peak calling. Limma uses a similar algorithm to DESeq2. We will go through the process of calling differential peaks with limma and see how the peak rankings differ between limma and DESeq2 -- it's always best to sanity check your results by running them through several similar analysis algorithms. "
   ]
  },
  {
   "cell_type": "code",
   "execution_count": null,
   "metadata": {},
   "outputs": [],
   "source": [
    "#import the limma library \n",
    "\n",
    "library(limma)\n",
    "#design the model \n",
    "design=model.matrix(~0+Strain+Timepoint+Researcher,data=metadata)\n",
    "\n",
    "#We use the \"voom\" function associated with the limma package to normalize the count data \n",
    "vm=voom(count_data,design)\n",
    "\n",
    "#fit the model to the data \n",
    "fit=lmFit(vm,design=vm$design)\n",
    "\n",
    "\n",
    "#We'll examine the Timepoint contrast \n",
    "cont.matrix=makeContrasts(timepoint=\"Timepoint4h\",levels=fit)\n",
    "media_model=eBayes(contrasts.fit(fit,cont.matrix))\n",
    "res_limma=topTable(media_model,n=nrow(count_data))\n",
    "head(res_limma)"
   ]
  },
  {
   "cell_type": "markdown",
   "metadata": {},
   "source": [
    "### Comparing DESeq2 and limma voom outputs ### "
   ]
  },
  {
   "cell_type": "code",
   "execution_count": null,
   "metadata": {},
   "outputs": [],
   "source": [
    "#Let's extract the media comparison from DESeq2\n",
    "res_deseq2=results(dds,\n",
    "           contrast=unlist(deseq_contrasts[1]))\n",
    "res_deseq2=as.data.frame(res_deseq2)\n"
   ]
  },
  {
   "cell_type": "code",
   "execution_count": null,
   "metadata": {},
   "outputs": [],
   "source": [
    "#We need to merge the two result dataframes by peak name So that we can generate a scatterplot of\n",
    "#padj in one vs the other \n",
    "res_limma$peak=rownames(res_limma)\n",
    "res_deseq2$peak=rownames(res_deseq2)\n",
    "nrow(res_limma)\n",
    "nrow(res_deseq2)"
   ]
  },
  {
   "cell_type": "code",
   "execution_count": null,
   "metadata": {},
   "outputs": [],
   "source": [
    "merged_df=merge(res_limma,res_deseq2,by=\"peak\")\n",
    "merged_df$limma_padj=-10*log10(merged_df$padj)\n",
    "merged_df$deseq2_padj=-10*log10(merged_df$adj.P.Val)\n",
    "\n"
   ]
  },
  {
   "cell_type": "code",
   "execution_count": null,
   "metadata": {},
   "outputs": [],
   "source": [
    "head(merged_df)"
   ]
  },
  {
   "cell_type": "code",
   "execution_count": null,
   "metadata": {},
   "outputs": [],
   "source": [
    "library(ggplot2)\n",
    "ggplot(merged_df,aes(x=deseq2_padj,y=limma_padj))+\n",
    "    geom_point(alpha=0.1)+\n",
    "    xlim(0,400)+\n",
    "    ylim(0,400)"
   ]
  },
  {
   "cell_type": "markdown",
   "metadata": {},
   "source": [
    "The p-values appear to be pretty correlated. Let's make sure by computing the spearman and pearson correlations: "
   ]
  },
  {
   "cell_type": "code",
   "execution_count": null,
   "metadata": {},
   "outputs": [],
   "source": [
    "spearman_cor=cor(merged_df$limma_padj,merged_df$deseq2_padj,method=\"spearman\")\n",
    "spearman_cor"
   ]
  },
  {
   "cell_type": "code",
   "execution_count": null,
   "metadata": {},
   "outputs": [],
   "source": [
    "pearson_cor=cor(merged_df$limma_padj,merged_df$deseq2_padj,method=\"pearson\")\n",
    "pearson_cor"
   ]
  },
  {
   "cell_type": "markdown",
   "metadata": {},
   "source": [
    "Finally, we plot the rank comparison of the p-values across the two methods. "
   ]
  },
  {
   "cell_type": "code",
   "execution_count": null,
   "metadata": {},
   "outputs": [],
   "source": [
    "#use the \"rank\" function to generate rank columns for the p-values \n",
    "merged_df$limma_padj_rank=rank(merged_df$limma_padj)\n",
    "merged_df$deseq2_padj_rank=rank(merged_df$deseq2_padj)\n",
    "\n",
    "ggplot(merged_df,aes(x=deseq2_padj_rank,y=limma_padj_rank))+\n",
    "    geom_point(alpha=0.1)"
   ]
  }
 ],
 "metadata": {
  "kernelspec": {
   "display_name": "R",
   "language": "R",
   "name": "ir"
  },
  "language_info": {
   "codemirror_mode": "r",
   "file_extension": ".r",
   "mimetype": "text/x-r-source",
   "name": "R",
   "pygments_lexer": "r",
   "version": "3.4.4"
  }
 },
 "nbformat": 4,
 "nbformat_minor": 1
}
