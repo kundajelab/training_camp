{
 "cells": [
  {
   "cell_type": "markdown",
   "metadata": {},
   "source": [
    "# 3.4 Calling differentially expressed peaks with DESeq2 and limma"
   ]
  },
  {
   "cell_type": "markdown",
   "metadata": {},
   "source": [
    "### IMPORTANT: Please make sure that you are using the R kernel to run this notebook. ###\n"
   ]
  },
  {
   "cell_type": "markdown",
   "metadata": {},
   "source": [
    "In this tutorial, we will focus on calling differential peaks: \n",
    "![Analysis pipeline](images/part4.png)"
   ]
  },
  {
   "cell_type": "markdown",
   "metadata": {
    "collapsed": true
   },
   "source": [
    "## Running DESeq"
   ]
  },
  {
   "cell_type": "markdown",
   "metadata": {},
   "source": [
    "DESeq(https://bioconductor.org/packages/release/bioc/html/DESeq2.html) uses read count data, such as in our matrix **all.readcount.txt**, to estimate differential gene expression across conditions specified in a metdata file.  We run DESeq with 4 comparisons (which we call \"contrasts\"): \n",
    "* Media \n",
    "    * glucose vs ethanol\n",
    "* Strain: \n",
    "    *  WT vs asf1\n",
    "    *  WT vs rtt109\n",
    "    *  asf1 vs rtt109 \n",
    "   "
   ]
  },
  {
   "cell_type": "code",
   "execution_count": 1,
   "metadata": {},
   "outputs": [],
   "source": [
    "#change to your working directory \n",
    "username=\"annashch\"\n",
    "setwd(paste(\"/scratch/\",username,sep=\"\"))"
   ]
  },
  {
   "cell_type": "code",
   "execution_count": 2,
   "metadata": {},
   "outputs": [
    {
     "name": "stderr",
     "output_type": "stream",
     "text": [
      "\n",
      "Attaching package: ‘BiocGenerics’\n",
      "\n",
      "The following objects are masked from ‘package:parallel’:\n",
      "\n",
      "    clusterApply, clusterApplyLB, clusterCall, clusterEvalQ,\n",
      "    clusterExport, clusterMap, parApply, parCapply, parLapply,\n",
      "    parLapplyLB, parRapply, parSapply, parSapplyLB\n",
      "\n",
      "The following objects are masked from ‘package:stats’:\n",
      "\n",
      "    IQR, mad, sd, var, xtabs\n",
      "\n",
      "The following objects are masked from ‘package:base’:\n",
      "\n",
      "    anyDuplicated, append, as.data.frame, basename, cbind, colnames,\n",
      "    dirname, do.call, duplicated, eval, evalq, Filter, Find, get, grep,\n",
      "    grepl, intersect, is.unsorted, lapply, Map, mapply, match, mget,\n",
      "    order, paste, pmax, pmax.int, pmin, pmin.int, Position, rank,\n",
      "    rbind, Reduce, rownames, sapply, setdiff, sort, table, tapply,\n",
      "    union, unique, unsplit, which, which.max, which.min\n",
      "\n",
      "\n",
      "Attaching package: ‘S4Vectors’\n",
      "\n",
      "The following object is masked from ‘package:base’:\n",
      "\n",
      "    expand.grid\n",
      "\n",
      "Welcome to Bioconductor\n",
      "\n",
      "    Vignettes contain introductory material; view with\n",
      "    'browseVignettes()'. To cite Bioconductor, see\n",
      "    'citation(\"Biobase\")', and for packages 'citation(\"pkgname\")'.\n",
      "\n",
      "\n",
      "Attaching package: ‘matrixStats’\n",
      "\n",
      "The following objects are masked from ‘package:Biobase’:\n",
      "\n",
      "    anyMissing, rowMedians\n",
      "\n",
      "\n",
      "Attaching package: ‘DelayedArray’\n",
      "\n",
      "The following objects are masked from ‘package:matrixStats’:\n",
      "\n",
      "    colMaxs, colMins, colRanges, rowMaxs, rowMins, rowRanges\n",
      "\n",
      "The following objects are masked from ‘package:base’:\n",
      "\n",
      "    aperm, apply, rowsum\n",
      "\n"
     ]
    }
   ],
   "source": [
    "#load the DESeq2 library\n",
    "library(DESeq2,quietly = TRUE)\n"
   ]
  },
  {
   "cell_type": "code",
   "execution_count": 3,
   "metadata": {},
   "outputs": [
    {
     "data": {
      "text/html": [
       "<table>\n",
       "<caption>A data.frame: 6 × 20</caption>\n",
       "<thead>\n",
       "\t<tr><th></th><th scope=col>cln3.SCD.0_6MNaCl.Rep1_R1_001</th><th scope=col>cln3.SCD.0_6MNaCl.Rep2_R1_001</th><th scope=col>cln3.SCD.Rep1_R1_001</th><th scope=col>cln3.SCD.Rep2_R1_001</th><th scope=col>cln3.SCE.0_6MNaCl.Rep1_R1_001</th><th scope=col>cln3.SCE.0_6MNaCl.Rep2_R1_001</th><th scope=col>cln3.SCE.Rep1_R1_001</th><th scope=col>cln3.SCE.Rep2_R1_001</th><th scope=col>whi5.cln3.SCE.Rep1_R1_001</th><th scope=col>whi5.cln3.SCE.Rep2_R1_001</th><th scope=col>whi5.SCE.Rep1_R1_001</th><th scope=col>whi5.SCE.Rep2_R1_001</th><th scope=col>WT.SCD.0_6MNaCl.Rep1_R1_001</th><th scope=col>WT.SCD.0_6MNaCl.Rep2_R1_001</th><th scope=col>WT.SCD.Rep1_R1_001</th><th scope=col>WT.SCD.Rep2_R1_001</th><th scope=col>WT.SCE.0_6MNaCl.Rep1_R1_001</th><th scope=col>WT.SCE.0_6MNaCl.Rep2_R1_001</th><th scope=col>WT.SCE.Rep1_R1_001</th><th scope=col>WT.SCE.Rep2_R1_001</th></tr>\n",
       "\t<tr><th></th><th scope=col>&lt;int&gt;</th><th scope=col>&lt;int&gt;</th><th scope=col>&lt;int&gt;</th><th scope=col>&lt;int&gt;</th><th scope=col>&lt;int&gt;</th><th scope=col>&lt;int&gt;</th><th scope=col>&lt;int&gt;</th><th scope=col>&lt;int&gt;</th><th scope=col>&lt;int&gt;</th><th scope=col>&lt;int&gt;</th><th scope=col>&lt;int&gt;</th><th scope=col>&lt;int&gt;</th><th scope=col>&lt;int&gt;</th><th scope=col>&lt;int&gt;</th><th scope=col>&lt;int&gt;</th><th scope=col>&lt;int&gt;</th><th scope=col>&lt;int&gt;</th><th scope=col>&lt;int&gt;</th><th scope=col>&lt;int&gt;</th><th scope=col>&lt;int&gt;</th></tr>\n",
       "</thead>\n",
       "<tbody>\n",
       "\t<tr><th scope=row>chrI\t0\t781</th><td>0</td><td>0</td><td>151</td><td>191</td><td> 226</td><td> 158</td><td> 210</td><td>127</td><td> 292</td><td> 296</td><td> 232</td><td>188</td><td> 83</td><td> 246</td><td> 25</td><td>182</td><td> 241</td><td> 203</td><td> 9</td><td> 244</td></tr>\n",
       "\t<tr><th scope=row>chrI\t6332\t6549</th><td>0</td><td>0</td><td>537</td><td>820</td><td>1342</td><td>1050</td><td>1157</td><td>590</td><td>1460</td><td>1624</td><td>1562</td><td>713</td><td>590</td><td>1585</td><td>115</td><td>732</td><td>2227</td><td>2032</td><td>90</td><td>1230</td></tr>\n",
       "\t<tr><th scope=row>chrI\t9138\t9609</th><td>0</td><td>0</td><td>175</td><td>222</td><td> 366</td><td> 251</td><td> 304</td><td>160</td><td> 401</td><td> 483</td><td> 410</td><td>261</td><td>143</td><td> 379</td><td> 34</td><td>220</td><td> 379</td><td> 383</td><td>17</td><td> 344</td></tr>\n",
       "\t<tr><th scope=row>chrI\t20611\t21197</th><td>0</td><td>0</td><td>249</td><td>309</td><td> 369</td><td> 282</td><td> 316</td><td>189</td><td> 394</td><td> 406</td><td> 322</td><td>314</td><td>134</td><td> 342</td><td> 60</td><td>370</td><td> 334</td><td> 310</td><td>19</td><td> 410</td></tr>\n",
       "\t<tr><th scope=row>chrI\t28155\t29092</th><td>0</td><td>0</td><td> 50</td><td> 50</td><td>  48</td><td>  37</td><td>  42</td><td> 22</td><td>  57</td><td>  65</td><td>  55</td><td> 72</td><td> 12</td><td>  49</td><td>  7</td><td> 47</td><td>  65</td><td>  64</td><td> 1</td><td>  60</td></tr>\n",
       "\t<tr><th scope=row>chrI\t29173\t30197</th><td>0</td><td>0</td><td> 88</td><td>115</td><td> 215</td><td> 226</td><td> 225</td><td>129</td><td> 241</td><td> 390</td><td> 284</td><td>118</td><td> 86</td><td> 224</td><td> 27</td><td>164</td><td> 324</td><td> 316</td><td>25</td><td> 249</td></tr>\n",
       "</tbody>\n",
       "</table>\n"
      ],
      "text/latex": [
       "A data.frame: 6 × 20\n",
       "\\begin{tabular}{r|llllllllllllllllllll}\n",
       "  & cln3.SCD.0\\_6MNaCl.Rep1\\_R1\\_001 & cln3.SCD.0\\_6MNaCl.Rep2\\_R1\\_001 & cln3.SCD.Rep1\\_R1\\_001 & cln3.SCD.Rep2\\_R1\\_001 & cln3.SCE.0\\_6MNaCl.Rep1\\_R1\\_001 & cln3.SCE.0\\_6MNaCl.Rep2\\_R1\\_001 & cln3.SCE.Rep1\\_R1\\_001 & cln3.SCE.Rep2\\_R1\\_001 & whi5.cln3.SCE.Rep1\\_R1\\_001 & whi5.cln3.SCE.Rep2\\_R1\\_001 & whi5.SCE.Rep1\\_R1\\_001 & whi5.SCE.Rep2\\_R1\\_001 & WT.SCD.0\\_6MNaCl.Rep1\\_R1\\_001 & WT.SCD.0\\_6MNaCl.Rep2\\_R1\\_001 & WT.SCD.Rep1\\_R1\\_001 & WT.SCD.Rep2\\_R1\\_001 & WT.SCE.0\\_6MNaCl.Rep1\\_R1\\_001 & WT.SCE.0\\_6MNaCl.Rep2\\_R1\\_001 & WT.SCE.Rep1\\_R1\\_001 & WT.SCE.Rep2\\_R1\\_001\\\\\n",
       "  & <int> & <int> & <int> & <int> & <int> & <int> & <int> & <int> & <int> & <int> & <int> & <int> & <int> & <int> & <int> & <int> & <int> & <int> & <int> & <int>\\\\\n",
       "\\hline\n",
       "\tchrI\t0\t781 & 0 & 0 & 151 & 191 &  226 &  158 &  210 & 127 &  292 &  296 &  232 & 188 &  83 &  246 &  25 & 182 &  241 &  203 &  9 &  244\\\\\n",
       "\tchrI\t6332\t6549 & 0 & 0 & 537 & 820 & 1342 & 1050 & 1157 & 590 & 1460 & 1624 & 1562 & 713 & 590 & 1585 & 115 & 732 & 2227 & 2032 & 90 & 1230\\\\\n",
       "\tchrI\t9138\t9609 & 0 & 0 & 175 & 222 &  366 &  251 &  304 & 160 &  401 &  483 &  410 & 261 & 143 &  379 &  34 & 220 &  379 &  383 & 17 &  344\\\\\n",
       "\tchrI\t20611\t21197 & 0 & 0 & 249 & 309 &  369 &  282 &  316 & 189 &  394 &  406 &  322 & 314 & 134 &  342 &  60 & 370 &  334 &  310 & 19 &  410\\\\\n",
       "\tchrI\t28155\t29092 & 0 & 0 &  50 &  50 &   48 &   37 &   42 &  22 &   57 &   65 &   55 &  72 &  12 &   49 &   7 &  47 &   65 &   64 &  1 &   60\\\\\n",
       "\tchrI\t29173\t30197 & 0 & 0 &  88 & 115 &  215 &  226 &  225 & 129 &  241 &  390 &  284 & 118 &  86 &  224 &  27 & 164 &  324 &  316 & 25 &  249\\\\\n",
       "\\end{tabular}\n"
      ],
      "text/markdown": [
       "\n",
       "A data.frame: 6 × 20\n",
       "\n",
       "| <!--/--> | cln3.SCD.0_6MNaCl.Rep1_R1_001 &lt;int&gt; | cln3.SCD.0_6MNaCl.Rep2_R1_001 &lt;int&gt; | cln3.SCD.Rep1_R1_001 &lt;int&gt; | cln3.SCD.Rep2_R1_001 &lt;int&gt; | cln3.SCE.0_6MNaCl.Rep1_R1_001 &lt;int&gt; | cln3.SCE.0_6MNaCl.Rep2_R1_001 &lt;int&gt; | cln3.SCE.Rep1_R1_001 &lt;int&gt; | cln3.SCE.Rep2_R1_001 &lt;int&gt; | whi5.cln3.SCE.Rep1_R1_001 &lt;int&gt; | whi5.cln3.SCE.Rep2_R1_001 &lt;int&gt; | whi5.SCE.Rep1_R1_001 &lt;int&gt; | whi5.SCE.Rep2_R1_001 &lt;int&gt; | WT.SCD.0_6MNaCl.Rep1_R1_001 &lt;int&gt; | WT.SCD.0_6MNaCl.Rep2_R1_001 &lt;int&gt; | WT.SCD.Rep1_R1_001 &lt;int&gt; | WT.SCD.Rep2_R1_001 &lt;int&gt; | WT.SCE.0_6MNaCl.Rep1_R1_001 &lt;int&gt; | WT.SCE.0_6MNaCl.Rep2_R1_001 &lt;int&gt; | WT.SCE.Rep1_R1_001 &lt;int&gt; | WT.SCE.Rep2_R1_001 &lt;int&gt; |\n",
       "|---|---|---|---|---|---|---|---|---|---|---|---|---|---|---|---|---|---|---|---|---|\n",
       "| chrI\t0\t781 | 0 | 0 | 151 | 191 |  226 |  158 |  210 | 127 |  292 |  296 |  232 | 188 |  83 |  246 |  25 | 182 |  241 |  203 |  9 |  244 |\n",
       "| chrI\t6332\t6549 | 0 | 0 | 537 | 820 | 1342 | 1050 | 1157 | 590 | 1460 | 1624 | 1562 | 713 | 590 | 1585 | 115 | 732 | 2227 | 2032 | 90 | 1230 |\n",
       "| chrI\t9138\t9609 | 0 | 0 | 175 | 222 |  366 |  251 |  304 | 160 |  401 |  483 |  410 | 261 | 143 |  379 |  34 | 220 |  379 |  383 | 17 |  344 |\n",
       "| chrI\t20611\t21197 | 0 | 0 | 249 | 309 |  369 |  282 |  316 | 189 |  394 |  406 |  322 | 314 | 134 |  342 |  60 | 370 |  334 |  310 | 19 |  410 |\n",
       "| chrI\t28155\t29092 | 0 | 0 |  50 |  50 |   48 |   37 |   42 |  22 |   57 |   65 |   55 |  72 |  12 |   49 |   7 |  47 |   65 |   64 |  1 |   60 |\n",
       "| chrI\t29173\t30197 | 0 | 0 |  88 | 115 |  215 |  226 |  225 | 129 |  241 |  390 |  284 | 118 |  86 |  224 |  27 | 164 |  324 |  316 | 25 |  249 |\n",
       "\n"
      ],
      "text/plain": [
       "                   cln3.SCD.0_6MNaCl.Rep1_R1_001 cln3.SCD.0_6MNaCl.Rep2_R1_001\n",
       "chrI\\t0\\t781       0                             0                            \n",
       "chrI\\t6332\\t6549   0                             0                            \n",
       "chrI\\t9138\\t9609   0                             0                            \n",
       "chrI\\t20611\\t21197 0                             0                            \n",
       "chrI\\t28155\\t29092 0                             0                            \n",
       "chrI\\t29173\\t30197 0                             0                            \n",
       "                   cln3.SCD.Rep1_R1_001 cln3.SCD.Rep2_R1_001\n",
       "chrI\\t0\\t781       151                  191                 \n",
       "chrI\\t6332\\t6549   537                  820                 \n",
       "chrI\\t9138\\t9609   175                  222                 \n",
       "chrI\\t20611\\t21197 249                  309                 \n",
       "chrI\\t28155\\t29092  50                   50                 \n",
       "chrI\\t29173\\t30197  88                  115                 \n",
       "                   cln3.SCE.0_6MNaCl.Rep1_R1_001 cln3.SCE.0_6MNaCl.Rep2_R1_001\n",
       "chrI\\t0\\t781        226                           158                         \n",
       "chrI\\t6332\\t6549   1342                          1050                         \n",
       "chrI\\t9138\\t9609    366                           251                         \n",
       "chrI\\t20611\\t21197  369                           282                         \n",
       "chrI\\t28155\\t29092   48                            37                         \n",
       "chrI\\t29173\\t30197  215                           226                         \n",
       "                   cln3.SCE.Rep1_R1_001 cln3.SCE.Rep2_R1_001\n",
       "chrI\\t0\\t781        210                 127                 \n",
       "chrI\\t6332\\t6549   1157                 590                 \n",
       "chrI\\t9138\\t9609    304                 160                 \n",
       "chrI\\t20611\\t21197  316                 189                 \n",
       "chrI\\t28155\\t29092   42                  22                 \n",
       "chrI\\t29173\\t30197  225                 129                 \n",
       "                   whi5.cln3.SCE.Rep1_R1_001 whi5.cln3.SCE.Rep2_R1_001\n",
       "chrI\\t0\\t781        292                       296                     \n",
       "chrI\\t6332\\t6549   1460                      1624                     \n",
       "chrI\\t9138\\t9609    401                       483                     \n",
       "chrI\\t20611\\t21197  394                       406                     \n",
       "chrI\\t28155\\t29092   57                        65                     \n",
       "chrI\\t29173\\t30197  241                       390                     \n",
       "                   whi5.SCE.Rep1_R1_001 whi5.SCE.Rep2_R1_001\n",
       "chrI\\t0\\t781        232                 188                 \n",
       "chrI\\t6332\\t6549   1562                 713                 \n",
       "chrI\\t9138\\t9609    410                 261                 \n",
       "chrI\\t20611\\t21197  322                 314                 \n",
       "chrI\\t28155\\t29092   55                  72                 \n",
       "chrI\\t29173\\t30197  284                 118                 \n",
       "                   WT.SCD.0_6MNaCl.Rep1_R1_001 WT.SCD.0_6MNaCl.Rep2_R1_001\n",
       "chrI\\t0\\t781        83                          246                       \n",
       "chrI\\t6332\\t6549   590                         1585                       \n",
       "chrI\\t9138\\t9609   143                          379                       \n",
       "chrI\\t20611\\t21197 134                          342                       \n",
       "chrI\\t28155\\t29092  12                           49                       \n",
       "chrI\\t29173\\t30197  86                          224                       \n",
       "                   WT.SCD.Rep1_R1_001 WT.SCD.Rep2_R1_001\n",
       "chrI\\t0\\t781        25                182               \n",
       "chrI\\t6332\\t6549   115                732               \n",
       "chrI\\t9138\\t9609    34                220               \n",
       "chrI\\t20611\\t21197  60                370               \n",
       "chrI\\t28155\\t29092   7                 47               \n",
       "chrI\\t29173\\t30197  27                164               \n",
       "                   WT.SCE.0_6MNaCl.Rep1_R1_001 WT.SCE.0_6MNaCl.Rep2_R1_001\n",
       "chrI\\t0\\t781        241                         203                       \n",
       "chrI\\t6332\\t6549   2227                        2032                       \n",
       "chrI\\t9138\\t9609    379                         383                       \n",
       "chrI\\t20611\\t21197  334                         310                       \n",
       "chrI\\t28155\\t29092   65                          64                       \n",
       "chrI\\t29173\\t30197  324                         316                       \n",
       "                   WT.SCE.Rep1_R1_001 WT.SCE.Rep2_R1_001\n",
       "chrI\\t0\\t781        9                  244              \n",
       "chrI\\t6332\\t6549   90                 1230              \n",
       "chrI\\t9138\\t9609   17                  344              \n",
       "chrI\\t20611\\t21197 19                  410              \n",
       "chrI\\t28155\\t29092  1                   60              \n",
       "chrI\\t29173\\t30197 25                  249              "
      ]
     },
     "metadata": {},
     "output_type": "display_data"
    }
   ],
   "source": [
    "#We read in the counts data matrix and the metdata matrix in the same manner as we did in tutorial 3.1 \n",
    "#load the read count matrix\n",
    "count_data=read.table(\"all.readcount.txt\",header=TRUE)\n",
    "rownames(count_data)=paste(count_data$Chrom,count_data$Start,count_data$End,sep='\\t')\n",
    "#remove the columns we will not use \n",
    "count_data$Chrom=NULL\n",
    "count_data$Start=NULL\n",
    "count_data$End=NULL\n",
    "count_data$ID=NULL\n",
    "#We mustn't forget to swap the sample columns for \"jkcheng_rtt109_YPGE_3\" and \"jkcheng_WT_YPD_3\"\n",
    "count_data$tmp1=count_data$jkcheng_rtt109_YPGE_3\n",
    "count_data$tmp2=count_data$jkcheng_WT_YPD_3\n",
    "count_data$jkcheng_rtt109_YPGE_3=count_data$tmp2\n",
    "count_data$jkcheng_WT_YPD_3=count_data$tmp1\n",
    "count_data$tmp1=NULL\n",
    "count_data$tmp2=NULL\n",
    "\n",
    "head(count_data)"
   ]
  },
  {
   "cell_type": "code",
   "execution_count": 5,
   "metadata": {},
   "outputs": [
    {
     "ename": "ERROR",
     "evalue": "Error in scan(file = file, what = what, sep = sep, quote = quote, dec = dec, : line 1 did not have 8 elements\n",
     "output_type": "error",
     "traceback": [
      "Error in scan(file = file, what = what, sep = sep, quote = quote, dec = dec, : line 1 did not have 8 elements\nTraceback:\n",
      "1. read.table(\"/metadata/TC2019_samples.tsv\", header = TRUE)",
      "2. scan(file = file, what = what, sep = sep, quote = quote, dec = dec, \n .     nmax = nrows, skip = 0, na.strings = na.strings, quiet = TRUE, \n .     fill = fill, strip.white = strip.white, blank.lines.skip = blank.lines.skip, \n .     multi.line = FALSE, comment.char = comment.char, allowEscapes = allowEscapes, \n .     flush = flush, encoding = encoding, skipNul = skipNul)"
     ]
    }
   ],
   "source": [
    "metadata=read.table(\"/metadata/TC2019_samples.tsv\",header=TRUE)\n",
    "#We use the \"factor\" function to tell R which variables are categorical rather than continuous \n",
    "metadata$Strain=factor(metadata$Strain)\n",
    "metadata$Media=factor(metadata$Media)\n",
    "metadata$Researcher=factor(metadata$Researcher)\n",
    "#we don't need the other metadata columns for this analysis \n",
    "metadata$Sample=NULL\n",
    "metadata$Replicate=NULL\n",
    "rownames(metadata)=metadata$ID\n",
    "metadata$ID=NULL\n",
    "metadata$ResearcherIntended=NULL\n",
    "metadata$Confounding=NULL\n",
    "metadata$Lane=NULL\n",
    "#make sure the rows in metadata match the order of the columns in count_data \n",
    "metadata=metadata[names(count_data),]\n",
    "head(metadata)"
   ]
  },
  {
   "cell_type": "code",
   "execution_count": null,
   "metadata": {
    "collapsed": true
   },
   "outputs": [],
   "source": [
    "#We set threshold for determining differential expression \n",
    "padjust_thresh=0.01 \n"
   ]
  },
  {
   "cell_type": "code",
   "execution_count": null,
   "metadata": {},
   "outputs": [],
   "source": [
    "#create a DESeq2 object with the data, metadata, and model information \n",
    "ddsMat=DESeqDataSetFromMatrix(countData=as.matrix(count_data),\n",
    "                            colData=metadata,\n",
    "                            design=~Strain+Media+Researcher)\n"
   ]
  },
  {
   "cell_type": "code",
   "execution_count": null,
   "metadata": {},
   "outputs": [],
   "source": [
    "#Run DESeq2 analysis \n",
    "dds<-DESeq(ddsMat)"
   ]
  },
  {
   "cell_type": "code",
   "execution_count": null,
   "metadata": {},
   "outputs": [],
   "source": [
    "#We can examine several contrasts in the resulting DESeq2 object\n",
    "resultsNames(dds)"
   ]
  },
  {
   "cell_type": "code",
   "execution_count": null,
   "metadata": {
    "collapsed": true
   },
   "outputs": [],
   "source": [
    "#Specify the contrasts we want to examine (we indicated these above)\n",
    "deseq_contrasts=list(c(\"Media\",\"YPD\",\"YPGE\"),\n",
    "                     c(\"Strain\",\"WT\",\"asf1\"),\n",
    "                     c(\"Strain\",\"WT\",\"rtt109\"),\n",
    "                     c(\"Strain\",\"asf1\",\"rtt109\"))\n",
    "contrast_names=c(\"Media_YPD_vs_YPGE\",\n",
    "        \"Strain_WT_vs_asf1\",\n",
    "        \"Strain_WT_vs_rtt109\",\n",
    "        \"Strain_asf1_vs_rtt109\")\n",
    "\n"
   ]
  },
  {
   "cell_type": "code",
   "execution_count": null,
   "metadata": {},
   "outputs": [],
   "source": [
    "#Query the DESeq2 results to find differential peaks for each contrast, using our padjust_thresh and lfc_thresh values.\n",
    "for(contrast_index in seq(1,4))\n",
    "{\n",
    "        comparison_name=unlist(contrast_names[contrast_index])    \n",
    "        print(comparison_name)\n",
    "        ds=results(dds,\n",
    "           contrast=unlist(deseq_contrasts[contrast_index]))\n",
    "       \n",
    "        #write  entries for all peaks\n",
    "        write.table(ds,file=paste(comparison_name,\".txt\",sep=\"\"),quote=FALSE,row.names=TRUE,col.names=TRUE,sep='\\t')\n",
    "    \n",
    "        #subset the peak set to just the differential peaks \n",
    "        ds=na.omit(ds)\n",
    "        sig=ds[ds$padj<padjust_thresh,] \n",
    "    \n",
    "        #find positive log fold change peaks \n",
    "        positive_sig=sig[sig$log2FoldChange > 0,]\n",
    "    \n",
    "        #find negative log fold change peaks \n",
    "        negative_sig=sig[sig$log2FoldChange <0,]\n",
    "    \n",
    "        write.table(positive_sig,\n",
    "                    file=paste(comparison_name,\".differential.positive.txt\",sep=\"\"),\n",
    "                    quote=FALSE,row.names=FALSE,col.names=FALSE,sep='\\t')\n",
    "        write.table(negative_sig,\n",
    "                    file=paste(comparison_name,\".differential.negative.txt\",sep=\"\"),\n",
    "                    quote=FALSE,row.names=FALSE,col.names=FALSE,sep='\\t')\n",
    "}\n"
   ]
  },
  {
   "cell_type": "markdown",
   "metadata": {},
   "source": [
    "This code will generate 4 sets of files: \n",
    "\n",
    "* Media_YPD_vs_YPGE.txt  \n",
    "* Media_YPD_vs_YPGE.differential.positive.txt  \n",
    "* Media_YPD_vs_YPGE.differential.negative.txt  \n",
    "\n",
    "\n",
    "* Strain_WT_vs_asf1.txt  \n",
    "* Strain_WT_vs_asdf1.differential.positive.txt\n",
    "* Strain_WT_vs_asdf1.differential.negative.txt\n",
    "\n",
    "\n",
    "* Strain_WT_vs_rtt109.txt  \n",
    "* Strain_WT_vs_rtt109.differential.positive.txt  \n",
    "* Strain_WT_vs_rtt109.differential.negative.txt  \n",
    "\n",
    "\n",
    "* Strain_asf1_vs_rtt109.txt\n",
    "* Strain_asf1_vs_rtt109.differential.positive.txt\n",
    "* Strain_asf1_vs_rtt109.differential.negative.txt\n",
    "\n",
    "The first is the raw output from DESeq for all peaks. We will not have time to discuss everything in this file, but feel free to read the DESeq manual and see if you can understand it. The second,  contains a list of the IDs of the differentially open peaks from ATAC‐seq. The p‐value cutoff for differential openness that we use is 0.01. "
   ]
  },
  {
   "cell_type": "markdown",
   "metadata": {},
   "source": [
    "### Running limma ###"
   ]
  },
  {
   "cell_type": "markdown",
   "metadata": {},
   "source": [
    "If you recall, we used the R limma package to remove the \"Researcher\" batch effect in our data. Limma can also be used for differential peak calling. Limma uses a similar algorithm to DESeq2. We will go through the process of calling differential peaks with limma and see how the peak rankings differ between limma and DESeq2 -- it's always best to sanity check your results by running them through several similar analysis algorithms. "
   ]
  },
  {
   "cell_type": "code",
   "execution_count": 6,
   "metadata": {},
   "outputs": [
    {
     "name": "stderr",
     "output_type": "stream",
     "text": [
      "\n",
      "Attaching package: ‘limma’\n",
      "\n",
      "The following object is masked from ‘package:DESeq2’:\n",
      "\n",
      "    plotMA\n",
      "\n",
      "The following object is masked from ‘package:BiocGenerics’:\n",
      "\n",
      "    plotMA\n",
      "\n"
     ]
    },
    {
     "ename": "ERROR",
     "evalue": "Error in as.data.frame.default(data, optional = TRUE): cannot coerce class ‘structure(\"standardGeneric\", package = \"methods\")’ to a data.frame\n",
     "output_type": "error",
     "traceback": [
      "Error in as.data.frame.default(data, optional = TRUE): cannot coerce class ‘structure(\"standardGeneric\", package = \"methods\")’ to a data.frame\nTraceback:\n",
      "1. model.matrix(~0 + Strain + Media + Researcher, data = metadata)",
      "2. model.matrix.default(~0 + Strain + Media + Researcher, data = metadata)",
      "3. terms(object, data = data)",
      "4. terms.formula(object, data = data)",
      "5. as.data.frame(data, optional = TRUE)",
      "6. as.data.frame.default(data, optional = TRUE)",
      "7. stop(gettextf(\"cannot coerce class %s to a data.frame\", sQuote(deparse(class(x))[1L])), \n .     domain = NA)"
     ]
    }
   ],
   "source": [
    "#import the limma library \n",
    "\n",
    "library(limma)\n",
    "#design the model \n",
    "design=model.matrix(~0+Strain+Media+Researcher,data=metadata)\n",
    "\n",
    "#We use the \"voom\" function associated with the limma package to normalize the count data \n",
    "vm=voom(count_data,design)\n",
    "\n",
    "#fit the model to the data \n",
    "fit=lmFit(vm,design=vm$design)\n",
    "\n",
    "\n",
    "#We'll examine the media contrast \n",
    "cont.matrix=makeContrasts(media=\"MediaYPGE\",levels=fit)\n",
    "media_model=eBayes(contrasts.fit(fit,cont.matrix))\n",
    "res_limma=topTable(media_model,n=nrow(count_data))\n",
    "head(res_limma)"
   ]
  },
  {
   "cell_type": "markdown",
   "metadata": {},
   "source": [
    "### Comparing DESeq2 and limma voom outputs ### "
   ]
  },
  {
   "cell_type": "code",
   "execution_count": null,
   "metadata": {},
   "outputs": [],
   "source": [
    "#Let's extract the media comparison from DESeq2\n",
    "res_deseq2=results(dds,\n",
    "           contrast=unlist(deseq_contrasts[1]))\n",
    "res_deseq2=as.data.frame(res_deseq2)\n"
   ]
  },
  {
   "cell_type": "code",
   "execution_count": null,
   "metadata": {},
   "outputs": [],
   "source": [
    "#We need to merge the two result dataframes by peak name So that we can generate a scatterplot of\n",
    "#padj in one vs the other \n",
    "res_limma$peak=rownames(res_limma)\n",
    "res_deseq2$peak=rownames(res_deseq2)\n",
    "nrow(res_limma)\n",
    "nrow(res_deseq2)"
   ]
  },
  {
   "cell_type": "code",
   "execution_count": null,
   "metadata": {},
   "outputs": [],
   "source": [
    "merged_df=merge(res_limma,res_deseq2,by=\"peak\")\n",
    "merged_df$limma_padj=-10*log10(merged_df$padj)\n",
    "merged_df$deseq2_padj=-10*log10(merged_df$adj.P.Val)\n",
    "\n"
   ]
  },
  {
   "cell_type": "code",
   "execution_count": null,
   "metadata": {},
   "outputs": [],
   "source": [
    "head(merged_df)"
   ]
  },
  {
   "cell_type": "code",
   "execution_count": null,
   "metadata": {},
   "outputs": [],
   "source": [
    "library(ggplot2)\n",
    "ggplot(merged_df,aes(x=deseq2_padj,y=limma_padj))+\n",
    "    geom_point(alpha=0.1)+\n",
    "    xlim(0,400)+\n",
    "    ylim(0,400)"
   ]
  },
  {
   "cell_type": "markdown",
   "metadata": {},
   "source": [
    "The p-values appear to be pretty correlated. Let's make sure by computing the spearman and pearson correlations: "
   ]
  },
  {
   "cell_type": "code",
   "execution_count": null,
   "metadata": {},
   "outputs": [],
   "source": [
    "spearman_cor=cor(merged_df$limma_padj,merged_df$deseq2_padj,method=\"spearman\")\n",
    "spearman_cor"
   ]
  },
  {
   "cell_type": "code",
   "execution_count": null,
   "metadata": {},
   "outputs": [],
   "source": [
    "pearson_cor=cor(merged_df$limma_padj,merged_df$deseq2_padj,method=\"pearson\")\n",
    "pearson_cor"
   ]
  },
  {
   "cell_type": "markdown",
   "metadata": {},
   "source": [
    "Excellent, the correlations are near 90%. "
   ]
  },
  {
   "cell_type": "markdown",
   "metadata": {},
   "source": [
    "Finally, we plot the rank comparison of the p-values across the two methods. "
   ]
  },
  {
   "cell_type": "code",
   "execution_count": null,
   "metadata": {},
   "outputs": [],
   "source": [
    "#use the \"rank\" function to generate rank columns for the p-values \n",
    "merged_df$limma_padj_rank=rank(merged_df$limma_padj)\n",
    "merged_df$deseq2_padj_rank=rank(merged_df$deseq2_padj)\n",
    "\n",
    "ggplot(merged_df,aes(x=deseq2_padj_rank,y=limma_padj_rank))+\n",
    "    geom_point(alpha=0.1)"
   ]
  }
 ],
 "metadata": {
  "kernelspec": {
   "display_name": "R",
   "language": "R",
   "name": "ir"
  },
  "language_info": {
   "codemirror_mode": "r",
   "file_extension": ".r",
   "mimetype": "text/x-r-source",
   "name": "R",
   "pygments_lexer": "r",
   "version": "3.6.1"
  }
 },
 "nbformat": 4,
 "nbformat_minor": 1
}
