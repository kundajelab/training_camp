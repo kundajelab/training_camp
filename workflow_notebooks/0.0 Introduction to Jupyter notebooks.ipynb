{
 "cells": [
  {
   "cell_type": "markdown",
   "metadata": {},
   "source": [
    "# Introduction to Jupyter notebooks #\n"
   ]
  },
  {
   "cell_type": "markdown",
   "metadata": {},
   "source": [
    "The Jupyter notebook is an interactive computational environment, in which you can combine code execution, rich text, mathematics, plots and rich media. For more details on the Jupyter Notebook, please see the [Jupyter](http://jupyter.org/) website."
   ]
  },
  {
   "cell_type": "markdown",
   "metadata": {},
   "source": [
    "A Jupyter notebook (like this one) is a web-based interface allows you to execute commands in each input cell. You can also save an entire session as a document in a file with the .ipynb extension.\n",
    "\n",
    "The type of commands that are supported is determined by the **kernel** of the notebook. In these tutorials, we will be using the **bash** and **R** kernels. **Bash** is a way to interact with the operating system and do basic things like create directories, create files, etc. **R** is a programming language that we will use to run various statistical analyses of the data. \n",
    "\n",
    "You can always change the kernel that is used to load a notebook by clicking on **Kernel** -> **Change Kernel** in the menu at the top of the notebook. \n",
    "\n",
    "Note: This notebook is designed to be run with the **bash** kernel. We will tell you which kernel to use for each notebook in the tutorial at the top of the notebook with the message: ```IMPORTANT: Please make sure that your are using the bash kernel to run this notebook.```\n"
   ]
  },
  {
   "cell_type": "markdown",
   "metadata": {},
   "source": [
    "## Cells##"
   ]
  },
  {
   "cell_type": "markdown",
   "metadata": {},
   "source": [
    "* Text cells can be written using [Markdown syntax](http://markdown-guide.readthedocs.io/en/latest/basics.html) (Click on Cell -> Cell Type -> Markdown)\n",
    "* Code cells take code input (i.e. bash or R commands) "
   ]
  },
  {
   "cell_type": "markdown",
   "metadata": {},
   "source": [
    "In order to execute a cell, you must use **Shift-Enter**, as pressing Enter will add a new line of text to the cell. When you type  **Shift-Enter**, the cell content is executed, output displayed and a new cell is created below. Try it now by putting your cursor on the next cell and typing **Shift-Enter**:"
   ]
  },
  {
   "cell_type": "code",
   "execution_count": 1,
   "metadata": {},
   "outputs": [
    {
     "name": "stdout",
     "output_type": "stream",
     "text": [
      "Hello World\n"
     ]
    }
   ],
   "source": [
    "echo \"Hello World\""
   ]
  },
  {
   "cell_type": "markdown",
   "metadata": {},
   "source": [
    "You can re-execute the same cell over and over as many times as you want. Simply put your cursor in the cell again, edit at will, and type Shift-Enter to execute."
   ]
  },
  {
   "cell_type": "markdown",
   "metadata": {},
   "source": [
    "Tip: A cell can also be executed in-place, where Jupyter executes its content but leaves the cursor in the same cell. This is done by typing Ctrl-Enter instead, and is useful if you want to quickly run a command to check something before tping the real content you want to leave in the cell. For example, in the next cell, try issuing several system commands in-place with Ctrl-Enter, such as pwd (the command that lists the current directory) and then ls (a command that gives you the contents of your current directory):"
   ]
  },
  {
   "cell_type": "code",
   "execution_count": 2,
   "metadata": {},
   "outputs": [
    {
     "name": "stdout",
     "output_type": "stream",
     "text": [
      "abalsubr  annashch  courtrun  jarhodes\tmanyu\t  mihayes   srstern  zahoor\n",
      "ajberg5   annlin    cvduffy   lstrand\tmarinovg  sierrasb  subkc\n",
      "akundaje  clin5     genegra2  makena\tmiao01\t  soumyak   surag\n"
     ]
    }
   ],
   "source": [
    "ls .."
   ]
  },
  {
   "cell_type": "markdown",
   "metadata": {},
   "source": [
    "In a cell, you can type anything from a single expression to an arbitrarily long amount of code (although for reasons of readability, you should probably limit this to a few dozen lines). Below is an example of code that prints the numbers between 0 and 10. Don't worry if you don't fully understand the syntax; the main thing to note is that you can execute multiple code lines in the same cell. "
   ]
  },
  {
   "cell_type": "code",
   "execution_count": 3,
   "metadata": {},
   "outputs": [
    {
     "name": "stdout",
     "output_type": "stream",
     "text": [
      "The counter is 0\n",
      "The counter is 1\n",
      "The counter is 2\n",
      "The counter is 3\n",
      "The counter is 4\n",
      "The counter is 5\n",
      "The counter is 6\n",
      "The counter is 7\n",
      "The counter is 8\n",
      "The counter is 9\n"
     ]
    }
   ],
   "source": [
    "COUNTER=0\n",
    "while [  $COUNTER -lt 10 ]; do\n",
    "    echo The counter is $COUNTER\n",
    "    let COUNTER=COUNTER+1 \n",
    "done\n",
    "         "
   ]
  },
  {
   "cell_type": "markdown",
   "metadata": {},
   "source": [
    "## User interface ##"
   ]
  },
  {
   "cell_type": "markdown",
   "metadata": {
    "collapsed": true
   },
   "source": [
    "Click on **Control Panel** in the top-left corner of this screen. Then click on **My Server**. This will bring you to the dashboard. \n",
    "\n",
    "From the dashboard, you can do one of several things: \n",
    "\n",
    "* Navigate the file system \n",
    "\n",
    "* Create a new notebook \n",
    "\n",
    "* Open a terminal instance\n",
    "\n",
    "![alt text](https://github.com/kundajelab/training_camp/blob/tc2019/images/dashboard.png?raw=true \"Dashboard\")"
   ]
  },
  {
   "cell_type": "markdown",
   "metadata": {},
   "source": [
    "## Restarting or Interrupting a Kernel ##"
   ]
  },
  {
   "cell_type": "markdown",
   "metadata": {},
   "source": [
    "Sometimes, you may find that a command runs longer than you expected, or you generally need to interrupt a cell. \n",
    "You can do this by hitting the black square button (\"interrupt kernel\") at the top of this page. You can also restart a kernel completely, but this will clear outputs from any cells that you have already executed."
   ]
  }
 ],
 "metadata": {
  "kernelspec": {
   "display_name": "Bash",
   "language": "bash",
   "name": "bash"
  },
  "language_info": {
   "codemirror_mode": "shell",
   "file_extension": ".sh",
   "mimetype": "text/x-sh",
   "name": "bash"
  }
 },
 "nbformat": 4,
 "nbformat_minor": 1
}
