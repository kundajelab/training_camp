{
 "cells": [
  {
   "cell_type": "markdown",
   "metadata": {},
   "source": [
    "# 3.2  Clustering analysis and PCA  (on normalized count matrix) #"
   ]
  },
  {
   "cell_type": "markdown",
   "metadata": {},
   "source": [
    "### IMPORTANT: Please make sure that you are using the R kernel to run this notebook.###\n",
    "We are now switching from the bash kernel to the R kernel. \n",
    "The R language provides a number of utilities for genomic data analysis and visualization. We will explore some of these. "
   ]
  },
  {
   "cell_type": "code",
   "execution_count": 1,
   "metadata": {},
   "outputs": [],
   "source": [
    "#The preprocessCore library provides a number of functions useful for statistical analysis,\n",
    "#including functions for data normalization that we will use below. \n",
    "library(\"preprocessCore\")"
   ]
  },
  {
   "cell_type": "code",
   "execution_count": 2,
   "metadata": {},
   "outputs": [
    {
     "data": {
      "text/html": [
       "<ol class=list-inline>\n",
       "\t<li>'all_merged.peaks.bed'</li>\n",
       "\t<li>'all.fc.bigwig'</li>\n",
       "\t<li>'all.fc.txt'</li>\n",
       "\t<li>'all.peaks.bed'</li>\n",
       "\t<li>'all.peaks.sorted.bed'</li>\n",
       "\t<li>'all.readcount.txt'</li>\n",
       "\t<li>'all.tagAlign.files.txt'</li>\n",
       "\t<li>'data'</li>\n",
       "\t<li>'hrosenbl_asf1_YPD_1_out'</li>\n",
       "\t<li>'narrowPeak_files.txt'</li>\n",
       "\t<li>'pgoddard_rtt109_YPD_1_out'</li>\n",
       "\t<li>'src'</li>\n",
       "\t<li>'tmp'</li>\n",
       "\t<li>'WT-SCD-0_6MNaCl-Rep1_out'</li>\n",
       "\t<li>'WT-SCD-0_6MNaCl-Rep2_out'</li>\n",
       "</ol>\n"
      ],
      "text/latex": [
       "\\begin{enumerate*}\n",
       "\\item 'all\\_merged.peaks.bed'\n",
       "\\item 'all.fc.bigwig'\n",
       "\\item 'all.fc.txt'\n",
       "\\item 'all.peaks.bed'\n",
       "\\item 'all.peaks.sorted.bed'\n",
       "\\item 'all.readcount.txt'\n",
       "\\item 'all.tagAlign.files.txt'\n",
       "\\item 'data'\n",
       "\\item 'hrosenbl\\_asf1\\_YPD\\_1\\_out'\n",
       "\\item 'narrowPeak\\_files.txt'\n",
       "\\item 'pgoddard\\_rtt109\\_YPD\\_1\\_out'\n",
       "\\item 'src'\n",
       "\\item 'tmp'\n",
       "\\item 'WT-SCD-0\\_6MNaCl-Rep1\\_out'\n",
       "\\item 'WT-SCD-0\\_6MNaCl-Rep2\\_out'\n",
       "\\end{enumerate*}\n"
      ],
      "text/markdown": [
       "1. 'all_merged.peaks.bed'\n",
       "2. 'all.fc.bigwig'\n",
       "3. 'all.fc.txt'\n",
       "4. 'all.peaks.bed'\n",
       "5. 'all.peaks.sorted.bed'\n",
       "6. 'all.readcount.txt'\n",
       "7. 'all.tagAlign.files.txt'\n",
       "8. 'data'\n",
       "9. 'hrosenbl_asf1_YPD_1_out'\n",
       "10. 'narrowPeak_files.txt'\n",
       "11. 'pgoddard_rtt109_YPD_1_out'\n",
       "12. 'src'\n",
       "13. 'tmp'\n",
       "14. 'WT-SCD-0_6MNaCl-Rep1_out'\n",
       "15. 'WT-SCD-0_6MNaCl-Rep2_out'\n",
       "\n",
       "\n"
      ],
      "text/plain": [
       " [1] \"all_merged.peaks.bed\"      \"all.fc.bigwig\"            \n",
       " [3] \"all.fc.txt\"                \"all.peaks.bed\"            \n",
       " [5] \"all.peaks.sorted.bed\"      \"all.readcount.txt\"        \n",
       " [7] \"all.tagAlign.files.txt\"    \"data\"                     \n",
       " [9] \"hrosenbl_asf1_YPD_1_out\"   \"narrowPeak_files.txt\"     \n",
       "[11] \"pgoddard_rtt109_YPD_1_out\" \"src\"                      \n",
       "[13] \"tmp\"                       \"WT-SCD-0_6MNaCl-Rep1_out\" \n",
       "[15] \"WT-SCD-0_6MNaCl-Rep2_out\" "
      ]
     },
     "metadata": {},
     "output_type": "display_data"
    }
   ],
   "source": [
    "#Change to your $WORK_DIR. The syntax for switching directories in R is a little different than what we used in bash. \n",
    "#Use the \"setwd\" command to switch to your $WORK_DIR \n",
    "sunetid=\"ubuntu\"\n",
    "work_dir=paste(\"/scratch/\",sunetid,sep=\"\")\n",
    "setwd(work_dir)\n",
    "#The \"dir\" command will list all files in your current working directory \n",
    "dir()"
   ]
  },
  {
   "cell_type": "markdown",
   "metadata": {},
   "source": [
    "In this tutorial we will focus on the clustering and PCA analysis steps of the pipeline: \n",
    "![Analysis pipeline](images/part3.png)"
   ]
  },
  {
   "cell_type": "code",
   "execution_count": 3,
   "metadata": {},
   "outputs": [
    {
     "data": {
      "text/html": [
       "<table>\n",
       "<thead><tr><th></th><th scope=col>ambenj_asf1_YPD_2</th><th scope=col>ambenj_rtt109_YPGE_2</th><th scope=col>dmaghini_asf1_YPD_5</th><th scope=col>dmaghini_WT_YPD_5</th><th scope=col>egreenwa_asf1_YPD_6</th><th scope=col>egreenwa_rtt109_YPD_5</th><th scope=col>gamador_rtt109_YPGE_6</th><th scope=col>gamador_WT_YPGE_6</th><th scope=col>hrosenbl_WT_YPGE_1</th><th scope=col>jarod_asf1_YPGE_5</th><th scope=col>⋯</th><th scope=col>yiuwong_rtt109_YPGE_1</th><th scope=col>yiuwong_WT_YPD_1</th><th scope=col>YPD_asf1_rep1</th><th scope=col>YPD_rtt109_rep1</th><th scope=col>YPD_rtt109_rep2</th><th scope=col>YPD_WT_rep1</th><th scope=col>YPD_WT_rep2</th><th scope=col>YPGE_asf1_rep1</th><th scope=col>YPGE_asf1_rep2</th><th scope=col>YPGE_WT_rep1</th></tr></thead>\n",
       "<tbody>\n",
       "\t<tr><th scope=row>chrI\t0\t857</th><td>  36</td><td>  25</td><td>  21</td><td>  35</td><td> 14 </td><td> 11 </td><td>  58</td><td>  18</td><td>  50</td><td>  33</td><td>⋯   </td><td>  57</td><td>  88</td><td>  3 </td><td>  1 </td><td>  7 </td><td>  3 </td><td>  3 </td><td>  4 </td><td>  3 </td><td>  4 </td></tr>\n",
       "\t<tr><th scope=row>chrI\t2415\t2586</th><td>1354</td><td>2882</td><td>1503</td><td>2884</td><td>560 </td><td>354 </td><td>2873</td><td>1347</td><td>4899</td><td>2759</td><td>⋯   </td><td>4071</td><td>5241</td><td>136 </td><td>108 </td><td>160 </td><td>111 </td><td>212 </td><td>139 </td><td>162 </td><td>220 </td></tr>\n",
       "\t<tr><th scope=row>chrI\t6315\t6556</th><td> 217</td><td> 222</td><td> 155</td><td> 350</td><td> 70 </td><td> 48 </td><td> 258</td><td>  88</td><td> 252</td><td> 209</td><td>⋯   </td><td> 307</td><td> 785</td><td> 15 </td><td> 10 </td><td> 19 </td><td> 14 </td><td> 30 </td><td> 18 </td><td> 26 </td><td> 33 </td></tr>\n",
       "\t<tr><th scope=row>chrI\t14706\t14936</th><td> 329</td><td> 306</td><td> 183</td><td> 451</td><td>142 </td><td> 57 </td><td> 433</td><td>  97</td><td> 504</td><td> 378</td><td>⋯   </td><td> 633</td><td> 655</td><td> 30 </td><td> 26 </td><td> 26 </td><td> 22 </td><td> 30 </td><td> 41 </td><td> 29 </td><td> 43 </td></tr>\n",
       "\t<tr><th scope=row>chrI\t20592\t21210</th><td> 319</td><td> 839</td><td> 197</td><td> 660</td><td>133 </td><td>154 </td><td> 823</td><td> 392</td><td> 946</td><td> 685</td><td>⋯   </td><td> 831</td><td>1503</td><td> 26 </td><td> 17 </td><td> 28 </td><td> 28 </td><td> 40 </td><td> 13 </td><td> 25 </td><td> 48 </td></tr>\n",
       "\t<tr><th scope=row>chrI\t28570\t28931</th><td>   4</td><td>  36</td><td>   7</td><td>  21</td><td>  5 </td><td>  1 </td><td>  36</td><td>  20</td><td>  38</td><td>  24</td><td>⋯   </td><td>  50</td><td>  30</td><td>  2 </td><td>  0 </td><td>  2 </td><td>  1 </td><td>  1 </td><td>  0 </td><td>  1 </td><td>  2 </td></tr>\n",
       "</tbody>\n",
       "</table>\n"
      ],
      "text/latex": [
       "\\begin{tabular}{r|lllllllllllllllllllllllllllllllllll}\n",
       "  & ambenj\\_asf1\\_YPD\\_2 & ambenj\\_rtt109\\_YPGE\\_2 & dmaghini\\_asf1\\_YPD\\_5 & dmaghini\\_WT\\_YPD\\_5 & egreenwa\\_asf1\\_YPD\\_6 & egreenwa\\_rtt109\\_YPD\\_5 & gamador\\_rtt109\\_YPGE\\_6 & gamador\\_WT\\_YPGE\\_6 & hrosenbl\\_WT\\_YPGE\\_1 & jarod\\_asf1\\_YPGE\\_5 & ⋯ & yiuwong\\_rtt109\\_YPGE\\_1 & yiuwong\\_WT\\_YPD\\_1 & YPD\\_asf1\\_rep1 & YPD\\_rtt109\\_rep1 & YPD\\_rtt109\\_rep2 & YPD\\_WT\\_rep1 & YPD\\_WT\\_rep2 & YPGE\\_asf1\\_rep1 & YPGE\\_asf1\\_rep2 & YPGE\\_WT\\_rep1\\\\\n",
       "\\hline\n",
       "\tchrI\t0\t857 &   36 &   25 &   21 &   35 &  14  &  11  &   58 &   18 &   50 &   33 & ⋯    &   57 &   88 &   3  &   1  &   7  &   3  &   3  &   4  &   3  &   4 \\\\\n",
       "\tchrI\t2415\t2586 & 1354 & 2882 & 1503 & 2884 & 560  & 354  & 2873 & 1347 & 4899 & 2759 & ⋯    & 4071 & 5241 & 136  & 108  & 160  & 111  & 212  & 139  & 162  & 220 \\\\\n",
       "\tchrI\t6315\t6556 &  217 &  222 &  155 &  350 &  70  &  48  &  258 &   88 &  252 &  209 & ⋯    &  307 &  785 &  15  &  10  &  19  &  14  &  30  &  18  &  26  &  33 \\\\\n",
       "\tchrI\t14706\t14936 &  329 &  306 &  183 &  451 & 142  &  57  &  433 &   97 &  504 &  378 & ⋯    &  633 &  655 &  30  &  26  &  26  &  22  &  30  &  41  &  29  &  43 \\\\\n",
       "\tchrI\t20592\t21210 &  319 &  839 &  197 &  660 & 133  & 154  &  823 &  392 &  946 &  685 & ⋯    &  831 & 1503 &  26  &  17  &  28  &  28  &  40  &  13  &  25  &  48 \\\\\n",
       "\tchrI\t28570\t28931 &    4 &   36 &    7 &   21 &   5  &   1  &   36 &   20 &   38 &   24 & ⋯    &   50 &   30 &   2  &   0  &   2  &   1  &   1  &   0  &   1  &   2 \\\\\n",
       "\\end{tabular}\n"
      ],
      "text/markdown": [
       "\n",
       "| <!--/--> | ambenj_asf1_YPD_2 | ambenj_rtt109_YPGE_2 | dmaghini_asf1_YPD_5 | dmaghini_WT_YPD_5 | egreenwa_asf1_YPD_6 | egreenwa_rtt109_YPD_5 | gamador_rtt109_YPGE_6 | gamador_WT_YPGE_6 | hrosenbl_WT_YPGE_1 | jarod_asf1_YPGE_5 | ⋯ | yiuwong_rtt109_YPGE_1 | yiuwong_WT_YPD_1 | YPD_asf1_rep1 | YPD_rtt109_rep1 | YPD_rtt109_rep2 | YPD_WT_rep1 | YPD_WT_rep2 | YPGE_asf1_rep1 | YPGE_asf1_rep2 | YPGE_WT_rep1 | \n",
       "|---|---|---|---|---|---|\n",
       "| chrI\t0\t857 |   36 |   25 |   21 |   35 |  14  |  11  |   58 |   18 |   50 |   33 | ⋯    |   57 |   88 |   3  |   1  |   7  |   3  |   3  |   4  |   3  |   4  | \n",
       "| chrI\t2415\t2586 | 1354 | 2882 | 1503 | 2884 | 560  | 354  | 2873 | 1347 | 4899 | 2759 | ⋯    | 4071 | 5241 | 136  | 108  | 160  | 111  | 212  | 139  | 162  | 220  | \n",
       "| chrI\t6315\t6556 |  217 |  222 |  155 |  350 |  70  |  48  |  258 |   88 |  252 |  209 | ⋯    |  307 |  785 |  15  |  10  |  19  |  14  |  30  |  18  |  26  |  33  | \n",
       "| chrI\t14706\t14936 |  329 |  306 |  183 |  451 | 142  |  57  |  433 |   97 |  504 |  378 | ⋯    |  633 |  655 |  30  |  26  |  26  |  22  |  30  |  41  |  29  |  43  | \n",
       "| chrI\t20592\t21210 |  319 |  839 |  197 |  660 | 133  | 154  |  823 |  392 |  946 |  685 | ⋯    |  831 | 1503 |  26  |  17  |  28  |  28  |  40  |  13  |  25  |  48  | \n",
       "| chrI\t28570\t28931 |    4 |   36 |    7 |   21 |   5  |   1  |   36 |   20 |   38 |   24 | ⋯    |   50 |   30 |   2  |   0  |   2  |   1  |   1  |   0  |   1  |   2  | \n",
       "\n",
       "\n"
      ],
      "text/plain": [
       "                   ambenj_asf1_YPD_2 ambenj_rtt109_YPGE_2 dmaghini_asf1_YPD_5\n",
       "chrI\\t0\\t857         36                25                   21               \n",
       "chrI\\t2415\\t2586   1354              2882                 1503               \n",
       "chrI\\t6315\\t6556    217               222                  155               \n",
       "chrI\\t14706\\t14936  329               306                  183               \n",
       "chrI\\t20592\\t21210  319               839                  197               \n",
       "chrI\\t28570\\t28931    4                36                    7               \n",
       "                   dmaghini_WT_YPD_5 egreenwa_asf1_YPD_6 egreenwa_rtt109_YPD_5\n",
       "chrI\\t0\\t857         35               14                  11                  \n",
       "chrI\\t2415\\t2586   2884              560                 354                  \n",
       "chrI\\t6315\\t6556    350               70                  48                  \n",
       "chrI\\t14706\\t14936  451              142                  57                  \n",
       "chrI\\t20592\\t21210  660              133                 154                  \n",
       "chrI\\t28570\\t28931   21                5                   1                  \n",
       "                   gamador_rtt109_YPGE_6 gamador_WT_YPGE_6 hrosenbl_WT_YPGE_1\n",
       "chrI\\t0\\t857         58                    18                50              \n",
       "chrI\\t2415\\t2586   2873                  1347              4899              \n",
       "chrI\\t6315\\t6556    258                    88               252              \n",
       "chrI\\t14706\\t14936  433                    97               504              \n",
       "chrI\\t20592\\t21210  823                   392               946              \n",
       "chrI\\t28570\\t28931   36                    20                38              \n",
       "                   jarod_asf1_YPGE_5 ⋯ yiuwong_rtt109_YPGE_1 yiuwong_WT_YPD_1\n",
       "chrI\\t0\\t857         33              ⋯   57                    88            \n",
       "chrI\\t2415\\t2586   2759              ⋯ 4071                  5241            \n",
       "chrI\\t6315\\t6556    209              ⋯  307                   785            \n",
       "chrI\\t14706\\t14936  378              ⋯  633                   655            \n",
       "chrI\\t20592\\t21210  685              ⋯  831                  1503            \n",
       "chrI\\t28570\\t28931   24              ⋯   50                    30            \n",
       "                   YPD_asf1_rep1 YPD_rtt109_rep1 YPD_rtt109_rep2 YPD_WT_rep1\n",
       "chrI\\t0\\t857         3             1               7               3        \n",
       "chrI\\t2415\\t2586   136           108             160             111        \n",
       "chrI\\t6315\\t6556    15            10              19              14        \n",
       "chrI\\t14706\\t14936  30            26              26              22        \n",
       "chrI\\t20592\\t21210  26            17              28              28        \n",
       "chrI\\t28570\\t28931   2             0               2               1        \n",
       "                   YPD_WT_rep2 YPGE_asf1_rep1 YPGE_asf1_rep2 YPGE_WT_rep1\n",
       "chrI\\t0\\t857         3           4              3              4         \n",
       "chrI\\t2415\\t2586   212         139            162            220         \n",
       "chrI\\t6315\\t6556    30          18             26             33         \n",
       "chrI\\t14706\\t14936  30          41             29             43         \n",
       "chrI\\t20592\\t21210  40          13             25             48         \n",
       "chrI\\t28570\\t28931   1           0              1              2         "
      ]
     },
     "metadata": {},
     "output_type": "display_data"
    }
   ],
   "source": [
    "#load the count signal matrix\n",
    "count_data=read.table(\"all.readcount.txt\",header=TRUE)\n",
    "rownames(count_data)=paste(count_data$Chrom,count_data$Start,count_data$End,sep='\\t')\n",
    "#remove the columns we will not use in downstream analysis\n",
    "count_data$ID=NULL\n",
    "count_data$Chrom=NULL\n",
    "count_data$Start=NULL\n",
    "count_data$End=NULL\n",
    "\n",
    "head(count_data)"
   ]
  },
  {
   "cell_type": "code",
   "execution_count": null,
   "metadata": {},
   "outputs": [],
   "source": [
    "#normalize the data \n",
    "#quantile normalization \n",
    "norm_asinh_count=normalize.quantiles(data.matrix(asinh(count_data)))"
   ]
  },
  {
   "cell_type": "code",
   "execution_count": null,
   "metadata": {},
   "outputs": [],
   "source": [
    "colnames(norm_asinh_count)=names(count_data)\n",
    "rownames(norm_asinh_count)=rownames(count_data)"
   ]
  },
  {
   "cell_type": "code",
   "execution_count": null,
   "metadata": {},
   "outputs": [],
   "source": [
    "head(norm_asinh_count)"
   ]
  },
  {
   "cell_type": "markdown",
   "metadata": {},
   "source": [
    "Much better! After quantile normalization, the fold change values across samples are on the same scale. "
   ]
  },
  {
   "cell_type": "markdown",
   "metadata": {},
   "source": [
    "## PCA ##"
   ]
  },
  {
   "cell_type": "markdown",
   "metadata": {},
   "source": [
    "PCA (Principal Component Analysis) is a way to identify the primary directions of variation in the data. It can also be used for very coarse-grained clustering of samples; similar samples will have similar coordinates along the principal axes.\n",
    "\n",
    "We will perform PCA on *all.count.txt*. We treat each sample as a single point in a very high dimensional space (where the dimensionality is equal to the number of genes the vary), and then we will perform dimensionality reduction in this space. We can color-code the PCA plots by \"Strain\", \"Media\", \"Researcher\", or \"Rep\" to determine which parameter separates the samples most effectively. "
   ]
  },
  {
   "cell_type": "code",
   "execution_count": null,
   "metadata": {
    "collapsed": true
   },
   "outputs": [],
   "source": [
    "#We run the principle component analysis command in R\n",
    "\n",
    "#The t() function transposes the data matrix and allows us to cluster the samples, as opposed to the individual peaks,\n",
    "#by placing the samples in the rows and the peaks in the columns. \n",
    "count.pca=prcomp(t(norm_asinh_count),center=TRUE,scale=FALSE)"
   ]
  },
  {
   "cell_type": "markdown",
   "metadata": {},
   "source": [
    "We generate a scree plot that shows how much variance in the data is explained by each prinicipal component:"
   ]
  },
  {
   "cell_type": "code",
   "execution_count": null,
   "metadata": {},
   "outputs": [],
   "source": [
    "var_explained=round(100*count.pca$sdev^2/sum(count.pca$sdev^2),2)\n",
    "print(var_explained)"
   ]
  },
  {
   "cell_type": "markdown",
   "metadata": {},
   "source": [
    "Let's generate a simple bar graph to better illustrate the variance explained by each PC.\n"
   ]
  },
  {
   "cell_type": "code",
   "execution_count": null,
   "metadata": {},
   "outputs": [],
   "source": [
    "barplot(var_explained)"
   ]
  },
  {
   "cell_type": "markdown",
   "metadata": {},
   "source": [
    "We can also plot the first few prinicpal components to see if they correlate with any of our experimental variables: \n",
    "\n",
    "    * Strain of yeast \n",
    "    * Media \n",
    "    \n",
    "We also expect replicates for the same sample to cluster closely together.\n",
    "\n",
    "Finally, we should make sure to check for any unintended batch effects in the data. For example, it's posssible that samples generated by one researcher may exhibit a systematic difference from samples generated by a different researcher. We should check for this bias and correct it if possible. \n",
    "\n",
    "\n",
    "    "
   ]
  },
  {
   "cell_type": "code",
   "execution_count": null,
   "metadata": {},
   "outputs": [],
   "source": [
    "#First, we load our metadata file into R to help us color samples by replicate, strain, media, and researcher. \n",
    "metadata=read.table(\"/metadata/TC2019_samples.tsv\",header=TRUE)\n",
    "#We use the \"factor\" function to tell R which variables are categorical rather than continuous \n",
    "metadata$Strain=factor(metadata$Strain)\n",
    "metadata$Media=factor(metadata$Media)\n",
    "metadata$Sample=factor(metadata$Sample)\n",
    "metadata$Researcher=factor(metadata$Researcher)\n",
    "head(metadata)"
   ]
  },
  {
   "cell_type": "code",
   "execution_count": null,
   "metadata": {},
   "outputs": [],
   "source": [
    "#extract the PC columns from the count.pca object \n",
    "pcs=data.frame(count.pca$x)\n"
   ]
  },
  {
   "cell_type": "code",
   "execution_count": null,
   "metadata": {},
   "outputs": [],
   "source": [
    "#add columns from the metadata file. Do this safely using the \"merge\" command to make sure the sample ID's \n",
    "#from the two data frames are aligned\n",
    "pcs$ID=rownames(pcs)\n",
    "pcs_annotated=merge(pcs,metadata,by=\"ID\")\n",
    "head(pcs_annotated)"
   ]
  },
  {
   "cell_type": "markdown",
   "metadata": {},
   "source": [
    "Now, we can use the ggplot package in R to generate scatterplots of PC1 vs PC2, PC2 vs PC3, etc and color-code\n",
    "by experimental variables. \n"
   ]
  },
  {
   "cell_type": "code",
   "execution_count": null,
   "metadata": {
    "collapsed": true
   },
   "outputs": [],
   "source": [
    "library(ggplot2)"
   ]
  },
  {
   "cell_type": "code",
   "execution_count": null,
   "metadata": {},
   "outputs": [],
   "source": [
    "#Plot pc1 vs pc2, color by Sample -- that is, all replicates for the same sample should be the same color. \n",
    "ggplot(data=pcs_annotated,aes(x=PC1,y=PC2,color=Sample))+\n",
    "geom_point()\n"
   ]
  },
  {
   "cell_type": "markdown",
   "metadata": {},
   "source": [
    "We should see replicates of the same sample clustering close together. Do we see this in the scatterplot above?"
   ]
  },
  {
   "cell_type": "markdown",
   "metadata": {},
   "source": [
    "### Correcting a sample swap ### "
   ]
  },
  {
   "cell_type": "code",
   "execution_count": null,
   "metadata": {},
   "outputs": [],
   "source": [
    "#Plot pc1 vs pc2, color by Media \n",
    "ggplot(data=pcs_annotated,aes(x=PC1,y=PC2,color=Media))+\n",
    "geom_point()"
   ]
  },
  {
   "cell_type": "markdown",
   "metadata": {},
   "source": [
    "We see that Principal component 1 (PC1) captures variation in the data due to media. \n",
    "But it appears that we have a sample swap! One pink sample clusters with the blue samples, and vice versa. \n",
    "\n",
    "Let's add labels to the PCA plot so we know which two samples are swapped. \n"
   ]
  },
  {
   "cell_type": "code",
   "execution_count": null,
   "metadata": {},
   "outputs": [],
   "source": [
    "ggplot(data=pcs_annotated,aes(x=PC1,y=PC2,color=Media,label=ID))+\n",
    "geom_point()+\n",
    "geom_text()"
   ]
  },
  {
   "cell_type": "markdown",
   "metadata": {},
   "source": [
    "\n",
    "We see that sample \"jkcheng_rtt109_YPGE_3\" clusters with the YPD samples, while sample \"jkcheng_WT_YPD_3\" clusters with the YPGE samples. That's ok, sample swaps happen, and luckily in this case it's eay to correct.  We simply swap the column labels in *count_data_matrix*\n",
    "\n"
   ]
  },
  {
   "cell_type": "code",
   "execution_count": null,
   "metadata": {},
   "outputs": [],
   "source": [
    "which(colnames(norm_asinh_count)=='jkcheng_rtt109_YPGE_3')"
   ]
  },
  {
   "cell_type": "code",
   "execution_count": null,
   "metadata": {},
   "outputs": [],
   "source": [
    "which(colnames(norm_asinh_count)=='jkcheng_WT_YPD_3')"
   ]
  },
  {
   "cell_type": "code",
   "execution_count": null,
   "metadata": {},
   "outputs": [],
   "source": [
    "colnames(norm_asinh_count)[c(12,13)] <- colnames(norm_asinh_count)[c(13,12)]\n",
    "#rerun the PCA\n",
    "count.pca=prcomp(t(norm_asinh_count),center=TRUE,scale=FALSE)\n",
    "pcs=data.frame(count.pca$x)\n",
    "pcs$ID=rownames(pcs)\n",
    "pcs_annotated=merge(pcs,metadata,by=\"ID\")\n",
    "#Plot pc1 vs pc2, color by Media \n",
    "ggplot(data=pcs_annotated,aes(x=PC1,y=PC2,color=Media))+\n",
    "geom_point()"
   ]
  },
  {
   "cell_type": "markdown",
   "metadata": {},
   "source": [
    "Much better! The samples from the same media groups now cluster together on the PCA. \n"
   ]
  },
  {
   "cell_type": "markdown",
   "metadata": {},
   "source": [
    "### Correcting for batch effects ###"
   ]
  },
  {
   "cell_type": "code",
   "execution_count": null,
   "metadata": {},
   "outputs": [],
   "source": [
    "#Plot pc1 vs pc2, color by Researcher -- here, we're checking for a batch effect based on researcher.\n",
    "ggplot(data=pcs_annotated,aes(x=PC1,y=PC2,color=Researcher))+\n",
    "geom_point()\n"
   ]
  },
  {
   "cell_type": "markdown",
   "metadata": {},
   "source": [
    "Yikes! We do seem to have a batch effect based on researcher -- PC2 captures this effect. Specifically, the pilot samples that we used to replace some of the samples that did not work have a systematic difference from the other samples. \n",
    "\n",
    "Luckily, there are steps we can take to remove this batch effect. We use the R **limma** package to fit a linear mixed effects model. The explanatory variables are Strain, Media, and Researcher. The output variable is the normalized fold change value in the data matrix. We then subtract out the contribution from \"Researcher\" (the confounding variable) to the output variable. "
   ]
  },
  {
   "cell_type": "code",
   "execution_count": null,
   "metadata": {},
   "outputs": [],
   "source": [
    "library(limma)"
   ]
  },
  {
   "cell_type": "code",
   "execution_count": null,
   "metadata": {},
   "outputs": [],
   "source": [
    "#make sure the row order of the metadata file matches the column order of the count_data_matrix file. \n",
    "rownames(metadata)=metadata$ID\n",
    "metadata=metadata[colnames(norm_asinh_count),]\n"
   ]
  },
  {
   "cell_type": "code",
   "execution_count": null,
   "metadata": {},
   "outputs": [],
   "source": [
    "#design the model using entries from our metadata file \n",
    "mod=model.matrix(~0+Strain+Media+Researcher,data=metadata)\n",
    "\n",
    "#fit the model to the data \n",
    "fit=lmFit(norm_asinh_count,design=mod)\n",
    "\n",
    "head(coefficients(fit))\n",
    "\n",
    "#We note that column 5 in the model captures the batch effect from the \"Researcher\" variable. We can remove the \n",
    "#contribution of this variable from the data: \n",
    "batch_contribution=coefficients(fit)[,5:18]%*% t(fit$design[,5:18])\n",
    "norm_asinh_count_corrected=norm_asinh_count-batch_contribution"
   ]
  },
  {
   "cell_type": "markdown",
   "metadata": {},
   "source": [
    "Let's re-run the PCA analysis on  count_data_matrix_corrected to make sure we're no longer observing a batch effect \n",
    "due to researcher.\n",
    "\n"
   ]
  },
  {
   "cell_type": "code",
   "execution_count": null,
   "metadata": {},
   "outputs": [],
   "source": [
    "count.pca.corrected=prcomp(t(norm_asinh_count_corrected),center=TRUE,scale=FALSE)\n",
    "var_explained=round(100*count.pca.corrected$sdev^2/sum(count.pca.corrected$sdev^2),2)\n",
    "barplot(var_explained)\n",
    "pcs.corrected=data.frame(count.pca.corrected$x)\n",
    "pcs.corrected$ID=rownames(pcs.corrected)\n",
    "pcs_annotated.corrected=merge(pcs.corrected,metadata,by=\"ID\")"
   ]
  },
  {
   "cell_type": "code",
   "execution_count": null,
   "metadata": {},
   "outputs": [],
   "source": [
    "ggplot(data=pcs_annotated.corrected,aes(x=PC1,y=PC2,color=Researcher))+\n",
    "geom_point()"
   ]
  },
  {
   "cell_type": "markdown",
   "metadata": {},
   "source": [
    "Excellent! We no longer see the pilot samples clustering together. Let's make sure that the samples still separate by media. "
   ]
  },
  {
   "cell_type": "code",
   "execution_count": null,
   "metadata": {},
   "outputs": [],
   "source": [
    "ggplot(data=pcs_annotated.corrected,aes(x=PC1,y=PC2,color=Media))+\n",
    "geom_point()"
   ]
  },
  {
   "cell_type": "markdown",
   "metadata": {},
   "source": [
    "Now, we also see a clear separation of the wild type (WT) strain along PC2: "
   ]
  },
  {
   "cell_type": "code",
   "execution_count": null,
   "metadata": {},
   "outputs": [],
   "source": [
    "ggplot(data=pcs_annotated.corrected,aes(x=PC1,y=PC2,color=Strain))+\n",
    "geom_point()"
   ]
  },
  {
   "cell_type": "markdown",
   "metadata": {},
   "source": [
    "**Exercise**: Is there a pair of PC's that appears to separate the asf1 and rtt109 samples? \n",
    "\n",
    "Hint: substitute X=PC1,PC2,PC3,PC4...  and  y=PC1,PC2,PC3,P4 ...  in various combinations and set color=Strain. "
   ]
  },
  {
   "cell_type": "code",
   "execution_count": null,
   "metadata": {},
   "outputs": [],
   "source": [
    "#Plot pc1 vs pc2, color by Strain \n",
    "#YOUR CODE HERE: \n",
    "#ggplot(data=pcs_annotated.corrected,aes(x=?,y=?,color=Strain))+geom_point()\n"
   ]
  },
  {
   "cell_type": "markdown",
   "metadata": {},
   "source": [
    "**Exercise**: We have done a fairly thorough PCA analysis for the fold change data matrix. Repeat the PCA analysis for the normalized count matrix that we have defined above. Do the PCA plots look similar or different? "
   ]
  },
  {
   "cell_type": "markdown",
   "metadata": {},
   "source": [
    "#### Getting peak contributions to principal components. ####"
   ]
  },
  {
   "cell_type": "markdown",
   "metadata": {},
   "source": [
    "Finally, we'd like to determine how much each peak contributes to PC1, PC2, and PC3. We can look at PC4 and up also, but for the sake of time we'll stick with the first 3 principal components; from the scree plot, we see they explain approximately 50% of the variance in the data. Primarily we want to get a sense of which peaks are critical in defining the principle components, and in which direction (positive or negative)."
   ]
  },
  {
   "cell_type": "code",
   "execution_count": null,
   "metadata": {
    "scrolled": true
   },
   "outputs": [],
   "source": [
    "contribs_pc1=count.pca.corrected$rotation[,1]\n",
    "contribs_pc2=count.pca.corrected$rotation[,2]\n",
    "contribs_pc3=count.pca.corrected$rotation[,3]\n",
    "\n",
    "#these are lists of contributs from each peak to the corresponding PC\n",
    "head(contribs_pc1)\n",
    "length(contribs_pc1)"
   ]
  },
  {
   "cell_type": "code",
   "execution_count": null,
   "metadata": {
    "collapsed": true
   },
   "outputs": [],
   "source": [
    "#Use the write.table command to write the PC contribution data to output files. \n",
    "#If you want to use the pc contributions from count data rather than fold change data, uncomment the lines below. \n",
    "#The analyses looked similar enough that either one can be used downstream. \n",
    "\n",
    "#write.table(contribs_pc1,paste(work_dir,\"pc1_contribs.txt\",sep='/'),quote=FALSE,col.names=FALSE,row.names=TRUE,sep='\\t')\n",
    "#write.table(contribs_pc2,paste(work_dir,\"pc2_contribs.txt\",sep='/'),quote=FALSE,col.names=FALSE,row.names=TRUE,sep='\\t')\n",
    "#write.table(contribs_pc3,paste(work_dir,\"pc3_contribs.txt\",sep='/'),quote=FALSE,col.names=FALSE,row.names=TRUE,sep='\\t')\n"
   ]
  },
  {
   "cell_type": "markdown",
   "metadata": {},
   "source": [
    "## Hierarchical Clustering of Fold Change Signal Across Samples ##"
   ]
  },
  {
   "cell_type": "markdown",
   "metadata": {},
   "source": [
    "Cluster analysis is a simple way to visualize patterns in the data. By clustering peaks according to their signal across different time points, we may find groups of peaks that have similar behavior across these time points. By clustering samples according to their signal across peaks, we can perform a simple sanity check of data quality ‐ samples of the same time point should cluster together."
   ]
  },
  {
   "cell_type": "code",
   "execution_count": null,
   "metadata": {},
   "outputs": [],
   "source": [
    "library(gplots)\n",
    "library(RColorBrewer)"
   ]
  },
  {
   "cell_type": "markdown",
   "metadata": {},
   "source": [
    "Let's begin by clustering normalized fold change data that has not been corrected for the sample swap or the batch effect:"
   ]
  },
  {
   "cell_type": "code",
   "execution_count": null,
   "metadata": {},
   "outputs": [],
   "source": [
    "heatmap.2(norm_asinh_count,\n",
    "          scale     = \"none\",\n",
    "          col       = rev(colorRampPalette(brewer.pal(10, \"RdBu\"))(256)),\n",
    "          distfun   = function(x) dist(x,method=\"euclidean\"),\n",
    "          hclustfun = function(x) hclust(x, method=\"ward.D\"),\n",
    "          Rowv=TRUE,\n",
    "          Colv=TRUE,\n",
    "          trace=\"none\",\n",
    "          cexCol = 0.9,\n",
    "          margins=c(15,5),\n",
    "          labRow=\"\")\n",
    "\n"
   ]
  },
  {
   "cell_type": "markdown",
   "metadata": {},
   "source": [
    "Now, we examine the hierarchical clustering on the corrected fold change data. "
   ]
  },
  {
   "cell_type": "code",
   "execution_count": null,
   "metadata": {},
   "outputs": [],
   "source": [
    "heatmap.2(norm_asinh_count_corrected,\n",
    "          scale     = \"none\",\n",
    "          col       = rev(colorRampPalette(brewer.pal(10, \"RdBu\"))(256)),\n",
    "          distfun   = function(x) dist(x,method=\"euclidean\"),\n",
    "          hclustfun = function(x) hclust(x, method=\"ward.D\"),\n",
    "          Rowv=TRUE,\n",
    "          Colv=TRUE,\n",
    "          trace=\"none\",\n",
    "          cexCol = 0.9,\n",
    "          margins=c(15,5),\n",
    "          labRow=\"\")\n"
   ]
  },
  {
   "cell_type": "markdown",
   "metadata": {},
   "source": [
    "This looks better than our fold change heatmap, but adding more contrast wouldn't hurt. We follow the same process to color the heatmap by quantiles."
   ]
  },
  {
   "cell_type": "code",
   "execution_count": null,
   "metadata": {},
   "outputs": [],
   "source": [
    "#We split the fold change matrix into 1% quantiles \n",
    "quantile.range <- quantile(norm_asinh_count_corrected, probs = seq(0, 1, 0.01))\n",
    "#we scale the breaks in the heatmap color palette according to the quantiles. \n",
    "palette.breaks <- seq(quantile.range[\"5%\"], quantile.range[\"95%\"], 0.1)\n",
    "\n",
    "\n",
    "heatmap.2(norm_asinh_count_corrected,\n",
    "          scale     = \"none\",\n",
    "          col       = rev(colorRampPalette(brewer.pal(10, \"RdBu\"))(length(palette.breaks) - 1)),\n",
    "          distfun   = function(x) dist(x,method=\"euclidean\"),\n",
    "          hclustfun = function(x) hclust(x, method=\"ward.D\"),\n",
    "          Rowv=TRUE,\n",
    "          Colv=TRUE,\n",
    "          trace=\"none\",\n",
    "          cexCol = 0.9,\n",
    "          margins=c(15,5),\n",
    "          breaks = palette.breaks,\n",
    "          labRow=\"\")\n"
   ]
  },
  {
   "cell_type": "markdown",
   "metadata": {},
   "source": [
    "The two heatmaps look very different, but show the same data! \n",
    "When selecting a color scheme for PCA or heatmaps in R, the R Color Brewer tool is quite useful. Also, for nice color palettes, check out: http://colorbrewer2.org/#type=sequential&scheme=BuGn&n=3"
   ]
  },
  {
   "cell_type": "code",
   "execution_count": null,
   "metadata": {
    "collapsed": true
   },
   "outputs": [],
   "source": []
  }
 ],
 "metadata": {
  "kernelspec": {
   "display_name": "R",
   "language": "R",
   "name": "ir"
  },
  "language_info": {
   "codemirror_mode": "r",
   "file_extension": ".r",
   "mimetype": "text/x-r-source",
   "name": "R",
   "pygments_lexer": "r",
   "version": "3.6.1"
  }
 },
 "nbformat": 4,
 "nbformat_minor": 1
}
