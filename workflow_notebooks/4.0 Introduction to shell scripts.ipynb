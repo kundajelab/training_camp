{
 "cells": [
  {
   "cell_type": "markdown",
   "metadata": {
    "collapsed": true
   },
   "source": [
    "# 4.0 Introduction to shell scripts#"
   ]
  },
  {
   "cell_type": "markdown",
   "metadata": {},
   "source": [
    "### IMPORTANT: Please make sure you are using the bash kernel to run this notebook ###"
   ]
  },
  {
   "cell_type": "markdown",
   "metadata": {},
   "source": [
    "Running commands one at a time on the terminal in bash isn't particularly efficient (or reproducible). Shell scripts enable you to place multiple commands in a single executable file, leading to greater ease of programming and research reproducibility. \n",
    " \n",
    "For example, we create a shell script called myFirstShellScript.sh with the following contents:"
   ]
  },
  {
   "cell_type": "code",
   "execution_count": null,
   "metadata": {},
   "outputs": [],
   "source": [
    "#you can ignore this  line -- it checks to see if the file exists, and remove it if it does. So we don't end up writing the same information to the file multiple times. \n",
    "if [ -f myFirstShellScript.sh ] ; then rm myFirstShellScript.sh; fi\n",
    "\n",
    "touch myFirstShellScript.sh \n",
    "echo '#!/bin/sh'>> myFirstShellScript.sh\n",
    "echo '#this line is a comment; it is ignored during execution' >> myFirstShellScript.sh\n",
    "echo '#you can put any commands that you would normally type into the command line in here.' >>myFirstShellScript.sh\n",
    "echo '#for example, this shell script just creates a directory' >> myFirstShellScript.sh\n",
    "echo 'touch thisFileCreatedFromShellScript.txt' >> myFirstShellScript.sh"
   ]
  },
  {
   "cell_type": "code",
   "execution_count": null,
   "metadata": {},
   "outputs": [],
   "source": [
    "cat myFirstShellScript.sh"
   ]
  },
  {
   "cell_type": "markdown",
   "metadata": {},
   "source": [
    "The **#!/bin/sh** at the beginning tells the operating system what software to use to interpret the script (in this case, it uses the program located at **/bin/sh**). Don't worry if you don't understand; just make sure your scripts begin with it.\n",
    "\n",
    "Once you have created the script, make it executable:"
   ]
  },
  {
   "cell_type": "code",
   "execution_count": null,
   "metadata": {},
   "outputs": [],
   "source": [
    "./myFirstShellScript.sh"
   ]
  },
  {
   "cell_type": "code",
   "execution_count": null,
   "metadata": {},
   "outputs": [],
   "source": [
    "#this command makes the script executable \n",
    "chmod a+x myFirstShellScript.sh"
   ]
  },
  {
   "cell_type": "markdown",
   "metadata": {},
   "source": [
    "Then, run it:"
   ]
  },
  {
   "cell_type": "code",
   "execution_count": null,
   "metadata": {},
   "outputs": [],
   "source": [
    "#this command runs the shell script\n",
    "./myFirstShellScript.sh\n",
    "#the ls command indicates that \"thisFileCreatedFromShellScript.txt\" was created \n",
    "ls"
   ]
  },
  {
   "cell_type": "markdown",
   "metadata": {},
   "source": [
    "Shell scripts can also accept arguments (a fancy word for extra commands/options that you pass to the shell script). \\$1 \\$2 \\$3 ... refer to the first, second, third etc. arguments passed into the shell script. Create another shell script called myFirstShellScriptWithArguments.sh with the following contents:"
   ]
  },
  {
   "cell_type": "code",
   "execution_count": null,
   "metadata": {},
   "outputs": [],
   "source": [
    "#you can ignore this  line -- it checks to see if the file exists, and remove it if it does. So we don't end up writing the same information to the file multiple times. \n",
    "if [ -f myFirstShellScriptWithArguments.sh ] ; then rm myFirstShellScriptWithArguments.sh; fi\n",
    "\n",
    "touch myFirstShellScriptWithArguments.sh\n",
    "echo #!/bin/sh >> myFirstShellScriptWithArguments.sh\n",
    "echo touch \"$\"1 >> myFirstShellScriptWithArguments.sh\n",
    "echo mkdir \"$\"2 >> myFirstShellScriptWithArguments.sh"
   ]
  },
  {
   "cell_type": "markdown",
   "metadata": {},
   "source": [
    "Once again, make the shell script executable: "
   ]
  },
  {
   "cell_type": "code",
   "execution_count": null,
   "metadata": {},
   "outputs": [],
   "source": [
    "chmod a+x myFirstShellScriptWithArguments.sh"
   ]
  },
  {
   "cell_type": "markdown",
   "metadata": {},
   "source": [
    "Now run the following:"
   ]
  },
  {
   "cell_type": "code",
   "execution_count": null,
   "metadata": {},
   "outputs": [],
   "source": [
    "./myFirstShellScriptWithArguments.sh customFileName.txt customDirectoryName\n",
    "ls"
   ]
  },
  {
   "cell_type": "markdown",
   "metadata": {},
   "source": [
    "This was just an example, but hopefully you can see the potential power of using scripts like these to launch complicated bioinformatics processing jobs."
   ]
  }
 ],
 "metadata": {
  "kernelspec": {
   "display_name": "Bash",
   "language": "bash",
   "name": "bash"
  },
  "language_info": {
   "codemirror_mode": "shell",
   "file_extension": ".sh",
   "mimetype": "text/x-sh",
   "name": "bash"
  }
 },
 "nbformat": 4,
 "nbformat_minor": 1
}
