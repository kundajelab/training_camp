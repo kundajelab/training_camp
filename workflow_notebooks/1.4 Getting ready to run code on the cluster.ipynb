{
 "cells": [
  {
   "cell_type": "markdown",
   "metadata": {},
   "source": [
    "# Getting ready to run code on the cluster#"
   ]
  },
  {
   "cell_type": "markdown",
   "metadata": {},
   "source": [
    "### IMPORTANT: Please make sure that your are using the bash kernel to run this notebook.\n",
    "\n",
    "Now that you can navigate through file systems and manipulate directories and files like any self-respecting Unix ninja, you are ready to start analyzing data! Here you will learn about how to organize your research directory and setup the cluster environment to access all software you wish to use."
   ]
  },
  {
   "cell_type": "markdown",
   "metadata": {},
   "source": [
    "## Organizing your research as a pro##"
   ]
  },
  {
   "cell_type": "markdown",
   "metadata": {},
   "source": [
    "This is a really nice paper with guidelines on organizing computational projects in an organized and snazzy fashion: (http://journals.plos.org/ploscompbiol/article?id=10.1371/journal.pcbi.1000424). \n",
    "![Analysis Pipeline](images/journal.pcbi.1000424.g001.png)\n",
    "\n",
    "Let's see this in action!\n",
    "\n",
    "\n",
    "First, let's set up our working directory (also known as \"scratch directory\")"
   ]
  },
  {
   "cell_type": "code",
   "execution_count": null,
   "metadata": {},
   "outputs": [],
   "source": [
    "whoami"
   ]
  },
  {
   "cell_type": "code",
   "execution_count": null,
   "metadata": {},
   "outputs": [],
   "source": [
    "export WORKDIR=/scratch/$(whoami)\n",
    "\n",
    "echo $WORKDIR"
   ]
  },
  {
   "cell_type": "markdown",
   "metadata": {},
   "source": [
    "Organize your folder into subdirectories as a pro: "
   ]
  },
  {
   "cell_type": "code",
   "execution_count": null,
   "metadata": {},
   "outputs": [],
   "source": [
    "cd $WORKDIR\n",
    "mkdir data src\n",
    "ls"
   ]
  },
  {
   "cell_type": "code",
   "execution_count": null,
   "metadata": {},
   "outputs": [],
   "source": [
    "pwd"
   ]
  },
  {
   "cell_type": "markdown",
   "metadata": {},
   "source": [
    "## Preparing to run code on the cluster ## "
   ]
  },
  {
   "cell_type": "markdown",
   "metadata": {},
   "source": [
    "Our data processing will use multiple software tools. To be able to access them, we can load their paths into our session, by loading their respective modules.\n",
    "\n",
    "To load a module, you can type\n",
    "**module load [desiredModule]** - this is going to modify your path\n",
    "\n",
    "Once a module is loaded, you can use the code associated with that module directly. For instance, let's say you want to sum all the columns in a file (let's use the file `number_cols.txt` in your home directory as an example). We can do this with the `addCols` tool from the ucsc_tools software package.  If you run:"
   ]
  },
  {
   "cell_type": "code",
   "execution_count": null,
   "metadata": {},
   "outputs": [],
   "source": [
    "cat ~/number_cols.txt"
   ]
  },
  {
   "cell_type": "code",
   "execution_count": null,
   "metadata": {},
   "outputs": [],
   "source": [
    "addCols ~/number_cols.txt"
   ]
  },
  {
   "cell_type": "markdown",
   "metadata": {},
   "source": [
    "The above cell throws an error because we have not loaded the software package that `addCols` is part of. We can look at our `$PATH` before and after loading the software module to confirm that the loading is successful (we should see the path grow), and we can also use `module list` to see the currently loaded modules:"
   ]
  },
  {
   "cell_type": "code",
   "execution_count": null,
   "metadata": {},
   "outputs": [],
   "source": [
    "echo $PATH"
   ]
  },
  {
   "cell_type": "code",
   "execution_count": null,
   "metadata": {},
   "outputs": [],
   "source": [
    "source /etc/profile.d/modules.sh"
   ]
  },
  {
   "cell_type": "code",
   "execution_count": null,
   "metadata": {},
   "outputs": [],
   "source": [
    "module list"
   ]
  },
  {
   "cell_type": "code",
   "execution_count": null,
   "metadata": {},
   "outputs": [],
   "source": [
    "module load ucsc_tools"
   ]
  },
  {
   "cell_type": "code",
   "execution_count": null,
   "metadata": {},
   "outputs": [],
   "source": [
    "module list"
   ]
  },
  {
   "cell_type": "code",
   "execution_count": null,
   "metadata": {},
   "outputs": [],
   "source": [
    "echo $PATH"
   ]
  },
  {
   "cell_type": "markdown",
   "metadata": {},
   "source": [
    "Now the ucsc_tools code is loaded! When you are ready to use commands from this package, you can just directly call them. Note that the `-h` or `--help` arguments can often be used to give help about a particular command."
   ]
  },
  {
   "cell_type": "code",
   "execution_count": null,
   "metadata": {},
   "outputs": [],
   "source": [
    "addCols ~/number_cols.txt"
   ]
  },
  {
   "cell_type": "code",
   "execution_count": null,
   "metadata": {},
   "outputs": [],
   "source": [
    "#You can use the `which` command to get the location of the addCols tool \n",
    "which addCols "
   ]
  },
  {
   "cell_type": "code",
   "execution_count": null,
   "metadata": {},
   "outputs": [],
   "source": [
    "#to remove the tool from your path, run: \n",
    "module unload ucsc_tools"
   ]
  },
  {
   "cell_type": "markdown",
   "metadata": {},
   "source": [
    "Don't worry, you do not need to know off the top of your head the names of the modules you want. To see all software modules available on the AWS cluster, type:"
   ]
  },
  {
   "cell_type": "code",
   "execution_count": null,
   "metadata": {},
   "outputs": [],
   "source": [
    "module avail"
   ]
  },
  {
   "cell_type": "markdown",
   "metadata": {},
   "source": [
    "## Exporting Needed Variables"
   ]
  },
  {
   "cell_type": "markdown",
   "metadata": {},
   "source": [
    "Before we start analyzing data, we have one last setup task to do. We have established directories that you can access where all of the data for this project is stored, as well as intermediate outputs of the analysis we're going to perform (in case something goes wrong and you want to start fresh, without starting from the beginning). To keep our unix commands consistent between all of us, we've also pre-determined the directory structure for where your analysis outputs will go. The full set of directory variables we need to assign:"
   ]
  },
  {
   "cell_type": "markdown",
   "metadata": {},
   "source": [
    "**\\$\\{WORK\\_DIR\\}** is your main work directory\n",
    "\n",
    "**\\$\\{DATA\\_DIR\\}** is your data/ directory -- used for storing the subset of the data you will be working with.  \n",
    "\n",
    "**\\$\\{SRC\\_DIR\\}** is your src/ directory -- used for storing code. \n",
    "\n",
    "**\\$\\{METADATA_DIR}** is the directory with the metadata file for this year's training camp.  \n",
    "\n",
    "\n",
    "**\\$\\{AGGREGATE\\_ANALYSIS\\_DIR}** We will store the aggregate analysis results for all samples in this directory for common use by everyone. \n",
    "\n",
    "**\\$\\{AGGREGATE\\_DATA\\_DIR\\}** is the data/ directory -- this is where we store all the raw data from the sequencer generated by the group\n",
    "\n",
    "**\\$\\{HG\\_DIR}** is the directory with the hg38 reference genome files \n",
    "\n",
    "**\\$\\{TMP\\_DIR}** is the directory where your temporary files will be stored when you execute code. \n",
    "\n"
   ]
  },
  {
   "cell_type": "markdown",
   "metadata": {},
   "source": [
    "To set or assign all these variables, we execute the commands in our ipython notebook:"
   ]
  },
  {
   "cell_type": "code",
   "execution_count": null,
   "metadata": {},
   "outputs": [],
   "source": [
    "export SUNETID=\"$(whoami)\"\n",
    "export WORK_DIR=\"/scratch/${SUNETID}\"\n",
    "export DATA_DIR=\"${WORK_DIR}/data\"\n",
    "[[ ! -d ${WORK_DIR}/data ]] && mkdir \"${WORK_DIR}/data\"\n",
    "export SRC_DIR=\"${WORK_DIR}/src\"\n",
    "[[ ! -d ${WORK_DIR}/src ]] && mkdir -p \"${WORK_DIR}/src\"\n",
    "export METADATA_DIR=\"/metadata\"\n",
    "export AGGREGATE_DATA_DIR=\"/data\"\n",
    "export AGGREGATE_ANALYSIS_DIR=\"/outputs\"\n",
    "export YEAST_DIR=\"/saccer3\"\n",
    "export TMP=\"${WORK_DIR}/tmp\"\n",
    "export TEMP=$TMP\n",
    "export TMPDIR=$TMP\n",
    "[[ ! -d ${TMP} ]] && mkdir -p \"${TMP}\"\n"
   ]
  },
  {
   "cell_type": "code",
   "execution_count": null,
   "metadata": {},
   "outputs": [],
   "source": [
    "echo $DATA_DIR"
   ]
  },
  {
   "cell_type": "markdown",
   "metadata": {},
   "source": [
    "## Data and code for this project ##"
   ]
  },
  {
   "cell_type": "markdown",
   "metadata": {},
   "source": [
    "It's generally good practice to always keep a backup copy of your raw data files in case you unintentionally delete or modify these files when performing your analysis. \n",
    "\n",
    "For this reason, you will copy the two samples you generated from the **\\$AGGREGATE_DATA_DIR** folder to your personal **\\$DATA_DIR** folder. "
   ]
  },
  {
   "cell_type": "code",
   "execution_count": null,
   "metadata": {},
   "outputs": [],
   "source": [
    "ls $DATA_DIR"
   ]
  },
  {
   "cell_type": "code",
   "execution_count": null,
   "metadata": {},
   "outputs": [],
   "source": [
    "#Student  data files \n",
    "#Note: Uncomment the line (remove the #) to  copy the 2 replicate for a given strain/timepoint to your data directory. \n",
    "\n",
    "# meenakshi\n",
    "#cp $AGGREGATE_DATA_DIR/0min_HOG1_1* $DATA_DIR\n",
    "#cp $AGGREGATE_DATA_DIR/0min_HOG1_2* $DATA_DIR\n",
    "\n",
    "# alanna\n",
    "#cp $AGGREGATE_DATA_DIR/45min_HOG1_1* $DATA_DIR\n",
    "#cp $AGGREGATE_DATA_DIR/45min_HOG1_2* $DATA_DIR\n",
    "\n",
    "# ben\n",
    "#cp $AGGREGATE_DATA_DIR/0min_HOT1_1* $DATA_DIR\n",
    "#cp $AGGREGATE_DATA_DIR/0min_HOT1_2* $DATA_DIR\n",
    "\n",
    "# raeline\n",
    "#cp $AGGREGATE_DATA_DIR/45min_HOT1_1* $DATA_DIR\n",
    "#cp $AGGREGATE_DATA_DIR/45min_HOT1_2* $DATA_DIR\n",
    "\n",
    "# usman\n",
    "#cp $AGGREGATE_DATA_DIR/0min_MSN1_1* $DATA_DIR\n",
    "#cp $AGGREGATE_DATA_DIR/0min_MSN1_2* $DATA_DIR\n",
    "\n",
    "# ronghao\n",
    "#cp $AGGREGATE_DATA_DIR/45min_MSN1_1* $DATA_DIR\n",
    "#cp $AGGREGATE_DATA_DIR/45min_MSN1_2* $DATA_DIR\n",
    "\n",
    "# mingxin\n",
    "#cp $AGGREGATE_DATA_DIR/0min_MSN2_1* $DATA_DIR\n",
    "#cp $AGGREGATE_DATA_DIR/0min_MSN2_2* $DATA_DIR\n",
    "\n",
    "# miriam\n",
    "#cp $AGGREGATE_DATA_DIR/45min_MSN2_1* $DATA_DIR\n",
    "#cp $AGGREGATE_DATA_DIR/45min_MSN2_2* $DATA_DIR\n",
    "\n",
    "# tanner\n",
    "#cp $AGGREGATE_DATA_DIR/0min_MSN4_1* $DATA_DIR\n",
    "#cp $AGGREGATE_DATA_DIR/0min_MSN4_2* $DATA_DIR\n",
    "\n",
    "# ali\n",
    "#cp $AGGREGATE_DATA_DIR/45min_MSN4_1* $DATA_DIR\n",
    "#cp $AGGREGATE_DATA_DIR/45min_MSN4_2* $DATA_DIR\n",
    "\n",
    "# yannik\n",
    "#cp $AGGREGATE_DATA_DIR/0min_SKN7_1* $DATA_DIR\n",
    "#cp $AGGREGATE_DATA_DIR/0min_SKN7_2* $DATA_DIR\n",
    "\n",
    "# sherry\n",
    "#cp $AGGREGATE_DATA_DIR/45min_SKN7_1* $DATA_DIR\n",
    "#cp $AGGREGATE_DATA_DIR/45min_SKN7_2* $DATA_DIR\n",
    "\n",
    "# vincent\n",
    "#cp $AGGREGATE_DATA_DIR/0min_WT_1* $DATA_DIR\n",
    "#cp $AGGREGATE_DATA_DIR/0min_WT_2* $DATA_DIR\n",
    "\n",
    "# kcochran\n",
    "#cp $AGGREGATE_DATA_DIR/45min_WT_1* $DATA_DIR\n",
    "#cp $AGGREGATE_DATA_DIR/45min_WT_2* $DATA_DIR\n",
    "\n",
    "# michael\n",
    "#cp $AGGREGATE_DATA_DIR/0min_YAP1_1* $DATA_DIR\n",
    "#cp $AGGREGATE_DATA_DIR/0min_YAP1_2* $DATA_DIR\n",
    "\n",
    "# caleb\n",
    "#cp $AGGREGATE_DATA_DIR/45min_YAP1_1* $DATA_DIR\n",
    "#cp $AGGREGATE_DATA_DIR/45min_YAP1_2* $DATA_DIR\n",
    "\n",
    "# rahul\n",
    "#cp $AGGREGATE_DATA_DIR/0min_YAP6_1* $DATA_DIR\n",
    "#cp $AGGREGATE_DATA_DIR/0min_YAP6_2* $DATA_DIR\n",
    "\n",
    "# soumyak\n",
    "#cp $AGGREGATE_DATA_DIR/45min_YAP6_1* $DATA_DIR\n",
    "#cp $AGGREGATE_DATA_DIR/45min_YAP6_2* $DATA_DIR\n",
    "\n",
    "# micah\n",
    "#cp $AGGREGATE_DATA_DIR/0min_YAP7_1* $DATA_DIR\n",
    "#cp $AGGREGATE_DATA_DIR/0min_YAP7_2* $DATA_DIR\n",
    "\n",
    "# akundaje\n",
    "#cp $AGGREGATE_DATA_DIR/45min_YAP7_1* $DATA_DIR\n",
    "#cp $AGGREGATE_DATA_DIR/45min_YAP7_2* $DATA_DIR\n",
    "\n"
   ]
  },
  {
   "cell_type": "code",
   "execution_count": null,
   "metadata": {},
   "outputs": [],
   "source": [
    "ls $DATA_DIR"
   ]
  },
  {
   "cell_type": "markdown",
   "metadata": {},
   "source": [
    "Let the analysis begin!"
   ]
  }
 ],
 "metadata": {
  "kernelspec": {
   "display_name": "Bash",
   "language": "bash",
   "name": "bash"
  },
  "language_info": {
   "codemirror_mode": "shell",
   "file_extension": ".sh",
   "mimetype": "text/x-sh",
   "name": "bash"
  }
 },
 "nbformat": 4,
 "nbformat_minor": 1
}
