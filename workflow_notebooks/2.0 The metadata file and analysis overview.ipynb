{
 "cells": [
  {
   "cell_type": "markdown",
   "metadata": {},
   "source": [
    "# The metadata file #"
   ]
  },
  {
   "cell_type": "markdown",
   "metadata": {},
   "source": [
    "This is a short section, but given its importance, it gets its own page on the wiki.\n",
    "\n",
    "For every project you work on, it is absolutely essential to have a metadata sheet describing your data, and use it every time you perform operations on your data. You should NEVER perform operations involving multiple data files in your data \"by hand\", because that is NOT reproducible research.\n",
    "\n",
    "\n",
    "In our experiment we are examining 10 strains of Saccharomyces_cerevisiae (SacCer3): \n",
    "* Wild Type (WT) \n",
    "* mutant 1\n",
    "* Rtt109 mutant\n",
    "\n",
    "These are examined at 2 timepoints after gene knockout: \n",
    "* 0 hours \n",
    "* 4 hours \n",
    "\n",
    "There are 2 replicates for each combination of strain and timepoint. We have designed the experiments in such a way that the replicates are not confounded: the two experiments performed by a single researcher involved different strains and timepoints.  \n"
   ]
  },
  {
   "cell_type": "markdown",
   "metadata": {},
   "source": [
    "The following treatments were applied to the SacCer3 yeast, also described in the sample sheet located in  **$METADATA_DIR/TC2019_samples.tsv** "
   ]
  },
  {
   "cell_type": "markdown",
   "metadata": {},
   "source": [
    "| Sample | Researcher (sunet) | Timepoint | TF (Yeast Strain) | Replicate |\n",
    "|--------|--------------------|-----------|-------------------|-----------|\n",
    "|        | genegra2           | 0h        | WT                | 1         |\n",
    "|        | srstern            | 0h        | WT                | 2         |\n",
    "|        | lstrand            | 4h        | WT                | 1         |\n",
    "|        | ajberg5            | 4h        | WT                | 2         |\n",
    "|        | sierrasb           | 0h        | 1                 | 1         |\n",
    "|        | cvduffy            | 0h        | 1                 | 2         |\n",
    "|        | genegra2           | 4h        | 1                 | 1         |\n",
    "|        | mihayes            | 4h        | 1                 | 2         |\n",
    "|        | subkc              | 0h        | 2                 | 1         |\n",
    "|        | annlin             | 0h        | 2                 | 2         |\n",
    "|        | srstern            | 4h        | 2                 | 1         |\n",
    "|        | clin5              | 4h        | 2                 | 2         |\n",
    "|        | lstrand            | 0h        | 3                 | 1         |\n",
    "|        | clin5              | 0h        | 3                 | 2         |\n",
    "|        | miao1              | 4h        | 3                 | 1         |\n",
    "|        | makena             | 4h        | 3                 | 2         |\n",
    "|        | ajberg5            | 0h        | 4                 | 1         |\n",
    "|        | miao1              | 0h        | 4                 | 2         |\n",
    "|        | jarhodes           | 4h        | 4                 | 1         |\n",
    "|        | courtrun           | 4h        | 4                 | 2         |\n",
    "|        | makena             | 0h        | 5                 | 1         |\n",
    "|        | jarhodes           | 0h        | 5                 | 2         |\n",
    "|        | sierrasb           | 4h        | 5                 | 1         |\n",
    "|        | marinovg           | 4h        | 5                 | 2         |\n",
    "|        | courtrun           | 0h        | 6                 | 1         |\n",
    "|        | annashch           | 0h        | 6                 | 2         |\n",
    "|        | cvduffy            | 4h        | 6                 | 1         |\n",
    "|        | soumyak            | 4h        | 6                 | 2         |\n",
    "|        | myhayes            | 0h        | 7                 | 1         |\n",
    "|        | soumyak            | 0h        | 7                 | 2         |\n",
    "|        | surag              | 4h        | 7                 | 1         |\n",
    "|        | albalsubr          | 4h        | 7                 | 2         |\n",
    "|        | abalsubr           | 0h        | 8                 | 1         |\n",
    "|        | zahoor             | 0h        | 8                 | 2         |\n",
    "|        | subkc              | 4h        | 8                 | 1         |\n",
    "|        | annashch           | 4h        | 8                 | 2         |\n",
    "|        | marinovg           | 0h        | 9                 | 1         |\n",
    "|        | surag              | 0h        | 9                 | 2         |\n",
    "|        | annlin             | 4h        | 9                 | 1         |\n",
    "|        | zahoor             | 4h        | 9                 | 2         |"
   ]
  },
  {
   "cell_type": "markdown",
   "metadata": {
    "collapsed": true
   },
   "source": [
    "## Analysis Overview"
   ]
  },
  {
   "cell_type": "markdown",
   "metadata": {},
   "source": [
    "![Analysis Pipeline](images/tc2017_pipeline.png)"
   ]
  }
 ],
 "metadata": {
  "kernelspec": {
   "display_name": "Bash",
   "language": "bash",
   "name": "bash"
  },
  "language_info": {
   "codemirror_mode": "shell",
   "file_extension": ".sh",
   "mimetype": "text/x-sh",
   "name": "bash"
  }
 },
 "nbformat": 4,
 "nbformat_minor": 1
}
