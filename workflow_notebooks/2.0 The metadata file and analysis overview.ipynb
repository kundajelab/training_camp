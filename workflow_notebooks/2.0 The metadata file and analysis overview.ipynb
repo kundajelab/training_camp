{
 "cells": [
  {
   "cell_type": "markdown",
   "metadata": {},
   "source": [
    "# The metadata file #"
   ]
  },
  {
   "cell_type": "markdown",
   "metadata": {},
   "source": [
    "This is a short section, but given its importance, it gets its own page on the wiki.\n",
    "\n",
    "For every project you work on, it is absolutely essential to have a metadata sheet describing your data, and use it every time you perform operations on your data. You should NEVER perform operations involving multiple data files in your data \"by hand\", because that is NOT reproducible research.\n",
    "\n",
    "\n",
    "In our experiment we are examining 10 strains of Saccharomyces_cerevisiae (SacCer3): \n",
    "* Wild Type (WT) \n",
    "* HOG1\n",
    "* HOT1\n",
    "* MSN1\n",
    "* MSN2\n",
    "* MSN4\n",
    "* SKN7\n",
    "* YAP1\n",
    "* YAP6\n",
    "* YAP7\n",
    "\n",
    "These are examined at 2 timepoints after gene knockout: \n",
    "* 0 minutes \n",
    "* 45 minutes \n",
    "\n",
    "There are 2 replicates for each combination of strain and timepoint. We have designed the experiments in such a way that the replicates are not confounded: the two experiments performed by a single researcher involved different strains and timepoints.  \n"
   ]
  },
  {
   "cell_type": "markdown",
   "metadata": {},
   "source": [
    "The following treatments were applied to the SacCer3 yeast, also described in the sample sheet located in  **$METADATA_DIR/TC2020_samples.tsv** "
   ]
  },
  {
   "cell_type": "markdown",
   "metadata": {},
   "source": [
    "|Sample    |Timepoint|Strain|Replicate|ID          |GeneratedByResearcher|GeneratedByGroup|AssignedTo|\n",
    "|----------|---------|------|---------|------------|---------------------|----------------|----------|\n",
    "|0min_hog1 |0min     |HOG1  |1        |0min_hog1_1 |2                    |genetics        |meenakshi |\n",
    "|0min_hog1 |0min     |HOG1  |2        |0min_hog1_2 |13                   |genetics        |meenakshi |\n",
    "|45min_hog1|45min    |HOG1  |1        |45min_hog1_1|9                    |genetics        |alanna    |\n",
    "|45min_hog1|45min    |HOG1  |2        |45min_hog1_2|6                    |genetics        |alanna    |\n",
    "|0min_hot1 |0min     |HOT1  |1        |0min_hot1_1 |14                   |gen             |ben       |\n",
    "|0min_hot1 |0min     |HOT1  |2        |0min_hot1_2 |16                   |compsci         |ben       |\n",
    "|45min_hot1|45min    |HOT1  |1        |45min_hot1_1|19                   |compsci         |raeline   |\n",
    "|45min_hot1|45min    |HOT1  |2        |45min_hot1_2|1                    |compsci         |raeline   |\n",
    "|0min_msn1 |0min     |MSN1  |1        |0min_msn1_1 |15                   |gen             |usman     |\n",
    "|0min_msn1 |0min     |MSN1  |2        |0min_msn1_2 |7                    |genetics        |usman     |\n",
    "|45min_msn1|45min    |MSN1  |1        |45min_msn1_1|8                    |genetics        |ronghao   |\n",
    "|45min_msn1|45min    |MSN1  |2        |45min_msn1_2|14                   |genetics        |ronghao   |\n",
    "|0min_msn2 |0min     |MSN2  |1        |0min_msn2_1 |18                   |genetics        |mingxin   |\n",
    "|0min_msn2 |0min     |MSN2  |2        |0min_msn2_2 |4                    |genetics        |mingxin   |\n",
    "|45min_msn2|45min    |MSN2  |1        |45min_msn2_1|17                   |genetics        |miriam    |\n",
    "|45min_msn2|45min    |MSN2  |2        |45min_msn2_2|5                    |genetics        |miriam    |\n",
    "|0min_msn4 |0min     |MSN4  |1        |0min_msn4_1 |10                   |genetics        |tanner    |\n",
    "|0min_msn4 |0min     |MSN4  |2        |0min_msn4_2 |5                    |genetics        |tanner    |\n",
    "|45min_msn4|45min    |MSN4  |1        |45min_msn4_1|13                   |genetics        |ali       |\n",
    "|45min_msn4|45min    |MSN4  |2        |45min_msn4_2|11                   |genetics        |ali       |\n",
    "|0min_skn7 |0min     |SKN7  |1        |0min_skn7_1 |11                   |genetics        |yannik    |\n",
    "|0min_skn7 |0min     |SKN7  |2        |0min_skn7_2 |9                    |genetics        |yannik    |\n",
    "|45min_skn7|45min    |SKN7  |1        |45min_skn7_1|15                   |gen             |sherry    |\n",
    "|45min_skn7|45min    |SKN7  |2        |45min_skn7_2|12                   |expert          |sherry    |\n",
    "|0min_WT   |0min     |WT    |1        |0min_WT_1   |8                    |genetics        |vincent   |\n",
    "|0min_WT   |0min     |WT    |2        |0min_WT_2   |17                   |genetics        |vincent   |\n",
    "|45min_WT  |45min    |WT    |1        |45min_WT_1  |10                   |genetics        |kcochran  |\n",
    "|45min_WT  |45min    |WT    |2        |45min_WT_2  |2                    |genetics        |kcochran  |\n",
    "|0min_yap1 |0min     |YAP1  |1        |0min_yap1_1 |6                    |genetics        |michael   |\n",
    "|0min_yap1 |0min     |YAP1  |2        |0min_yap1_2 |3                    |compsci         |michael   |\n",
    "|45min_yap1|45min    |YAP1  |1        |45min_yap1_1|7                    |genetics        |caleb     |\n",
    "|45min_yap1|45min    |YAP1  |2        |45min_yap1_2|16                   |compsci         |caleb     |\n",
    "|0min_yap6 |0min     |YAP6  |1        |0min_yap6_1 |1                    |compsci         |rahul     |\n",
    "|0min_yap6 |0min     |YAP6  |2        |0min_yap6_2 |20                   |compsci         |rahul     |\n",
    "|45min_yap6|45min    |YAP6  |1        |45min_yap6_1|18                   |genetics        |soumyak   |\n",
    "|45min_yap6|45min    |YAP6  |2        |45min_yap6_2|3                    |compsci         |soumyak   |\n",
    "|0min_yap7 |0min     |YAP7  |1        |0min_yap7_1 |12                   |expert          |micah     |\n",
    "|0min_yap7 |0min     |YAP7  |2        |0min_yap7_2 |19                   |compsci         |micah     |\n",
    "|45min_yap7|45min    |YAP7  |1        |45min_yap7_1|4                    |genetics        |akundaje  |\n",
    "|45min_yap7|45min    |YAP7  |2        |45min_yap7_2|20                   |compsci         |akundaje  |\n"
   ]
  },
  {
   "cell_type": "markdown",
   "metadata": {
    "collapsed": true
   },
   "source": [
    "## Analysis Overview"
   ]
  },
  {
   "cell_type": "markdown",
   "metadata": {},
   "source": [
    "![Analysis Pipeline](images/tc2017_pipeline.png)"
   ]
  }
 ],
 "metadata": {
  "kernelspec": {
   "display_name": "Bash",
   "language": "bash",
   "name": "bash"
  },
  "language_info": {
   "codemirror_mode": "shell",
   "file_extension": ".sh",
   "mimetype": "text/x-sh",
   "name": "bash"
  }
 },
 "nbformat": 4,
 "nbformat_minor": 1
}
