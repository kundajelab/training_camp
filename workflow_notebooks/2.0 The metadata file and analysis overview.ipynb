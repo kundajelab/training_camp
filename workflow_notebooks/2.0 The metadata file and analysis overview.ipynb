{
 "cells": [
  {
   "cell_type": "markdown",
   "metadata": {},
   "source": [
    "# The metadata file #"
   ]
  },
  {
   "cell_type": "markdown",
   "metadata": {},
   "source": [
    "This is a short section, but given its importance, it gets its own page on the wiki.\n",
    "\n",
    "For every project you work on, it is absolutely essential to have a metadata sheet describing your data, and use it every time you perform operations on your data. You should NEVER perform operations involving multiple data files in your data \"by hand\", because that is NOT reproducible research.\n",
    "\n",
    "\n",
    "In our experiment we are examining 10 strains of Saccharomyces_cerevisiae (SacCer3): \n",
    "* Wild Type (WT) \n",
    "* MSN1\n",
    "* MSN2\n",
    "* MSN4\n",
    "* HOG1\n",
    "* SKN7\n",
    "* SKO1\n",
    "* SMP1\n",
    "* YAP6\n",
    "* YAP7\n",
    "\n",
    "These are examined at 2 timepoints after gene knockout: \n",
    "* 0 minutes \n",
    "* 45 minutes \n",
    "\n",
    "There are 2 replicates for each combination of strain and timepoint. We have designed the experiments in such a way that the replicates are not confounded: the two experiments performed by a single researcher involved different strains and timepoints.  \n"
   ]
  },
  {
   "cell_type": "markdown",
   "metadata": {},
   "source": [
    "The following treatments were applied to the SacCer3 yeast, also described in the sample sheet located in  **$METADATA_DIR/TC2019_samples.tsv** "
   ]
  },
  {
   "cell_type": "markdown",
   "metadata": {},
   "source": [
    "| Sample               | Researcher | Timepoint | Strain | Replicate | ID                     |\n",
    "|----------------------|------------|-----------|--------|-----------|------------------------|\n",
    "| genegra2_0min_WT     | genegra2   | 0min      | WT     | 1         | genegra2_0min_WT_1     |\n",
    "| srstern_0min_WT      | srstern    | 0min      | WT     | 2         | srstern_0min_WT_2      |\n",
    "| lstrand_45min_WT     | lstrand    | 45min     | WT     | 1         | lstrand_45min_WT_1     |\n",
    "| ajberg5_45min_WT     | ajberg5    | 45min     | WT     | 2         | ajberg5_45min_WT_2     |\n",
    "| sierrasb_0min_msn1   | sierrasb   | 0min      | MSN1   | 1         | sierrasb_0min_msn1_1   |\n",
    "| cvduffy_0min_msn1    | cvduffy    | 0min      | MSN1   | 2         | cvduffy_0min_msn1_2    |\n",
    "| genegra2_45min_msn1  | genegra2   | 45min     | MSN1   | 1         | genegra2_45min_msn1_1  |\n",
    "| mihayes_45min_msn1   | mihayes    | 45min     | MSN1   | 2         | mihayes_45min_msn1_2   |\n",
    "| subkc_0min_msn2      | subkc      | 0min      | MSN2   | 1         | subkc_0min_msn2_1      |\n",
    "| annlin_0min_msn2     | annlin     | 0min      | MSN2   | 2         | annlin_0min_msn2_2     |\n",
    "| srstern_45min_msn2   | srstern    | 45min     | MSN2   | 1         | srstern_45min_msn2_1   |\n",
    "| clin5_45min_msn2     | clin5      | 45min     | MSN2   | 2         | clin5_45min_msn2_2     |\n",
    "| lstrand_0min_msn4    | lstrand    | 0min      | MSN4   | 1         | lstrand_0min_msn4_1    |\n",
    "| clin5_0min_msn4      | clin5      | 0min      | MSN4   | 2         | clin5_0min_msn4_2      |\n",
    "| miao1_45min_msn4     | miao1      | 45min     | MSN4   | 1         | miao1_45min_msn4_1     |\n",
    "| makena_45min_msn4    | makena     | 45min     | MSN4   | 2         | makena_45min_msn4_2    |\n",
    "| ajberg5_0min_hog1    | ajberg5    | 0min      | HOG1   | 1         | ajberg5_0min_hog1_1    |\n",
    "| miao1_0min_hog1      | miao1      | 0min      | HOG1   | 2         | miao1_0min_hog1_2      |\n",
    "| jarhodes_45min_hog1  | jarhodes   | 45min     | HOG1   | 1         | jarhodes_45min_hog1_1  |\n",
    "| courtrun_45min_hog1  | courtrun   | 45min     | HOG1   | 2         | courtrun_45min_hog1_2  |\n",
    "| makena_0min_skn7     | makena     | 0min      | SKN7   | 1         | makena_0min_skn7_1     |\n",
    "| jarhodes_0min_skn7   | jarhodes   | 0min      | SKN7   | 2         | jarhodes_0min_skn7_2   |\n",
    "| sierrasb_45min_skn7  | sierrasb   | 45min     | SKN7   | 1         | sierrasb_45min_skn7_1  |\n",
    "| marinovg_45min_skn7  | marinovg   | 45min     | SKN7   | 2         | marinovg_45min_skn7_2  |\n",
    "| courtrun_0min_sko1   | courtrun   | 0min      | SKO1   | 1         | courtrun_0min_sko1_1   |\n",
    "| annashch_0min_sko1   | annashch   | 0min      | SKO1   | 2         | annashch_0min_sko1_2   |\n",
    "| cvduffy_45min_sko1   | cvduffy    | 45min     | SKO1   | 1         | cvduffy_45min_sko1_1   |\n",
    "| soumyak_45min_sko1   | soumyak    | 45min     | SKO1   | 2         | soumyak_45min_sko1_2   |\n",
    "| myhayes_0min_smp1    | myhayes    | 0min      | SMP1   | 1         | myhayes_0min_smp1_1    |\n",
    "| soumyak_0min_smp1    | soumyak    | 0min      | SMP1   | 2         | soumyak_0min_smp1_2    |\n",
    "| surag_45min_smp1     | surag      | 45min     | SMP1   | 1         | surag_45min_smp1_1     |\n",
    "| albalsubr_45min_smp1 | albalsubr  | 45min     | SMP1   | 2         | albalsubr_45min_smp1_2 |\n",
    "| abalsubr_0min_yap6   | abalsubr   | 0min      | YAP6   | 1         | abalsubr_0min_yap6_1   |\n",
    "| zahoor_0min_yap6     | zahoor     | 0min      | YAP6   | 2         | zahoor_0min_yap6_2     |\n",
    "| subkc_45min_yap6     | subkc      | 45min     | YAP6   | 1         | subkc_45min_yap6_1     |\n",
    "| annashch_45min_yap6  | annashch   | 45min     | YAP6   | 2         | annashch_45min_yap6_2  |\n",
    "| marinovg_0min_yap7   | marinovg   | 0min      | YAP7   | 1         | marinovg_0min_yap7_1   |\n",
    "| surag_0min_yap7      | surag      | 0min      | YAP7   | 2         | surag_0min_yap7_2      |\n",
    "| annlin_45min_yap7    | annlin     | 45min     | YAP7   | 1         | annlin_45min_yap7_1    |\n",
    "| zahoor_45min_yap7    | zahoor     | 45min     | YAP7   | 2         | zahoor_45min_yap7_2    |"
   ]
  },
  {
   "cell_type": "markdown",
   "metadata": {
    "collapsed": true
   },
   "source": [
    "## Analysis Overview"
   ]
  },
  {
   "cell_type": "markdown",
   "metadata": {},
   "source": [
    "![Analysis Pipeline](images/tc2017_pipeline.png)"
   ]
  }
 ],
 "metadata": {
  "kernelspec": {
   "display_name": "Bash",
   "language": "bash",
   "name": "bash"
  },
  "language_info": {
   "codemirror_mode": "shell",
   "file_extension": ".sh",
   "mimetype": "text/x-sh",
   "name": "bash"
  }
 },
 "nbformat": 4,
 "nbformat_minor": 1
}
