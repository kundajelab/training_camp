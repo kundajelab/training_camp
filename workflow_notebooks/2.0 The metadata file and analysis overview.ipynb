{
 "cells": [
  {
   "cell_type": "markdown",
   "metadata": {},
   "source": [
    "# The metadata file #"
   ]
  },
  {
   "cell_type": "markdown",
   "metadata": {},
   "source": [
    "This is a short section, but given its importance, it gets its own page on the wiki.\n",
    "\n",
    "For every project you work on, it is absolutely essential to have a metadata sheet describing your data, and use it every time you perform operations on your data. You should NEVER perform operations involving multiple data files in your data \"by hand\", because that is NOT reproducible research.\n",
    "\n",
    "\n",
    "In our experiment we are examining 10 strains of Saccharomyces_cerevisiae (SacCer3): \n",
    "* Wild Type (WT) \n",
    "* mutant 1\n",
    "* Rtt109 mutant\n",
    "\n",
    "These are examined at 2 timepoints after gene knockout: \n",
    "* 0 hours \n",
    "* 4 hours \n",
    "\n",
    "There are 2 replicates for each combination of strain and timepoint. We have designed the experiments in such a way that the replicates are not confounded: the two experiments performed by a single researcher involved different strains and timepoints.  \n"
   ]
  },
  {
   "cell_type": "markdown",
   "metadata": {},
   "source": [
    "The following treatments were applied to the SacCer3 yeast, also described in the sample sheet located in  **$METADATA_DIR/TC2019_samples.tsv** "
   ]
  },
  {
   "cell_type": "markdown",
   "metadata": {},
   "source": [
    "| Sample             | Researcher(sunet) | Timepoint | TF(Yeast Strain) | Replicate |\n",
    "|--------------------|-------------------|-----------|------------------|-----------|\n",
    "| genegra2_0h_WT_1   | genegra2          | 0h        | WT               | 1         |\n",
    "| srstern_0h_WT_2    | srstern           | 0h        | WT               | 2         |\n",
    "| lstrand_4h_WT_1    | lstrand           | 4h        | WT               | 1         |\n",
    "| ajberg5_4h_WT_2    | ajberg5           | 4h        | WT               | 2         |\n",
    "| sierrasb_0h_tf1_1  | sierrasb          | 0h        | 1                | 1         |\n",
    "| cvduffy_0h_tf1_2   | cvduffy           | 0h        | 1                | 2         |\n",
    "| genegra2_4h_tf1_1  | genegra2          | 4h        | 1                | 1         |\n",
    "| mihayes_4h_tf1_2   | mihayes           | 4h        | 1                | 2         |\n",
    "| subkc_0h_tf2_1     | subkc             | 0h        | 2                | 1         |\n",
    "| annlin_0h_tf2_2    | annlin            | 0h        | 2                | 2         |\n",
    "| srstern_4h_tf2_1   | srstern           | 4h        | 2                | 1         |\n",
    "| clin5_4h_tf2_2     | clin5             | 4h        | 2                | 2         |\n",
    "| lstrand_0h_tf3_1   | lstrand           | 0h        | 3                | 1         |\n",
    "| clin5_0h_tf3_2     | clin5             | 0h        | 3                | 2         |\n",
    "| miao1_4h_tf3_1     | miao1             | 4h        | 3                | 1         |\n",
    "| makena_4h_tf3_2    | makena            | 4h        | 3                | 2         |\n",
    "| ajberg5_0h_tf4_1   | ajberg5           | 0h        | 4                | 1         |\n",
    "| miao1_0h_tf4_2     | miao1             | 0h        | 4                | 2         |\n",
    "| jarhodes_4h_tf4_1  | jarhodes          | 4h        | 4                | 1         |\n",
    "| courtrun_4h_tf4_2  | courtrun          | 4h        | 4                | 2         |\n",
    "| makena_0h_tf5_1    | makena            | 0h        | 5                | 1         |\n",
    "| jarhodes_0h_tf5_2  | jarhodes          | 0h        | 5                | 2         |\n",
    "| sierrasb_4h_tf5_1  | sierrasb          | 4h        | 5                | 1         |\n",
    "| marinovg_4h_tf5_2  | marinovg          | 4h        | 5                | 2         |\n",
    "| courtrun_0h_tf6_1  | courtrun          | 0h        | 6                | 1         |\n",
    "| annashch_0h_tf6_2  | annashch          | 0h        | 6                | 2         |\n",
    "| cvduffy_4h_tf6_1   | cvduffy           | 4h        | 6                | 1         |\n",
    "| soumyak_4h_tf6_2   | soumyak           | 4h        | 6                | 2         |\n",
    "| myhayes_0h_tf7_1   | myhayes           | 0h        | 7                | 1         |\n",
    "| soumyak_0h_tf7_2   | soumyak           | 0h        | 7                | 2         |\n",
    "| surag_4h_tf7_1     | surag             | 4h        | 7                | 1         |\n",
    "| albalsubr_4h_tf7_2 | albalsubr         | 4h        | 7                | 2         |\n",
    "| abalsubr_0h_tf8_1  | abalsubr          | 0h        | 8                | 1         |\n",
    "| zahoor_0h_tf8_2    | zahoor            | 0h        | 8                | 2         |\n",
    "| subkc_4h_tf8_1     | subkc             | 4h        | 8                | 1         |\n",
    "| annashch_4h_tf8_2  | annashch          | 4h        | 8                | 2         |\n",
    "| marinovg_0h_tf9_1  | marinovg          | 0h        | 9                | 1         |\n",
    "| surag_0h_tf9_2     | surag             | 0h        | 9                | 2         |\n",
    "| annlin_4h_tf9_1    | annlin            | 4h        | 9                | 1         |\n",
    "| zahoor_4h_tf9_2    | zahoor            | 4h        | 9                | 2         |"
   ]
  },
  {
   "cell_type": "markdown",
   "metadata": {
    "collapsed": true
   },
   "source": [
    "## Analysis Overview"
   ]
  },
  {
   "cell_type": "markdown",
   "metadata": {},
   "source": [
    "![Analysis Pipeline](images/tc2017_pipeline.png)"
   ]
  }
 ],
 "metadata": {
  "kernelspec": {
   "display_name": "Bash",
   "language": "bash",
   "name": "bash"
  },
  "language_info": {
   "codemirror_mode": "shell",
   "file_extension": ".sh",
   "mimetype": "text/x-sh",
   "name": "bash"
  }
 },
 "nbformat": 4,
 "nbformat_minor": 1
}
