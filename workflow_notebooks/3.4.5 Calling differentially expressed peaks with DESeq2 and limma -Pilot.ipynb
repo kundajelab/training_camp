{
 "cells": [
  {
   "cell_type": "markdown",
   "metadata": {},
   "source": [
    "# 3.4 Calling differentially expressed peaks with DESeq2 and limma"
   ]
  },
  {
   "cell_type": "markdown",
   "metadata": {},
   "source": [
    "### IMPORTANT: Please make sure that you are using the R kernel to run this notebook. ###\n"
   ]
  },
  {
   "cell_type": "markdown",
   "metadata": {},
   "source": [
    "In this tutorial, we will focus on calling differential peaks: \n",
    "![Analysis pipeline](images/part4.png)"
   ]
  },
  {
   "cell_type": "markdown",
   "metadata": {
    "collapsed": true
   },
   "source": [
    "## Running DESeq"
   ]
  },
  {
   "cell_type": "markdown",
   "metadata": {},
   "source": [
    "DESeq(https://bioconductor.org/packages/release/bioc/html/DESeq2.html) uses read count data, such as in our matrix **all.readcount.txt**, to estimate differential gene expression across conditions specified in a metdata file.  We run DESeq with the following comparisons (which we call \"contrasts\"): \n",
    "\n",
    "* 0min WT vs 45min WT \n",
    "* Timepoint comparisons \n",
    "    * MSN1 (0min vs 45min) \n",
    "    * MSN2 (0min vs 45min)\n",
    "    * MSN4 (0min vs 45min)\n",
    "    * HOG1 (0min vs 45min)\n",
    "    * HOT1 (0min vs 45min)\n",
    "    * YAP1 (0min vs 45min)\n",
    "    * YAP6 (0min vs 45min)\n",
    "    * YAP7 (0min vs 45min)\n",
    "    \n",
    "* Strain vs WT at 45min: \n",
    "    *  WT vs MSN1 (45min)\n",
    "    *  WT vs MSN2 (45min)\n",
    "    *  WT vs MSN4 (45min)\n",
    "    *  WT vs HOG1 (45min)\n",
    "    *  WT vs SKN7 (45min)\n",
    "    *  WT vs HOT1 (45min)\n",
    "    *  WT vs YAP1 (45min)\n",
    "    *  WT vs YAP6 (45min)\n",
    "    *  WT vs YAP7 (45min)  "
   ]
  },
  {
   "cell_type": "code",
   "execution_count": null,
   "metadata": {},
   "outputs": [],
   "source": [
    "#change to your working directory \n",
    "username=\"annashch\"\n",
    "setwd(paste(\"/scratch/\",username,sep=\"\"))"
   ]
  },
  {
   "cell_type": "code",
   "execution_count": null,
   "metadata": {},
   "outputs": [],
   "source": [
    "#load the DESeq2 library\n",
    "library(DESeq2,quietly = TRUE)\n"
   ]
  },
  {
   "cell_type": "code",
   "execution_count": null,
   "metadata": {},
   "outputs": [],
   "source": [
    "#We read in the counts data matrix and the metdata matrix in the same manner as we did in tutorial 3.1 \n",
    "#load the read count matrix\n",
    "count_data=read.table(\"/outputs/summary_pilot/all.readcount.txt\",header=TRUE)\n",
    "rownames(count_data)=paste(count_data$Chrom,count_data$Start,count_data$End,sep='\\t')\n",
    "#remove the columns we will not use \n",
    "count_data$Chrom=NULL\n",
    "count_data$Start=NULL\n",
    "count_data$End=NULL\n",
    "count_data$ID=NULL\n",
    "\n",
    "head(count_data)"
   ]
  },
  {
   "cell_type": "code",
   "execution_count": null,
   "metadata": {},
   "outputs": [],
   "source": [
    "ncol(count_data)"
   ]
  },
  {
   "cell_type": "code",
   "execution_count": null,
   "metadata": {},
   "outputs": [],
   "source": [
    "metadata=read.table(\"/metadata/TC2020_samples.tsv\",header=TRUE)\n",
    "#We use the \"factor\" function to tell R which variables are categorical rather than continuous \n",
    "metadata$Strain=factor(metadata$Strain)\n",
    "metadata$Timepoint=factor(metadata$Timepoint,levels=c(\"45min\",\"0min\"))\n",
    "metadata$GeneratedByResearcher=factor(metadata$GeneratedByResearcher)\n",
    "#we don't need the other metadata columns for this analysis \n",
    "metadata$Sample=NULL\n",
    "metadata$Replicate=NULL\n",
    "metadata$GeneratedByGroup=NULL\n",
    "metadata$AssignedTo=NULL\n",
    "#we modify the ID column by pre-facing it with an X to generate valid R index names (this column will be used as an index column in PCA analysis)\n",
    "metadata$ID=make.names(metadata$ID)\n",
    "\n",
    "rownames(metadata)=metadata$ID\n",
    "metadata$ID=NULL\n",
    "#make sure the rows in metadata match the order of the columns in count_data \n",
    "metadata=metadata[names(count_data),]\n",
    "metadata"
   ]
  },
  {
   "cell_type": "code",
   "execution_count": null,
   "metadata": {},
   "outputs": [],
   "source": [
    "#we verify that 45min is the \"base\" timepoint\n",
    "metadata$Timepoint"
   ]
  },
  {
   "cell_type": "code",
   "execution_count": null,
   "metadata": {},
   "outputs": [],
   "source": [
    "#We set threshold for determining differential expression \n",
    "padjust_thresh=0.01 \n"
   ]
  },
  {
   "cell_type": "markdown",
   "metadata": {},
   "source": [
    "## Analysis 1: WT 0min vs 45 min\n"
   ]
  },
  {
   "cell_type": "markdown",
   "metadata": {},
   "source": [
    "We first subset our count_data and metadata to contain just the WT samples. "
   ]
  },
  {
   "cell_type": "code",
   "execution_count": null,
   "metadata": {},
   "outputs": [],
   "source": [
    "wt_count_data=count_data[,grep( \"WT\", names( count_data ))]"
   ]
  },
  {
   "cell_type": "code",
   "execution_count": null,
   "metadata": {},
   "outputs": [],
   "source": [
    "head(wt_count_data)"
   ]
  },
  {
   "cell_type": "code",
   "execution_count": null,
   "metadata": {},
   "outputs": [],
   "source": [
    "wt_metadata=metadata[metadata$Strain==\"WT\",]\n",
    "wt_metadata"
   ]
  },
  {
   "cell_type": "code",
   "execution_count": null,
   "metadata": {},
   "outputs": [],
   "source": [
    "#create a DESeq2 object with the data, metadata, and model information \n",
    "wt_ddsMat=DESeqDataSetFromMatrix(countData=as.matrix(wt_count_data),\n",
    "                            colData=wt_metadata,\n",
    "                            design=~Timepoint)\n"
   ]
  },
  {
   "cell_type": "code",
   "execution_count": null,
   "metadata": {},
   "outputs": [],
   "source": [
    "#Run DESeq2 analysis \n",
    "wt_dds<-DESeq(wt_ddsMat)"
   ]
  },
  {
   "cell_type": "code",
   "execution_count": null,
   "metadata": {},
   "outputs": [],
   "source": [
    "#We can examine several contrasts in the resulting DESeq2 object\n",
    "resultsNames(wt_dds)"
   ]
  },
  {
   "cell_type": "code",
   "execution_count": null,
   "metadata": {},
   "outputs": [],
   "source": [
    "#Specify the contrast we want to examine (0min vs 45min)\n",
    "wt_ds=results(wt_dds,contrast=c(\"Timepoint\",\"0min\",\"45min\"))"
   ]
  },
  {
   "cell_type": "code",
   "execution_count": null,
   "metadata": {},
   "outputs": [],
   "source": [
    "wt_ds"
   ]
  },
  {
   "cell_type": "code",
   "execution_count": null,
   "metadata": {},
   "outputs": [],
   "source": [
    "#subset the peak set to just the differential peaks \n",
    "wt_ds=na.omit(wt_ds)\n",
    "sig=wt_ds[wt_ds$padj<padjust_thresh,] \n",
    "    \n",
    "#find positive log fold change peaks \n",
    "positive_sig=sig[sig$log2FoldChange > 0,]\n",
    "    \n",
    "#find negative log fold change peaks \n",
    "negative_sig=sig[sig$log2FoldChange <0,]\n",
    "    \n"
   ]
  },
  {
   "cell_type": "code",
   "execution_count": null,
   "metadata": {},
   "outputs": [],
   "source": [
    "#peaks stronger at 0 min relative to 45 min \n",
    "positive_sig"
   ]
  },
  {
   "cell_type": "code",
   "execution_count": null,
   "metadata": {},
   "outputs": [],
   "source": [
    "#peaks stronger at 45min relative to 0 min\n",
    "negative_sig"
   ]
  },
  {
   "cell_type": "code",
   "execution_count": null,
   "metadata": {},
   "outputs": [],
   "source": [
    "#write the significant peaks to output files \n",
    "write.table(row.names(positive_sig),\n",
    "            file=\"WT_0min_vs_45min.positive.pilot.txt\",\n",
    "            quote=FALSE,row.names=FALSE,col.names=FALSE,sep='\\t')\n",
    "\n",
    "write.table(row.names(negative_sig),\n",
    "            file=\"WT_0min_vs_45min.negative.pilot.txt\",\n",
    "            quote=FALSE,row.names=FALSE,col.names=FALSE,sep='\\t')"
   ]
  },
  {
   "cell_type": "markdown",
   "metadata": {},
   "source": [
    "## Analysis 2: 0min vs 45min within TF knockout strains "
   ]
  },
  {
   "cell_type": "markdown",
   "metadata": {},
   "source": [
    "Now, we replace the \"WT\" strain with a knockout strain and re-run the differential analysis. "
   ]
  },
  {
   "cell_type": "code",
   "execution_count": null,
   "metadata": {},
   "outputs": [],
   "source": [
    "tfs=c(\"MSN1\",\"MSN2\",\"MSN4\", \"YAP1\", \"YAP6\", \"YAP7\", \"HOG1\", \"HOT1\", \"SKN7\")\n",
    "\n",
    "for(tf in tfs){\n",
    "    print(tf)\n",
    "    cur_tf=tf\n",
    "    tf_count_data=count_data[,grep( cur_tf, names( count_data ))]\n",
    "    tf_metadata=metadata[metadata$Strain==cur_tf,]\n",
    "\n",
    "    #create a DESeq2 object with the data, metadata, and model information \n",
    "    tf_ddsMat=DESeqDataSetFromMatrix(countData=as.matrix(tf_count_data),\n",
    "                            colData=tf_metadata,\n",
    "                            design=~Timepoint)\n",
    "\n",
    "    #Run DESeq2 analysis \n",
    "    tf_dds<-DESeq(tf_ddsMat)\n",
    "\n",
    "    tf_ds=results(tf_dds,contrast=c(\"Timepoint\",\"0min\",\"45min\"))\n",
    "\n",
    "    #subset the peak set to just the differential peaks \n",
    "    tf_ds=na.omit(tf_ds)\n",
    "    sig=tf_ds[tf_ds$padj<padjust_thresh,] \n",
    "    \n",
    "    #find positive log fold change peaks \n",
    "    positive_sig=sig[sig$log2FoldChange > 0,]\n",
    "    print(positive_sig) \n",
    "\n",
    "    #find negative log fold change peaks \n",
    "    negative_sig=sig[sig$log2FoldChange <0,]\n",
    "    print(negative_sig)\n",
    "\n",
    "    #write the significant peaks to output files \n",
    "    write.table(row.names(positive_sig),\n",
    "            file=paste(cur_tf,\"0min_vs_45min.positive.pilot.txt\",sep='_'),\n",
    "            quote=FALSE,row.names=FALSE,col.names=FALSE,sep='\\t')\n",
    "\n",
    "    write.table(row.names(negative_sig),\n",
    "            file=paste(cur_tf,\"0min_vs_45min.negative.pilot.txt\",sep=\"_\"),\n",
    "            quote=FALSE,row.names=FALSE,col.names=FALSE,sep='\\t')\n",
    "}"
   ]
  },
  {
   "cell_type": "markdown",
   "metadata": {},
   "source": [
    "## Analysis 3: KO Strain vs WT at 45min"
   ]
  },
  {
   "cell_type": "markdown",
   "metadata": {},
   "source": [
    "Now we will find differential peaks between the TF knockout strains and WT at 45 mins. We use the full data frame and metadata frame for this analysis."
   ]
  },
  {
   "cell_type": "code",
   "execution_count": null,
   "metadata": {},
   "outputs": [],
   "source": [
    "#create a DESeq2 object with the data, metadata, and model information \n",
    "ddsMat=DESeqDataSetFromMatrix(countData=as.matrix(count_data),\n",
    "                            colData=metadata,\n",
    "                            design=~Strain)\n",
    "\n",
    "#Run DESeq2 analysis \n",
    "dds<-DESeq(ddsMat)"
   ]
  },
  {
   "cell_type": "code",
   "execution_count": null,
   "metadata": {},
   "outputs": [],
   "source": [
    "#Specify the contrasts we want to examine (TF KO strain vs WT at 45 mins)\n",
    "#Note, above, we set 45min as the first factor level for the Timeponit variable, so Deseq will perform the \n",
    "# Strain vs WT comparison at 45min. \n",
    "# If we had run factor(count_data$Timepoint,levels=c(\"0min\",\"45min\"))\n",
    "deseq_contrasts=list(c(\"Strain\",\"WT\",\"MSN1\"),\n",
    "                     c(\"Strain\",\"WT\",\"MSN2\"),\n",
    "                     c(\"Strain\",\"WT\",\"MSN4\"),\n",
    "                     c(\"Strain\",\"WT\",\"HOG1\"),\n",
    "                     c(\"Strain\",\"WT\",\"SKN7\"),\n",
    "                     c(\"Strain\",\"WT\",\"HOT1\"),\n",
    "                     c(\"Strain\",\"WT\",\"YAP1\"),\n",
    "                     c(\"Strain\",\"WT\",\"YAP6\"),\n",
    "                     c(\"Strain\",\"WT\",\"YAP7\"))\n",
    "contrast_names=c(\"Strain_WT_vs_MSN1\",\n",
    "        \"Strain_WT_vs_MSN2\",\n",
    "        \"Strain_WT_vs_MSN4\",\n",
    "        \"Strain_WT_vs_HOG1\",\n",
    "        \"Strain_WT_vs_SKN7\",\n",
    "        \"Strain_WT_vs_HOT1\",\n",
    "        \"Strain_WT_vs_YAP1\",\n",
    "        \"Strain_WT_vs_YAP6\",\n",
    "        \"Strain_WT_vs_YAP7\")\n",
    "\n"
   ]
  },
  {
   "cell_type": "code",
   "execution_count": null,
   "metadata": {},
   "outputs": [],
   "source": [
    "#Query the DESeq2 results to find differential peaks for each contrast, using our padjust_thresh and lfc_thresh values.\n",
    "for(contrast_index in seq(1,length(deseq_contrasts)))\n",
    "{\n",
    "        comparison_name=unlist(contrast_names[contrast_index])    \n",
    "        print(comparison_name)\n",
    "        ds=results(dds,\n",
    "           contrast=unlist(deseq_contrasts[contrast_index]))\n",
    "       \n",
    "    \n",
    "        #subset the peak set to just the differential peaks \n",
    "        ds=na.omit(ds)\n",
    "        sig=ds[ds$padj<padjust_thresh,] \n",
    "    \n",
    "        #find positive log fold change peaks \n",
    "        positive_sig=sig[sig$log2FoldChange > 0,]\n",
    "    \n",
    "        #find negative log fold change peaks \n",
    "        negative_sig=sig[sig$log2FoldChange <0,]\n",
    "    \n",
    "        write.table(row.names(positive_sig),\n",
    "                    file=paste(comparison_name,\".differential.positive.pilot.txt\",sep=\"\"),\n",
    "                    quote=FALSE,sep='\\t',row.names=FALSE,col.names=FALSE)\n",
    "        write.table(row.names(negative_sig),\n",
    "                    file=paste(comparison_name,\".differential.negative.pilot.txt\",sep=\"\"),\n",
    "                    quote=FALSE,sep='\\t',row.names=FALSE,col.names=FALSE)\n",
    "}\n"
   ]
  },
  {
   "cell_type": "markdown",
   "metadata": {},
   "source": [
    "We now have the following differential comparison outputs from DESEQ2:\n",
    "\n",
    "| Differential Peaks | File                                              |\n",
    "|--------------------|---------------------------------------------------|\n",
    "| 158                | SKN7_0min_vs_45min.negative.pilot.txt             |\n",
    "| 117                | YAP7_0min_vs_45min.negative.pilot.txt             |\n",
    "| 91                 | HOT1_0min_vs_45min.negative.pilot.txt             |\n",
    "| 76                 | WT_0min_vs_45min.negative.pilot.txt               |\n",
    "| 73                 | MSN1_0min_vs_45min.negative.pilot.txt             |\n",
    "| 68                 | WT_0min_vs_45min.positive.pilot.txt               |\n",
    "| 64                 | MSN2_0min_vs_45min.negative.pilot.txt             |\n",
    "| 64                 | YAP6_0min_vs_45min.negative.pilot.txt             |\n",
    "| 63                 | YAP1_0min_vs_45min.negative.pilot.txt             |\n",
    "| 61                 | YAP7_0min_vs_45min.positive.pilot.txt             |\n",
    "| 57                 | MSN4_0min_vs_45min.negative.pilot.txt             |\n",
    "| 54                 | HOG1_0min_vs_45min.negative.pilot.txt             |\n",
    "| 49                 | MSN2_0min_vs_45min.positive.pilot.txt             |\n",
    "| 45                 | YAP6_0min_vs_45min.positive.pilot.txt             |\n",
    "| 39                 | MSN1_0min_vs_45min.positive.pilot.txt             |\n",
    "| 38                 | SKN7_0min_vs_45min.positive.pilot.txt             |\n",
    "| 36                 | MSN4_0min_vs_45min.positive.pilot.txt             |\n",
    "| 25                 | HOT1_0min_vs_45min.positive.pilot.txt             |\n",
    "| 24                 | HOG1_0min_vs_45min.positive.pilot.txt             |\n",
    "| 18                 | Strain_WT_vs_YAP6.differential.negative.pilot.txt |\n",
    "| 11                 | YAP1_0min_vs_45min.positive.pilot.txt             |\n",
    "| 7                  | Strain_WT_vs_YAP6.differential.positive.pilot.txt |\n",
    "| 5                  | Strain_WT_vs_SKN7.differential.positive.pilot.txt |\n",
    "| 4                  | Strain_WT_vs_SKN7.differential.negative.pilot.txt |\n",
    "| 3                  | Strain_WT_vs_MSN2.differential.positive.pilot.txt |\n",
    "| 2                  | Strain_WT_vs_HOT1.differential.positive.pilot.txt |\n",
    "| 2                  | Strain_WT_vs_MSN1.differential.positive.pilot.txt |\n",
    "| 2                  | Strain_WT_vs_YAP1.differential.negative.pilot.txt |\n",
    "| 2                  | Strain_WT_vs_YAP1.differential.positive.pilot.txt |\n",
    "| 1                  | Strain_WT_vs_HOG1.differential.negative.pilot.txt |\n",
    "| 1                  | Strain_WT_vs_HOT1.differential.negative.pilot.txt |\n",
    "| 1                  | Strain_WT_vs_MSN1.differential.negative.pilot.txt |\n",
    "| 1                  | Strain_WT_vs_MSN2.differential.negative.pilot.txt |\n",
    "| 1                  | Strain_WT_vs_MSN4.differential.negative.pilot.txt |\n",
    "| 1                  | Strain_WT_vs_MSN4.differential.positive.pilot.txt |\n",
    "| 1                  | Strain_WT_vs_YAP7.differential.negative.pilot.txt |\n",
    "| 1                  | Strain_WT_vs_YAP7.differential.positive.pilot.txt |\n",
    "| 0                  | Strain_WT_vs_HOG1.differential.positive.pilot.txt |\n",
    "\n",
    "\n",
    "The output files contain chromosome positions of open peaks from ATAC‐seq. The p‐value cutoff for differential openness that we use is 0.01. "
   ]
  },
  {
   "cell_type": "markdown",
   "metadata": {},
   "source": [
    "### Running limma ###"
   ]
  },
  {
   "cell_type": "markdown",
   "metadata": {},
   "source": [
    "If you recall, we used the R limma package to remove the \"Researcher\" batch effect in our data. Limma can also be used for differential peak calling. Limma uses a similar algorithm to DESeq2. We will go through the process of calling differential peaks with limma and see how the peak rankings differ between limma and DESeq2 -- it's always best to sanity check your results by running them through several similar analysis algorithms. For the sake of time, we will only reproduce \"Analysis 1\" -- examining the number of differential peaks in the WT strain between 45 mins and 0 mins. "
   ]
  },
  {
   "cell_type": "code",
   "execution_count": null,
   "metadata": {},
   "outputs": [],
   "source": [
    "#import the limma library \n",
    "\n",
    "library(limma)\n",
    "#design the model \n",
    "design=model.matrix(~0+Timepoint,data=wt_metadata)\n",
    "\n",
    "#We use the \"voom\" function associated with the limma package to normalize the count data \n",
    "vm=voom(wt_count_data,design)\n",
    "\n",
    "#fit the model to the data \n",
    "fit=lmFit(vm,design=vm$design)\n",
    "\n",
    "\n"
   ]
  },
  {
   "cell_type": "code",
   "execution_count": null,
   "metadata": {},
   "outputs": [],
   "source": [
    "cont.matrix=makeContrasts(timepoint=\"Timepoint45min-Timepoint0min\",levels=fit)\n",
    "bayes_model=eBayes(contrasts.fit(fit,cont.matrix))\n",
    "res_limma=topTable(bayes_model,n=nrow(count_data))\n",
    "head(res_limma)"
   ]
  },
  {
   "cell_type": "markdown",
   "metadata": {},
   "source": [
    "### Comparing DESeq2 and limma voom outputs ### "
   ]
  },
  {
   "cell_type": "code",
   "execution_count": null,
   "metadata": {},
   "outputs": [],
   "source": [
    "#wt_ds stores the deseq2 p-values for teh 0min vs 45min WT comparison \n",
    "wt_ds=results(wt_dds,contrast=c(\"Timepoint\",\"0min\",\"45min\"))\n",
    "res_deseq2=as.data.frame(wt_ds)\n",
    "head(res_deseq2)\n"
   ]
  },
  {
   "cell_type": "code",
   "execution_count": null,
   "metadata": {},
   "outputs": [],
   "source": [
    "#We need to merge the two result dataframes by peak name So that we can generate a scatterplot of\n",
    "#padj in one vs the other \n",
    "res_limma$peak=rownames(res_limma)\n",
    "res_deseq2$peak=rownames(res_deseq2)\n",
    "nrow(res_limma)\n",
    "nrow(res_deseq2)"
   ]
  },
  {
   "cell_type": "code",
   "execution_count": null,
   "metadata": {},
   "outputs": [],
   "source": [
    "merged_df=merge(res_limma,res_deseq2,by=\"peak\")\n",
    "merged_df$deseq2_p=-10*log10(merged_df$pvalue)\n",
    "merged_df$limma_p=-10*log10(merged_df$P.Value)\n",
    "\n"
   ]
  },
  {
   "cell_type": "code",
   "execution_count": null,
   "metadata": {},
   "outputs": [],
   "source": [
    "head(merged_df)"
   ]
  },
  {
   "cell_type": "code",
   "execution_count": null,
   "metadata": {},
   "outputs": [],
   "source": [
    "library(ggplot2)\n",
    "ggplot(merged_df,aes(x=deseq2_p,y=limma_p))+\n",
    "    geom_point(alpha=0.1)+\n",
    "    geom_abline()+\n",
    "    xlim(0,200)+  \n",
    "    ylim(0,200)"
   ]
  },
  {
   "cell_type": "markdown",
   "metadata": {},
   "source": [
    "The pvalues reported by the methods are correlated. "
   ]
  },
  {
   "cell_type": "code",
   "execution_count": null,
   "metadata": {},
   "outputs": [],
   "source": [
    "spearman_cor=cor(merged_df$limma_p,merged_df$deseq2_p,method=\"spearman\",use=\"complete.obs\")\n",
    "spearman_cor"
   ]
  },
  {
   "cell_type": "code",
   "execution_count": null,
   "metadata": {},
   "outputs": [],
   "source": [
    "pearson_cor=cor(merged_df$limma_p,merged_df$deseq2_p,method=\"pearson\",use=\"complete.obs\")\n",
    "pearson_cor"
   ]
  },
  {
   "cell_type": "markdown",
   "metadata": {},
   "source": [
    "Finally, we plot the rank comparison of the p-values across the two methods. "
   ]
  },
  {
   "cell_type": "code",
   "execution_count": null,
   "metadata": {},
   "outputs": [],
   "source": [
    "#use the \"rank\" function to generate rank columns for the p-values \n",
    "merged_df$limma_p_rank=rank(merged_df$limma_p)\n",
    "merged_df$deseq2_p_rank=rank(merged_df$deseq2_p)\n",
    "\n",
    "ggplot(merged_df,aes(x=deseq2_p_rank,y=limma_p_rank))+\n",
    "    geom_point(alpha=0.1)"
   ]
  },
  {
   "cell_type": "code",
   "execution_count": null,
   "metadata": {},
   "outputs": [],
   "source": [
    "pearson_cor_rank=cor(merged_df$limma_p_rank,merged_df$deseq2_p_rank,method=\"pearson\")\n",
    "pearson_cor_rank"
   ]
  }
 ],
 "metadata": {
  "kernelspec": {
   "display_name": "R",
   "language": "R",
   "name": "ir"
  },
  "language_info": {
   "codemirror_mode": "r",
   "file_extension": ".r",
   "mimetype": "text/x-r-source",
   "name": "R",
   "pygments_lexer": "r",
   "version": "4.0.2"
  }
 },
 "nbformat": 4,
 "nbformat_minor": 1
}
